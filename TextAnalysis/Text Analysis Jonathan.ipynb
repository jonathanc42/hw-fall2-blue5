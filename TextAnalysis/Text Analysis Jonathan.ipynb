{
 "cells": [
  {
   "cell_type": "markdown",
   "metadata": {},
   "source": [
    "# Import necessary packages"
   ]
  },
  {
   "cell_type": "code",
   "execution_count": 1,
   "metadata": {
    "ExecuteTime": {
     "end_time": "2018-11-12T15:29:08.125980Z",
     "start_time": "2018-11-12T15:29:05.480018Z"
    }
   },
   "outputs": [
    {
     "data": {
      "application/javascript": [
       "if (!(\"Notification\" in window)) {\n",
       "    alert(\"This browser does not support desktop notifications, so the %%notify magic will not work.\");\n",
       "} else if (Notification.permission !== 'granted' && Notification.permission !== 'denied') {\n",
       "    Notification.requestPermission(function (permission) {\n",
       "        if(!('permission' in Notification)) {\n",
       "            Notification.permission = permission;\n",
       "        }\n",
       "    })\n",
       "}\n"
      ],
      "text/plain": [
       "<IPython.core.display.Javascript object>"
      ]
     },
     "metadata": {},
     "output_type": "display_data"
    }
   ],
   "source": [
    "import pandas as pd\n",
    "import re\n",
    "import string\n",
    "import numpy as np\n",
    "from sentiment_module import sentiment\n",
    "from sklearn.linear_model import LogisticRegression\n",
    "import matplotlib.pyplot as plt\n",
    "%matplotlib inline\n",
    "import nltk\n",
    "from nltk.corpus import gutenberg\n",
    "from pprint import pprint\n",
    "import seaborn as sns\n",
    "%load_ext jupyternotify"
   ]
  },
  {
   "cell_type": "code",
   "execution_count": 2,
   "metadata": {
    "ExecuteTime": {
     "end_time": "2018-11-12T15:29:08.131645Z",
     "start_time": "2018-11-12T15:29:08.128480Z"
    },
    "scrolled": true
   },
   "outputs": [],
   "source": [
    "# df[df['review_id']=='cc0pfhAB-JIeBVeKJ1BM-A']"
   ]
  },
  {
   "cell_type": "markdown",
   "metadata": {},
   "source": [
    "# Load Data"
   ]
  },
  {
   "cell_type": "code",
   "execution_count": 3,
   "metadata": {
    "ExecuteTime": {
     "end_time": "2018-11-12T15:29:08.410725Z",
     "start_time": "2018-11-12T15:29:08.134387Z"
    },
    "scrolled": true
   },
   "outputs": [],
   "source": [
    "# read pizza data\n",
    "\n",
    "df=pd.read_csv('top_pizza_reviews.csv')"
   ]
  },
  {
   "cell_type": "code",
   "execution_count": 4,
   "metadata": {
    "ExecuteTime": {
     "end_time": "2018-11-12T15:29:08.416901Z",
     "start_time": "2018-11-12T15:29:08.413000Z"
    }
   },
   "outputs": [
    {
     "data": {
      "text/plain": [
       "(20877, 17)"
      ]
     },
     "execution_count": 4,
     "metadata": {},
     "output_type": "execute_result"
    }
   ],
   "source": [
    "df.shape"
   ]
  },
  {
   "cell_type": "code",
   "execution_count": 5,
   "metadata": {
    "ExecuteTime": {
     "end_time": "2018-11-12T15:29:08.423901Z",
     "start_time": "2018-11-12T15:29:08.418970Z"
    }
   },
   "outputs": [
    {
     "data": {
      "text/plain": [
       "Index(['business_id', 'name', 'biz_stars', 'state', 'city', 'neighborhood',\n",
       "       'address', 'postal_code', 'review_id', 'text', 'date', 'cool', 'funny',\n",
       "       'useful', 'stars', 'user_id', 'type'],\n",
       "      dtype='object')"
      ]
     },
     "execution_count": 5,
     "metadata": {},
     "output_type": "execute_result"
    }
   ],
   "source": [
    "df.columns"
   ]
  },
  {
   "cell_type": "markdown",
   "metadata": {},
   "source": [
    "# EDA"
   ]
  },
  {
   "cell_type": "code",
   "execution_count": 6,
   "metadata": {
    "ExecuteTime": {
     "end_time": "2018-11-12T15:29:08.445933Z",
     "start_time": "2018-11-12T15:29:08.426303Z"
    }
   },
   "outputs": [
    {
     "data": {
      "text/html": [
       "<div>\n",
       "<style scoped>\n",
       "    .dataframe tbody tr th:only-of-type {\n",
       "        vertical-align: middle;\n",
       "    }\n",
       "\n",
       "    .dataframe tbody tr th {\n",
       "        vertical-align: top;\n",
       "    }\n",
       "\n",
       "    .dataframe thead th {\n",
       "        text-align: right;\n",
       "    }\n",
       "</style>\n",
       "<table border=\"1\" class=\"dataframe\">\n",
       "  <thead>\n",
       "    <tr style=\"text-align: right;\">\n",
       "      <th></th>\n",
       "      <th>text</th>\n",
       "    </tr>\n",
       "    <tr>\n",
       "      <th>name</th>\n",
       "      <th></th>\n",
       "    </tr>\n",
       "  </thead>\n",
       "  <tbody>\n",
       "    <tr>\n",
       "      <th>Grimaldi's Pizzeria</th>\n",
       "      <td>5190</td>\n",
       "    </tr>\n",
       "    <tr>\n",
       "      <th>Pizza Hut</th>\n",
       "      <td>4184</td>\n",
       "    </tr>\n",
       "    <tr>\n",
       "      <th>Domino's Pizza</th>\n",
       "      <td>3232</td>\n",
       "    </tr>\n",
       "    <tr>\n",
       "      <th>Mellow Mushroom</th>\n",
       "      <td>2753</td>\n",
       "    </tr>\n",
       "    <tr>\n",
       "      <th>Blaze Fast-Fire'd Pizza</th>\n",
       "      <td>2214</td>\n",
       "    </tr>\n",
       "    <tr>\n",
       "      <th>Papa John's Pizza</th>\n",
       "      <td>2070</td>\n",
       "    </tr>\n",
       "    <tr>\n",
       "      <th>Papa Murphy's</th>\n",
       "      <td>998</td>\n",
       "    </tr>\n",
       "    <tr>\n",
       "      <th>Little Caesars</th>\n",
       "      <td>236</td>\n",
       "    </tr>\n",
       "  </tbody>\n",
       "</table>\n",
       "</div>"
      ],
      "text/plain": [
       "                         text\n",
       "name                         \n",
       "Grimaldi's Pizzeria      5190\n",
       "Pizza Hut                4184\n",
       "Domino's Pizza           3232\n",
       "Mellow Mushroom          2753\n",
       "Blaze Fast-Fire'd Pizza  2214\n",
       "Papa John's Pizza        2070\n",
       "Papa Murphy's             998\n",
       "Little Caesars            236"
      ]
     },
     "execution_count": 6,
     "metadata": {},
     "output_type": "execute_result"
    }
   ],
   "source": [
    "# most popular restaurant (by count of review per restaurant name)\n",
    "df.groupby(['name'])[['text']].count()\\\n",
    "    .sort_values('text',ascending=False)"
   ]
  },
  {
   "cell_type": "code",
   "execution_count": 7,
   "metadata": {
    "ExecuteTime": {
     "end_time": "2018-11-12T15:29:08.462845Z",
     "start_time": "2018-11-12T15:29:08.448067Z"
    }
   },
   "outputs": [
    {
     "data": {
      "text/html": [
       "<div>\n",
       "<style scoped>\n",
       "    .dataframe tbody tr th:only-of-type {\n",
       "        vertical-align: middle;\n",
       "    }\n",
       "\n",
       "    .dataframe tbody tr th {\n",
       "        vertical-align: top;\n",
       "    }\n",
       "\n",
       "    .dataframe thead th {\n",
       "        text-align: right;\n",
       "    }\n",
       "</style>\n",
       "<table border=\"1\" class=\"dataframe\">\n",
       "  <thead>\n",
       "    <tr style=\"text-align: right;\">\n",
       "      <th></th>\n",
       "      <th>text</th>\n",
       "    </tr>\n",
       "    <tr>\n",
       "      <th>type</th>\n",
       "      <th></th>\n",
       "    </tr>\n",
       "  </thead>\n",
       "  <tbody>\n",
       "    <tr>\n",
       "      <th>Delivery</th>\n",
       "      <td>9722</td>\n",
       "    </tr>\n",
       "    <tr>\n",
       "      <th>Dine-in</th>\n",
       "      <td>7943</td>\n",
       "    </tr>\n",
       "    <tr>\n",
       "      <th>Fast Casual</th>\n",
       "      <td>2214</td>\n",
       "    </tr>\n",
       "    <tr>\n",
       "      <th>Take and Bake</th>\n",
       "      <td>998</td>\n",
       "    </tr>\n",
       "  </tbody>\n",
       "</table>\n",
       "</div>"
      ],
      "text/plain": [
       "               text\n",
       "type               \n",
       "Delivery       9722\n",
       "Dine-in        7943\n",
       "Fast Casual    2214\n",
       "Take and Bake   998"
      ]
     },
     "execution_count": 7,
     "metadata": {},
     "output_type": "execute_result"
    }
   ],
   "source": [
    "# most popular restaurant (by count of review per restaurant name)\n",
    "df.groupby(['type'])[['text']].count()"
   ]
  },
  {
   "cell_type": "code",
   "execution_count": 8,
   "metadata": {
    "ExecuteTime": {
     "end_time": "2018-11-12T15:29:08.489393Z",
     "start_time": "2018-11-12T15:29:08.465336Z"
    }
   },
   "outputs": [
    {
     "data": {
      "text/html": [
       "<div>\n",
       "<style scoped>\n",
       "    .dataframe tbody tr th:only-of-type {\n",
       "        vertical-align: middle;\n",
       "    }\n",
       "\n",
       "    .dataframe tbody tr th {\n",
       "        vertical-align: top;\n",
       "    }\n",
       "\n",
       "    .dataframe thead th {\n",
       "        text-align: right;\n",
       "    }\n",
       "</style>\n",
       "<table border=\"1\" class=\"dataframe\">\n",
       "  <thead>\n",
       "    <tr style=\"text-align: right;\">\n",
       "      <th></th>\n",
       "      <th>address</th>\n",
       "    </tr>\n",
       "    <tr>\n",
       "      <th>name</th>\n",
       "      <th></th>\n",
       "    </tr>\n",
       "  </thead>\n",
       "  <tbody>\n",
       "    <tr>\n",
       "      <th>Pizza Hut</th>\n",
       "      <td>318</td>\n",
       "    </tr>\n",
       "    <tr>\n",
       "      <th>Domino's Pizza</th>\n",
       "      <td>233</td>\n",
       "    </tr>\n",
       "    <tr>\n",
       "      <th>Papa John's Pizza</th>\n",
       "      <td>149</td>\n",
       "    </tr>\n",
       "    <tr>\n",
       "      <th>Papa Murphy's</th>\n",
       "      <td>67</td>\n",
       "    </tr>\n",
       "    <tr>\n",
       "      <th>Little Caesars</th>\n",
       "      <td>34</td>\n",
       "    </tr>\n",
       "    <tr>\n",
       "      <th>Blaze Fast-Fire'd Pizza</th>\n",
       "      <td>13</td>\n",
       "    </tr>\n",
       "    <tr>\n",
       "      <th>Grimaldi's Pizzeria</th>\n",
       "      <td>11</td>\n",
       "    </tr>\n",
       "    <tr>\n",
       "      <th>Mellow Mushroom</th>\n",
       "      <td>9</td>\n",
       "    </tr>\n",
       "  </tbody>\n",
       "</table>\n",
       "</div>"
      ],
      "text/plain": [
       "                         address\n",
       "name                            \n",
       "Pizza Hut                    318\n",
       "Domino's Pizza               233\n",
       "Papa John's Pizza            149\n",
       "Papa Murphy's                 67\n",
       "Little Caesars                34\n",
       "Blaze Fast-Fire'd Pizza       13\n",
       "Grimaldi's Pizzeria           11\n",
       "Mellow Mushroom                9"
      ]
     },
     "execution_count": 8,
     "metadata": {},
     "output_type": "execute_result"
    }
   ],
   "source": [
    "# review per business\n",
    "df.groupby(['name'])[['address']].nunique().sort_values('address',ascending=False)"
   ]
  },
  {
   "cell_type": "markdown",
   "metadata": {},
   "source": [
    "## Remove punctuation line"
   ]
  },
  {
   "cell_type": "code",
   "execution_count": 9,
   "metadata": {
    "ExecuteTime": {
     "end_time": "2018-11-12T15:29:08.494685Z",
     "start_time": "2018-11-12T15:29:08.491654Z"
    }
   },
   "outputs": [],
   "source": [
    "count = lambda l1,l2: sum([1 for x in l1 if x in l2])"
   ]
  },
  {
   "cell_type": "code",
   "execution_count": 10,
   "metadata": {
    "ExecuteTime": {
     "end_time": "2018-11-12T15:29:09.016634Z",
     "start_time": "2018-11-12T15:29:08.496919Z"
    }
   },
   "outputs": [],
   "source": [
    "df['puncount']=df['text'].apply(lambda x: count(x,set(string.punctuation))/len(x))"
   ]
  },
  {
   "cell_type": "code",
   "execution_count": 11,
   "metadata": {
    "ExecuteTime": {
     "end_time": "2018-11-12T15:29:09.036151Z",
     "start_time": "2018-11-12T15:29:09.019288Z"
    },
    "scrolled": true
   },
   "outputs": [
    {
     "data": {
      "text/plain": [
       "4734     ********** $9.99 For A 14\" Circle of Crap ****...\n",
       "4389     delivery has taken a half an hou already! not ...\n",
       "5545     fast and tasty...............delivery driver B...\n",
       "19541    STAFF+TIME------------------------------------...\n",
       "6447     Have to say they're fast ...\\nThe delivery guy...\n",
       "Name: text, dtype: object"
      ]
     },
     "execution_count": 11,
     "metadata": {},
     "output_type": "execute_result"
    }
   ],
   "source": [
    "df.sort_values(by='puncount',ascending=False)['text'].head()"
   ]
  },
  {
   "cell_type": "code",
   "execution_count": 12,
   "metadata": {
    "ExecuteTime": {
     "end_time": "2018-11-12T15:29:09.222626Z",
     "start_time": "2018-11-12T15:29:09.038905Z"
    },
    "scrolled": true
   },
   "outputs": [
    {
     "name": "stdout",
     "output_type": "stream",
     "text": [
      "count    20877.000000\n",
      "mean         0.031995\n",
      "std          0.014593\n",
      "min          0.000000\n",
      "25%          0.022915\n",
      "50%          0.029740\n",
      "75%          0.038128\n",
      "max          0.243590\n",
      "Name: puncount, dtype: float64\n"
     ]
    },
    {
     "data": {
      "text/plain": [
       "<matplotlib.axes._subplots.AxesSubplot at 0x1a1d6e4eb8>"
      ]
     },
     "execution_count": 12,
     "metadata": {},
     "output_type": "execute_result"
    },
    {
     "data": {
      "image/png": "[encoded data removed]",
      "text/plain": [
       "<Figure size 432x288 with 1 Axes>"
      ]
     },
     "metadata": {},
     "output_type": "display_data"
    }
   ],
   "source": [
    "print(df['puncount'].describe())\n",
    "df['puncount'].hist()"
   ]
  },
  {
   "cell_type": "code",
   "execution_count": 13,
   "metadata": {
    "ExecuteTime": {
     "end_time": "2018-11-12T15:29:09.228129Z",
     "start_time": "2018-11-12T15:29:09.225107Z"
    },
    "scrolled": false
   },
   "outputs": [],
   "source": [
    "# # drop\n",
    "# df = df[df['puncount'] < 0.1]\n",
    "# print(df['puncount'].describe())\n",
    "# df['puncount'].hist()"
   ]
  },
  {
   "cell_type": "markdown",
   "metadata": {},
   "source": [
    "## Language detect"
   ]
  },
  {
   "cell_type": "code",
   "execution_count": 14,
   "metadata": {
    "ExecuteTime": {
     "end_time": "2018-11-12T15:29:09.251633Z",
     "start_time": "2018-11-12T15:29:09.230920Z"
    }
   },
   "outputs": [],
   "source": [
    "from langdetect import detect"
   ]
  },
  {
   "cell_type": "code",
   "execution_count": 15,
   "metadata": {
    "ExecuteTime": {
     "end_time": "2018-11-12T15:29:09.257926Z",
     "start_time": "2018-11-12T15:29:09.254233Z"
    }
   },
   "outputs": [],
   "source": [
    "def detectexception(text):\n",
    "    try:\n",
    "        return detect(text)\n",
    "    except:\n",
    "        return 'NaL' # return not a language"
   ]
  },
  {
   "cell_type": "code",
   "execution_count": 16,
   "metadata": {
    "ExecuteTime": {
     "end_time": "2018-11-12T15:31:32.754407Z",
     "start_time": "2018-11-12T15:29:09.260340Z"
    }
   },
   "outputs": [
    {
     "name": "stdout",
     "output_type": "stream",
     "text": [
      "CPU times: user 2min 17s, sys: 5.41 s, total: 2min 23s\n",
      "Wall time: 2min 23s\n"
     ]
    }
   ],
   "source": [
    "# detect language (run for a while)\n",
    "df['lan']=df['text'].apply(lambda x:detectexception(x))\n",
    "#df=df.rename(index=str, columns={\"lan1\": \"lan\"})"
   ]
  },
  {
   "cell_type": "code",
   "execution_count": 17,
   "metadata": {
    "ExecuteTime": {
     "end_time": "2018-11-12T15:31:32.799817Z",
     "start_time": "2018-11-12T15:31:32.757859Z"
    },
    "scrolled": true
   },
   "outputs": [
    {
     "name": "stdout",
     "output_type": "stream",
     "text": [
      "CPU times: user 30.4 ms, sys: 3.77 ms, total: 34.1 ms\n",
      "Wall time: 31.7 ms\n"
     ]
    },
    {
     "data": {
      "text/html": [
       "<div>\n",
       "<style scoped>\n",
       "    .dataframe tbody tr th:only-of-type {\n",
       "        vertical-align: middle;\n",
       "    }\n",
       "\n",
       "    .dataframe tbody tr th {\n",
       "        vertical-align: top;\n",
       "    }\n",
       "\n",
       "    .dataframe thead th {\n",
       "        text-align: right;\n",
       "    }\n",
       "</style>\n",
       "<table border=\"1\" class=\"dataframe\">\n",
       "  <thead>\n",
       "    <tr style=\"text-align: right;\">\n",
       "      <th></th>\n",
       "      <th>text</th>\n",
       "    </tr>\n",
       "    <tr>\n",
       "      <th>lan</th>\n",
       "      <th></th>\n",
       "    </tr>\n",
       "  </thead>\n",
       "  <tbody>\n",
       "    <tr>\n",
       "      <th>en</th>\n",
       "      <td>20833</td>\n",
       "    </tr>\n",
       "    <tr>\n",
       "      <th>it</th>\n",
       "      <td>16</td>\n",
       "    </tr>\n",
       "    <tr>\n",
       "      <th>fr</th>\n",
       "      <td>14</td>\n",
       "    </tr>\n",
       "    <tr>\n",
       "      <th>de</th>\n",
       "      <td>3</td>\n",
       "    </tr>\n",
       "    <tr>\n",
       "      <th>es</th>\n",
       "      <td>3</td>\n",
       "    </tr>\n",
       "    <tr>\n",
       "      <th>af</th>\n",
       "      <td>2</td>\n",
       "    </tr>\n",
       "    <tr>\n",
       "      <th>et</th>\n",
       "      <td>2</td>\n",
       "    </tr>\n",
       "    <tr>\n",
       "      <th>da</th>\n",
       "      <td>1</td>\n",
       "    </tr>\n",
       "    <tr>\n",
       "      <th>pl</th>\n",
       "      <td>1</td>\n",
       "    </tr>\n",
       "    <tr>\n",
       "      <th>sk</th>\n",
       "      <td>1</td>\n",
       "    </tr>\n",
       "    <tr>\n",
       "      <th>so</th>\n",
       "      <td>1</td>\n",
       "    </tr>\n",
       "  </tbody>\n",
       "</table>\n",
       "</div>"
      ],
      "text/plain": [
       "      text\n",
       "lan       \n",
       "en   20833\n",
       "it      16\n",
       "fr      14\n",
       "de       3\n",
       "es       3\n",
       "af       2\n",
       "et       2\n",
       "da       1\n",
       "pl       1\n",
       "sk       1\n",
       "so       1"
      ]
     },
     "execution_count": 17,
     "metadata": {},
     "output_type": "execute_result"
    }
   ],
   "source": [
    "# get language count\n",
    "df.groupby(['lan'])[['text']].count().sort_values('text',ascending=False)"
   ]
  },
  {
   "cell_type": "code",
   "execution_count": 18,
   "metadata": {
    "ExecuteTime": {
     "end_time": "2018-11-12T15:31:32.828175Z",
     "start_time": "2018-11-12T15:31:32.802116Z"
    },
    "scrolled": true
   },
   "outputs": [
    {
     "data": {
      "text/html": [
       "<div>\n",
       "<style scoped>\n",
       "    .dataframe tbody tr th:only-of-type {\n",
       "        vertical-align: middle;\n",
       "    }\n",
       "\n",
       "    .dataframe tbody tr th {\n",
       "        vertical-align: top;\n",
       "    }\n",
       "\n",
       "    .dataframe thead th {\n",
       "        text-align: right;\n",
       "    }\n",
       "</style>\n",
       "<table border=\"1\" class=\"dataframe\">\n",
       "  <thead>\n",
       "    <tr style=\"text-align: right;\">\n",
       "      <th></th>\n",
       "      <th>business_id</th>\n",
       "      <th>name</th>\n",
       "      <th>biz_stars</th>\n",
       "      <th>state</th>\n",
       "      <th>city</th>\n",
       "      <th>neighborhood</th>\n",
       "      <th>address</th>\n",
       "      <th>postal_code</th>\n",
       "      <th>review_id</th>\n",
       "      <th>text</th>\n",
       "      <th>date</th>\n",
       "      <th>cool</th>\n",
       "      <th>funny</th>\n",
       "      <th>useful</th>\n",
       "      <th>stars</th>\n",
       "      <th>user_id</th>\n",
       "      <th>type</th>\n",
       "      <th>puncount</th>\n",
       "      <th>lan</th>\n",
       "    </tr>\n",
       "  </thead>\n",
       "  <tbody>\n",
       "    <tr>\n",
       "      <th>122</th>\n",
       "      <td>vQXhuCQ4Wc3WWesp9hy3VQ</td>\n",
       "      <td>Pizza Hut</td>\n",
       "      <td>1.5</td>\n",
       "      <td>ON</td>\n",
       "      <td>Toronto</td>\n",
       "      <td>St. Lawrence</td>\n",
       "      <td>77 Lower Jarvis</td>\n",
       "      <td>M5E 1R8</td>\n",
       "      <td>gJ32Kq6Wwq6Pr9_dwj_C_w</td>\n",
       "      <td>Gross pizza, better than pizza pizza, but stil...</td>\n",
       "      <td>2017-08-08</td>\n",
       "      <td>0</td>\n",
       "      <td>0</td>\n",
       "      <td>1</td>\n",
       "      <td>2</td>\n",
       "      <td>723Rler7IsBi80ps97vrxA</td>\n",
       "      <td>Delivery</td>\n",
       "      <td>0.055556</td>\n",
       "      <td>it</td>\n",
       "    </tr>\n",
       "    <tr>\n",
       "      <th>217</th>\n",
       "      <td>XT7-XSDM3kGS4KYS6AkZjg</td>\n",
       "      <td>Pizza Hut</td>\n",
       "      <td>2.5</td>\n",
       "      <td>QC</td>\n",
       "      <td>Lasalle</td>\n",
       "      <td>LaSalle</td>\n",
       "      <td>7551 Boulevard Newman</td>\n",
       "      <td>H8N 1X3</td>\n",
       "      <td>dhvokw5bM3MdQm85xR3fZg</td>\n",
       "      <td>Très mauvais service nous avons attendu au moi...</td>\n",
       "      <td>2015-12-03</td>\n",
       "      <td>0</td>\n",
       "      <td>0</td>\n",
       "      <td>0</td>\n",
       "      <td>2</td>\n",
       "      <td>dR0Eo3A6AKE_Hj5MxbVhmQ</td>\n",
       "      <td>Delivery</td>\n",
       "      <td>0.011811</td>\n",
       "      <td>fr</td>\n",
       "    </tr>\n",
       "    <tr>\n",
       "      <th>224</th>\n",
       "      <td>XT7-XSDM3kGS4KYS6AkZjg</td>\n",
       "      <td>Pizza Hut</td>\n",
       "      <td>2.5</td>\n",
       "      <td>QC</td>\n",
       "      <td>Lasalle</td>\n",
       "      <td>LaSalle</td>\n",
       "      <td>7551 Boulevard Newman</td>\n",
       "      <td>H8N 1X3</td>\n",
       "      <td>CmMgk7W1xu_fH-b22nLfXg</td>\n",
       "      <td>Je sais que je ne devais pas m'attendre à de l...</td>\n",
       "      <td>2015-11-28</td>\n",
       "      <td>1</td>\n",
       "      <td>1</td>\n",
       "      <td>1</td>\n",
       "      <td>2</td>\n",
       "      <td>x459culD4Wy_auLcAoQgrw</td>\n",
       "      <td>Delivery</td>\n",
       "      <td>0.023636</td>\n",
       "      <td>fr</td>\n",
       "    </tr>\n",
       "    <tr>\n",
       "      <th>225</th>\n",
       "      <td>XT7-XSDM3kGS4KYS6AkZjg</td>\n",
       "      <td>Pizza Hut</td>\n",
       "      <td>2.5</td>\n",
       "      <td>QC</td>\n",
       "      <td>Lasalle</td>\n",
       "      <td>LaSalle</td>\n",
       "      <td>7551 Boulevard Newman</td>\n",
       "      <td>H8N 1X3</td>\n",
       "      <td>UA5RCkj6LzxKaW-6cm2X0Q</td>\n",
       "      <td>J'aime bien Pizza Hut surtout pour leur croûte...</td>\n",
       "      <td>2017-07-10</td>\n",
       "      <td>2</td>\n",
       "      <td>1</td>\n",
       "      <td>4</td>\n",
       "      <td>4</td>\n",
       "      <td>MD-QMO8zcqd584wcpzo9sg</td>\n",
       "      <td>Delivery</td>\n",
       "      <td>0.017391</td>\n",
       "      <td>fr</td>\n",
       "    </tr>\n",
       "    <tr>\n",
       "      <th>375</th>\n",
       "      <td>fsMgUPvNasNOMoz5yx680Q</td>\n",
       "      <td>Pizza Hut</td>\n",
       "      <td>2.5</td>\n",
       "      <td>QC</td>\n",
       "      <td>Laval</td>\n",
       "      <td>Laval</td>\n",
       "      <td>1700 Boulevard des Laurentides</td>\n",
       "      <td>H7M 2Y4</td>\n",
       "      <td>1FZ-vdLjcGACFgit1uTOHg</td>\n",
       "      <td>Plus mauvaise expérience client que j'ai eu de...</td>\n",
       "      <td>2017-04-19</td>\n",
       "      <td>0</td>\n",
       "      <td>0</td>\n",
       "      <td>0</td>\n",
       "      <td>1</td>\n",
       "      <td>_xJx7K2tq71hJUGxUOzUYw</td>\n",
       "      <td>Delivery</td>\n",
       "      <td>0.038339</td>\n",
       "      <td>fr</td>\n",
       "    </tr>\n",
       "  </tbody>\n",
       "</table>\n",
       "</div>"
      ],
      "text/plain": [
       "                business_id       name  biz_stars state     city  \\\n",
       "122  vQXhuCQ4Wc3WWesp9hy3VQ  Pizza Hut        1.5    ON  Toronto   \n",
       "217  XT7-XSDM3kGS4KYS6AkZjg  Pizza Hut        2.5    QC  Lasalle   \n",
       "224  XT7-XSDM3kGS4KYS6AkZjg  Pizza Hut        2.5    QC  Lasalle   \n",
       "225  XT7-XSDM3kGS4KYS6AkZjg  Pizza Hut        2.5    QC  Lasalle   \n",
       "375  fsMgUPvNasNOMoz5yx680Q  Pizza Hut        2.5    QC    Laval   \n",
       "\n",
       "     neighborhood                         address postal_code  \\\n",
       "122  St. Lawrence                 77 Lower Jarvis     M5E 1R8   \n",
       "217       LaSalle           7551 Boulevard Newman     H8N 1X3   \n",
       "224       LaSalle           7551 Boulevard Newman     H8N 1X3   \n",
       "225       LaSalle           7551 Boulevard Newman     H8N 1X3   \n",
       "375         Laval  1700 Boulevard des Laurentides     H7M 2Y4   \n",
       "\n",
       "                  review_id  \\\n",
       "122  gJ32Kq6Wwq6Pr9_dwj_C_w   \n",
       "217  dhvokw5bM3MdQm85xR3fZg   \n",
       "224  CmMgk7W1xu_fH-b22nLfXg   \n",
       "225  UA5RCkj6LzxKaW-6cm2X0Q   \n",
       "375  1FZ-vdLjcGACFgit1uTOHg   \n",
       "\n",
       "                                                  text        date  cool  \\\n",
       "122  Gross pizza, better than pizza pizza, but stil...  2017-08-08     0   \n",
       "217  Très mauvais service nous avons attendu au moi...  2015-12-03     0   \n",
       "224  Je sais que je ne devais pas m'attendre à de l...  2015-11-28     1   \n",
       "225  J'aime bien Pizza Hut surtout pour leur croûte...  2017-07-10     2   \n",
       "375  Plus mauvaise expérience client que j'ai eu de...  2017-04-19     0   \n",
       "\n",
       "     funny  useful  stars                 user_id      type  puncount lan  \n",
       "122      0       1      2  723Rler7IsBi80ps97vrxA  Delivery  0.055556  it  \n",
       "217      0       0      2  dR0Eo3A6AKE_Hj5MxbVhmQ  Delivery  0.011811  fr  \n",
       "224      1       1      2  x459culD4Wy_auLcAoQgrw  Delivery  0.023636  fr  \n",
       "225      1       4      4  MD-QMO8zcqd584wcpzo9sg  Delivery  0.017391  fr  \n",
       "375      0       0      1  _xJx7K2tq71hJUGxUOzUYw  Delivery  0.038339  fr  "
      ]
     },
     "execution_count": 18,
     "metadata": {},
     "output_type": "execute_result"
    }
   ],
   "source": [
    "df[df['lan']!='en'].head()"
   ]
  },
  {
   "cell_type": "code",
   "execution_count": 19,
   "metadata": {
    "ExecuteTime": {
     "end_time": "2018-11-12T15:31:32.850712Z",
     "start_time": "2018-11-12T15:31:32.831024Z"
    }
   },
   "outputs": [],
   "source": [
    "import wordcloud"
   ]
  },
  {
   "cell_type": "markdown",
   "metadata": {},
   "source": [
    "## Sentence tokenize"
   ]
  },
  {
   "cell_type": "code",
   "execution_count": 20,
   "metadata": {
    "ExecuteTime": {
     "end_time": "2018-11-12T15:31:40.330585Z",
     "start_time": "2018-11-12T15:31:32.852987Z"
    },
    "scrolled": true
   },
   "outputs": [
    {
     "data": {
      "text/plain": [
       "count    20877.000000\n",
       "mean         7.348853\n",
       "std          5.924358\n",
       "min          1.000000\n",
       "25%          4.000000\n",
       "50%          6.000000\n",
       "75%          9.000000\n",
       "max         96.000000\n",
       "Name: reviewsenlen, dtype: float64"
      ]
     },
     "execution_count": 20,
     "metadata": {},
     "output_type": "execute_result"
    },
    {
     "data": {
      "image/png": "[encoded data removed]",
      "text/plain": [
       "<Figure size 432x288 with 1 Axes>"
      ]
     },
     "metadata": {},
     "output_type": "display_data"
    }
   ],
   "source": [
    "# get sentences of review\n",
    "default_st=nltk.sent_tokenize\n",
    "df['reviewsen']=df.text.apply(lambda x: default_st(text=x))\n",
    "df['reviewsenlen']=df.reviewsen.apply(len)\n",
    "# review sentences stat\n",
    "df.hist('reviewsenlen')\n",
    "df['reviewsenlen'].describe()"
   ]
  },
  {
   "cell_type": "code",
   "execution_count": 21,
   "metadata": {
    "ExecuteTime": {
     "end_time": "2018-11-12T15:31:40.648350Z",
     "start_time": "2018-11-12T15:31:40.333376Z"
    }
   },
   "outputs": [
    {
     "data": {
      "text/plain": [
       "Text(0,0.5,'review length')"
      ]
     },
     "execution_count": 21,
     "metadata": {},
     "output_type": "execute_result"
    },
    {
     "data": {
      "image/png": "[encoded data removed]",
      "text/plain": [
       "<Figure size 432x288 with 1 Axes>"
      ]
     },
     "metadata": {},
     "output_type": "display_data"
    }
   ],
   "source": [
    "# if sentence lenth are related to review stars\n",
    "sns.violinplot(x='stars',y='reviewsenlen',data=df).set_title('Review Sentence Length vs. Star')\n",
    "plt.ylabel('review length')"
   ]
  },
  {
   "cell_type": "code",
   "execution_count": 22,
   "metadata": {
    "ExecuteTime": {
     "end_time": "2018-11-12T15:31:40.667439Z",
     "start_time": "2018-11-12T15:31:40.651161Z"
    }
   },
   "outputs": [
    {
     "name": "stdout",
     "output_type": "stream",
     "text": [
      "[\"This review is about this one location's unacceptable behavior.\",\n",
      " \"To start, I like Papa John's.\",\n",
      " '* The pizza is reasonably tasty for my family (not as good as the local top '\n",
      " 'notch mom  & pop places, but decent none-the-less.)',\n",
      " '* The value is exceptional - they have the best specials, which we always '\n",
      " 'take advantage of.',\n",
      " 'Their online ordering and REWARD program is unparalleled (I belong to  every '\n",
      " 'chains reward and email clubs, they are all pathetic.',\n",
      " \"Not PJ's!\",\n",
      " 'Join and find out!)',\n",
      " '* My local PJ is a franchise that in my opinion is a model for any franchise '\n",
      " 'of any type.',\n",
      " 'They know us by face and by name and greet us so when we come in.',\n",
      " 'The food is well prepared and consistent.',\n",
      " 'They service is fast and extra friendly.',\n",
      " 'They rarely screw-up; and IF they do they are apologetic and fast to fix it '\n",
      " 'in a method that we prefer.',\n",
      " 'So... What about THIS LOCATION??',\n",
      " 'We were having a family gathering in Phoenix and someone said \"Let\\'s get '\n",
      " 'pizza!',\n",
      " 'We\\'ll have Domino\\'s deliver!\"',\n",
      " '\"Wait!\"',\n",
      " 'I said.',\n",
      " 'As the pater familias I decided to treat everyone and said \"Can we do Papa '\n",
      " \"John's?\",\n",
      " \"That's all we ever order and it's great.\",\n",
      " 'I think I have a free pizza or two waiting for me anyway?\"',\n",
      " '\"Well we usually get white pizza with spinach and veggies from Domino\\'s\" '\n",
      " 'the vegan Phoenician daughter chimed in.',\n",
      " '\"No problem.',\n",
      " 'Papa John\\' has that too.\"',\n",
      " '\"Do they have an online configurator so I can pick our toppings?\"',\n",
      " 'she continued.',\n",
      " '\"Yeah, it\\'s great.\"',\n",
      " '\"Do they still give that Garlic Butter sauce to dip your crust in?',\n",
      " 'That\\'s the main thing we always liked from there.\"',\n",
      " '\"Domino\\'s is super cheap...\" she challenged.',\n",
      " '\"Let me login and order.',\n",
      " \"They have great specials, I've got freebies coming.\",\n",
      " 'You can pick your own toppings.',\n",
      " \"I'll order delivery and pay online including tip for driver.\",\n",
      " 'We\\'ll be eating in under a half hour.\"',\n",
      " '\"OK, dad.\"',\n",
      " 'Online I go.',\n",
      " 'Couple big loaded pizzas for about 10 bucks each, couple free 2-liters of  '\n",
      " 'soda, an apple pie desert pizza at half price.',\n",
      " 'Paid online.',\n",
      " 'Done!!!',\n",
      " 'Problems begin.',\n",
      " '50 minutes later the delivery guy arrives.',\n",
      " 'Someone gets the door, then calls me \"to sign the receipt.\"',\n",
      " 'I come to the door to sign.',\n",
      " \"I only see the pizza's so I ask about  the drinks.\",\n",
      " 'The zombie with the hot bag blank stares at me with glazed-over eyes usually '\n",
      " 'seen only on reggae musicians.',\n",
      " 'I sign.',\n",
      " 'There is still no response.',\n",
      " 'I ask again  about the drinks and the desert pizza.',\n",
      " 'The expressionless zombie mumbles and someone  behind me yells \"we got it '\n",
      " 'all dad!\"',\n",
      " 'OK!',\n",
      " '\"Thanks!\"',\n",
      " 'I say to zombieman, who slowly turns and shuffles away with no response.',\n",
      " 'He was well tipped, but maybe I needed to offer fresh brains instead of cash '\n",
      " 'to show appreciation to him.',\n",
      " 'Problems continue.',\n",
      " 'We open up the pizza boxes.',\n",
      " 'The crusts are uber dark and burnt in many spot.',\n",
      " 'Cheese is mostly brown.',\n",
      " 'I pick up and bite into a piece of  Spinach Alfredo and it crunches.',\n",
      " 'It  is completely dry, sauce was cooked away.',\n",
      " 'Cheese was dried out too.',\n",
      " 'Both pizzas were like this.',\n",
      " '\"Gross!\"',\n",
      " '\"Ewww\"  \"This is inedible\" \"They burnt this this!\"',\n",
      " '\"Call them back and tell them.\"',\n",
      " 'were the comments ringing from all my spawn.',\n",
      " '\"Sorry guys!',\n",
      " \"I'll take care of it.\",\n",
      " \"I ordered these 'well-done' as I always order every pizza.\",\n",
      " \"It makes the cheese 'break' a little and makes the crust better for dipping.\",\n",
      " \"I've talked to store managers about this and know just what they do.\",\n",
      " 'The pizzas are amazing that way.',\n",
      " 'Someone screwed these up.',\n",
      " 'They are burnt.',\n",
      " 'I\\'m sorry.\"',\n",
      " 'I \\nlamented.',\n",
      " 'Problem gets worse.',\n",
      " 'I call in.',\n",
      " 'I explain the problem.',\n",
      " 'I ask what they did to mess these up.',\n",
      " 'Unapologetically, the fellow on the other end explains how they cooked the '\n",
      " 'pies and seems to know the correct  method for well-done pizza.',\n",
      " 'As a retired restaurateur, I can only figure either the pizza handled did '\n",
      " 'something different, or the ovens in that store are turned-up a bit for '\n",
      " 'faster cooking which fouls up a \"well done\" order.',\n",
      " 'Either way, they guy on the phone was apathetic but said \"We can remake '\n",
      " 'those for you.\"',\n",
      " '\"Ok.',\n",
      " 'Thanks.\"',\n",
      " 'I say \"These are inedible.\"',\n",
      " '...click... \"OK, guys!',\n",
      " 'They are making new pizzas!',\n",
      " 'AN HOUR LATER.',\n",
      " 'Let me repeat.',\n",
      " 'AN HOUR LATER, a snarly, untipped female driver brings  2 perfectly cooked '\n",
      " '\"well done\" pizzas.',\n",
      " 'By that time, my hungry spawn had torn out and devoured all the '\n",
      " 'semi-burnt-but-still-somewhat-edible-as-long-as-they-are-covered-with-ranch-dressing '\n",
      " 'center nuggets of the unholy abominations this location had first delivered.',\n",
      " 'The group had subsequently moved on to the livingroom to watch True Blood.',\n",
      " '\"Hey, the new pizzas are here!',\n",
      " 'They are prefect!',\n",
      " 'De-LISH!\"',\n",
      " 'But no one was interested any more.']\n",
      "[\"Mellow Mushroom isn't exactly the sort of place I'd ordinarily go.\",\n",
      " 'Woodstock murals, giant hippy-painted school-buses in the middle of the '\n",
      " \"dining, and awkward wrap-around booths just don't quite appeal to my more \"\n",
      " 'refined dining sensibilities.',\n",
      " 'But, my coworkers dig it.',\n",
      " 'And the one on Selwyn has a reputation for slow, inattentive service - which '\n",
      " 'is perfect when you and your coworkers are looking to extend your one-hour '\n",
      " 'workday lunch break into a 2.5 hour marathon.',\n",
      " 'During the carpool-carride over, the majority of us joked about how terrible '\n",
      " 'the service would be.',\n",
      " \"Shauna, our lone female (and lone optimist), righteously defended MM's \"\n",
      " 'honor.',\n",
      " '\"You guys are so harsh,\" she groaned.',\n",
      " '\"We got bad service one time... and now it\\'s like they\\'re the worst place '\n",
      " 'ever.\"',\n",
      " 'We were quick to point out to Shauna multiple specific examples of the bad '\n",
      " 'service we had received on several separate occasions: \\n'\n",
      " '\"Remember the time Mark had to go behind the bar and pour his own beer '\n",
      " 'because the waiter never came back?\"',\n",
      " '\"Remember the time we were seated for 47 minutes before anyone took our '\n",
      " 'drink order?\"',\n",
      " '\"Remember the time we had three different (lousy) waiters because none of '\n",
      " 'them knew whose section we were in?\"',\n",
      " 'Nevertheless, we keep coming back, hopeful each time that the experience '\n",
      " 'will change.',\n",
      " 'It never does.',\n",
      " 'Last Friday we were welcomed and seated promptly.',\n",
      " 'Out waitress approached, comely and upright, with jet-black hair, loose but '\n",
      " 'not sloppy clothing, and a lovely porcelain-skinned face - plain and '\n",
      " 'inexpressive... but not entirely lifeless.',\n",
      " 'She introduced herself with a breathless murmur: Kim, Amy, Amber...',\n",
      " 'I dunno.',\n",
      " \"I don't think she even knew.\",\n",
      " '\"Hi,\" we all said with genuine enthusiasm.',\n",
      " 'She just sorta stood there and teetered like a weeble.',\n",
      " '\"We need drinks,\" I declared.',\n",
      " '\"Any specials?\"',\n",
      " '\"Um...\" Kim/Amy looked bewildered.',\n",
      " 'Bart leaned forward and read off the specials on the chalkboard behind her.',\n",
      " 'The last one was a \"Mystery Beer: $3\"\\n\"What\\'s the \\'mystery beer\\'?\"',\n",
      " 'I asked.',\n",
      " 'Kim/Amy shrugged.',\n",
      " '\"It\\'s a mystery.\"',\n",
      " 'I was intrigued.',\n",
      " 'So I ordered one.',\n",
      " '(Turns out the mystery beer is just a random bottle of a crappy beer like '\n",
      " \"Grolsch or Longboard or something else they're trying to get rid of that \"\n",
      " \"shouldn't be sold for more than a buck...) \\n\"\n",
      " 'Bart cleared his throat.',\n",
      " '\"Is there a lunch special?\"',\n",
      " 'he asked, catching Kim/Amy completely off-guard.',\n",
      " '\"What day is it?\"',\n",
      " 'she asked us, sincerely.',\n",
      " '\"Um...',\n",
      " 'Friday.\"',\n",
      " '\"Oh, then yeah.',\n",
      " 'We have the special.\"',\n",
      " 'We all, then, politely extended a protracted pause.',\n",
      " 'When no further information was offered, we were compelled to pry: \"Oh yeah?',\n",
      " 'So... what is the special?\"',\n",
      " '\"It\\'s a slice and a salad,\" Kim/Amy replied, quite matter-of-factly.',\n",
      " '\"What kind of slices can I choose from?\"',\n",
      " 'Bart asked.',\n",
      " '\"You can get anything you want,\" She said.',\n",
      " '\"Oh!\"',\n",
      " \"Bart's face lit up as he started scanning through the specialty pies in the \"\n",
      " \"menu's center page.\",\n",
      " '\"So, I can get the Mighty Meaty?\"',\n",
      " 'As if he should have known, Amy/Kim halted him sternly, \"No, you can\\'t get '\n",
      " 'those.',\n",
      " 'You have to make your own.\"',\n",
      " 'Bart, a bit flummoxed, tried to reason this out.',\n",
      " '\"Oh, so I can\\'t choose a specialty pizza but I can get whatever toppings I '\n",
      " 'want?\"',\n",
      " 'Kim/Amy nodded.',\n",
      " '\"Yeah, you can get whatever you want.',\n",
      " 'I mean, you have to pay for toppings.\"',\n",
      " 'Bart, now more flabbergasted than flummoxed, persisted.',\n",
      " '\"Ok, so... toppings are extra?\"',\n",
      " '\"I mean... you get one,\" she said.',\n",
      " 'Now the picture was forming more clearly.',\n",
      " 'An audible \"ahhh!\"',\n",
      " 'of clarity was released by half the table.',\n",
      " '\"So, it\\'s a one-topping slice and a salad?\"',\n",
      " 'Kim/Amy nodded.',\n",
      " 'Now we were getting somewhere.',\n",
      " 'But then, as if she were somehow made uncomfortable by the sudden moment of '\n",
      " 'clarity, she decided to throw us an additional curveball.',\n",
      " '\"Or you can get two slices.\"',\n",
      " 'Bart, now just being a jack-ass, forced her hand.',\n",
      " '\"Oh, so instead of toppings I can just get two slices - but does cheese '\n",
      " 'count as a topping?\"',\n",
      " '\"No, a slice and a salad.\"',\n",
      " 'We all laughed.',\n",
      " 'And she laughed too.',\n",
      " 'Not sure if she knew it was an at-you-not-with-you type thing.',\n",
      " 'Orders were placed.',\n",
      " 'Most of us got the special, some got sandwiches.',\n",
      " 'I ordered pretzels for the table (garlic bread in the shape of a pretzel '\n",
      " 'with marinara for dipping).',\n",
      " 'The side-salads came out promptly.',\n",
      " 'Unspectacular - just some greens with onion and tomato sprinkled in.',\n",
      " 'Then, we waited.',\n",
      " 'Took about half an hour for the food to arrive (the appetizer brought at the '\n",
      " 'same time as the entrees... sigh).',\n",
      " 'And we did get one or two more rounds of drinks served in that time.',\n",
      " 'So, all in all, not too bad.',\n",
      " 'The food is... mediocre.',\n",
      " 'Greasy slices of pizza with run-of-the-mill ingredients.',\n",
      " \"The slices are large, so there's that.\",\n",
      " 'The guys who got sandwiches were impressed and noted that \"sandwiches are '\n",
      " 'the way to go here\".',\n",
      " 'Good to know.',\n",
      " 'Checks were a bit of a situation.',\n",
      " \"We had to each recount what exactly we'd ordered since Kim/Amy evidently \"\n",
      " \"didn't split it up as she took things down.\",\n",
      " 'No big deal.',\n",
      " \"It's Mellow Mushroom.\",\n",
      " '1.5 hours in and out.',\n",
      " \"Best experience I've ever had there.\"]\n"
     ]
    }
   ],
   "source": [
    "# look at some longest reviews\n",
    "for i in df[df['reviewsenlen']>80]['reviewsen'].head():\n",
    "    pprint(i)"
   ]
  },
  {
   "cell_type": "code",
   "execution_count": 23,
   "metadata": {
    "ExecuteTime": {
     "end_time": "2018-11-12T15:31:40.689210Z",
     "start_time": "2018-11-12T15:31:40.671070Z"
    },
    "scrolled": true
   },
   "outputs": [],
   "source": [
    "# get length of review\n",
    "df.loc[:,'reviewlen']=df.loc[:,'text'].apply(len)"
   ]
  },
  {
   "cell_type": "code",
   "execution_count": 24,
   "metadata": {
    "ExecuteTime": {
     "end_time": "2018-11-12T15:31:40.941816Z",
     "start_time": "2018-11-12T15:31:40.692214Z"
    }
   },
   "outputs": [
    {
     "data": {
      "text/plain": [
       "count    20877.000000\n",
       "mean       527.401207\n",
       "std        483.445307\n",
       "min          2.000000\n",
       "25%        219.000000\n",
       "50%        378.000000\n",
       "75%        672.000000\n",
       "max       5000.000000\n",
       "Name: reviewlen, dtype: float64"
      ]
     },
     "execution_count": 24,
     "metadata": {},
     "output_type": "execute_result"
    },
    {
     "data": {
      "image/png": "[encoded data removed]",
      "text/plain": [
       "<Figure size 432x288 with 1 Axes>"
      ]
     },
     "metadata": {},
     "output_type": "display_data"
    }
   ],
   "source": [
    "# review length stat\n",
    "df.hist('reviewlen')\n",
    "df.loc[:,'reviewlen'].describe()"
   ]
  },
  {
   "cell_type": "markdown",
   "metadata": {},
   "source": [
    "## Word Tokenize"
   ]
  },
  {
   "cell_type": "code",
   "execution_count": 25,
   "metadata": {
    "ExecuteTime": {
     "end_time": "2018-11-12T15:32:08.691754Z",
     "start_time": "2018-11-12T15:31:40.944962Z"
    },
    "scrolled": true
   },
   "outputs": [
    {
     "data": {
      "text/plain": [
       "count    20877.000000\n",
       "mean       113.180773\n",
       "std        104.224505\n",
       "min          1.000000\n",
       "25%         47.000000\n",
       "50%         81.000000\n",
       "75%        144.000000\n",
       "max       1119.000000\n",
       "Name: reviewwordlen, dtype: float64"
      ]
     },
     "execution_count": 25,
     "metadata": {},
     "output_type": "execute_result"
    },
    {
     "data": {
      "image/png": "[encoded data removed]",
      "text/plain": [
       "<Figure size 432x288 with 1 Axes>"
      ]
     },
     "metadata": {},
     "output_type": "display_data"
    }
   ],
   "source": [
    "# get sentences of review\n",
    "default_wt=nltk.word_tokenize\n",
    "df['reviewword']=df.text.apply(lambda x: default_wt(text=x))\n",
    "df['reviewwordlen']=df.reviewword.apply(len)\n",
    "# review sentences stat\n",
    "df.hist('reviewwordlen')\n",
    "df['reviewwordlen'].describe()"
   ]
  },
  {
   "cell_type": "code",
   "execution_count": 26,
   "metadata": {
    "ExecuteTime": {
     "end_time": "2018-11-12T15:32:08.914480Z",
     "start_time": "2018-11-12T15:32:08.694152Z"
    },
    "scrolled": false
   },
   "outputs": [
    {
     "data": {
      "text/plain": [
       "count    20877.000000\n",
       "mean        15.791324\n",
       "std          8.867116\n",
       "min          1.000000\n",
       "25%         11.125000\n",
       "50%         14.333333\n",
       "75%         18.200000\n",
       "max        218.000000\n",
       "Name: avgword, dtype: float64"
      ]
     },
     "execution_count": 26,
     "metadata": {},
     "output_type": "execute_result"
    },
    {
     "data": {
      "image/png": "[encoded data removed]",
      "text/plain": [
       "<Figure size 432x288 with 1 Axes>"
      ]
     },
     "metadata": {},
     "output_type": "display_data"
    }
   ],
   "source": [
    "# people couldn't write and using comma all the time\n",
    "\n",
    "df.loc[:,'avgword']=df.loc[:,'reviewwordlen']/df.loc[:,'reviewsenlen']\n",
    "# review length stat\n",
    "df.hist('avgword')\n",
    "df.loc[:,'avgword'].describe()"
   ]
  },
  {
   "cell_type": "code",
   "execution_count": 27,
   "metadata": {
    "ExecuteTime": {
     "end_time": "2018-11-12T15:32:08.924037Z",
     "start_time": "2018-11-12T15:32:08.917194Z"
    }
   },
   "outputs": [
    {
     "data": {
      "text/plain": [
       "1"
      ]
     },
     "execution_count": 27,
     "metadata": {},
     "output_type": "execute_result"
    }
   ],
   "source": [
    "sum(df['avgword']>200)"
   ]
  },
  {
   "cell_type": "code",
   "execution_count": 28,
   "metadata": {
    "ExecuteTime": {
     "end_time": "2018-11-12T15:32:08.933541Z",
     "start_time": "2018-11-12T15:32:08.926555Z"
    }
   },
   "outputs": [
    {
     "name": "stdout",
     "output_type": "stream",
     "text": [
      "14844    The manager Johnny is an idiot I do not know i...\n",
      "Name: text, dtype: object\n"
     ]
    }
   ],
   "source": [
    "print(df[df['avgword']>200]['text'])"
   ]
  },
  {
   "cell_type": "markdown",
   "metadata": {},
   "source": [
    "## People tend to star higher"
   ]
  },
  {
   "cell_type": "code",
   "execution_count": 29,
   "metadata": {
    "ExecuteTime": {
     "end_time": "2018-11-12T15:32:09.090167Z",
     "start_time": "2018-11-12T15:32:08.936679Z"
    },
    "scrolled": true
   },
   "outputs": [
    {
     "data": {
      "image/png": "[encoded data removed]",
      "text/plain": [
       "<Figure size 432x288 with 1 Axes>"
      ]
     },
     "metadata": {},
     "output_type": "display_data"
    }
   ],
   "source": [
    "# star distributions\n",
    "#df['stars'].hist(bins=5)\n",
    "#df['stars'].value_counts().plot(kind='bar') this code doesn't sort ordinal\n",
    "ax=df.groupby('stars').size().plot(kind='bar',title=\"Frequency Count of Stars\",\n",
    "                                   rot=0,color='#3d87ff')"
   ]
  },
  {
   "cell_type": "code",
   "execution_count": 30,
   "metadata": {
    "ExecuteTime": {
     "end_time": "2018-11-12T15:32:09.098430Z",
     "start_time": "2018-11-12T15:32:09.092876Z"
    }
   },
   "outputs": [
    {
     "name": "stdout",
     "output_type": "stream",
     "text": [
      "There are 834 restaurants\n"
     ]
    }
   ],
   "source": [
    "print('There are',len(df.address.unique()),'restaurants')"
   ]
  },
  {
   "cell_type": "code",
   "execution_count": 31,
   "metadata": {
    "ExecuteTime": {
     "end_time": "2018-11-12T15:32:09.133485Z",
     "start_time": "2018-11-12T15:32:09.101047Z"
    },
    "scrolled": true
   },
   "outputs": [
    {
     "data": {
      "text/plain": [
       "business_id          0\n",
       "name                 0\n",
       "biz_stars            0\n",
       "state                0\n",
       "city                 0\n",
       "neighborhood     12179\n",
       "address              0\n",
       "postal_code          0\n",
       "review_id            0\n",
       "text                 0\n",
       "date                 0\n",
       "cool                 0\n",
       "funny                0\n",
       "useful               0\n",
       "stars                0\n",
       "user_id              0\n",
       "type                 0\n",
       "puncount             0\n",
       "lan                  0\n",
       "reviewsen            0\n",
       "reviewsenlen         0\n",
       "reviewlen            0\n",
       "reviewword           0\n",
       "reviewwordlen        0\n",
       "avgword              0\n",
       "dtype: int64"
      ]
     },
     "execution_count": 31,
     "metadata": {},
     "output_type": "execute_result"
    }
   ],
   "source": [
    "# check na values for each column\n",
    "df.isna().sum()"
   ]
  },
  {
   "cell_type": "markdown",
   "metadata": {},
   "source": [
    "## sentiment analysis (dr healey model)"
   ]
  },
  {
   "cell_type": "code",
   "execution_count": 32,
   "metadata": {
    "ExecuteTime": {
     "end_time": "2018-11-12T15:32:22.635874Z",
     "start_time": "2018-11-12T15:32:09.136199Z"
    },
    "scrolled": false
   },
   "outputs": [
    {
     "name": "stdout",
     "output_type": "stream",
     "text": [
      "CPU times: user 13.1 s, sys: 269 ms, total: 13.4 s\n",
      "Wall time: 13.5 s\n"
     ]
    }
   ],
   "source": [
    "# df['sentiment']=df['text'].apply(str.split).apply(sentiment.sentiment)\n",
    "# df=pd.concat([df['sentiment'].apply(pd.Series),df.drop('sentiment',axis=1)],axis=1)\n",
    "df=pd.concat([df['text'].apply(str.split).apply(sentiment.sentiment).apply(pd.Series),df],axis=1)"
   ]
  },
  {
   "cell_type": "code",
   "execution_count": 33,
   "metadata": {
    "ExecuteTime": {
     "end_time": "2018-11-12T15:32:22.686179Z",
     "start_time": "2018-11-12T15:32:22.639508Z"
    },
    "scrolled": true
   },
   "outputs": [
    {
     "name": "stdout",
     "output_type": "stream",
     "text": [
      "CPU times: user 37.5 ms, sys: 5.54 ms, total: 43 ms\n",
      "Wall time: 41.3 ms\n"
     ]
    }
   ],
   "source": [
    "df=df.drop(df[df['valence']==0].index)"
   ]
  },
  {
   "cell_type": "code",
   "execution_count": 34,
   "metadata": {
    "ExecuteTime": {
     "end_time": "2018-11-12T15:32:24.716466Z",
     "start_time": "2018-11-12T15:32:22.690077Z"
    },
    "scrolled": false
   },
   "outputs": [
    {
     "data": {
      "image/png": "[encoded data removed]",
      "text/plain": [
       "<Figure size 576x432 with 2 Axes>"
      ]
     },
     "metadata": {},
     "output_type": "display_data"
    }
   ],
   "source": [
    "fig, ax = plt.subplots()\n",
    "df.plot.scatter(x='valence',y='arousal',c='stars',fontsize=10,\n",
    "               colormap='RdBu_r',ax=ax,alpha=0.5,\n",
    "               figsize=(8, 6))\n",
    "ax.set_title('Sentiment vs. Star',fontsize=20)\n",
    "ax.set_xlabel('Valence',fontsize=15)\n",
    "ax.set_ylabel('Arousal',fontsize=15)\n",
    "plt.xlim(0,10)\n",
    "plt.ylim(0,10)\n",
    "plt.savefig('sentiment-all.png')\n",
    "plt.show()"
   ]
  },
  {
   "cell_type": "code",
   "execution_count": 35,
   "metadata": {
    "ExecuteTime": {
     "end_time": "2018-11-12T15:32:24.722968Z",
     "start_time": "2018-11-12T15:32:24.719201Z"
    }
   },
   "outputs": [],
   "source": [
    "colors=['#6c0521','#7d14a5','#c84678','#f5914b','#0d3a67']"
   ]
  },
  {
   "cell_type": "code",
   "execution_count": 36,
   "metadata": {
    "ExecuteTime": {
     "end_time": "2018-11-12T15:32:24.729204Z",
     "start_time": "2018-11-12T15:32:24.725855Z"
    },
    "scrolled": false
   },
   "outputs": [],
   "source": [
    "# for i in range(1,6):\n",
    "#     fig, ax = plt.subplots()\n",
    "#     df[df['stars']==i].plot.scatter(x='valence',y='arousal', color=colors[i-1],\n",
    "#                                     ax=ax, alpha=0.5,title='Sentiment vs. Star '+str(i),\n",
    "#                                     figsize=(8, 6))\n",
    "#     plt.xlim(0,10)\n",
    "#     plt.ylim(0,10)\n",
    "#     plt.savefig('sentiment'+str(i)+'.png')"
   ]
  },
  {
   "cell_type": "code",
   "execution_count": 37,
   "metadata": {
    "ExecuteTime": {
     "end_time": "2018-11-12T15:32:25.018264Z",
     "start_time": "2018-11-12T15:32:24.732310Z"
    }
   },
   "outputs": [
    {
     "data": {
      "image/png": "[encoded data removed]",
      "text/plain": [
       "<Figure size 432x432 with 1 Axes>"
      ]
     },
     "metadata": {},
     "output_type": "display_data"
    }
   ],
   "source": [
    "fig, ax = plt.subplots()\n",
    "df[df['stars']==1].plot.scatter(x='valence',y='arousal', color='#0d3a67',fontsize=10,\n",
    "                                ax=ax, alpha=0.5,\n",
    "                                figsize=(6, 6))\n",
    "ax.set_title('Sentiment vs. Star',fontsize=20)\n",
    "ax.set_xlabel('Valence',fontsize=15)\n",
    "ax.set_ylabel('Arousal',fontsize=15)\n",
    "plt.xlim(0,10)\n",
    "plt.ylim(0,10)\n",
    "plt.savefig('sentiment-1.png')"
   ]
  },
  {
   "cell_type": "code",
   "execution_count": 38,
   "metadata": {
    "ExecuteTime": {
     "end_time": "2018-11-12T15:32:25.417951Z",
     "start_time": "2018-11-12T15:32:25.021201Z"
    }
   },
   "outputs": [
    {
     "data": {
      "image/png": "[encoded data removed]",
      "text/plain": [
       "<Figure size 432x432 with 1 Axes>"
      ]
     },
     "metadata": {},
     "output_type": "display_data"
    }
   ],
   "source": [
    "fig, ax = plt.subplots()\n",
    "df[df['stars']==1].plot.scatter(x='valence',y='arousal', color='#0d3a67',fontsize=10,\n",
    "                                ax=ax, alpha=0.5,\n",
    "                                figsize=(6, 6))\n",
    "df[df['stars']==5].plot.scatter(x='valence',y='arousal', color='#6c0521',fontsize=10,\n",
    "                                ax=ax, alpha=0.5,\n",
    "                                figsize=(6, 6))\n",
    "\n",
    "ax.set_title('Sentiment vs. Star',fontsize=20)\n",
    "ax.set_xlabel('Valence',fontsize=15)\n",
    "ax.set_ylabel('Arousal',fontsize=15)\n",
    "plt.xlim(0,10)\n",
    "plt.ylim(0,10)\n",
    "plt.savefig('sentiment15.png')"
   ]
  },
  {
   "cell_type": "code",
   "execution_count": 39,
   "metadata": {
    "ExecuteTime": {
     "end_time": "2018-11-12T15:32:25.705029Z",
     "start_time": "2018-11-12T15:32:25.420723Z"
    }
   },
   "outputs": [
    {
     "data": {
      "image/png": "[encoded data removed]",
      "text/plain": [
       "<Figure size 576x432 with 1 Axes>"
      ]
     },
     "metadata": {},
     "output_type": "display_data"
    }
   ],
   "source": [
    "i=1\n",
    "fig, ax = plt.subplots()\n",
    "df[df['stars']==i].plot.scatter(x='valence',y='arousal', color='Red',\n",
    "                                ax=ax, alpha=0.3,title='Sentiment vs. Star '+str(i),\n",
    "                                figsize=(8, 6))\n",
    "plt.xlim(0,10)\n",
    "plt.ylim(0,10)\n",
    "plt.savefig('sentiment'+str(i)+'.png')"
   ]
  },
  {
   "cell_type": "code",
   "execution_count": 40,
   "metadata": {
    "ExecuteTime": {
     "end_time": "2018-11-12T15:32:30.019798Z",
     "start_time": "2018-11-12T15:32:25.713417Z"
    },
    "scrolled": true
   },
   "outputs": [
    {
     "data": {
      "image/png": "[encoded data removed]",
      "text/plain": [
       "<Figure size 432x288 with 1 Axes>"
      ]
     },
     "metadata": {},
     "output_type": "display_data"
    }
   ],
   "source": [
    "from mpl_toolkits.mplot3d import Axes3D\n",
    "\n",
    "fig = plt.figure()\n",
    "ax = fig.add_subplot(111, projection='3d')\n",
    "\n",
    "for c, m, zlow, zhigh in [('r', 'o', -50, -25), ('b', '^', -30, -5)]:\n",
    "    xs = df['valence']\n",
    "    ys = df['arousal']\n",
    "    zs = df['stars']\n",
    "    ax.scatter(xs, ys, zs, c=df['stars'], marker=m)\n",
    "\n",
    "ax.set_xlabel('Valence')\n",
    "ax.set_ylabel('Arousal')\n",
    "ax.set_zlabel('Stars')\n",
    "\n",
    "plt.show()"
   ]
  },
  {
   "cell_type": "code",
   "execution_count": 41,
   "metadata": {
    "ExecuteTime": {
     "end_time": "2018-11-12T15:32:30.027896Z",
     "start_time": "2018-11-12T15:32:30.022315Z"
    }
   },
   "outputs": [
    {
     "data": {
      "text/plain": [
       "Index(['valence', 'arousal', 'business_id', 'name', 'biz_stars', 'state',\n",
       "       'city', 'neighborhood', 'address', 'postal_code', 'review_id', 'text',\n",
       "       'date', 'cool', 'funny', 'useful', 'stars', 'user_id', 'type',\n",
       "       'puncount', 'lan', 'reviewsen', 'reviewsenlen', 'reviewlen',\n",
       "       'reviewword', 'reviewwordlen', 'avgword'],\n",
       "      dtype='object')"
      ]
     },
     "execution_count": 41,
     "metadata": {},
     "output_type": "execute_result"
    }
   ],
   "source": [
    "df.columns"
   ]
  },
  {
   "cell_type": "code",
   "execution_count": 42,
   "metadata": {
    "ExecuteTime": {
     "end_time": "2018-11-12T15:32:30.072785Z",
     "start_time": "2018-11-12T15:32:30.030406Z"
    }
   },
   "outputs": [
    {
     "data": {
      "text/html": [
       "<div>\n",
       "<style scoped>\n",
       "    .dataframe tbody tr th:only-of-type {\n",
       "        vertical-align: middle;\n",
       "    }\n",
       "\n",
       "    .dataframe tbody tr th {\n",
       "        vertical-align: top;\n",
       "    }\n",
       "\n",
       "    .dataframe thead th {\n",
       "        text-align: right;\n",
       "    }\n",
       "</style>\n",
       "<table border=\"1\" class=\"dataframe\">\n",
       "  <thead>\n",
       "    <tr style=\"text-align: right;\">\n",
       "      <th></th>\n",
       "      <th>valence</th>\n",
       "      <th>arousal</th>\n",
       "      <th>business_id</th>\n",
       "      <th>name</th>\n",
       "      <th>biz_stars</th>\n",
       "      <th>state</th>\n",
       "      <th>city</th>\n",
       "      <th>neighborhood</th>\n",
       "      <th>address</th>\n",
       "      <th>postal_code</th>\n",
       "      <th>...</th>\n",
       "      <th>user_id</th>\n",
       "      <th>type</th>\n",
       "      <th>puncount</th>\n",
       "      <th>lan</th>\n",
       "      <th>reviewsen</th>\n",
       "      <th>reviewsenlen</th>\n",
       "      <th>reviewlen</th>\n",
       "      <th>reviewword</th>\n",
       "      <th>reviewwordlen</th>\n",
       "      <th>avgword</th>\n",
       "    </tr>\n",
       "  </thead>\n",
       "  <tbody>\n",
       "    <tr>\n",
       "      <th>11717</th>\n",
       "      <td>2.08</td>\n",
       "      <td>7.49</td>\n",
       "      <td>YQ--LJ7pvjiDSqNv0TuKTQ</td>\n",
       "      <td>Grimaldi's Pizzeria</td>\n",
       "      <td>4.0</td>\n",
       "      <td>NV</td>\n",
       "      <td>Las Vegas</td>\n",
       "      <td>The Strip</td>\n",
       "      <td>3327 Las Vegas Blvd S, Ste 2710</td>\n",
       "      <td>89109</td>\n",
       "      <td>...</td>\n",
       "      <td>njOy2Wo3v1ioDgvu6nR9oQ</td>\n",
       "      <td>Dine-in</td>\n",
       "      <td>0.059322</td>\n",
       "      <td>de</td>\n",
       "      <td>[Sehr gute Pizza zum selbst zusammenstellen., ...</td>\n",
       "      <td>2</td>\n",
       "      <td>118</td>\n",
       "      <td>[Sehr, gute, Pizza, zum, selbst, zusammenstell...</td>\n",
       "      <td>24</td>\n",
       "      <td>12.0</td>\n",
       "    </tr>\n",
       "  </tbody>\n",
       "</table>\n",
       "<p>1 rows × 27 columns</p>\n",
       "</div>"
      ],
      "text/plain": [
       "       valence  arousal             business_id                 name  \\\n",
       "11717     2.08     7.49  YQ--LJ7pvjiDSqNv0TuKTQ  Grimaldi's Pizzeria   \n",
       "\n",
       "       biz_stars state       city neighborhood  \\\n",
       "11717        4.0    NV  Las Vegas    The Strip   \n",
       "\n",
       "                               address postal_code   ...     \\\n",
       "11717  3327 Las Vegas Blvd S, Ste 2710       89109   ...      \n",
       "\n",
       "                      user_id     type  puncount  lan  \\\n",
       "11717  njOy2Wo3v1ioDgvu6nR9oQ  Dine-in  0.059322   de   \n",
       "\n",
       "                                               reviewsen  reviewsenlen  \\\n",
       "11717  [Sehr gute Pizza zum selbst zusammenstellen., ...             2   \n",
       "\n",
       "       reviewlen                                         reviewword  \\\n",
       "11717        118  [Sehr, gute, Pizza, zum, selbst, zusammenstell...   \n",
       "\n",
       "      reviewwordlen  avgword  \n",
       "11717            24     12.0  \n",
       "\n",
       "[1 rows x 27 columns]"
      ]
     },
     "execution_count": 42,
     "metadata": {},
     "output_type": "execute_result"
    }
   ],
   "source": [
    "df[(df['valence']<3) & (df['stars']>4) & (df['arousal']>7)]"
   ]
  },
  {
   "cell_type": "markdown",
   "metadata": {},
   "source": [
    "### NLTK Sentiment"
   ]
  },
  {
   "cell_type": "code",
   "execution_count": 43,
   "metadata": {
    "ExecuteTime": {
     "end_time": "2018-11-12T15:32:30.078928Z",
     "start_time": "2018-11-12T15:32:30.075585Z"
    }
   },
   "outputs": [],
   "source": [
    "from nltk.corpus import sentiwordnet as swn"
   ]
  },
  {
   "cell_type": "code",
   "execution_count": 44,
   "metadata": {
    "ExecuteTime": {
     "end_time": "2018-11-12T15:32:30.085758Z",
     "start_time": "2018-11-12T15:32:30.081794Z"
    }
   },
   "outputs": [],
   "source": [
    "def normalize_accented_characters(text):\n",
    "    '''\n",
    "    removes accents from characters and replaces with non-accented equivalent\n",
    "    '''\n",
    "    if type(text) != str:\n",
    "        text = (unicodedata.normalize('NFKD', text.decode('utf-8'))\n",
    "                           .encode('ascii', 'ignore'))\n",
    "    return text"
   ]
  },
  {
   "cell_type": "code",
   "execution_count": 45,
   "metadata": {
    "ExecuteTime": {
     "end_time": "2018-11-12T15:32:30.101840Z",
     "start_time": "2018-11-12T15:32:30.088328Z"
    }
   },
   "outputs": [],
   "source": [
    "def analyze_sentiment_sentiwordnet_lexicon(review, verbose=False):\n",
    "    '''\n",
    "    analyzes sentiment of text using \n",
    "    '''\n",
    "    # pre-process text\n",
    "    review = normalize_accented_characters(review)\n",
    "    \n",
    "    # tokenize and POS tag text tokens\n",
    "    text_tokens = nltk.word_tokenize(review)\n",
    "    tagged_text = nltk.pos_tag(text_tokens)\n",
    "    pos_score = neg_score = token_count = obj_score = 0\n",
    "    \n",
    "    # get wordnet synsets based on POS tags for NN, VB, JJ, RB\n",
    "    # get sentiment scores if synsets are found\n",
    "    for word, tag in tagged_text:  \n",
    "        ss_set = None\n",
    "        if 'NN' in tag and list(swn.senti_synsets(word, 'n')): # singular noun\n",
    "            ss_set = list(swn.senti_synsets(word, 'n'))[0]\n",
    "        elif 'VB' in tag and list(swn.senti_synsets(word, 'v')): # Verb\n",
    "            ss_set = list(swn.senti_synsets(word, 'v'))[0]\n",
    "        elif 'JJ' in tag and list(swn.senti_synsets(word, 'a')): # Adjective\n",
    "            ss_set = list(swn.senti_synsets(word, 'a'))[0]\n",
    "        elif 'RB' in tag and list(swn.senti_synsets(word, 'r')): # adverb\n",
    "            ss_set = list(swn.senti_synsets(word, 'r'))[0]\n",
    "        \n",
    "        # if senti-synset is found\n",
    "        if ss_set:\n",
    "            # add scores for all found synsets\n",
    "            pos_score += ss_set.pos_score()\n",
    "            neg_score += ss_set.neg_score()\n",
    "            obj_score += ss_set.obj_score()\n",
    "            token_count += 1\n",
    "        \n",
    "        # if no words have synset, return None \n",
    "        if token_count == 0:\n",
    "            return None\n",
    "        \n",
    "    # aggregate final scores\n",
    "    final_score = pos_score - neg_score\n",
    "    norm_final_score = round(float(final_score) / token_count, 2)\n",
    "    final_sentiment = 'positive' if norm_final_score >= 0 else 'negative'\n",
    "    if verbose:\n",
    "        norm_obj_score = round(float(obj_score) / token_count, 2)\n",
    "        norm_pos_score = round(float(pos_score) / token_count, 2)\n",
    "        norm_neg_score = round(float(neg_score) / token_count, 2)\n",
    "        # to display results in a nice table\n",
    "        sentiment_frame = pd.DataFrame([[final_sentiment, norm_obj_score,\n",
    "                                         norm_pos_score, norm_neg_score,\n",
    "                                         norm_final_score]],\n",
    "                                         columns=pd.MultiIndex(\n",
    "                                             levels=[['SENTIMENT STATS:'],\n",
    "                                                ['Predicted Sentiment',\n",
    "                                                 'Objectivity',\n",
    "                                                 'Positive', 'Negative',\n",
    "                                                 'Overall']],\n",
    "                                              labels=[[0,0,0,0,0],\n",
    "                                                      [0,1,2,3,4]]))\n",
    "        print(sentiment_frame)\n",
    "    return final_sentiment"
   ]
  },
  {
   "cell_type": "code",
   "execution_count": 46,
   "metadata": {
    "ExecuteTime": {
     "end_time": "2018-11-12T15:36:10.899747Z",
     "start_time": "2018-11-12T15:32:30.104756Z"
    }
   },
   "outputs": [],
   "source": [
    "# takes a while to run\n",
    "df['pred_sentiment'] = df['text'].apply(analyze_sentiment_sentiwordnet_lexicon)"
   ]
  },
  {
   "cell_type": "code",
   "execution_count": 47,
   "metadata": {
    "ExecuteTime": {
     "end_time": "2018-11-12T15:36:10.911112Z",
     "start_time": "2018-11-12T15:36:10.902560Z"
    }
   },
   "outputs": [
    {
     "data": {
      "text/plain": [
       "0    negative\n",
       "1    negative\n",
       "2    positive\n",
       "3        None\n",
       "4        None\n",
       "Name: pred_sentiment, dtype: object"
      ]
     },
     "execution_count": 47,
     "metadata": {},
     "output_type": "execute_result"
    }
   ],
   "source": [
    "df['pred_sentiment'].head()"
   ]
  },
  {
   "cell_type": "code",
   "execution_count": null,
   "metadata": {},
   "outputs": [],
   "source": []
  },
  {
   "cell_type": "code",
   "execution_count": 48,
   "metadata": {
    "ExecuteTime": {
     "end_time": "2018-11-12T15:36:10.960902Z",
     "start_time": "2018-11-12T15:36:10.914582Z"
    }
   },
   "outputs": [
    {
     "name": "stdout",
     "output_type": "stream",
     "text": [
      "total non matching: 2\n"
     ]
    },
    {
     "data": {
      "text/plain": [
       "9996     Love the environment. Great waiter Nick. Super...\n",
       "11717    Sehr gute Pizza zum selbst zusammenstellen.\\n\\...\n",
       "Name: text, dtype: object"
      ]
     },
     "execution_count": 48,
     "metadata": {},
     "output_type": "execute_result"
    }
   ],
   "source": [
    "# how many not matching\n",
    "highstarlowsent = (df.stars == 5) & (df.valence < 3)\n",
    "print('total non matching:',highstarlowsent.sum())\n",
    "df[highstarlowsent].text.head()"
   ]
  },
  {
   "cell_type": "code",
   "execution_count": 49,
   "metadata": {
    "ExecuteTime": {
     "end_time": "2018-11-12T15:36:10.971808Z",
     "start_time": "2018-11-12T15:36:10.963304Z"
    }
   },
   "outputs": [
    {
     "name": "stdout",
     "output_type": "stream",
     "text": [
      "total non matching: 14\n"
     ]
    },
    {
     "data": {
      "text/plain": [
       "'This restaurant is very dirty. Staff is never pleasant to customers, and the food is over priced.'"
      ]
     },
     "execution_count": 49,
     "metadata": {},
     "output_type": "execute_result"
    }
   ],
   "source": [
    "# how many not matching\n",
    "lowstarhighsent = (df.stars <2) & (df.valence > 7)\n",
    "print('total non matching:',lowstarhighsent.sum())\n",
    "df[lowstarhighsent].text.iloc[3]"
   ]
  },
  {
   "cell_type": "markdown",
   "metadata": {},
   "source": [
    "# Data Clean"
   ]
  },
  {
   "cell_type": "markdown",
   "metadata": {},
   "source": [
    "## Clean Function"
   ]
  },
  {
   "cell_type": "code",
   "execution_count": 50,
   "metadata": {
    "ExecuteTime": {
     "end_time": "2018-11-12T15:36:10.984786Z",
     "start_time": "2018-11-12T15:36:10.974084Z"
    }
   },
   "outputs": [],
   "source": [
    "stopwords = nltk.corpus.stopwords.words('english')\n",
    "stopwords.extend(('pizza','pizzas','would','dont','didnt'))\n",
    "string.punctuation\n",
    "nolem = []\n",
    "wn = nltk.WordNetLemmatizer()\n",
    "ps = nltk.PorterStemmer()\n",
    "\n",
    "def clean_text(text, join=False, stem='lemmatize'):\n",
    "    # lower case and remove punctuation, here word is char so need '' to join these char back\n",
    "    text = ''.join([word.lower() for word in text if word not in string.punctuation])\n",
    "    \n",
    "    text=re.sub(r'\\d+', '', text)\n",
    "    \n",
    "    # break down to tokens (single word)\n",
    "    tokens = re.split('\\W+', text)\n",
    "    \n",
    "    # special words no lemmatize, and remove stop words\n",
    "    # elif list comprehension: [if-1 condition_1 else_2 for_statement <condition_2>]\n",
    "    \n",
    "    if stem == 'lemmatize':\n",
    "        if join == True:\n",
    "            text = ' '.join([word if word in nolem else wn.lemmatize(word,'v') for word in tokens if word not in stopwords ])\n",
    "        else:\n",
    "            text = [word if word in nolem else wn.lemmatize(word,'v') for word in tokens if word not in stopwords ]\n",
    "    elif stem == 'stem':\n",
    "        if join == True:\n",
    "            text = ' '.join([word if word in nolem else ps.stem(word) for word in tokens if word not in stopwords ])\n",
    "        else:\n",
    "            text = [word if word in nolem else ps.stem(word) for word in tokens if word not in stopwords ]\n",
    "    #nostop = [word for word in tokens if word not in stopwords]\n",
    "    #text = [wn.lemmatize(word) if word not in nolem else word for word in nostop]\n",
    "    #text=[]\n",
    "    #for word in tokens:\n",
    "    #    if word in nolem:\n",
    "    #        text.append(word)\n",
    "    #    elif word not in stopwords:\n",
    "    #        text.append(wn.lemmatize(word))\n",
    "    return text"
   ]
  },
  {
   "cell_type": "code",
   "execution_count": 51,
   "metadata": {
    "ExecuteTime": {
     "end_time": "2018-11-12T15:36:25.007533Z",
     "start_time": "2018-11-12T15:36:10.987240Z"
    }
   },
   "outputs": [
    {
     "name": "stdout",
     "output_type": "stream",
     "text": [
      "CPU times: user 13.9 s, sys: 86.1 ms, total: 14 s\n",
      "Wall time: 14 s\n"
     ]
    }
   ],
   "source": [
    "df['cleaned_text']=df['text'].apply(clean_text)"
   ]
  },
  {
   "cell_type": "code",
   "execution_count": 52,
   "metadata": {
    "ExecuteTime": {
     "end_time": "2018-11-12T15:36:25.017543Z",
     "start_time": "2018-11-12T15:36:25.010383Z"
    },
    "scrolled": true
   },
   "outputs": [
    {
     "data": {
      "text/plain": [
       "0    [displease, come, later, schedule, cold, box, ...\n",
       "1    [order, location, literally, front, apartment,...\n",
       "2    [busy, place, take, good, care, right, away, w...\n",
       "3    [stop, pick, order, wing, way, home, work, go,...\n",
       "4    [night, children, every, week, last, two, time...\n",
       "Name: cleaned_text, dtype: object"
      ]
     },
     "execution_count": 52,
     "metadata": {},
     "output_type": "execute_result"
    }
   ],
   "source": [
    "df['cleaned_text'].head()"
   ]
  },
  {
   "cell_type": "markdown",
   "metadata": {},
   "source": [
    "# Supervised Learning"
   ]
  },
  {
   "cell_type": "code",
   "execution_count": 53,
   "metadata": {
    "ExecuteTime": {
     "end_time": "2018-11-12T15:36:25.666603Z",
     "start_time": "2018-11-12T15:36:25.019878Z"
    }
   },
   "outputs": [],
   "source": [
    "from collections import defaultdict\n",
    "import gensim\n",
    "import polyglot\n",
    "from sklearn.model_selection import train_test_split\n",
    "from sklearn.feature_extraction.text import CountVectorizer\n",
    "from sklearn.feature_extraction.text import TfidfVectorizer\n",
    "from sklearn.cluster import KMeans\n",
    "ner_categories = defaultdict(int)"
   ]
  },
  {
   "cell_type": "markdown",
   "metadata": {},
   "source": [
    "## Train test split"
   ]
  },
  {
   "cell_type": "code",
   "execution_count": 54,
   "metadata": {
    "ExecuteTime": {
     "end_time": "2018-11-12T15:36:25.675014Z",
     "start_time": "2018-11-12T15:36:25.669041Z"
    }
   },
   "outputs": [
    {
     "data": {
      "application/javascript": [
       "$(document).ready(\n",
       "    function() {\n",
       "        function appendUniqueDiv(){\n",
       "            // append a div with our uuid so we can check that it's already\n",
       "            // been sent and avoid duplicates on page reload\n",
       "            var notifiedDiv = document.createElement(\"div\")\n",
       "            notifiedDiv.id = \"bc50cd6d-a6a0-4efc-9909-534592c84e2d\"\n",
       "            element.append(notifiedDiv)\n",
       "        }\n",
       "\n",
       "        // only send notifications if the pageload is complete; this will\n",
       "        // help stop extra notifications when a saved notebook is loaded,\n",
       "        // which during testing gives us state \"interactive\", not \"complete\"\n",
       "        if (document.readyState === 'complete') {\n",
       "            // check for the div that signifies that the notification\n",
       "            // was already sent\n",
       "            if (document.getElementById(\"bc50cd6d-a6a0-4efc-9909-534592c84e2d\") === null) {\n",
       "                var notificationPayload = {\"requireInteraction\": false, \"icon\": \"/static/base/images/favicon.ico\", \"body\": \"Cell execution has finished!\"};\n",
       "                if (Notification.permission !== 'denied') {\n",
       "                    if (Notification.permission !== 'granted') { \n",
       "                        Notification.requestPermission(function (permission) {\n",
       "                            if(!('permission' in Notification)) {\n",
       "                                Notification.permission = permission\n",
       "                            }\n",
       "                        })\n",
       "                    }\n",
       "                    if (Notification.permission === 'granted') {\n",
       "                    var notification = new Notification(\"Jupyter Notebook\", notificationPayload)\n",
       "                    appendUniqueDiv()\n",
       "                    notification.onclick = function () {\n",
       "                        window.focus();\n",
       "                        this.close();\n",
       "                        };\n",
       "                    } \n",
       "                }     \n",
       "            }\n",
       "        }\n",
       "    }\n",
       ")\n"
      ],
      "text/plain": [
       "<IPython.core.display.Javascript object>"
      ]
     },
     "metadata": {},
     "output_type": "display_data"
    }
   ],
   "source": [
    "%%notify\n",
    "y = df['stars']"
   ]
  },
  {
   "cell_type": "code",
   "execution_count": 55,
   "metadata": {
    "ExecuteTime": {
     "end_time": "2018-11-12T15:36:25.687301Z",
     "start_time": "2018-11-12T15:36:25.677429Z"
    }
   },
   "outputs": [],
   "source": [
    "X_train, X_test, y_train, y_test = train_test_split(df['text'], y,\n",
    "                                                    test_size=0.3,\n",
    "                                                    random_state=42)"
   ]
  },
  {
   "cell_type": "markdown",
   "metadata": {},
   "source": [
    "## Count Vectorizer"
   ]
  },
  {
   "cell_type": "code",
   "execution_count": 56,
   "metadata": {
    "ExecuteTime": {
     "end_time": "2018-11-12T15:36:40.843747Z",
     "start_time": "2018-11-12T15:36:25.689942Z"
    }
   },
   "outputs": [
    {
     "name": "stdout",
     "output_type": "stream",
     "text": [
      "CPU times: user 10.4 s, sys: 75 ms, total: 10.4 s\n",
      "Wall time: 10.5 s\n",
      "CPU times: user 4.57 s, sys: 39.9 ms, total: 4.61 s\n",
      "Wall time: 4.64 s\n"
     ]
    }
   ],
   "source": [
    "count_vectorizer = CountVectorizer(analyzer=clean_text)\n",
    "count_train = count_vectorizer.fit_transform(X_train)\n",
    "count_test = count_vectorizer.transform(X_test)"
   ]
  },
  {
   "cell_type": "code",
   "execution_count": 57,
   "metadata": {
    "ExecuteTime": {
     "end_time": "2018-11-12T15:36:40.872606Z",
     "start_time": "2018-11-12T15:36:40.846787Z"
    }
   },
   "outputs": [
    {
     "name": "stdout",
     "output_type": "stream",
     "text": [
      "['', 'aa', 'aaaaaaaaye', 'aaaaaahhhh', 'aaaaand', 'aaaahhh', 'aaawwwwesucks', 'aaron', 'aback', 'abandon']\n"
     ]
    }
   ],
   "source": [
    "print(count_vectorizer.get_feature_names()[:10])"
   ]
  },
  {
   "cell_type": "markdown",
   "metadata": {},
   "source": [
    "## TFIDF Vectorizer"
   ]
  },
  {
   "cell_type": "code",
   "execution_count": 58,
   "metadata": {
    "ExecuteTime": {
     "end_time": "2018-11-12T15:36:56.237079Z",
     "start_time": "2018-11-12T15:36:40.876002Z"
    }
   },
   "outputs": [],
   "source": [
    "# Initialize a TfidfVectorizer object: tfidf_vectorizer\n",
    "tfidf_vectorizer = TfidfVectorizer(analyzer=clean_text)\n",
    "\n",
    "# Transform the training data: tfidf_train \n",
    "tfidf_train = tfidf_vectorizer.fit_transform(X_train)\n",
    "\n",
    "# Transform the test data: tfidf_test \n",
    "tfidf_test = tfidf_vectorizer.transform(X_test)"
   ]
  },
  {
   "cell_type": "code",
   "execution_count": 59,
   "metadata": {
    "ExecuteTime": {
     "end_time": "2018-11-12T15:36:56.279783Z",
     "start_time": "2018-11-12T15:36:56.239759Z"
    },
    "scrolled": true
   },
   "outputs": [
    {
     "name": "stdout",
     "output_type": "stream",
     "text": [
      "['', 'aa', 'aaaaaaaaye', 'aaaaaahhhh', 'aaaaand', 'aaaahhh', 'aaawwwwesucks', 'aaron', 'aback', 'abandon']\n",
      "['zusammenstellen', 'zzzzz', '¼', 'à', 'ça', 'è', 'écopé', 'était', 'été', 'évidemment']\n"
     ]
    }
   ],
   "source": [
    "print(tfidf_vectorizer.get_feature_names()[:10])\n",
    "print(tfidf_vectorizer.get_feature_names()[-10:])"
   ]
  },
  {
   "cell_type": "markdown",
   "metadata": {},
   "source": [
    "## Naive Bayes"
   ]
  },
  {
   "cell_type": "markdown",
   "metadata": {},
   "source": [
    "### Count Vect"
   ]
  },
  {
   "cell_type": "code",
   "execution_count": 60,
   "metadata": {
    "ExecuteTime": {
     "end_time": "2018-11-12T15:36:56.289075Z",
     "start_time": "2018-11-12T15:36:56.282615Z"
    }
   },
   "outputs": [],
   "source": [
    "from sklearn.naive_bayes import MultinomialNB\n",
    "from sklearn import metrics"
   ]
  },
  {
   "cell_type": "code",
   "execution_count": 61,
   "metadata": {
    "ExecuteTime": {
     "end_time": "2018-11-12T15:36:56.330716Z",
     "start_time": "2018-11-12T15:36:56.291515Z"
    }
   },
   "outputs": [
    {
     "name": "stdout",
     "output_type": "stream",
     "text": [
      "0.618324272465622\n",
      "confusion matrix:\n",
      " [[1638   79   38   53   45]\n",
      " [ 268   70   73   84   44]\n",
      " [ 151   37  101  256  108]\n",
      " [  94   18   35  508  594]\n",
      " [ 137    4    6  263 1550]]\n"
     ]
    }
   ],
   "source": [
    "nb_classifier = MultinomialNB()\n",
    "nb_classifier.fit(count_train, y_train)\n",
    "pred = nb_classifier.predict(count_test)\n",
    "print(metrics.accuracy_score(y_test, pred))\n",
    "print('confusion matrix:\\n',metrics.confusion_matrix(y_test, pred, labels=[1,2,3,4,5]))"
   ]
  },
  {
   "cell_type": "markdown",
   "metadata": {},
   "source": [
    "### TFIDF vect"
   ]
  },
  {
   "cell_type": "code",
   "execution_count": 62,
   "metadata": {
    "ExecuteTime": {
     "end_time": "2018-11-12T15:36:56.361925Z",
     "start_time": "2018-11-12T15:36:56.333911Z"
    }
   },
   "outputs": [
    {
     "name": "stdout",
     "output_type": "stream",
     "text": [
      "0.5738727214582667\n",
      "[[1736    0    0    1  116]\n",
      " [ 365    0    0   11  163]\n",
      " [ 216    0    0   25  412]\n",
      " [ 115    1    0   15 1118]\n",
      " [ 119    0    0    3 1838]]\n"
     ]
    }
   ],
   "source": [
    "nb_tfidf_classifier = MultinomialNB()\n",
    "nb_tfidf_classifier.fit(tfidf_train, y_train)\n",
    "pred_tfidf=nb_tfidf_classifier.predict(tfidf_test)\n",
    "print(metrics.accuracy_score(y_test,pred_tfidf))\n",
    "print(metrics.confusion_matrix(y_test,pred_tfidf,labels=[1,2,3,4,5]))"
   ]
  },
  {
   "cell_type": "code",
   "execution_count": 63,
   "metadata": {
    "ExecuteTime": {
     "end_time": "2018-11-12T15:36:56.368155Z",
     "start_time": "2018-11-12T15:36:56.364891Z"
    }
   },
   "outputs": [],
   "source": [
    "alphas = np.arange(0,1,0.1)"
   ]
  },
  {
   "cell_type": "code",
   "execution_count": 64,
   "metadata": {
    "ExecuteTime": {
     "end_time": "2018-11-12T15:36:56.565790Z",
     "start_time": "2018-11-12T15:36:56.371337Z"
    }
   },
   "outputs": [
    {
     "name": "stdout",
     "output_type": "stream",
     "text": [
      "Alpha:  0.0\n",
      "Score:  0.5567636712503997\n",
      "\n",
      "Alpha:  0.1\n",
      "Score:  0.6044131755676367\n",
      "\n",
      "Alpha:  0.2\n",
      "Score:  0.5989766549408378\n",
      "\n",
      "Alpha:  0.30000000000000004\n",
      "Score:  0.5929005436520627\n",
      "\n",
      "Alpha:  0.4\n",
      "Score:  0.5889031020147106\n",
      "\n",
      "Alpha:  0.5\n",
      "Score:  0.5842660697153822\n",
      "\n",
      "Alpha:  0.6000000000000001\n",
      "Score:  0.5810681164055005\n",
      "\n",
      "Alpha:  0.7000000000000001\n",
      "Score:  0.5786696514230892\n",
      "\n",
      "Alpha:  0.8\n",
      "Score:  0.5769107771026543\n",
      "\n",
      "Alpha:  0.9\n",
      "Score:  0.5749920051167253\n",
      "\n"
     ]
    },
    {
     "name": "stderr",
     "output_type": "stream",
     "text": [
      "/anaconda3/lib/python3.6/site-packages/sklearn/naive_bayes.py:472: UserWarning: alpha too small will result in numeric errors, setting alpha = 1.0e-10\n",
      "  'setting alpha = %.1e' % _ALPHA_MIN)\n"
     ]
    }
   ],
   "source": [
    "# Define train_and_predict()\n",
    "def train_and_predict(alpha):\n",
    "    # Instantiate the classifier: nb_classifier\n",
    "    nb_classifier = MultinomialNB(alpha=alpha)\n",
    "    # Fit to the training data\n",
    "    nb_classifier.fit(tfidf_train,y_train)\n",
    "    # Predict the labels: pred\n",
    "    pred = nb_classifier.predict(tfidf_test)\n",
    "    # Compute accuracy: score\n",
    "    score = metrics.accuracy_score(y_test, pred)\n",
    "    return score\n",
    "\n",
    "# Iterate over the alphas and print the corresponding score\n",
    "for alpha in alphas:\n",
    "    print('Alpha: ', alpha)\n",
    "    print('Score: ', train_and_predict(alpha))\n",
    "    print()"
   ]
  },
  {
   "cell_type": "code",
   "execution_count": 65,
   "metadata": {
    "ExecuteTime": {
     "end_time": "2018-11-12T15:36:56.585464Z",
     "start_time": "2018-11-12T15:36:56.569123Z"
    }
   },
   "outputs": [
    {
     "data": {
      "text/plain": [
       "array([1, 2, 3, 4, 5])"
      ]
     },
     "execution_count": 65,
     "metadata": {},
     "output_type": "execute_result"
    }
   ],
   "source": [
    "nb_classifier.classes_"
   ]
  },
  {
   "cell_type": "code",
   "execution_count": 66,
   "metadata": {
    "ExecuteTime": {
     "end_time": "2018-11-12T15:36:56.646401Z",
     "start_time": "2018-11-12T15:36:56.588533Z"
    }
   },
   "outputs": [
    {
     "name": "stdout",
     "output_type": "stream",
     "text": [
      "1 [(-12.368395555817438, 'aa'), (-12.368395555817438, 'aaaaaaaaye'), (-12.368395555817438, 'aaaaaahhhh'), (-12.368395555817438, 'aaaaand'), (-12.368395555817438, 'aback'), (-12.368395555817438, 'abatt'), (-12.368395555817438, 'abbiamo'), (-12.368395555817438, 'abby'), (-12.368395555817438, 'abide'), (-12.368395555817438, 'abigail'), (-12.368395555817438, 'abita'), (-12.368395555817438, 'abject'), (-12.368395555817438, 'abnormally'), (-12.368395555817438, 'abomination'), (-12.368395555817438, 'abominations'), (-12.368395555817438, 'aboutb'), (-12.368395555817438, 'abouthenceforth'), (-12.368395555817438, 'aboutits'), (-12.368395555817438, 'abovementioned'), (-12.368395555817438, 'abram')]\n",
      "2 [(-5.117760043918758, 'manager'), (-5.095302959817916, 'make'), (-5.086321897723973, 'location'), (-5.07130455065702, 'delivery'), (-5.054508724183976, 'wait'), (-5.041272263558145, 'take'), (-5.030157405751849, 'back'), (-5.025616366485592, 'give'), (-5.014673225417806, 'never'), (-4.985027408825054, 'one'), (-4.976363988302847, 'service'), (-4.88010204065801, 'minutes'), (-4.817734312712102, 'tell'), (-4.789227588421362, 'place'), (-4.613914008347055, 'go'), (-4.469613198847129, 'say'), (-4.407025354097927, 'time'), (-4.369724194801662, 'call'), (-4.29468091470758, 'get'), (-3.4793629839426963, 'order')]\n"
     ]
    }
   ],
   "source": [
    "# Get the class labels: class_labels\n",
    "class_labels = nb_classifier.classes_\n",
    "\n",
    "# Extract the features: feature_names\n",
    "feature_names = tfidf_vectorizer.get_feature_names()\n",
    "\n",
    "# Zip the feature names together with the coefficient array and sort by weights: feat_with_weights\n",
    "feat_with_weights = sorted(zip(nb_classifier.coef_[0], feature_names))\n",
    "\n",
    "# Print the first class label and the top 20 feat_with_weights entries\n",
    "print(class_labels[0], feat_with_weights[:20])\n",
    "\n",
    "# Print the second class label and the bottom 20 feat_with_weights entries\n",
    "print(class_labels[1], feat_with_weights[-20:])"
   ]
  },
  {
   "cell_type": "markdown",
   "metadata": {},
   "source": [
    "## SVM"
   ]
  },
  {
   "cell_type": "code",
   "execution_count": 67,
   "metadata": {
    "ExecuteTime": {
     "end_time": "2018-11-12T15:36:56.653584Z",
     "start_time": "2018-11-12T15:36:56.649549Z"
    }
   },
   "outputs": [],
   "source": [
    "from sklearn.linear_model import SGDClassifier\n",
    "svm=SGDClassifier(loss='hinge',max_iter=500)"
   ]
  },
  {
   "cell_type": "code",
   "execution_count": 68,
   "metadata": {
    "ExecuteTime": {
     "end_time": "2018-11-12T15:37:04.515397Z",
     "start_time": "2018-11-12T15:36:56.657127Z"
    },
    "scrolled": false
   },
   "outputs": [
    {
     "name": "stdout",
     "output_type": "stream",
     "text": [
      "0.6499840102334505\n"
     ]
    },
    {
     "data": {
      "text/html": [
       "<div>\n",
       "<style scoped>\n",
       "    .dataframe tbody tr th:only-of-type {\n",
       "        vertical-align: middle;\n",
       "    }\n",
       "\n",
       "    .dataframe tbody tr th {\n",
       "        vertical-align: top;\n",
       "    }\n",
       "\n",
       "    .dataframe thead th {\n",
       "        text-align: right;\n",
       "    }\n",
       "</style>\n",
       "<table border=\"1\" class=\"dataframe\">\n",
       "  <thead>\n",
       "    <tr style=\"text-align: right;\">\n",
       "      <th></th>\n",
       "      <th>1</th>\n",
       "      <th>2</th>\n",
       "      <th>3</th>\n",
       "      <th>4</th>\n",
       "      <th>5</th>\n",
       "    </tr>\n",
       "  </thead>\n",
       "  <tbody>\n",
       "    <tr>\n",
       "      <th>1</th>\n",
       "      <td>1743</td>\n",
       "      <td>25</td>\n",
       "      <td>18</td>\n",
       "      <td>25</td>\n",
       "      <td>42</td>\n",
       "    </tr>\n",
       "    <tr>\n",
       "      <th>2</th>\n",
       "      <td>336</td>\n",
       "      <td>60</td>\n",
       "      <td>49</td>\n",
       "      <td>46</td>\n",
       "      <td>48</td>\n",
       "    </tr>\n",
       "    <tr>\n",
       "      <th>3</th>\n",
       "      <td>157</td>\n",
       "      <td>35</td>\n",
       "      <td>131</td>\n",
       "      <td>196</td>\n",
       "      <td>134</td>\n",
       "    </tr>\n",
       "    <tr>\n",
       "      <th>4</th>\n",
       "      <td>75</td>\n",
       "      <td>19</td>\n",
       "      <td>61</td>\n",
       "      <td>385</td>\n",
       "      <td>709</td>\n",
       "    </tr>\n",
       "    <tr>\n",
       "      <th>5</th>\n",
       "      <td>58</td>\n",
       "      <td>3</td>\n",
       "      <td>14</td>\n",
       "      <td>139</td>\n",
       "      <td>1746</td>\n",
       "    </tr>\n",
       "  </tbody>\n",
       "</table>\n",
       "</div>"
      ],
      "text/plain": [
       "      1   2    3    4     5\n",
       "1  1743  25   18   25    42\n",
       "2   336  60   49   46    48\n",
       "3   157  35  131  196   134\n",
       "4    75  19   61  385   709\n",
       "5    58   3   14  139  1746"
      ]
     },
     "execution_count": 68,
     "metadata": {},
     "output_type": "execute_result"
    }
   ],
   "source": [
    "svm.fit(tfidf_train, y_train)\n",
    "pred_svm=svm.predict(tfidf_test)\n",
    "print(metrics.accuracy_score(y_test,pred_svm))\n",
    "pd.DataFrame(metrics.confusion_matrix(y_test,pred_svm,labels=[1,2,3,4,5]),\n",
    "            index=range(1,6),\n",
    "            columns=range(1,6))"
   ]
  },
  {
   "cell_type": "code",
   "execution_count": 69,
   "metadata": {
    "ExecuteTime": {
     "end_time": "2018-11-12T15:37:04.523695Z",
     "start_time": "2018-11-12T15:37:04.518238Z"
    },
    "scrolled": true
   },
   "outputs": [
    {
     "data": {
      "text/plain": [
       "Index(['valence', 'arousal', 'business_id', 'name', 'biz_stars', 'state',\n",
       "       'city', 'neighborhood', 'address', 'postal_code', 'review_id', 'text',\n",
       "       'date', 'cool', 'funny', 'useful', 'stars', 'user_id', 'type',\n",
       "       'puncount', 'lan', 'reviewsen', 'reviewsenlen', 'reviewlen',\n",
       "       'reviewword', 'reviewwordlen', 'avgword', 'pred_sentiment',\n",
       "       'cleaned_text'],\n",
       "      dtype='object')"
      ]
     },
     "execution_count": 69,
     "metadata": {},
     "output_type": "execute_result"
    }
   ],
   "source": [
    "df.columns"
   ]
  },
  {
   "cell_type": "code",
   "execution_count": 74,
   "metadata": {
    "ExecuteTime": {
     "end_time": "2018-11-12T15:37:48.118295Z",
     "start_time": "2018-11-12T15:37:48.108616Z"
    }
   },
   "outputs": [],
   "source": [
    "X_strain, X_stest, y_strain, y_stest = train_test_split(df[['valence','arousal']], y,\n",
    "                                                    test_size=0.3,\n",
    "                                                    random_state=42)"
   ]
  },
  {
   "cell_type": "code",
   "execution_count": 75,
   "metadata": {
    "ExecuteTime": {
     "end_time": "2018-11-12T15:37:50.258515Z",
     "start_time": "2018-11-12T15:37:50.255376Z"
    }
   },
   "outputs": [],
   "source": [
    "s_svm=SGDClassifier(loss='hinge',max_iter=500)"
   ]
  },
  {
   "cell_type": "code",
   "execution_count": 76,
   "metadata": {
    "ExecuteTime": {
     "end_time": "2018-11-12T15:37:54.249320Z",
     "start_time": "2018-11-12T15:37:52.430225Z"
    },
    "scrolled": true
   },
   "outputs": [
    {
     "name": "stdout",
     "output_type": "stream",
     "text": [
      "0.4774544291653342\n",
      "      1  2  3   4     5\n",
      "1  1457  0  0  57   339\n",
      "2   340  0  0  19   180\n",
      "3   294  0  0  28   331\n",
      "4   374  0  0  58   817\n",
      "5   431  0  0  58  1471\n",
      "0.4798503166378814\n"
     ]
    }
   ],
   "source": [
    "s_svm.fit(X_strain, y_strain)\n",
    "s_pred_svm=s_svm.predict(X_stest)\n",
    "print(metrics.accuracy_score(y_stest,s_pred_svm))\n",
    "print(pd.DataFrame(metrics.confusion_matrix(y_stest,s_pred_svm,labels=[1,2,3,4,5]),\n",
    "            index=range(1,6),\n",
    "            columns=range(1,6)))\n",
    "print(metrics.accuracy_score(y,s_svm.predict(df[['valence','arousal']])))"
   ]
  },
  {
   "cell_type": "markdown",
   "metadata": {},
   "source": [
    "## save scoring result to 'model_star'"
   ]
  },
  {
   "cell_type": "code",
   "execution_count": 77,
   "metadata": {
    "ExecuteTime": {
     "end_time": "2018-11-12T15:38:11.509528Z",
     "start_time": "2018-11-12T15:37:56.485941Z"
    }
   },
   "outputs": [],
   "source": [
    "df['model_star']=svm.predict(tfidf_vectorizer.transform(df['text']))"
   ]
  },
  {
   "cell_type": "code",
   "execution_count": 70,
   "metadata": {
    "ExecuteTime": {
     "end_time": "2018-11-12T15:37:05.171868Z",
     "start_time": "2018-11-12T15:37:04.526717Z"
    }
   },
   "outputs": [
    {
     "ename": "KeyError",
     "evalue": "'model_star'",
     "output_type": "error",
     "traceback": [
      "\u001b[0;31m---------------------------------------------------------------------------\u001b[0m",
      "\u001b[0;31mKeyError\u001b[0m                                  Traceback (most recent call last)",
      "\u001b[0;32m/anaconda3/lib/python3.6/site-packages/pandas/core/indexes/base.py\u001b[0m in \u001b[0;36mget_loc\u001b[0;34m(self, key, method, tolerance)\u001b[0m\n\u001b[1;32m   3077\u001b[0m             \u001b[0;32mtry\u001b[0m\u001b[0;34m:\u001b[0m\u001b[0;34m\u001b[0m\u001b[0m\n\u001b[0;32m-> 3078\u001b[0;31m                 \u001b[0;32mreturn\u001b[0m \u001b[0mself\u001b[0m\u001b[0;34m.\u001b[0m\u001b[0m_engine\u001b[0m\u001b[0;34m.\u001b[0m\u001b[0mget_loc\u001b[0m\u001b[0;34m(\u001b[0m\u001b[0mkey\u001b[0m\u001b[0;34m)\u001b[0m\u001b[0;34m\u001b[0m\u001b[0m\n\u001b[0m\u001b[1;32m   3079\u001b[0m             \u001b[0;32mexcept\u001b[0m \u001b[0mKeyError\u001b[0m\u001b[0;34m:\u001b[0m\u001b[0;34m\u001b[0m\u001b[0m\n",
      "\u001b[0;32mpandas/_libs/index.pyx\u001b[0m in \u001b[0;36mpandas._libs.index.IndexEngine.get_loc\u001b[0;34m()\u001b[0m\n",
      "\u001b[0;32mpandas/_libs/index.pyx\u001b[0m in \u001b[0;36mpandas._libs.index.IndexEngine.get_loc\u001b[0;34m()\u001b[0m\n",
      "\u001b[0;32mpandas/_libs/hashtable_class_helper.pxi\u001b[0m in \u001b[0;36mpandas._libs.hashtable.PyObjectHashTable.get_item\u001b[0;34m()\u001b[0m\n",
      "\u001b[0;32mpandas/_libs/hashtable_class_helper.pxi\u001b[0m in \u001b[0;36mpandas._libs.hashtable.PyObjectHashTable.get_item\u001b[0;34m()\u001b[0m\n",
      "\u001b[0;31mKeyError\u001b[0m: 'model_star'",
      "\nDuring handling of the above exception, another exception occurred:\n",
      "\u001b[0;31mKeyError\u001b[0m                                  Traceback (most recent call last)",
      "\u001b[0;32m<ipython-input-70-f1a7e132d612>\u001b[0m in \u001b[0;36m<module>\u001b[0;34m()\u001b[0m\n\u001b[0;32m----> 1\u001b[0;31m \u001b[0mdf\u001b[0m\u001b[0;34m[\u001b[0m\u001b[0;34m'missalign'\u001b[0m\u001b[0;34m]\u001b[0m\u001b[0;34m=\u001b[0m\u001b[0mdf\u001b[0m\u001b[0;34m[\u001b[0m\u001b[0;34m'model_star'\u001b[0m\u001b[0;34m]\u001b[0m\u001b[0;34m<\u001b[0m\u001b[0mdf\u001b[0m\u001b[0;34m[\u001b[0m\u001b[0;34m'stars'\u001b[0m\u001b[0;34m]\u001b[0m\u001b[0;34m\u001b[0m\u001b[0m\n\u001b[0m",
      "\u001b[0;32m/anaconda3/lib/python3.6/site-packages/pandas/core/frame.py\u001b[0m in \u001b[0;36m__getitem__\u001b[0;34m(self, key)\u001b[0m\n\u001b[1;32m   2686\u001b[0m             \u001b[0;32mreturn\u001b[0m \u001b[0mself\u001b[0m\u001b[0;34m.\u001b[0m\u001b[0m_getitem_multilevel\u001b[0m\u001b[0;34m(\u001b[0m\u001b[0mkey\u001b[0m\u001b[0;34m)\u001b[0m\u001b[0;34m\u001b[0m\u001b[0m\n\u001b[1;32m   2687\u001b[0m         \u001b[0;32melse\u001b[0m\u001b[0;34m:\u001b[0m\u001b[0;34m\u001b[0m\u001b[0m\n\u001b[0;32m-> 2688\u001b[0;31m             \u001b[0;32mreturn\u001b[0m \u001b[0mself\u001b[0m\u001b[0;34m.\u001b[0m\u001b[0m_getitem_column\u001b[0m\u001b[0;34m(\u001b[0m\u001b[0mkey\u001b[0m\u001b[0;34m)\u001b[0m\u001b[0;34m\u001b[0m\u001b[0m\n\u001b[0m\u001b[1;32m   2689\u001b[0m \u001b[0;34m\u001b[0m\u001b[0m\n\u001b[1;32m   2690\u001b[0m     \u001b[0;32mdef\u001b[0m \u001b[0m_getitem_column\u001b[0m\u001b[0;34m(\u001b[0m\u001b[0mself\u001b[0m\u001b[0;34m,\u001b[0m \u001b[0mkey\u001b[0m\u001b[0;34m)\u001b[0m\u001b[0;34m:\u001b[0m\u001b[0;34m\u001b[0m\u001b[0m\n",
      "\u001b[0;32m/anaconda3/lib/python3.6/site-packages/pandas/core/frame.py\u001b[0m in \u001b[0;36m_getitem_column\u001b[0;34m(self, key)\u001b[0m\n\u001b[1;32m   2693\u001b[0m         \u001b[0;31m# get column\u001b[0m\u001b[0;34m\u001b[0m\u001b[0;34m\u001b[0m\u001b[0m\n\u001b[1;32m   2694\u001b[0m         \u001b[0;32mif\u001b[0m \u001b[0mself\u001b[0m\u001b[0;34m.\u001b[0m\u001b[0mcolumns\u001b[0m\u001b[0;34m.\u001b[0m\u001b[0mis_unique\u001b[0m\u001b[0;34m:\u001b[0m\u001b[0;34m\u001b[0m\u001b[0m\n\u001b[0;32m-> 2695\u001b[0;31m             \u001b[0;32mreturn\u001b[0m \u001b[0mself\u001b[0m\u001b[0;34m.\u001b[0m\u001b[0m_get_item_cache\u001b[0m\u001b[0;34m(\u001b[0m\u001b[0mkey\u001b[0m\u001b[0;34m)\u001b[0m\u001b[0;34m\u001b[0m\u001b[0m\n\u001b[0m\u001b[1;32m   2696\u001b[0m \u001b[0;34m\u001b[0m\u001b[0m\n\u001b[1;32m   2697\u001b[0m         \u001b[0;31m# duplicate columns & possible reduce dimensionality\u001b[0m\u001b[0;34m\u001b[0m\u001b[0;34m\u001b[0m\u001b[0m\n",
      "\u001b[0;32m/anaconda3/lib/python3.6/site-packages/pandas/core/generic.py\u001b[0m in \u001b[0;36m_get_item_cache\u001b[0;34m(self, item)\u001b[0m\n\u001b[1;32m   2487\u001b[0m         \u001b[0mres\u001b[0m \u001b[0;34m=\u001b[0m \u001b[0mcache\u001b[0m\u001b[0;34m.\u001b[0m\u001b[0mget\u001b[0m\u001b[0;34m(\u001b[0m\u001b[0mitem\u001b[0m\u001b[0;34m)\u001b[0m\u001b[0;34m\u001b[0m\u001b[0m\n\u001b[1;32m   2488\u001b[0m         \u001b[0;32mif\u001b[0m \u001b[0mres\u001b[0m \u001b[0;32mis\u001b[0m \u001b[0;32mNone\u001b[0m\u001b[0;34m:\u001b[0m\u001b[0;34m\u001b[0m\u001b[0m\n\u001b[0;32m-> 2489\u001b[0;31m             \u001b[0mvalues\u001b[0m \u001b[0;34m=\u001b[0m \u001b[0mself\u001b[0m\u001b[0;34m.\u001b[0m\u001b[0m_data\u001b[0m\u001b[0;34m.\u001b[0m\u001b[0mget\u001b[0m\u001b[0;34m(\u001b[0m\u001b[0mitem\u001b[0m\u001b[0;34m)\u001b[0m\u001b[0;34m\u001b[0m\u001b[0m\n\u001b[0m\u001b[1;32m   2490\u001b[0m             \u001b[0mres\u001b[0m \u001b[0;34m=\u001b[0m \u001b[0mself\u001b[0m\u001b[0;34m.\u001b[0m\u001b[0m_box_item_values\u001b[0m\u001b[0;34m(\u001b[0m\u001b[0mitem\u001b[0m\u001b[0;34m,\u001b[0m \u001b[0mvalues\u001b[0m\u001b[0;34m)\u001b[0m\u001b[0;34m\u001b[0m\u001b[0m\n\u001b[1;32m   2491\u001b[0m             \u001b[0mcache\u001b[0m\u001b[0;34m[\u001b[0m\u001b[0mitem\u001b[0m\u001b[0;34m]\u001b[0m \u001b[0;34m=\u001b[0m \u001b[0mres\u001b[0m\u001b[0;34m\u001b[0m\u001b[0m\n",
      "\u001b[0;32m/anaconda3/lib/python3.6/site-packages/pandas/core/internals.py\u001b[0m in \u001b[0;36mget\u001b[0;34m(self, item, fastpath)\u001b[0m\n\u001b[1;32m   4113\u001b[0m \u001b[0;34m\u001b[0m\u001b[0m\n\u001b[1;32m   4114\u001b[0m             \u001b[0;32mif\u001b[0m \u001b[0;32mnot\u001b[0m \u001b[0misna\u001b[0m\u001b[0;34m(\u001b[0m\u001b[0mitem\u001b[0m\u001b[0;34m)\u001b[0m\u001b[0;34m:\u001b[0m\u001b[0;34m\u001b[0m\u001b[0m\n\u001b[0;32m-> 4115\u001b[0;31m                 \u001b[0mloc\u001b[0m \u001b[0;34m=\u001b[0m \u001b[0mself\u001b[0m\u001b[0;34m.\u001b[0m\u001b[0mitems\u001b[0m\u001b[0;34m.\u001b[0m\u001b[0mget_loc\u001b[0m\u001b[0;34m(\u001b[0m\u001b[0mitem\u001b[0m\u001b[0;34m)\u001b[0m\u001b[0;34m\u001b[0m\u001b[0m\n\u001b[0m\u001b[1;32m   4116\u001b[0m             \u001b[0;32melse\u001b[0m\u001b[0;34m:\u001b[0m\u001b[0;34m\u001b[0m\u001b[0m\n\u001b[1;32m   4117\u001b[0m                 \u001b[0mindexer\u001b[0m \u001b[0;34m=\u001b[0m \u001b[0mnp\u001b[0m\u001b[0;34m.\u001b[0m\u001b[0marange\u001b[0m\u001b[0;34m(\u001b[0m\u001b[0mlen\u001b[0m\u001b[0;34m(\u001b[0m\u001b[0mself\u001b[0m\u001b[0;34m.\u001b[0m\u001b[0mitems\u001b[0m\u001b[0;34m)\u001b[0m\u001b[0;34m)\u001b[0m\u001b[0;34m[\u001b[0m\u001b[0misna\u001b[0m\u001b[0;34m(\u001b[0m\u001b[0mself\u001b[0m\u001b[0;34m.\u001b[0m\u001b[0mitems\u001b[0m\u001b[0;34m)\u001b[0m\u001b[0;34m]\u001b[0m\u001b[0;34m\u001b[0m\u001b[0m\n",
      "\u001b[0;32m/anaconda3/lib/python3.6/site-packages/pandas/core/indexes/base.py\u001b[0m in \u001b[0;36mget_loc\u001b[0;34m(self, key, method, tolerance)\u001b[0m\n\u001b[1;32m   3078\u001b[0m                 \u001b[0;32mreturn\u001b[0m \u001b[0mself\u001b[0m\u001b[0;34m.\u001b[0m\u001b[0m_engine\u001b[0m\u001b[0;34m.\u001b[0m\u001b[0mget_loc\u001b[0m\u001b[0;34m(\u001b[0m\u001b[0mkey\u001b[0m\u001b[0;34m)\u001b[0m\u001b[0;34m\u001b[0m\u001b[0m\n\u001b[1;32m   3079\u001b[0m             \u001b[0;32mexcept\u001b[0m \u001b[0mKeyError\u001b[0m\u001b[0;34m:\u001b[0m\u001b[0;34m\u001b[0m\u001b[0m\n\u001b[0;32m-> 3080\u001b[0;31m                 \u001b[0;32mreturn\u001b[0m \u001b[0mself\u001b[0m\u001b[0;34m.\u001b[0m\u001b[0m_engine\u001b[0m\u001b[0;34m.\u001b[0m\u001b[0mget_loc\u001b[0m\u001b[0;34m(\u001b[0m\u001b[0mself\u001b[0m\u001b[0;34m.\u001b[0m\u001b[0m_maybe_cast_indexer\u001b[0m\u001b[0;34m(\u001b[0m\u001b[0mkey\u001b[0m\u001b[0;34m)\u001b[0m\u001b[0;34m)\u001b[0m\u001b[0;34m\u001b[0m\u001b[0m\n\u001b[0m\u001b[1;32m   3081\u001b[0m \u001b[0;34m\u001b[0m\u001b[0m\n\u001b[1;32m   3082\u001b[0m         \u001b[0mindexer\u001b[0m \u001b[0;34m=\u001b[0m \u001b[0mself\u001b[0m\u001b[0;34m.\u001b[0m\u001b[0mget_indexer\u001b[0m\u001b[0;34m(\u001b[0m\u001b[0;34m[\u001b[0m\u001b[0mkey\u001b[0m\u001b[0;34m]\u001b[0m\u001b[0;34m,\u001b[0m \u001b[0mmethod\u001b[0m\u001b[0;34m=\u001b[0m\u001b[0mmethod\u001b[0m\u001b[0;34m,\u001b[0m \u001b[0mtolerance\u001b[0m\u001b[0;34m=\u001b[0m\u001b[0mtolerance\u001b[0m\u001b[0;34m)\u001b[0m\u001b[0;34m\u001b[0m\u001b[0m\n",
      "\u001b[0;32mpandas/_libs/index.pyx\u001b[0m in \u001b[0;36mpandas._libs.index.IndexEngine.get_loc\u001b[0;34m()\u001b[0m\n",
      "\u001b[0;32mpandas/_libs/index.pyx\u001b[0m in \u001b[0;36mpandas._libs.index.IndexEngine.get_loc\u001b[0;34m()\u001b[0m\n",
      "\u001b[0;32mpandas/_libs/hashtable_class_helper.pxi\u001b[0m in \u001b[0;36mpandas._libs.hashtable.PyObjectHashTable.get_item\u001b[0;34m()\u001b[0m\n",
      "\u001b[0;32mpandas/_libs/hashtable_class_helper.pxi\u001b[0m in \u001b[0;36mpandas._libs.hashtable.PyObjectHashTable.get_item\u001b[0;34m()\u001b[0m\n",
      "\u001b[0;31mKeyError\u001b[0m: 'model_star'"
     ]
    }
   ],
   "source": [
    "df['missalign']=df['model_star']<df['stars']"
   ]
  },
  {
   "cell_type": "code",
   "execution_count": 71,
   "metadata": {
    "ExecuteTime": {
     "end_time": "2018-11-12T15:37:42.651901Z",
     "start_time": "2018-11-12T15:37:42.554421Z"
    }
   },
   "outputs": [
    {
     "ename": "KeyError",
     "evalue": "'missalign'",
     "output_type": "error",
     "traceback": [
      "\u001b[0;31m---------------------------------------------------------------------------\u001b[0m",
      "\u001b[0;31mKeyError\u001b[0m                                  Traceback (most recent call last)",
      "\u001b[0;32m/anaconda3/lib/python3.6/site-packages/pandas/core/indexes/base.py\u001b[0m in \u001b[0;36mget_loc\u001b[0;34m(self, key, method, tolerance)\u001b[0m\n\u001b[1;32m   3077\u001b[0m             \u001b[0;32mtry\u001b[0m\u001b[0;34m:\u001b[0m\u001b[0;34m\u001b[0m\u001b[0m\n\u001b[0;32m-> 3078\u001b[0;31m                 \u001b[0;32mreturn\u001b[0m \u001b[0mself\u001b[0m\u001b[0;34m.\u001b[0m\u001b[0m_engine\u001b[0m\u001b[0;34m.\u001b[0m\u001b[0mget_loc\u001b[0m\u001b[0;34m(\u001b[0m\u001b[0mkey\u001b[0m\u001b[0;34m)\u001b[0m\u001b[0;34m\u001b[0m\u001b[0m\n\u001b[0m\u001b[1;32m   3079\u001b[0m             \u001b[0;32mexcept\u001b[0m \u001b[0mKeyError\u001b[0m\u001b[0;34m:\u001b[0m\u001b[0;34m\u001b[0m\u001b[0m\n",
      "\u001b[0;32mpandas/_libs/index.pyx\u001b[0m in \u001b[0;36mpandas._libs.index.IndexEngine.get_loc\u001b[0;34m()\u001b[0m\n",
      "\u001b[0;32mpandas/_libs/index.pyx\u001b[0m in \u001b[0;36mpandas._libs.index.IndexEngine.get_loc\u001b[0;34m()\u001b[0m\n",
      "\u001b[0;32mpandas/_libs/hashtable_class_helper.pxi\u001b[0m in \u001b[0;36mpandas._libs.hashtable.PyObjectHashTable.get_item\u001b[0;34m()\u001b[0m\n",
      "\u001b[0;32mpandas/_libs/hashtable_class_helper.pxi\u001b[0m in \u001b[0;36mpandas._libs.hashtable.PyObjectHashTable.get_item\u001b[0;34m()\u001b[0m\n",
      "\u001b[0;31mKeyError\u001b[0m: 'missalign'",
      "\nDuring handling of the above exception, another exception occurred:\n",
      "\u001b[0;31mKeyError\u001b[0m                                  Traceback (most recent call last)",
      "\u001b[0;32m<ipython-input-71-100f08f3c7b2>\u001b[0m in \u001b[0;36m<module>\u001b[0;34m()\u001b[0m\n\u001b[0;32m----> 1\u001b[0;31m \u001b[0mdf\u001b[0m\u001b[0;34m[\u001b[0m\u001b[0;34m'missalign'\u001b[0m\u001b[0;34m]\u001b[0m\u001b[0;34m.\u001b[0m\u001b[0msum\u001b[0m\u001b[0;34m(\u001b[0m\u001b[0;34m)\u001b[0m\u001b[0;34m\u001b[0m\u001b[0m\n\u001b[0m",
      "\u001b[0;32m/anaconda3/lib/python3.6/site-packages/pandas/core/frame.py\u001b[0m in \u001b[0;36m__getitem__\u001b[0;34m(self, key)\u001b[0m\n\u001b[1;32m   2686\u001b[0m             \u001b[0;32mreturn\u001b[0m \u001b[0mself\u001b[0m\u001b[0;34m.\u001b[0m\u001b[0m_getitem_multilevel\u001b[0m\u001b[0;34m(\u001b[0m\u001b[0mkey\u001b[0m\u001b[0;34m)\u001b[0m\u001b[0;34m\u001b[0m\u001b[0m\n\u001b[1;32m   2687\u001b[0m         \u001b[0;32melse\u001b[0m\u001b[0;34m:\u001b[0m\u001b[0;34m\u001b[0m\u001b[0m\n\u001b[0;32m-> 2688\u001b[0;31m             \u001b[0;32mreturn\u001b[0m \u001b[0mself\u001b[0m\u001b[0;34m.\u001b[0m\u001b[0m_getitem_column\u001b[0m\u001b[0;34m(\u001b[0m\u001b[0mkey\u001b[0m\u001b[0;34m)\u001b[0m\u001b[0;34m\u001b[0m\u001b[0m\n\u001b[0m\u001b[1;32m   2689\u001b[0m \u001b[0;34m\u001b[0m\u001b[0m\n\u001b[1;32m   2690\u001b[0m     \u001b[0;32mdef\u001b[0m \u001b[0m_getitem_column\u001b[0m\u001b[0;34m(\u001b[0m\u001b[0mself\u001b[0m\u001b[0;34m,\u001b[0m \u001b[0mkey\u001b[0m\u001b[0;34m)\u001b[0m\u001b[0;34m:\u001b[0m\u001b[0;34m\u001b[0m\u001b[0m\n",
      "\u001b[0;32m/anaconda3/lib/python3.6/site-packages/pandas/core/frame.py\u001b[0m in \u001b[0;36m_getitem_column\u001b[0;34m(self, key)\u001b[0m\n\u001b[1;32m   2693\u001b[0m         \u001b[0;31m# get column\u001b[0m\u001b[0;34m\u001b[0m\u001b[0;34m\u001b[0m\u001b[0m\n\u001b[1;32m   2694\u001b[0m         \u001b[0;32mif\u001b[0m \u001b[0mself\u001b[0m\u001b[0;34m.\u001b[0m\u001b[0mcolumns\u001b[0m\u001b[0;34m.\u001b[0m\u001b[0mis_unique\u001b[0m\u001b[0;34m:\u001b[0m\u001b[0;34m\u001b[0m\u001b[0m\n\u001b[0;32m-> 2695\u001b[0;31m             \u001b[0;32mreturn\u001b[0m \u001b[0mself\u001b[0m\u001b[0;34m.\u001b[0m\u001b[0m_get_item_cache\u001b[0m\u001b[0;34m(\u001b[0m\u001b[0mkey\u001b[0m\u001b[0;34m)\u001b[0m\u001b[0;34m\u001b[0m\u001b[0m\n\u001b[0m\u001b[1;32m   2696\u001b[0m \u001b[0;34m\u001b[0m\u001b[0m\n\u001b[1;32m   2697\u001b[0m         \u001b[0;31m# duplicate columns & possible reduce dimensionality\u001b[0m\u001b[0;34m\u001b[0m\u001b[0;34m\u001b[0m\u001b[0m\n",
      "\u001b[0;32m/anaconda3/lib/python3.6/site-packages/pandas/core/generic.py\u001b[0m in \u001b[0;36m_get_item_cache\u001b[0;34m(self, item)\u001b[0m\n\u001b[1;32m   2487\u001b[0m         \u001b[0mres\u001b[0m \u001b[0;34m=\u001b[0m \u001b[0mcache\u001b[0m\u001b[0;34m.\u001b[0m\u001b[0mget\u001b[0m\u001b[0;34m(\u001b[0m\u001b[0mitem\u001b[0m\u001b[0;34m)\u001b[0m\u001b[0;34m\u001b[0m\u001b[0m\n\u001b[1;32m   2488\u001b[0m         \u001b[0;32mif\u001b[0m \u001b[0mres\u001b[0m \u001b[0;32mis\u001b[0m \u001b[0;32mNone\u001b[0m\u001b[0;34m:\u001b[0m\u001b[0;34m\u001b[0m\u001b[0m\n\u001b[0;32m-> 2489\u001b[0;31m             \u001b[0mvalues\u001b[0m \u001b[0;34m=\u001b[0m \u001b[0mself\u001b[0m\u001b[0;34m.\u001b[0m\u001b[0m_data\u001b[0m\u001b[0;34m.\u001b[0m\u001b[0mget\u001b[0m\u001b[0;34m(\u001b[0m\u001b[0mitem\u001b[0m\u001b[0;34m)\u001b[0m\u001b[0;34m\u001b[0m\u001b[0m\n\u001b[0m\u001b[1;32m   2490\u001b[0m             \u001b[0mres\u001b[0m \u001b[0;34m=\u001b[0m \u001b[0mself\u001b[0m\u001b[0;34m.\u001b[0m\u001b[0m_box_item_values\u001b[0m\u001b[0;34m(\u001b[0m\u001b[0mitem\u001b[0m\u001b[0;34m,\u001b[0m \u001b[0mvalues\u001b[0m\u001b[0;34m)\u001b[0m\u001b[0;34m\u001b[0m\u001b[0m\n\u001b[1;32m   2491\u001b[0m             \u001b[0mcache\u001b[0m\u001b[0;34m[\u001b[0m\u001b[0mitem\u001b[0m\u001b[0;34m]\u001b[0m \u001b[0;34m=\u001b[0m \u001b[0mres\u001b[0m\u001b[0;34m\u001b[0m\u001b[0m\n",
      "\u001b[0;32m/anaconda3/lib/python3.6/site-packages/pandas/core/internals.py\u001b[0m in \u001b[0;36mget\u001b[0;34m(self, item, fastpath)\u001b[0m\n\u001b[1;32m   4113\u001b[0m \u001b[0;34m\u001b[0m\u001b[0m\n\u001b[1;32m   4114\u001b[0m             \u001b[0;32mif\u001b[0m \u001b[0;32mnot\u001b[0m \u001b[0misna\u001b[0m\u001b[0;34m(\u001b[0m\u001b[0mitem\u001b[0m\u001b[0;34m)\u001b[0m\u001b[0;34m:\u001b[0m\u001b[0;34m\u001b[0m\u001b[0m\n\u001b[0;32m-> 4115\u001b[0;31m                 \u001b[0mloc\u001b[0m \u001b[0;34m=\u001b[0m \u001b[0mself\u001b[0m\u001b[0;34m.\u001b[0m\u001b[0mitems\u001b[0m\u001b[0;34m.\u001b[0m\u001b[0mget_loc\u001b[0m\u001b[0;34m(\u001b[0m\u001b[0mitem\u001b[0m\u001b[0;34m)\u001b[0m\u001b[0;34m\u001b[0m\u001b[0m\n\u001b[0m\u001b[1;32m   4116\u001b[0m             \u001b[0;32melse\u001b[0m\u001b[0;34m:\u001b[0m\u001b[0;34m\u001b[0m\u001b[0m\n\u001b[1;32m   4117\u001b[0m                 \u001b[0mindexer\u001b[0m \u001b[0;34m=\u001b[0m \u001b[0mnp\u001b[0m\u001b[0;34m.\u001b[0m\u001b[0marange\u001b[0m\u001b[0;34m(\u001b[0m\u001b[0mlen\u001b[0m\u001b[0;34m(\u001b[0m\u001b[0mself\u001b[0m\u001b[0;34m.\u001b[0m\u001b[0mitems\u001b[0m\u001b[0;34m)\u001b[0m\u001b[0;34m)\u001b[0m\u001b[0;34m[\u001b[0m\u001b[0misna\u001b[0m\u001b[0;34m(\u001b[0m\u001b[0mself\u001b[0m\u001b[0;34m.\u001b[0m\u001b[0mitems\u001b[0m\u001b[0;34m)\u001b[0m\u001b[0;34m]\u001b[0m\u001b[0;34m\u001b[0m\u001b[0m\n",
      "\u001b[0;32m/anaconda3/lib/python3.6/site-packages/pandas/core/indexes/base.py\u001b[0m in \u001b[0;36mget_loc\u001b[0;34m(self, key, method, tolerance)\u001b[0m\n\u001b[1;32m   3078\u001b[0m                 \u001b[0;32mreturn\u001b[0m \u001b[0mself\u001b[0m\u001b[0;34m.\u001b[0m\u001b[0m_engine\u001b[0m\u001b[0;34m.\u001b[0m\u001b[0mget_loc\u001b[0m\u001b[0;34m(\u001b[0m\u001b[0mkey\u001b[0m\u001b[0;34m)\u001b[0m\u001b[0;34m\u001b[0m\u001b[0m\n\u001b[1;32m   3079\u001b[0m             \u001b[0;32mexcept\u001b[0m \u001b[0mKeyError\u001b[0m\u001b[0;34m:\u001b[0m\u001b[0;34m\u001b[0m\u001b[0m\n\u001b[0;32m-> 3080\u001b[0;31m                 \u001b[0;32mreturn\u001b[0m \u001b[0mself\u001b[0m\u001b[0;34m.\u001b[0m\u001b[0m_engine\u001b[0m\u001b[0;34m.\u001b[0m\u001b[0mget_loc\u001b[0m\u001b[0;34m(\u001b[0m\u001b[0mself\u001b[0m\u001b[0;34m.\u001b[0m\u001b[0m_maybe_cast_indexer\u001b[0m\u001b[0;34m(\u001b[0m\u001b[0mkey\u001b[0m\u001b[0;34m)\u001b[0m\u001b[0;34m)\u001b[0m\u001b[0;34m\u001b[0m\u001b[0m\n\u001b[0m\u001b[1;32m   3081\u001b[0m \u001b[0;34m\u001b[0m\u001b[0m\n\u001b[1;32m   3082\u001b[0m         \u001b[0mindexer\u001b[0m \u001b[0;34m=\u001b[0m \u001b[0mself\u001b[0m\u001b[0;34m.\u001b[0m\u001b[0mget_indexer\u001b[0m\u001b[0;34m(\u001b[0m\u001b[0;34m[\u001b[0m\u001b[0mkey\u001b[0m\u001b[0;34m]\u001b[0m\u001b[0;34m,\u001b[0m \u001b[0mmethod\u001b[0m\u001b[0;34m=\u001b[0m\u001b[0mmethod\u001b[0m\u001b[0;34m,\u001b[0m \u001b[0mtolerance\u001b[0m\u001b[0;34m=\u001b[0m\u001b[0mtolerance\u001b[0m\u001b[0;34m)\u001b[0m\u001b[0;34m\u001b[0m\u001b[0m\n",
      "\u001b[0;32mpandas/_libs/index.pyx\u001b[0m in \u001b[0;36mpandas._libs.index.IndexEngine.get_loc\u001b[0;34m()\u001b[0m\n",
      "\u001b[0;32mpandas/_libs/index.pyx\u001b[0m in \u001b[0;36mpandas._libs.index.IndexEngine.get_loc\u001b[0;34m()\u001b[0m\n",
      "\u001b[0;32mpandas/_libs/hashtable_class_helper.pxi\u001b[0m in \u001b[0;36mpandas._libs.hashtable.PyObjectHashTable.get_item\u001b[0;34m()\u001b[0m\n",
      "\u001b[0;32mpandas/_libs/hashtable_class_helper.pxi\u001b[0m in \u001b[0;36mpandas._libs.hashtable.PyObjectHashTable.get_item\u001b[0;34m()\u001b[0m\n",
      "\u001b[0;31mKeyError\u001b[0m: 'missalign'"
     ]
    }
   ],
   "source": [
    "df['missalign'].sum()"
   ]
  },
  {
   "cell_type": "code",
   "execution_count": 78,
   "metadata": {
    "ExecuteTime": {
     "end_time": "2018-11-12T15:38:13.798101Z",
     "start_time": "2018-11-12T15:38:13.791163Z"
    }
   },
   "outputs": [
    {
     "data": {
      "text/plain": [
       "0.7513433122241412"
      ]
     },
     "execution_count": 78,
     "metadata": {},
     "output_type": "execute_result"
    }
   ],
   "source": [
    "metrics.accuracy_score(df['stars'],df['model_star'])"
   ]
  },
  {
   "cell_type": "code",
   "execution_count": 79,
   "metadata": {
    "ExecuteTime": {
     "end_time": "2018-11-12T15:38:16.236907Z",
     "start_time": "2018-11-12T15:38:16.204000Z"
    }
   },
   "outputs": [
    {
     "data": {
      "text/html": [
       "<div>\n",
       "<style scoped>\n",
       "    .dataframe tbody tr th:only-of-type {\n",
       "        vertical-align: middle;\n",
       "    }\n",
       "\n",
       "    .dataframe tbody tr th {\n",
       "        vertical-align: top;\n",
       "    }\n",
       "\n",
       "    .dataframe thead th {\n",
       "        text-align: right;\n",
       "    }\n",
       "</style>\n",
       "<table border=\"1\" class=\"dataframe\">\n",
       "  <thead>\n",
       "    <tr style=\"text-align: right;\">\n",
       "      <th></th>\n",
       "      <th>1</th>\n",
       "      <th>2</th>\n",
       "      <th>3</th>\n",
       "      <th>4</th>\n",
       "      <th>5</th>\n",
       "    </tr>\n",
       "  </thead>\n",
       "  <tbody>\n",
       "    <tr>\n",
       "      <th>1</th>\n",
       "      <td>5850</td>\n",
       "      <td>39</td>\n",
       "      <td>29</td>\n",
       "      <td>39</td>\n",
       "      <td>84</td>\n",
       "    </tr>\n",
       "    <tr>\n",
       "      <th>2</th>\n",
       "      <td>1003</td>\n",
       "      <td>617</td>\n",
       "      <td>73</td>\n",
       "      <td>91</td>\n",
       "      <td>118</td>\n",
       "    </tr>\n",
       "    <tr>\n",
       "      <th>3</th>\n",
       "      <td>377</td>\n",
       "      <td>49</td>\n",
       "      <td>1053</td>\n",
       "      <td>351</td>\n",
       "      <td>345</td>\n",
       "    </tr>\n",
       "    <tr>\n",
       "      <th>4</th>\n",
       "      <td>166</td>\n",
       "      <td>27</td>\n",
       "      <td>89</td>\n",
       "      <td>2004</td>\n",
       "      <td>1848</td>\n",
       "    </tr>\n",
       "    <tr>\n",
       "      <th>5</th>\n",
       "      <td>131</td>\n",
       "      <td>7</td>\n",
       "      <td>33</td>\n",
       "      <td>284</td>\n",
       "      <td>6137</td>\n",
       "    </tr>\n",
       "  </tbody>\n",
       "</table>\n",
       "</div>"
      ],
      "text/plain": [
       "      1    2     3     4     5\n",
       "1  5850   39    29    39    84\n",
       "2  1003  617    73    91   118\n",
       "3   377   49  1053   351   345\n",
       "4   166   27    89  2004  1848\n",
       "5   131    7    33   284  6137"
      ]
     },
     "execution_count": 79,
     "metadata": {},
     "output_type": "execute_result"
    }
   ],
   "source": [
    "pd.DataFrame(metrics.confusion_matrix(df['stars'],df['model_star'],labels=[1,2,3,4,5]),\n",
    "            index=range(1,6),\n",
    "            columns=range(1,6))"
   ]
  },
  {
   "cell_type": "markdown",
   "metadata": {},
   "source": [
    "# Cluster K-means"
   ]
  },
  {
   "cell_type": "code",
   "execution_count": 80,
   "metadata": {
    "ExecuteTime": {
     "end_time": "2018-11-12T15:42:54.326564Z",
     "start_time": "2018-11-12T15:38:18.554036Z"
    },
    "scrolled": true
   },
   "outputs": [],
   "source": [
    "# run kmeans\n",
    "num_clusters = 5\n",
    "km = KMeans(n_clusters=num_clusters, n_jobs=-1) # instantiate kmeans object, with n clusters, and tell it to use all processors\n",
    "km.fit(tfidf_vectorizer.transform(df['text']))\n",
    "clusters = km.labels_.tolist()\n",
    "df.loc[:,'cluster'] = clusters  # assign cluster results to dataframe"
   ]
  },
  {
   "cell_type": "code",
   "execution_count": 81,
   "metadata": {
    "ExecuteTime": {
     "end_time": "2018-11-12T15:42:56.659483Z",
     "start_time": "2018-11-12T15:42:56.628318Z"
    }
   },
   "outputs": [],
   "source": [
    "# get details of clusters\n",
    "cluster_details = {}\n",
    "\n",
    "# get cluster centroids\n",
    "ordered_centroids = km.cluster_centers_.argsort()[:, ::-1]\n",
    "\n",
    "# get key features for each cluster\n",
    "# and also list restaurants and reviews associated with that cluster\n",
    "for cluster_num in range(num_clusters):\n",
    "    cluster_details[cluster_num] = {}  # assign cluster number as dictionary\n",
    "    cluster_details[cluster_num]['cluster_num'] = cluster_num  # assign cluster num\n",
    "    key_features = [feature_names[index] for index in ordered_centroids[cluster_num, :20]] # top 20 features of cluster\n",
    "    cluster_details[cluster_num]['key_features'] = key_features\n",
    "\n",
    "    businesses = df.loc[df['cluster'] == cluster_num, 'name'].unique().tolist()  # list of biz in cluster\n",
    "    review_ids = df.loc[df['cluster'] == cluster_num, 'review_id'].unique().tolist() # list of reviews in cluster\n",
    "    cluster_details[cluster_num]['businesses'] = businesses  # assign businesses\n",
    "    cluster_details[cluster_num]['review_ids'] = review_ids  # assign review_ids"
   ]
  },
  {
   "cell_type": "code",
   "execution_count": 82,
   "metadata": {
    "ExecuteTime": {
     "end_time": "2018-11-12T15:42:59.005491Z",
     "start_time": "2018-11-12T15:42:58.982226Z"
    }
   },
   "outputs": [
    {
     "data": {
      "text/plain": [
       "{'cluster_num': 0,\n",
       " 'key_features': ['great',\n",
       "  'service',\n",
       "  'place',\n",
       "  'good',\n",
       "  'food',\n",
       "  'friendly',\n",
       "  'love',\n",
       "  'staff',\n",
       "  'amaze',\n",
       "  'beer',\n",
       "  'price',\n",
       "  'go',\n",
       "  'best',\n",
       "  'awesome',\n",
       "  'back',\n",
       "  'come',\n",
       "  'nice',\n",
       "  'delicious',\n",
       "  'time',\n",
       "  'atmosphere'],\n",
       " 'businesses': ['Pizza Hut',\n",
       "  \"Domino's Pizza\",\n",
       "  \"Grimaldi's Pizzeria\",\n",
       "  \"Papa John's Pizza\",\n",
       "  'Little Caesars',\n",
       "  \"Papa Murphy's\",\n",
       "  \"Blaze Fast-Fire'd Pizza\",\n",
       "  'Mellow Mushroom'],\n",
       " 'review_ids': ['2UV-a8pXUdbK0fdurFwXfQ',\n",
       "  'AJPx2FNBtrFom1Ke7hiA1A',\n",
       "  'hF8Neuh3r2x-1W09hl6fvQ',\n",
       "  'AWqyHf84pWFro3eTTUkjow',\n",
       "  'y4PRnR0PLg1wTIOl-ygD1Q',\n",
       "  'dhTHNsSgKKgiscCg1HyKPQ',\n",
       "  'gA_uXxTArxFqRsZtmORVlg',\n",
       "  '1NJn3kyc_gwnKobVTqyK6Q',\n",
       "  '9y11DeOFELzwIh4TK8pJVw',\n",
       "  'XK55eCQ2_p3w7ELXqXPT_Q',\n",
       "  'f3ME5RRO8-mYOgNibDop3g',\n",
       "  'dCDLRnZXmPG3OQ4uc8t73g',\n",
       "  'eiDeX2o4yeBiqBe1KFx3xg',\n",
       "  't0k1CtMqqZ1xBVhWqRMA-A',\n",
       "  '1UP9lZUoRQ008LlMcTl4cA',\n",
       "  'WisSCWZFuTFoy7Xq4NK8aQ',\n",
       "  'S2VxZ7krYsFzgtlPGU_tqA',\n",
       "  '0G-qjgYzZHfARPzTyLmyjQ',\n",
       "  'R8NFVz8C_uVvcmmSSYF8gA',\n",
       "  'XOhlju8gK9SECRRPubMjOA',\n",
       "  'WsNSRI_-jlN3IE_9GkfHRQ',\n",
       "  'j1YnIRmA4cNt_5REaO1xcQ',\n",
       "  'Hi5xB8y_17RxMT67tSnQ1Q',\n",
       "  'GHogO1NDhIhfs804GIUlGw',\n",
       "  'VnngXnaaIUA5H8awJaIz9Q',\n",
       "  'osRyM32_U91i0GOwgJNH-g',\n",
       "  '8n3WKuzHmFN70rX9xrrAdg',\n",
       "  'Lz5WEojXWmOhINR-britNQ',\n",
       "  '8YVKTURLhDb5o6UFgnpQDw',\n",
       "  '_ZX-GqA7Ant6wGB840qMBw',\n",
       "  'Wrh3qqpK8eGfIv4kX93Eqg',\n",
       "  'P26IN4_MrqKwwG3YFqRCuw',\n",
       "  'wLFzlPcxrvRE9zs7gv9PdQ',\n",
       "  'ubY0p5Jhm6rmIFx8Fat7Sw',\n",
       "  'n_69CqtZLvGyE4_8-PRr2Q',\n",
       "  'Qcd1EZdFy9atfsijPOaOoQ',\n",
       "  'gu1_1OltxZWjItSOD4puoQ',\n",
       "  'reyY-v72c3_8XYheqf3zhw',\n",
       "  'seq10IQTwNGUSbP7dffIRg',\n",
       "  '2fdxiLrRI-nQ01xcn3fntQ',\n",
       "  '7IxPXxPrJQCGJCGTiS4a5A',\n",
       "  'cnYya5zkmvPARKsbqwWuww',\n",
       "  'BFyhI2o96FJKjQXO87MhJQ',\n",
       "  '1Ezdx6tkdXQwWOefwOQhlQ',\n",
       "  '89hEdeeMS_NXkXNjLT-Pdw',\n",
       "  '2BM3gcZ6ZvaowN-870dovQ',\n",
       "  'dF3-cyGLEAHE4MnPJncVQA',\n",
       "  'q-xyAr7ALxOc2lmTS-f9dg',\n",
       "  'AM_HgPKUo-8lNYFJqQjVhg',\n",
       "  'oAxlOTa2m9uA3UGLtucqsQ',\n",
       "  'C_R5wX5_2Lhtyu4un5YIxw',\n",
       "  '8XlMIPpZPo10gY80XLAiQw',\n",
       "  '1_0Egh92oT1oiXn50-07gA',\n",
       "  'JMnLGFdnn4lkDZO3FhHKag',\n",
       "  '4i8qHGe58c0J3PX2dxIqpQ',\n",
       "  'tfh0Uk8_4BVK_vkKAzrpCg',\n",
       "  'BZYZmanIiwHvDETmP1v3jw',\n",
       "  'aQKl82CiKGK7yZeWE0WGKw',\n",
       "  'G0f20KhUOuSSY2C4z7wSAA',\n",
       "  'fO-jHoB8GxWSGS4C10jtIA',\n",
       "  'CQ30NPa-BJudRf2JGQRRtw',\n",
       "  'kQeoXSAflz1Wl41_5zAcbA',\n",
       "  'YvOlVlsxUdtky6PYqhLVJQ',\n",
       "  'VBrubzBGM-Go_mvMBHKvpQ',\n",
       "  'lfUl97N1JES_TV8hA5D88w',\n",
       "  'tgIwbTAK647K2ekDlQ_U4w',\n",
       "  'z64bVuX-KaUFOcgiIB_QlQ',\n",
       "  'uyoZi0ikRzE4PvIMC8vp8A',\n",
       "  'bGaJcPMZHehKxvb_0lR34A',\n",
       "  'g8z4DN4cewWHr2hFPbmnLg',\n",
       "  'VeTWQ65SytD7bohzmhWQ9g',\n",
       "  'T2NmW60ucBFTBZfZkZVEhQ',\n",
       "  'lsUyeQ9tfVviOLlj9S15qA',\n",
       "  'V6o_5Abi6OwiMs4_TuPN3g',\n",
       "  'oXxMdWPxtjqXdlHMM145lA',\n",
       "  'Z_yGAKv8HduE6zo7Px290A',\n",
       "  'uB1X5755PNO_BHp4lNPTew',\n",
       "  'pIboFTWbH7okwcy-YISBOQ',\n",
       "  'umeZqf2qJDyXVw75sflx4w',\n",
       "  '0DhPh592ES_i6JOz8j1Dug',\n",
       "  'j481lce3t8KxqXPoGVpGMQ',\n",
       "  'yWhov5XzFKhG6tvpqG1XCA',\n",
       "  'YamtAE5oALrTpdkmSeGulg',\n",
       "  '1nE3-RzrAIorHDibbQTA3g',\n",
       "  'K1tS7Wl6ymTaZlMbAHArdQ',\n",
       "  '1mdlFiMgqYpfuhdFo0yx4A',\n",
       "  'rp7luhNRP_w6b2AfhuStCQ',\n",
       "  '4kYlIx0CFnHJXLFogy8rzw',\n",
       "  'kib8GRIWFKxmoexpTVb0Kw',\n",
       "  'VtenuJ0Xy-Bd1xKGHfYZcg',\n",
       "  'N9GqrPGp38eTFzHBZSYlSw',\n",
       "  'qMTuM5r3PFv4DvUALVI1cw',\n",
       "  'v62SPH_aVlfCt2n9sT-HfQ',\n",
       "  'Xbx9Z0zeB2e-DrR3bfBUyA',\n",
       "  'D8ehIjn26-nCTTYvTEexgw',\n",
       "  'eCPtkg4axNxYPq0taCjXHQ',\n",
       "  'Ajh0UNJETN4te3cdoOrShg',\n",
       "  'iiEVPbufpun8Ab6mwrtM5g',\n",
       "  '-8JnLyDUdY2QmGIN_1u20g',\n",
       "  'EUzKbNLCH8mwLBmUAtsmMQ',\n",
       "  'NGZSKUNUKB7IAcJgx5eh9g',\n",
       "  'jf181zOJxrK5CVI3NbSwag',\n",
       "  'o7R5IFFbuLFvJ_4GA1YRUw',\n",
       "  'nb2YxPOXuYsQrqed3S8jqg',\n",
       "  '5sA0dz41LZnjz-V2eHJJqg',\n",
       "  '11CmXSC-jYoxriRlC8gGVg',\n",
       "  'qXA675qhEw7AiTla3bTeBg',\n",
       "  'wqUEtakP3xq_-GialfS32A',\n",
       "  'u8FI8XVTUt0GjwQo5Za--Q',\n",
       "  'GwIlE5IOqvL4JMPlmLmN4g',\n",
       "  'UyBxqzf84vYILwd3fCUglQ',\n",
       "  'EPue9sE-vw_h0NZCexNEHA',\n",
       "  't-awe-w12VYhmwL8mkifTQ',\n",
       "  'y00mSOW_9bhbAzJem7TGTw',\n",
       "  'OuUNmRG9E1ZmAykyc2HZEQ',\n",
       "  'yWZsMH1gNBujx1Xq3l9htw',\n",
       "  'bpQekxDR3i8kYUmdngZhtA',\n",
       "  'a3uPt4XRNKkwxkEMZUls6A',\n",
       "  'wcCi_1HU-JjRGXLFjODrSQ',\n",
       "  '0BC8qBherOorfG5kP3lr1w',\n",
       "  '3zoS9GZgQzBdGVzPSLl3AA',\n",
       "  'zmFLoDkZW-nQtMYON6LJQw',\n",
       "  'l4XaJly7YGe7zIrVq6f4Mg',\n",
       "  'GpRxLTr_pM-GWcwK8oJM2A',\n",
       "  'B3YxAiUNb5tZSJbMTXAORg',\n",
       "  '7zeiFAAB1MEgno-pfruN5A',\n",
       "  'MiwX4H9FwEovjBPotlmVdQ',\n",
       "  '1FGbYEe-umJc-0ikOCwgIA',\n",
       "  '3gELYC8rXgG-_aa8enUEnQ',\n",
       "  'PWRP6eNSc0_7nnRtcKtscA',\n",
       "  'bvamsNgSzKiVY1_cNSuRaA',\n",
       "  'htYQ3RDAmLfmN6JRiOYKUg',\n",
       "  'Pg7XUmGP__MVlLVL8rZUpQ',\n",
       "  '1mETRR4lDgiJEMCRynfWiA',\n",
       "  'RRQWnFBS88-xdcnE3wAXzQ',\n",
       "  'p31WQSDmAK2hL6zA0Qo8Zg',\n",
       "  'jESZvtu19YghUp8RhpOb3Q',\n",
       "  'OvLE6sQbrgBmSH8L1W8RVA',\n",
       "  'UQ_G3RmkSahC8tkIRwV8FA',\n",
       "  'f0sd83Usu5e1LuLzvDL5ww',\n",
       "  'd3020ZFWDz0yEyjYr4Cgwg',\n",
       "  '0Nty0Nll7pbEAMB11iRTcg',\n",
       "  'BocKGIyAe8T54IOTRuSHXQ',\n",
       "  'NIb9K1JN3tB1wyT9SSRP2g',\n",
       "  '6o12X8fYHc3WHb-7LozNOg',\n",
       "  '8ub3dhLlGtkSgc8r0gTguA',\n",
       "  '-nsA4ZO6JZ96EWIUYnYOFA',\n",
       "  'JLLGAOLYywH3yAcuLuDrmA',\n",
       "  'x9gzgwv457L5ZGfw9Hk2jA',\n",
       "  'EBwlf3gdCAjRx8R-Il84XA',\n",
       "  '07fyN9Qos_kwZ4vThQ4YVA',\n",
       "  'ggDFzAKGIWgGCZ3aQvTbww',\n",
       "  'LWhd3iuEeoagB18UqRsUqw',\n",
       "  'RNA22f3k4jLemkEoTg-ORw',\n",
       "  'ATBiPDW_szoFFW2R4jRV-g',\n",
       "  'NXeTHe9Ru73-pcF621KlZw',\n",
       "  'zyY2m_UuYKWDI5fz4k4U2g',\n",
       "  'AI2s2qBmmMAtLWf8wcJO9w',\n",
       "  '69k3ALwHNe2O785RGpAh4g',\n",
       "  'Y2xpYo5ExALRE5xIDlgK4g',\n",
       "  '7QGdOKJgJe6jsLPcn9L8bg',\n",
       "  'bvIeyvhblcR_mD9tdYUtBQ',\n",
       "  'por0kR5sCOzQAk_f9K3FmA',\n",
       "  'vS-BnATC16wZsxsOfXtMRg',\n",
       "  'KitQIIk9T_85C8h33lNKyg',\n",
       "  'p1GW8O02GWUaa4cpjQvAng',\n",
       "  'xfyoAyDteqsU49jTY6lLQQ',\n",
       "  '_zRrWOQqMfyuDv6CRgB3Rg',\n",
       "  'ptXTXiiCBTYnycQRk3xW9Q',\n",
       "  'YArZmSHGyt2BFAMBvv9_tA',\n",
       "  'F1lIzZrvlpMmLpl57Lk0-Q',\n",
       "  'XxjsJ5ZvDvs2xXQwpyoyfQ',\n",
       "  'LbrFJPQ5irAJyDX6vTNE6Q',\n",
       "  'rBPQq8SR-mc54QFQIgZb9g',\n",
       "  '6VGkx-yLPMyyiSTrIucEUw',\n",
       "  'iIzsh_YYNhh1lPuaQi1ORg',\n",
       "  'pzVL-dadlQZ-mONVhRDQsg',\n",
       "  'cudB-FENgT51qHbCNUsIcQ',\n",
       "  '36-djnQV5M4tvuLT0jn7Ng',\n",
       "  'JPCEGDfkbmcU6FkECCrxqg',\n",
       "  'c7pJrwx5w4CC6TPHOIQaUQ',\n",
       "  'zz_ajc8Efx_UvawUfa71yQ',\n",
       "  'eHhFZUgZ_9BSr_aGtMx2xg',\n",
       "  'cmpQ2VDGPdJgk9nrdZgE9Q',\n",
       "  'HAtdBJf_24XvOD9vDFUCpA',\n",
       "  '5wLQPQ50_VbslyUeWCPmHA',\n",
       "  'mxDZQeeMVsgVKBNnMYUu-g',\n",
       "  'bgV9aPf-2lSCQnBuqNcmaQ',\n",
       "  'K3cRUyyzXnMRQrC4G-l4aw',\n",
       "  'xojrVx1mzabekakSDTYLEg',\n",
       "  'GpadnS2AwS909he4-t_iIw',\n",
       "  'VwGXL6jWVKwk5NvwW1hiJQ',\n",
       "  '7hVBAxt9Duc0vOe_RWV2pA',\n",
       "  '5vubYJuPMEVOw4YEWgSTuA',\n",
       "  'E1cFtXzF1Vzcm0ZU-4sCFg',\n",
       "  '8_2HR2lrDkdJGYhLTST6Vw',\n",
       "  'w6ReLKhxW6pGraucdEpyTQ',\n",
       "  'QcUnUemIJrVMSYdZ13zW_Q',\n",
       "  'Niq4jt_FuJYw1soMDtRaSw',\n",
       "  'MxbqZJa8eMkblS4crIrhYQ',\n",
       "  'JPVf625AdZy4jEylYQa4VA',\n",
       "  'gUsUjsRtvY7oIiS6l63ASg',\n",
       "  'nDNLG6DaqkKcWkoM-jtmRA',\n",
       "  '3CssvmMLY1JMjRw22AnPaQ',\n",
       "  'Wtt3v-MumM9-NItuDFes3w',\n",
       "  'EnwRzYHF7JCziaKj-4Gosw',\n",
       "  '4XulygL3LsRRzPxx4KgTYg',\n",
       "  '9AqaNnF4E7oWsy4bDjaQ5Q',\n",
       "  '2ILTvbIA2V0nm3DYl6Bg3g',\n",
       "  'nWx-LNgO9_qI3juoiPvChg',\n",
       "  'BFb_J1g5eDokkF_PKJvPHA',\n",
       "  '9bsCrD-cGudiF876T-gU8Q',\n",
       "  'D6_cubDDmUHK9etIo4qj5g',\n",
       "  '0BltL8IQiL_WgwoBLs0uJA',\n",
       "  'YnhWFNsSZheVgx6x4imgRQ',\n",
       "  'ZbUyZb_WG9L4TcI1g8BHgA',\n",
       "  'qiTN8TwWi8HUJn6Tc_tbUA',\n",
       "  '3LEuardhj5l8h1WNBo3B6g',\n",
       "  'E9w-q6A1YaizPobz-guPDQ',\n",
       "  '6gckmJuEcHj8VMw0_JgkYw',\n",
       "  'vVCv3Pe_Ty8SACVwzRvzTQ',\n",
       "  '-F7QtXiE5QbLdMluDfk74Q',\n",
       "  'iycsVf0NjQFJGZWVTzlA4g',\n",
       "  'muUdSfEt264xD6LN-f7Y5g',\n",
       "  'iCdQ4x-aicWh07i9xZsg4A',\n",
       "  'yxA8-JT4yj2PFePwZMK_bQ',\n",
       "  'U66i4togZdWlXMDM4btw6A',\n",
       "  'L1MMietLGJi530adslu51A',\n",
       "  'gGlDiMWBM8KAV8bq8xhSMw',\n",
       "  'u3d2muXFqSDmVdgjAYCV5g',\n",
       "  '1PKcyQE3JFzhHtqB7wbjdw',\n",
       "  'DmJd4vwl58IrTq4AR-E0nA',\n",
       "  '0UVzfXxzzZOJFa0C00DUAg',\n",
       "  'K3sshw8xPDGh2D8-yC73zw',\n",
       "  'm05TVpVBfWm8-YrdD-9ZcQ',\n",
       "  'wBYp82ppMI5iCFHeA0X2lA',\n",
       "  'nSMeRFwRO41JG1zBxz9ICA',\n",
       "  'p-FXbA6wKzOuYaruX5NiCw',\n",
       "  'oW9Ns3fxUx8syWbgdNdUyA',\n",
       "  'T0DfNVyaGielKrzZEKeZLg',\n",
       "  'EuLWE0Q7w1r81IKbyYzHrg',\n",
       "  'rMMhd8Ljrl6GoA925Qhayw',\n",
       "  'qRsJ0xzU18L2Pmp04ARBJw',\n",
       "  '8hMVFbk4b_EYYMDU09d1NQ',\n",
       "  'qAtJhHMzoXmNehhxUjxbrw',\n",
       "  'g_Pdie8Cy7UhxtOekMwz9g',\n",
       "  'c_7z5Aw2aFNWFk7socRpog',\n",
       "  '0nWolIPUlFD4J4ro3DJi-Q',\n",
       "  'o_DSKC-Wbl89XVhT0oN31g',\n",
       "  '61zldmSEXxLfTXeyjC7jjw',\n",
       "  'K_h2cga_38tcgvhAW-Q4Aw',\n",
       "  'VNhl-dD4gXXyfdhC0kDQ_g',\n",
       "  'Ziz5-0JaEN03glPMr_M8lQ',\n",
       "  '_qwMMLsJpIh0jaSow4M6CQ',\n",
       "  '5l7VkXaXykU0xjnZ_TkOdA',\n",
       "  'OogeL3Lqd6_s-jor8ue_hg',\n",
       "  'y4aqiXZl_eoD0VsBWBw2-w',\n",
       "  'zYRDwBiiN7mmCjDZaQG5Aw',\n",
       "  'Q54Ize9RPYY_uCF7JjhywA',\n",
       "  't8Ru7G0V3EUnGLkWq-31hA',\n",
       "  'A3wtCMVgF-3c_G9nzZETow',\n",
       "  'jVEZBB7M4uDodycS74Yldg',\n",
       "  'aZiFnqw9pQjpDHjSV80KDA',\n",
       "  'SFpSQn_2GrTDd6yJKtCYhw',\n",
       "  '-qLMQiDG62CyHMYGoI1UhQ',\n",
       "  '81WfoKh1tuMEK_EuxMTSeA',\n",
       "  'YEOrNQOzlDggScxOWtW0wA',\n",
       "  '5j514womAtlWJFmHPWW_0w',\n",
       "  '0d7W9EU8eGNDuwqLnTN8nw',\n",
       "  'NAld4dHyKYx8J0OW-PgEZQ',\n",
       "  'rB95ckxS4gP-Ep4_rK6uFw',\n",
       "  'e1tPcxdiujTcht6pB_buiw',\n",
       "  'orwv2-NDboB75sTg1T52uQ',\n",
       "  '6PbhDLsHehwr_Fx0xXuyIQ',\n",
       "  'Y-Ko_D3NDYkEh3VCkhVM3A',\n",
       "  's2zhR9tWkX7kBF3bz4A7pQ',\n",
       "  'DcGo21JICnEgRtjWlCogCw',\n",
       "  '_cZfOvywMMWcyqnRNKyxzw',\n",
       "  '7xWdteT4lB8nnlPgf0kClQ',\n",
       "  'BmM0MhnfgpiGeGf3cQ3I_Q',\n",
       "  '54LYYhgY9oQsbAihqt2NHw',\n",
       "  'Pp-RZPr5EuCU5KhFotlToQ',\n",
       "  'u6WbUmY2-a6wr_3aeoMjcQ',\n",
       "  '5jiVz-L17djwL2xK0K8nxQ',\n",
       "  'IVOZkb8NTO_t2m_5Hjp_Og',\n",
       "  'G6MeZOm1bG1meOZ0GlcJNQ',\n",
       "  '9xEMrZ39IGGYYgym-sgxoQ',\n",
       "  'GaPU1jZXFvhT2cBa23pNmQ',\n",
       "  '-10NllcDYLGMErpvTXYgMA',\n",
       "  'fHuLAN7vrD7kDInrQxOAEA',\n",
       "  'dDjsEcpXgJeWpnXjgTUXGw',\n",
       "  'kNSi37Z2LlgZPBIJp1wGlA',\n",
       "  'TnIw856ot3eXfinQJqEpAA',\n",
       "  'XgRTYj_LdzG4IZtVe8gMVA',\n",
       "  'rf5eWZuf-Im9jU2pftrIHg',\n",
       "  'EIqhZlSbJxGLv54rAKsOlA',\n",
       "  'eem0NsWhWWeVrMVFtxkm4w',\n",
       "  'wGRvzl7Mk8WuKkyLWLjSdA',\n",
       "  'z3CNqs6lhnhVfglzgEjJwQ',\n",
       "  'EdaEN6kIcHMIU2YV5N39mw',\n",
       "  'CuvSqZWrfbpSVsTxVqhdJw',\n",
       "  '2mEfSPj6NtZdrOcoRDn_IQ',\n",
       "  'NaQVVDQmb0pD0mdqY6etfw',\n",
       "  'm_AwYrYIOCJBAx4r4mqRww',\n",
       "  'HMJZ2z-Y2hMrQ0XNApKfEQ',\n",
       "  '_2zwjcjF6iSLbUUNgM2vmw',\n",
       "  'fdTI7GqhNXKS-H_Xo5xH6A',\n",
       "  'UocvmKdRo_fHt018_FHlwA',\n",
       "  'jNHuK_43LjbFtr3MtRtouw',\n",
       "  'xkrO2QzFQ03Dj6vbHQ3CYg',\n",
       "  'wjyMgJFPYlLpFZwWEydS2Q',\n",
       "  'sLMkw0ytCAS8BvQHxkHpZQ',\n",
       "  'ODdlL9Wlpp8wA86rkMRiiw',\n",
       "  'UuGsmQRVq5bK4YvogrEHog',\n",
       "  'A_4r9ZsYUEvl7Sxt5hKqxw',\n",
       "  'Aiv1VdM5Nyovjl36e7gKzQ',\n",
       "  'DOufDnrRP40Pe7mFvYYbHw',\n",
       "  '3vk2ytGSceal-53vOcqVTw',\n",
       "  'X4EIk1kIlpZWL82q5qfxHQ',\n",
       "  '2q9vzi6u6m-YsvLHejD8Ew',\n",
       "  'DmFJ70Q-T4ZrHpAaA6kU4A',\n",
       "  'FPfe9kbb3ar52_pBVCgyxg',\n",
       "  '7wzgUMkDIwObVqxnmphN1A',\n",
       "  'EgP1yfukpdfkzRnPedIjkg',\n",
       "  'm2DH4THeTsHTs2vKiXYJ1w',\n",
       "  '5QvlLUFmg9VVcOYc_4Esdw',\n",
       "  'm1hbTxFbMtGla95c4Q98VQ',\n",
       "  'W_p0OLIIvE9hpSu-iJScuw',\n",
       "  'zv9OL_ijlIBUemA1c69lAg',\n",
       "  'moQxPizxYY0rxDjSni40Kg',\n",
       "  'hP65ir7U6TwEor9SX8QG2A',\n",
       "  'VFHbLJsYfC9l4KfcMeEAgA',\n",
       "  'EzOyEfwgZePmsEmmRyumPw',\n",
       "  'lJkBs3K7nagj7OP_uPIzqw',\n",
       "  'OdHnRsKuNusJtxaAan8nWQ',\n",
       "  'kHSp8yA-QiV3h1O0R15V6g',\n",
       "  'NSm-LD4ehlo2R7zmrdH9LA',\n",
       "  'Q3Scv74ltIad43BRfmmf1A',\n",
       "  'H4oB-XsOqQIXlM-VqGfYgA',\n",
       "  'DRGkVsup1LvpbS2NtoJdOA',\n",
       "  'KdR6wOHvbaYdUTXeOQ7AFg',\n",
       "  'y_J73xaoqvcYWiG_G54lSg',\n",
       "  'QKtqhXyk8sg2TLmslUeZDw',\n",
       "  'IxpXa0b3o7JcLhB1w2hvXw',\n",
       "  '_QubI2pIO08pL4XvFEQS0Q',\n",
       "  '6saC9lWXnRK2fhNH39we3Q',\n",
       "  'kx4kt5a2nV1bSsvB1fPHug',\n",
       "  'iGEmWQJKpDKTypUT1bMquw',\n",
       "  'SX1nKp4lA0eLr8gboB10xg',\n",
       "  'mXVWiN5JZJyeX_k8srXjGQ',\n",
       "  'ICgNqRPNIeA9gk03ZlZ7WA',\n",
       "  'JtvWPqYM5PuRYlGmh52H7Q',\n",
       "  'vJeMvYnvMoH8OgU50_zbQQ',\n",
       "  'UAzAJpo2pds6adddQgoscA',\n",
       "  'vYgA3g_nRXllHT1905pVFw',\n",
       "  'yHijTl9SHdhQUwuQIV35Vw',\n",
       "  'Vwa6_wPGLI-PRM8ssScoCg',\n",
       "  'KorF66dRWRDNvOsbH86kGQ',\n",
       "  '7GUwHDb3hh3GeOcOiZ3Y0w',\n",
       "  'S0f7JpQ0O6bTIWI5m2-Lig',\n",
       "  'C5hBtgxUbmHPq2cihyYhFQ',\n",
       "  'VzOg7STZ_CsiEFO7YB_qtw',\n",
       "  'LPxfyEWrRi4taBVlGQOrQg',\n",
       "  'P5lnFporvOSIzSd4RQcZcQ',\n",
       "  'bJ2LIbrDYwKfhyW1YipDPw',\n",
       "  'qSgfrlh-0tb1WTvOF9MEEg',\n",
       "  '1an5z-q9RhR7f8-2Y0wrxg',\n",
       "  'nrq_mN8JEtpDdSA8Ix6tEg',\n",
       "  'A98oyIEQjRKzRKxWpY1EMw',\n",
       "  'oUXyFijjGzNLfaoWj8eFXg',\n",
       "  'En78YVXLm4RFhiWkdQDhkg',\n",
       "  'dedlzmamBKRChNpeL3Ghjw',\n",
       "  '68K4-faklnWqqF1dfIoLpw',\n",
       "  'vc8vJ6BPlltswW8meQadAQ',\n",
       "  'QxqD6BsK49QA6s5858-h7w',\n",
       "  'peT4RI1Q7a_TNqF6M2jeVg',\n",
       "  '8IEeolXfEJORggv94esEDQ',\n",
       "  '_JoliHjSiCZPg-c00rbJpw',\n",
       "  '0SaYaMofOMHAyL-pdAE9qw',\n",
       "  'F-0xB9lk0jy9DZ6mcrERZw',\n",
       "  'kPd-sFNNfsZl9CRZGExXTw',\n",
       "  'Gr388h7z3_RbOYZA1XAuSg',\n",
       "  'zGF0ltxkEfssMXOsq-iQ9A',\n",
       "  '34rQIWU399gFKSfIhUBdCQ',\n",
       "  'irKAq2YTVZ94UFELljKd4g',\n",
       "  'OyDVgpXnmaMqchIfNy1NZw',\n",
       "  '3Og0gJhxRbke38r-dr1Bug',\n",
       "  '-tJ-0N1QBuTVNmp-W36kqQ',\n",
       "  'eKyfM9Z-frpISroHYiUzTg',\n",
       "  'i5-SRHcHZYdSFItl1YIC9Q',\n",
       "  'K3nUTWHWkQXsJhAvE7wKkQ',\n",
       "  'neTCgnbm6C1O9zv1IJ4Jvw',\n",
       "  'afHvWvz0sppgPSK_K48Lzw',\n",
       "  'C8hE4DrJYbvlkbFXA8QYJw',\n",
       "  'iIEoHEVZmICifHAUNl1Wlg',\n",
       "  'Uu-G806wOQIpOp_GUGWrlQ',\n",
       "  'Rxfk7HLY3z_q8Sy3YAcqXQ',\n",
       "  '_I0R0Z953y-zOap8EsG3mw',\n",
       "  'B2sPMEa73Q6FPgd8sZJueg',\n",
       "  'NdtrulqRL9DSAs-n3P3clg',\n",
       "  'Owa8z7z_2eJfFuqOzSSFsA',\n",
       "  '-VaTo1_SJ9oahw2h3iLmDA',\n",
       "  'yU6UOsWfIAtXTIcTh4NCLg',\n",
       "  '9QkUcqDOGKsKoXKXsKsoZg',\n",
       "  'X5oP3GJOi1QuHZ2wb9yRWg',\n",
       "  'ngrRwAdywSmtFCIgfqtrRg',\n",
       "  'N5WfnCuB-rsTLsCx-o62zw',\n",
       "  'XMChlapRvZXNJ0K0VqoE1A',\n",
       "  'aLZUcKpzDPAh2EMQZ5e4zw',\n",
       "  'YJcE7rTDSexFufrhae2uwQ',\n",
       "  '7qLj5Ql5r3hK-upw_mqRHg',\n",
       "  'oDiPtjw6ucNjGeYoCp3JCg',\n",
       "  'y0YQSf6ea61SuD_T_yb-gg',\n",
       "  'I2SjO6O7oZ5n08m6Uya11w',\n",
       "  'kH9VnKAWzMElhcu48s_6lw',\n",
       "  'hi0046nT-81wB5O3jPKKtw',\n",
       "  'pKnjKkLGvr7c0ebevDGR-w',\n",
       "  'iJWFrPDyJIC1R2PkQTsDwA',\n",
       "  'wKHWeRCWKyLNT5Z4aEQCaQ',\n",
       "  '0dXkJyYqGWuvJPsw9TDJ5g',\n",
       "  'bARueY6u9zjzmX8iail6mw',\n",
       "  'd69qyNypV89-kYRaKp5RCg',\n",
       "  'XETEaZBWFcDf_UziizJCuA',\n",
       "  'lNT2ajeICc1bL4oaXG5vUw',\n",
       "  'MJwgxANfy34797UNA7wIlg',\n",
       "  '5QOwWwuSwzh5Cnuq0qzD4A',\n",
       "  'nno5gbiSFJn-GkBDlvIOjA',\n",
       "  'pdxxluBE6lZxLGDuorITFQ',\n",
       "  'LDw1CoNECLRW0lwmHjpO6Q',\n",
       "  'Elb3I776-RESYyIFvLiw6Q',\n",
       "  'Izma6x3_7XnxxxHR0CL-nA',\n",
       "  'zHZeN_kVylFiRIUHrGA69Q',\n",
       "  'cAp-TBVHx2FAWIOhhE_7dQ',\n",
       "  '8p0fW-bBMFWyz6ZOPX4hYg',\n",
       "  'xJpsI1tD4FmBi5UUeXwRcw',\n",
       "  '6cK43n2zfltzRCfxfXI2jQ',\n",
       "  'RLPO2kSd3841SYs2cTxcEA',\n",
       "  'RL4qdzaaw9dTpzUPxspLJw',\n",
       "  'SazoUGSnI0-lC2Am3pNLUw',\n",
       "  'qNb0UCHCYOajhUhiRvNHUw',\n",
       "  'Lq9fUGL6QT7A9ZxeCC5ZPA',\n",
       "  'iD4qk3WamIPQicuLQVXkyQ',\n",
       "  'zViHd33Dh5FQAa3G31I3RA',\n",
       "  'F1z5dH9O4cvD553Q7A7NmA',\n",
       "  'RsPqwWsSLoim7wPTUzbEYQ',\n",
       "  'JrvKKsnt8lDczjqAdWa8AA',\n",
       "  'BD22gtWnV4MH87oMENnAng',\n",
       "  'yqN9z9Xtr4J9W7C5Re9J_A',\n",
       "  'iRYUTN-5aBftr7NsFyk5Eg',\n",
       "  'OMi_Pp7MQeVz7IDkkWYi5g',\n",
       "  'DZ1xC5w9pzXUEvyFV9mzhw',\n",
       "  'pc3n7hox8ZW_I6sVWpb6-w',\n",
       "  'ss-GLS8MgkSgDwIVjScrmg',\n",
       "  'tQgo7aoOWBVCq0pe-LkjOA',\n",
       "  'h1Riulm4p0EgBP2IrSUyZw',\n",
       "  'nfrDlQi2Ygpv3vZe39u9UA',\n",
       "  'IJVye8xz0W_CJp_y0s7xjg',\n",
       "  'VYhl5C5U_8Gxhq_BmUOyuw',\n",
       "  'uTt9IUQnSf97Xi8uV5xOww',\n",
       "  'nFaVroFc4LYpssbBK6-igA',\n",
       "  '0Nk9RjZ5h_5USLUiyO_E0Q',\n",
       "  'IZsK9-TDgAnNnDIW1Xb8_w',\n",
       "  'pgKLaPt8Lb9cbFX4dtKR7Q',\n",
       "  'OklLjZ-RxIBA8DZcyWxLhQ',\n",
       "  'aWPMTWFMchzh0hnIs9lvGg',\n",
       "  'fQjPz0Z0ruQrMlQoAw9tDg',\n",
       "  'WFtKRyrCEyFizewYjlTXJA',\n",
       "  '20fhiXdIl1zhwdPAQDKxSg',\n",
       "  'aqr7oxKnN9U-A5p_X5g-ow',\n",
       "  '5J0VrXhYBOr64nh6HI1cvg',\n",
       "  'xRZBVvCJy8LOefuwgb99Rg',\n",
       "  'C2XfwSRS1QVlDeAU6xgdaw',\n",
       "  'tw9OfiMzNqAaqXC8QGAe5w',\n",
       "  'yV1yYbVAxd8wF9uN2MkE2A',\n",
       "  'EHqY_4SZgHD44a3e1OQraw',\n",
       "  'kNs5m5bG0oy79fvMRHiWFQ',\n",
       "  'Inf1xsXSMgf3vpCS0VIalQ',\n",
       "  'IeG1iH9ek9yVfpSkhihySA',\n",
       "  'X5zBbhPcFi_8gEItjmvKag',\n",
       "  'utS81AAuzvx-U_UKOoIE0g',\n",
       "  'nbqur14i77qj_8IynaRlSQ',\n",
       "  '3dWLMGvRZmrQRkGaJE0zmw',\n",
       "  'gTslBmlwNw5-K6K2LLrdmw',\n",
       "  'Nfxj40Gdq2OhO8PmEk-6fQ',\n",
       "  'YoEuFGE5TeldSG6mpy_EFw',\n",
       "  'wbMhkWYuqx9eCgIJQ8Q4ug',\n",
       "  'k22EyxgpxJq7J9mCI2xBkw',\n",
       "  'VaWmly7z04S6zLaIwG5L2A',\n",
       "  'Zkq66j6ic1TLuCSoPMbFfg',\n",
       "  'HMcnkfJNIVUAUACTsxvhVA',\n",
       "  'qkf5LR-LE_kUk7BkK8kaLQ',\n",
       "  'NKB7IBjeZE9-6CKz9QBKng',\n",
       "  '43CW_YhnAhc9qNuKm_Lg1A',\n",
       "  'zQRDZeqe-6ZlIxmMuPUWZA',\n",
       "  'XmWi767KQqzmEAbKkmvCXw',\n",
       "  'oubybazkX1ClSHoS2vtoVg',\n",
       "  '7r4QvhKhOn43pd5ZVn0zDQ',\n",
       "  'MKZ-oPZ6GFycjo8atTYNUg',\n",
       "  'JOWzxegVo4aCeRTNQEdZPg',\n",
       "  'M12q2QEwFVjw6w2cAvBCwQ',\n",
       "  'WpuRJQ9kg-BSwKQUGPB9zg',\n",
       "  '11ujrpMxXab3vbd6j7XgBQ',\n",
       "  '8_08knWlDA6ZWTPiZq-dLg',\n",
       "  'F2GrPypqpy1Jc3Muli4Jtg',\n",
       "  'dPybNP6HtDl5kFSlawotCA',\n",
       "  'DBk_p2P_EtaqZUWTiUlQ-w',\n",
       "  '4xAEcgpc1L6kGLocu2gIBQ',\n",
       "  '3pniCWG0VIUiigDh3QroPg',\n",
       "  'Drn9MREXomjFx_Y-v5jV3Q',\n",
       "  'kovZRE6WNljXmoZ7Fza91w',\n",
       "  'm9uuw5dqFUz0A5lJGXv4Kw',\n",
       "  '4TxvNMbN0y8bBiN7uEtCiA',\n",
       "  'GWKnU98sLyazV64YOJO4OQ',\n",
       "  'OnpDiiYvd2T9KD6RlIyi4Q',\n",
       "  'g01O0JBuXHT38cI1j3wDsg',\n",
       "  '75Un9WNgyRb4My9VU0o2dg',\n",
       "  'BM_3HnLwi0nqnlEiMoEqtQ',\n",
       "  'I5knDBmh9yn1zB7MhSJTnw',\n",
       "  'NMI-Zo4OEcoy1e4QUkxkMw',\n",
       "  '_aZRrduINN6Tyoxk5BBeZg',\n",
       "  'pDLJptud9_eMt0jJFz9R_w',\n",
       "  '55p5bdHUpp_TYt7Qnleyyw',\n",
       "  'oZCBknxwEaHBKAoyAKchuQ',\n",
       "  'adRLC_e-78P-aLwqlJj5CQ',\n",
       "  '88Y-wGjKfGmJjowKVuxalQ',\n",
       "  'iNKOrGmau-5rJWWsv8kEBA',\n",
       "  'E6VLj-mqNbC6Ptp6oniqVw',\n",
       "  'TUTpkeO_uZzTBs6xLDhcQQ',\n",
       "  'E-mDcuZjW0lCTMe4elh_RA',\n",
       "  'laO1wNBuRzWFZGIuDPDhVQ',\n",
       "  'zo0MuO7p3X5XlHjbTzMHWg',\n",
       "  '3seC82yazNXJRzuuASxozg',\n",
       "  'vlDDJZZFUefPIVHU9bcRgA',\n",
       "  'kO7-cHiUrWeOrUVmAPlw3Q',\n",
       "  'xmJceZh3SJhY1zeQ8eYkrQ',\n",
       "  'pqBBElYprrFG4XHIq0G2mQ',\n",
       "  'pG0TWs9CWi1kKEQqM9_41w',\n",
       "  'r6FHrT1a3eClyLya-tcZcg',\n",
       "  'JCYitVpQDn4y3ZJkGCaBeQ',\n",
       "  '0TploMKjNCHbcjEoi7iSUQ',\n",
       "  'mRPO-eFV7x168HKV9RlSNA',\n",
       "  'nmx7in4cGalzGIZS-OJy0w',\n",
       "  'eNedMjnMUdkTNcKu23gT-w',\n",
       "  'arTH2wn7wS2Y3ncOj02JEw',\n",
       "  'HDpq4Aih6CeyT3oxTT5SLA',\n",
       "  'HAecPxTtEJPPMRyCyjDWWw',\n",
       "  'lDrMEw8FZej9LE10kkNCGQ',\n",
       "  'vjFkP7Nu_cWLInyWowy1Cw',\n",
       "  '4NUf7WTleFhUiSVY4o2E5A',\n",
       "  '6uU8AuRH_775FcKEjaLHCg',\n",
       "  '7pFwWM6aQDH9XBZhPxcBqg',\n",
       "  'AwIhEwg3NVuKXEwrSAyE2g',\n",
       "  '7bro0eSEIF9OkdAJAvDpOw',\n",
       "  'ZOj7rBusV6LIfbU0NjeU4w',\n",
       "  'ToQPBXhG81JJC71jQOjJSQ',\n",
       "  'zeyShPJ9ySFoXSG6wStXEA',\n",
       "  'IgMzaWFNLgV-xiF6-NicZA',\n",
       "  'MvuDPqDHXJjDUlMltIUrMw',\n",
       "  'fHj6_ieBdY_amxtLudxmeA',\n",
       "  'WAHq9buNzMH8ut_I3oDBvQ',\n",
       "  '7qQO6bieDdeZ7dEUARnqPw',\n",
       "  '3cB_r536Xdj8NZ5cYuJNiQ',\n",
       "  'nCDsxy40Ti8HJc83iuStfA',\n",
       "  'WKsGLSKSzsJsxhLDvBc4Gw',\n",
       "  '8zHl8NO--TXC_Ju8Z2OHow',\n",
       "  'Z3SNk_pK0J35Pe0mBlOxNg',\n",
       "  'KB6iJxTLFEPmePE2Z_VnuQ',\n",
       "  'ePw-kP4iomn5qcSqZQk8-Q',\n",
       "  'EKYG9yk9ABKT-vea4CeQOw',\n",
       "  '8mI84KrLgTbdA8tAsTz3aQ',\n",
       "  'NgkIpfkrC2MInuIdYTRfXg',\n",
       "  'ajgLvEixFBsEL-1cp8N3oA',\n",
       "  'ft_LwAlGm93eDsgsx4778w',\n",
       "  '5-R8BP1t5PLdjg0vN4MXyw',\n",
       "  'CoZExlMVklGWTK5ARj_G9g',\n",
       "  'o-xCcpJk6recQXV3vxj3_w',\n",
       "  'XBSz5tKWMwMhkT29kha8kg',\n",
       "  '6nzHh8TCzFOJVvxL3t08xQ',\n",
       "  'yd6pJkDa2Wv3nKidrIltgw',\n",
       "  'b1qwm454pb6uITdYpOPofg',\n",
       "  'Lk9r_BDf4k6y8kh-16nf5A',\n",
       "  'pot7Bhwm5lVWSrjvU_7Fjw',\n",
       "  'kpZxmKZU1zkApBcHhr3xAg',\n",
       "  '2FZycH5YJDPDfCsAmaTpaw',\n",
       "  'M5fPxv4d8_26ItHECkoZdw',\n",
       "  'A8p9FC8FA9bEeOdCwoLRjA',\n",
       "  'GBEA4sNYwl7tzoag9mpeeA',\n",
       "  'kpK3gh5svewDwxp700kQHQ',\n",
       "  'uMbHglL5KB0RfFHdrRbzfA',\n",
       "  'Lj9KT50sYHTOLMcCzD7HTQ',\n",
       "  'Xi0jH-rcaVbCr9DbPSnswg',\n",
       "  'EudBkyOgcBN1SJfUGVHmlQ',\n",
       "  '9_vAnSJ69P_lvcU2rCXu1Q',\n",
       "  'JXYzw6hIRQA9CvI6nzPptA',\n",
       "  'ixahPOFMhM2LBoH3pywUOw',\n",
       "  'y6uZ6i5sWz7odPEKEnUrqQ',\n",
       "  'lcxH_zgxCFcETg-YB-ARSA',\n",
       "  'oejrYXkHIppQ9IJ1tSRopA',\n",
       "  'ziowOxHYggm5gEN0ZShAjQ',\n",
       "  'iH4R-Z5hcoBOtxrdWHV2Vw',\n",
       "  '6u-ClRDY4Q1XrEUtyfeNCw',\n",
       "  'Vfz3RzV_-RhqSR3SISv7DA',\n",
       "  'zfBc0F96Im_ffWpYG2JIeA',\n",
       "  '48HitWZ5bGh9R4efqaTQjQ',\n",
       "  'eOFg8gg8yblafgmZcF3TpA',\n",
       "  'z7Ep2-1agcdBDT-zXy7CHA',\n",
       "  'Tj---nfzPn49zVsXlyvlyQ',\n",
       "  'HsAoVGfLm_bHHpfyPOgnTw',\n",
       "  'vGE0RMZTd_RRV07KIy0wbQ',\n",
       "  'lWgDDZgY852VdA50xKinlA',\n",
       "  'BqIKfOC7R_kGALlaGpTtzA',\n",
       "  'd96ExXVdLi8f0pxJtvHPFQ',\n",
       "  '2zw0j0H26MyjEIQGBWXMfA',\n",
       "  'NGUUoqSaXPWBdjjSsuXa8A',\n",
       "  '8yRML8b04YkKks9U0seUxw',\n",
       "  'cNGiKWi9jJD4kKHa2H8zBg',\n",
       "  'rIHFHf2TIPAfFH7NBV3a5w',\n",
       "  'ATpjfWjp2G0PdghFU6ormA',\n",
       "  'TsVXP2J27rlTFilGjbG7Zg',\n",
       "  'gkttGP-pqlF5nXarKQiX6Q',\n",
       "  'niKHeogAcc0DFfd02vX9-A',\n",
       "  'xgF88_etwB7wf167LgkueA',\n",
       "  'tN7XchkN6AjyAqUKmxtIrQ',\n",
       "  '0q3JZUpimiSWXyyNg4tR8w',\n",
       "  'RawoaPUCpwb71Pa_eLJyGQ',\n",
       "  '2F5moQsM3inTg8-8G5pQVQ',\n",
       "  '6p9isnAKRfyeL_BYwbfivQ',\n",
       "  'vQf6-GVwvkjVOo8vtthHXA',\n",
       "  'qHj7bmo_5uTfDelKsiYAmA',\n",
       "  '3-OBD8cdpNTPw2k7i5ck7A',\n",
       "  'lMdQ_13gu4jIRHlMqeacwA',\n",
       "  '1QPIsrRRWLje18XAguJj5Q',\n",
       "  'jyMe8Z9AiSCNjgZREcqkWw',\n",
       "  'sKHOGDfRzhdbbib2AKjm8A',\n",
       "  'qBvaNWD6uzA9pfMpDjVR8g',\n",
       "  '_UmSy9YuvLIIO2ExFuWnmw',\n",
       "  'HKbkPDNX8pg8tp46QuaZjA',\n",
       "  'Dn-pTXxr6WV5AaebYLhK3g',\n",
       "  'z2cw-yiB6yTYVRwxSJeTeQ',\n",
       "  'Uv7MWE1o6N2bJbqT1_fiUg',\n",
       "  'zhjAwraUThKMVJGDlLgylA',\n",
       "  'bQepL8Neo32jk9CcU7FGaA',\n",
       "  'Yk4cpZRPsC_uJmuMVFVH8g',\n",
       "  'agLeSNQzxGXL9aaGv3N_MQ',\n",
       "  '2uFt8tYRZSVTE_JlSWARzQ',\n",
       "  'Z_b3u66360Gv_hHbjXx_tw',\n",
       "  'cSPJ3L0M0h6Si5n3emkqGg',\n",
       "  'MBkbwBtn6DQSdphjdc0I1w',\n",
       "  'FsAUYISyyn0KBOAvPnriJw',\n",
       "  'w6lJh7Ru3Eno7qFd8omrFw',\n",
       "  'xZf99KrY2G_5uBV1C9DhTQ',\n",
       "  'HHtzR2By3AIydMjKYSuUDw',\n",
       "  'vHjvKAVtepT6UpnFDY29BA',\n",
       "  'oTxpq4dkEqryLvWOvO9Qdw',\n",
       "  'cl-v52VIe_R4_cAPecgerw',\n",
       "  'luElZBSwzgQT7u1bxTb6UA',\n",
       "  'RG7b7HqEHNbl-vYufWlkxw',\n",
       "  'Iqh-9jd4u2jc4zFbyzvp1A',\n",
       "  'g7DuN3z6ON7wpai6cLqCXQ',\n",
       "  'WOPfFx7DgqgVaH46TPpqaQ',\n",
       "  'KpSvH_5CZJqsHzVh1rk70g',\n",
       "  'wCaFIIiwU0xbX5u3zetkFA',\n",
       "  '653yBS71YJSLh0YwsZqFlA',\n",
       "  '_3_4cEZIe_dXD_H_IkCxLg',\n",
       "  'ccmO0PLtPASCd06VsUwz-w',\n",
       "  'di7Cy7aALgbtG4nEhBBFiQ',\n",
       "  'SvhJwMYMcqzfVobZEyUNCQ',\n",
       "  'GXMt5YoAAf4ELNhgBhlx5A',\n",
       "  'Cho7if7SKHk-0cnnlYcjcQ',\n",
       "  'wqAhMl2Hf0q5TVZw9vBxqw',\n",
       "  'T_ocXJVUaE9JHxaBmqLmJw',\n",
       "  'Bu7T68Q8UU0WsWi24LIn1A',\n",
       "  'j9ywzV8KFXHg2o0zaNtBHg',\n",
       "  '8n1t7IA2tfLHbrtCN5LYGg',\n",
       "  'V_QPto40bbd_F3NPZMkgFg',\n",
       "  '16ukfpjOECzNWdxdwpDMAQ',\n",
       "  'eq7mzYiOW8StH5q0dtxO9g',\n",
       "  'DysZUMxwD7ddu72_nLejAg',\n",
       "  'xgix3IZioIGUX93dV_diyA',\n",
       "  '3eDhFWk31GWxac3bjOo3DQ',\n",
       "  'xiq8HoLUNgcDo5dGxNiF_A',\n",
       "  '1KMSzp7-UdUmEb5NCdnTmQ',\n",
       "  's3hArPV67A-_CHe3eeC6nw',\n",
       "  'fCMV-wjD4sMMOTfslVe3pg',\n",
       "  'vBddubSbPcLNEQwkMSkDqg',\n",
       "  'gZAMB4q2pduhfU_xXSAJFA',\n",
       "  'LVSVBGYwmbVtma63r9aALw',\n",
       "  'ImGmiEh0by2jffUi82u8cw',\n",
       "  'Z9bGtaIY5T797V6mmf1u-g',\n",
       "  'wSDd-xUFtY4604fiom2q1w',\n",
       "  'n9kFHTgGBNrYTpr3Zpz_0g',\n",
       "  'BGTTYkaNamV9fs8yBLLg9w',\n",
       "  '5GQ3JFPz8peSi61WyQhj7w',\n",
       "  'UPuA6EEziIkbAf72HhYz1Q',\n",
       "  'NXhbtv2gzJfzkyJh3-16bw',\n",
       "  'g9ljR0lB9YnSOoMC_hh0Jw',\n",
       "  'oUndwddsYIgZqwsBPbW8Bg',\n",
       "  'OG-oeLM7ND4xO5Nj2Z5Swg',\n",
       "  '-WdVl-WzuiEeCPqJDiwSbw',\n",
       "  'DhsXFYCX48QIYAiOsb4BXQ',\n",
       "  'iCTxKlCXwCPr6vqBoO1yUg',\n",
       "  'y7waOFxZY4DGaMJ0RGy8QQ',\n",
       "  '46lKNMIuBbeFUC4pch4m6w',\n",
       "  'notAUlxTi-WRuq0feIeRYA',\n",
       "  'E1ODUzpIx-PjpG1lvgJs1A',\n",
       "  'ueYXDQhcOjmF2ajX4zuVzg',\n",
       "  'oyFXg8bXUK4Gxu1nAo3YEg',\n",
       "  'MvclH7KkY7ozNPhWJRUg2g',\n",
       "  'm1eZcr6YbtNqd0D62Buj0g',\n",
       "  'VBwIaYqr-Sr4udtQneyPxA',\n",
       "  '2hjyonCO70HIfnf2Sp-FXg',\n",
       "  '4fkNlMSbKgPPDYV4Ipe2Cw',\n",
       "  'GJ6fcM7z_jQje5eflGb0ng',\n",
       "  'TtiGUs4ieJCReY02U0wMDg',\n",
       "  'GrKpl576uSgbw51LQn1xZQ',\n",
       "  'cSDQ3P2EI2m107E8ryUN3w',\n",
       "  'IOM8wtyjn4tA6wt6uCa8Sw',\n",
       "  'ezznolnoFNMqZYCuvH-zuw',\n",
       "  'ZFxlK_F3NDVa9dvenye6YA',\n",
       "  'ztjZiMlEwNYpR1mzKbEuwg',\n",
       "  '2XQsOi3YSkX613mInGmWFg',\n",
       "  'VTMhG9gNpTXwuHzfCAO6zg',\n",
       "  'cKoigqSMGQqh8MJHE0RqqQ',\n",
       "  'm6sVphq_NG4174Q7djKcvA',\n",
       "  'N-0_JVIGTHd626-j2l-29w',\n",
       "  'vD390wQPJnfjo9ZcdzNQ0A',\n",
       "  'VI3E9KPa6FY5NhHW36_O4w',\n",
       "  'gfybaNXMI5LDJfq5LlR4LA',\n",
       "  'eJKzO9WXfXspXfCwR1czDA',\n",
       "  'PHKhDsNmpYuQbH6g5HkeCg',\n",
       "  'AAPBRsu0LUhWJwxIa-LgvQ',\n",
       "  'nbTfc0nPIhpHH6bWSkSLzA',\n",
       "  'POimntf5LSMVk4L1LBAHNg',\n",
       "  'JkujAXROuMckPFle-PtS0w',\n",
       "  'adRkzHfwTYi2YcdYxVhlZA',\n",
       "  '8oUysFEvvSrTT-0H4Etxvw',\n",
       "  'lEeMEQDJAClAcpPvNRnlpg',\n",
       "  'w8ein3N3u1szKigJaIdOIA',\n",
       "  'FiGJx8jiKqcJ_IX0p7mSyA',\n",
       "  'FUjYeidTaUm4WsJfyBhrdw',\n",
       "  '2XhLN4EAzbOO-7uf26iQNA',\n",
       "  'Up30iQw1nXV6GoJqdiLLUw',\n",
       "  'pvs1UqsTpCMm6Dr-FAivUw',\n",
       "  '5EI7xmLinok2ey81mnJBMg',\n",
       "  '0qDYrnqG2hEHMyKxXlv8YQ',\n",
       "  'SyhZY71k4Sa3WhSb_ObpsQ',\n",
       "  'KRNu8wMywYd-zvSJF_E6lg',\n",
       "  'mtrfSQpKtUwPrhEQ3tfRLQ',\n",
       "  'fxsblwMGP3-_uyFYjSqxFw',\n",
       "  'n1PunDAeFE29EsqaWja66Q',\n",
       "  '-po2_A8iXPNr1G58PbZjxQ',\n",
       "  'oVFLwUyHjPdCmJSDYYZ9nQ',\n",
       "  'N2cOWBWlVDzW7gGvGtr5vw',\n",
       "  'eLcgiwoR_pXkO-2Nl22w9w',\n",
       "  'OAFTGDCsILdaNm8Pwr9z6Q',\n",
       "  'M3D-FaMCJCypfzsYcdHyLQ',\n",
       "  '0R6-qkPCGUdg0CUF7TMwHA',\n",
       "  'EE6_PHWY9hArc4H4OuJA3A',\n",
       "  'Mrg-07UM4cevKWoikckCnw',\n",
       "  'kaoLTMVmBbh3tTuGHsfmiQ',\n",
       "  'v8jx8U7YlAcivEQwok9cAg',\n",
       "  'Rypu2KpD9EVJqbba_3ugGw',\n",
       "  'L0qE9EQ3AtcZwSEQY7aX_Q',\n",
       "  '2vDJ9zuHCjLCFTsGNGPjCQ',\n",
       "  'Blsjvvk93HeYQKaIJsllaA',\n",
       "  '7Aj1oTWumDpjgFR0YSmDCQ',\n",
       "  'Ko1mw3im6fH07peocC2R4A',\n",
       "  '5Jtps0nuSJB6NYtHuvwzWA',\n",
       "  'v4jfxbBbdnw3LZNaQn2lDg',\n",
       "  '4irazE-jPRhpXUHiyI8oQA',\n",
       "  'GR7XmZ-_Orqj8JRIklyEBg',\n",
       "  'UQhNfgLHdSYidaVL8bUi7A',\n",
       "  'u4mU2ILFPPrcaThW7UaDNw',\n",
       "  'PlNBqHvsKPMueUnbJa2VMw',\n",
       "  'spCh5gZ3935eGlGZZYlXCA',\n",
       "  'AVlG4hDL7xEdEKlERMa_Vw',\n",
       "  'hqTu69FTskKKlXUBuao8Hg',\n",
       "  'ecPrQIfJc2RbtoBnBuIv9w',\n",
       "  '3RY-jFrUSm5zsd35NpB_Tg',\n",
       "  'cq_4FXXtktArsceWzWz_5g',\n",
       "  'z5xNG2arhC3d0l2Bspn29w',\n",
       "  '-Df2lXKkR2dgKNFfFw6U-A',\n",
       "  'EdDojQKutFTG_rNlfJI-dA',\n",
       "  'dsYZHwXZZoJYcZefnTZRMw',\n",
       "  '4SBHWNHdpXMGP9Rc0rACgA',\n",
       "  'B_GELOAHFE_2MICWgMkD9g',\n",
       "  'sHmIhP6g-r1TBLBMBPyXew',\n",
       "  'pk_p4DesP4xR0WG1uaXsqg',\n",
       "  '4URB6vkjkWPbuTB-qLdoxg',\n",
       "  'OUKjt3vz6rMPf7vXO9xGow',\n",
       "  'K1rRfDwna09kwkDRxGy36g',\n",
       "  'D0qGz3sfAOcCefgwkiKXJQ',\n",
       "  'Brgy9HAA6Mvdtn_GefwsLg',\n",
       "  '0UIwxccg3uYe7_ZQkcWS0g',\n",
       "  'TbyTVamFGS3aaGf1W0yd5g',\n",
       "  'lBhri_Fkj1c4aA5-qjIKPA',\n",
       "  'ujV_ADdMDzcCNldhRuTO_w',\n",
       "  'Uyln7si-qVyGt8r0AkYJBw',\n",
       "  'vGtogcjwcUCt0GT3_-ihIQ',\n",
       "  'FMXqelif5F4_-cZqcwc20Q',\n",
       "  'wqmwBSPvnjvaxTHNz8HFlQ',\n",
       "  'hJbWfJE6h16D0qnpfHyb3w',\n",
       "  'hVj9o4EfB_E3euYhMSTMGA',\n",
       "  '5aT6e6K74W6UeNvANoApXw',\n",
       "  'lAKGhjw0VcRpXqBmj3IIVg',\n",
       "  'bCJ_Fj30NYG4BMEyxnumLg',\n",
       "  'W5RuSXF9cJ91kurg30WB-A',\n",
       "  'EIM_aeENmeX4fNgE2ufONw',\n",
       "  '8n0CdR7el9bw-aJAHJaB5w',\n",
       "  'RWU9fOV4b85h3mzgSl0ybw',\n",
       "  '8toBaUEYr0Yn0UDFF5GwrQ',\n",
       "  'Thg2vip6NcFmHhtoUU7Yig',\n",
       "  'RULzRwOMA6y2P-Ln_jY1Yg',\n",
       "  'lt5t4t3YNue5_Rdk5XaBZg',\n",
       "  'lizXQ1aG88dIUpXdOrU0_g',\n",
       "  'wmLRgt_V0Au3DBTVzIN8tQ',\n",
       "  'FcIj1CtRSVUY34p0C8oQ3w',\n",
       "  'gznQCRViaVC1I5oHWzlEbQ',\n",
       "  'kOQwsrF30drJ447Vb65fkg',\n",
       "  'Q4sj7AxyuGtMqH0W5A1p8A',\n",
       "  'ewMjcU_X0P0H-Qc60CXJfA',\n",
       "  'P6tIgXogsRGi6KJcQF9yzQ',\n",
       "  '9XPdol4qHOiqSI0iCs3n4w',\n",
       "  'NHmIVWYNORQHWc-GICuolg',\n",
       "  '00n3RhjbOvxnfgl-g6Pq7w',\n",
       "  'nCZ2GhKdZYIgz7-TWqLAhw',\n",
       "  'T0BUVmVKWs75xYdwaTFWbQ',\n",
       "  '1awzAe8HwDfQv-u4fNDAiQ',\n",
       "  'C7435ojin8mx-y4Nr0cKCA',\n",
       "  'Y12uo9itv2uaD1HQMS5OaA',\n",
       "  'tucfLLK-w9JKZoeyK3BzuA',\n",
       "  'zpVxJAq3dTuq_JVbuLWxSg',\n",
       "  'X_xhfWr-bgKYksJBKNG2Ng',\n",
       "  'gFKmoOO5oTy3cJdF6w35BQ',\n",
       "  'gSGldja3-Rm8OpsGzHUrwQ',\n",
       "  'yL3STu3GvUQK22bTMXWeZw',\n",
       "  'lfxTSDzd2mI5LFrwbzcJkQ',\n",
       "  'SefoujqAr__gvc4cR1d4uQ',\n",
       "  'xXVgwqiCdrcLNuU5YAzpaw',\n",
       "  'rjxCkJYWCNmkzYuQaHtpyQ',\n",
       "  'wJRBxhNi8kWJpoZEN47tvA',\n",
       "  '_I3K7GBXwXNikfaDutBI2g',\n",
       "  '6nCYPjPGiqY_91wwxYlUtw',\n",
       "  'O7icvCBBoBdqm4zBgF6Z3g',\n",
       "  'oIqsOIic2-91_gkNjPzaHA',\n",
       "  'tW1Nbby0OQZ00xdjiVP0zw',\n",
       "  'D6AwO5jIxjId4TBHEu6ZPw',\n",
       "  'mFgSvPspgh3pRDbD4U3roA',\n",
       "  's_djlPBN_nAClaf6EhnAEg',\n",
       "  'Ju5iW1lQXkkSzj5N7sICyg',\n",
       "  'JvNM27WuKFBe4dzbNCD4nw',\n",
       "  '09Ip5UIaTQ51bLc18kHN8g',\n",
       "  'oE4FcXsTN6wpD7K6gidV8Q',\n",
       "  'I5H5Q8vn0rRc0agjMYJ-Cw',\n",
       "  'YrLTyppLQjTvH1WwDPyzyw',\n",
       "  'jNDqEWfc7tOLIz_wBLToGg',\n",
       "  'DFjG-roIveWPxMs53cXf9g',\n",
       "  'uMGG33vqahYT264O2sSmgw',\n",
       "  'jGmTEohR8jvMPpDtUw_YVQ',\n",
       "  's1puMKuw3wc1_n8_tsCMbQ',\n",
       "  'O06JJqhHxTBhMxC4z9c21w',\n",
       "  'nJStPD1C0exUBxtCQTdr_g',\n",
       "  '5filPS_HCIUNA9lsCGJP8Q',\n",
       "  'tUrO3ebMN0xq0tZc_sefQQ',\n",
       "  'DBaZ_kA6phB1VDG3S9KwBA',\n",
       "  'HvfpGijkno_KQALJQCXGqQ',\n",
       "  'DkdaDcitgvDysoUUJIe1Ew',\n",
       "  'AVRjmnA44hr7wZDBNyeKVw',\n",
       "  'JddcHQiqShjRkkARvthNyg',\n",
       "  'gx8vg85GyhOYOVKRAh6eXA',\n",
       "  'yAGVISz1EUBHErd0ZvzvLQ',\n",
       "  'z2u-dsv1y23ZN3rSWdw-qw',\n",
       "  's4kF1ttLn1ysydZavP0xKQ',\n",
       "  'glIxTj5SNykz4-7NQioDnA',\n",
       "  'YGFP6YfhjCmQVSBA19Xp-Q',\n",
       "  'H5xzP94yhFgl0gWO9kHsvg',\n",
       "  'yw31BZ4qKcIdqnsNitzMSw',\n",
       "  'O61Fr2l0ddStq1zsily9BA',\n",
       "  'wKLm0DY6VzMSybkBrGlKXA',\n",
       "  'niB1T3C5hvTBB3yOHqIcEw',\n",
       "  'vC__iGBZgUBp2jK7fC88OA',\n",
       "  'Wy8e33RW-TjttAuH_gc8-g',\n",
       "  '54tom1lYpQ9OI7IsEtP1Nw',\n",
       "  'PO4hdCNWSGt3CKsRrgz51Q',\n",
       "  'WZAIBWQgZ8qMvHoFP7fgrg',\n",
       "  'zAnfCLRqzIPQToUy4CYmog',\n",
       "  'DlWFAkz8y_jFW-U8kXhfJQ',\n",
       "  'uSUkPStJa87O9QRh-I8Pqw',\n",
       "  'Jv4KMzHKs0hJ9egoyaQSOg',\n",
       "  '-WDpXVGLSYJK8I4KSRrgzg',\n",
       "  'uO4Ee3rJacHADUKpkv-nww',\n",
       "  'JtAr1WQ_Mu9RS1f6fjLHHw',\n",
       "  '_c5d4jjcUIMPWi3EVUmy3Q',\n",
       "  'aEw3LC64AQMbrMDuTJnsrQ',\n",
       "  'PXGbJGIswH6HM06F_4U8ww',\n",
       "  'b2m5HkLWSiluQqyuqg0DJg',\n",
       "  'eOIi4jWOEnM6ZFcgksZpbQ',\n",
       "  '5_nOholLhGQWNyt1C27pOQ',\n",
       "  'm4pHFDWndK7EwntYUBCvfA',\n",
       "  'Z8RF1RKG9yZdpxuroQFeZg',\n",
       "  'b3qMInKDNKEC2U366Tdgxg',\n",
       "  'uhlyxrSTxbiBJDROUGbgaw',\n",
       "  'nqXKaghFLAgWKD0W05THJA',\n",
       "  'YeAbLTzwrB4tNZeYZuZgfQ',\n",
       "  'p5le7BotxWx79qAruVdUiQ',\n",
       "  'uOuPCeIWAcm2ax7CjwTIJA',\n",
       "  'nI5Vhn36YvZwfd2WD2IT_g',\n",
       "  '0SuhGdr1VMp8BE-ezSPO_w',\n",
       "  'yF6hf0_TwjCew83WxFsJhg',\n",
       "  'FrgADMNkH_UIuzulPiznPw',\n",
       "  '8fuGIAQDH5YF_Bw9Jo8o-w',\n",
       "  'uK0G2gEEP5Gh0eV11BrMnA',\n",
       "  'wM3b5ez60c3HYml-TtyPoA',\n",
       "  's5V8DsbaJuCnkcrLE6Gmdw',\n",
       "  'wRth9wg0UREiaVJmWuywmw',\n",
       "  'H_4YIK5WgkCRZT9KTQa5Pw',\n",
       "  'jGpaTpvw2uOcCa0uQSaGUA',\n",
       "  'YhgkxFYTCoT_OOW57-Adkw',\n",
       "  'RnplTTLRxwGjBXVxLbc4xw',\n",
       "  'j8g_MYmNxPv828M3Cgkm6A',\n",
       "  'xbBbRzwVNdNZVCDz953UlQ',\n",
       "  '3gqtCj_1sZ_Y6-9AqmV1BA',\n",
       "  'mpW-CZZfYnQY9iEcx5wEwg',\n",
       "  'sAP5PSSLRBcpXdAkq8_QLA',\n",
       "  '_xtrtREZM8vrrAd9-ND_VQ',\n",
       "  'VItY14goOO7BB4rOrD9nnQ',\n",
       "  'h8SasOieU_wqO-xPVfEKXQ',\n",
       "  'GeRpzNV5tGqgwCvgz_1a7Q',\n",
       "  '4ST9rabGUGxSTcC675xvYQ',\n",
       "  'Gj4tPdDtcYbDHHtd09E_hg',\n",
       "  'OXxS5ETAI3ZiHv8Bs0Fzhw',\n",
       "  '8Q7InaT286RPsspm6YU5rw',\n",
       "  '5KxSnaCNKIuaK0WwGPWGdQ',\n",
       "  'bvqpa3YH05hpZXz8yBagWw',\n",
       "  '1VVYwfkvkityIZmpjgsyoQ',\n",
       "  'xzaxS4G1Va_LFGQ4FY6Ojw',\n",
       "  '-LTumz2OsabECAdtGx3DrQ',\n",
       "  'Ur2_t1wC6xBXc64BV3aEpw',\n",
       "  'lhs2nFPCCo9f-hCjojBvKA',\n",
       "  'LP2sJzZq3l3KqUQBgfairg',\n",
       "  'ua684v9pdMFAMei-m7V2Mg',\n",
       "  '4gjDdEOlNWUbp0i6Jpib-w',\n",
       "  'h_j4-CPsNuM05_QrDY7rRQ',\n",
       "  'pjVcK1SB17C3IuUw2BzZoQ',\n",
       "  'phGB3-B8M3GOlxuWySwpVg',\n",
       "  'cx-AJC53kOSopdXpY6TCpQ',\n",
       "  'NUADkjycQaayXWjgjz1CVQ',\n",
       "  'jAFe-fGyI92XE0CLCFoPmw',\n",
       "  'Oy6lXrYOMFOfKWdB9sZH1Q',\n",
       "  'WPDkKwCsMmGcKQKj52hEng',\n",
       "  'So9keDfd3kvdo4w6LAtr0w',\n",
       "  'SakrQmMZY4kXBh7oBKhTBw',\n",
       "  'WybYFZCa4ytmSx051itJfg',\n",
       "  'SV0DjN_Ddqz-krS6VdZz5Q',\n",
       "  'wn9Y_iWmyeg8i1w1w2ZSYA',\n",
       "  'fEzvixffTXjxNUXGg3sZMw',\n",
       "  'Q4zUX5l2wthWT-KM4q4Blw',\n",
       "  'dnBqjh2jCe8u-kk0UhQyug',\n",
       "  'KbD-ylI8ufVB6A6TqZzqqQ',\n",
       "  'fyw2HxDHT0OG1Izh4pCIsQ',\n",
       "  'JhfiVIcJTAyEtyEtk2kIsQ',\n",
       "  'OVAHuPGlAiQC0Xipe-56Tg',\n",
       "  'GWuPisrbNsNDHUMQ11ukrw',\n",
       "  'Ojk2_idBYNzTFLBCc-3Ecg',\n",
       "  'C_bxglwwSi9SN7PLU-znSA',\n",
       "  '2c1t2cRlvDcMR5r6JG4DLA',\n",
       "  'QgVPymRSSzsHLYXO9ir9DA',\n",
       "  'kQOK0A2ZiWpcfz2_oYSatA',\n",
       "  'L8Z4xIiNjiynLYDLFA6tzQ',\n",
       "  'y8dj24xEUBWwggJJt3dx4g',\n",
       "  'nRJTj67mccl_PmzHr8kqww',\n",
       "  'tW7lvIKwjz8i98uyt_XIjw',\n",
       "  'XcgTnc8jiEld7qiaB0NRwg',\n",
       "  'sovgUbP_zos-Tw7BlzORuA',\n",
       "  '4mLajcopPP4iQPPIBRvHLg',\n",
       "  '7UgaQRE4vfH4zHSj71HrsA',\n",
       "  'ZvxPSXK-7keSCXxK3Yk_8g',\n",
       "  'xdCQnecxbvof9n8s0u0UOA',\n",
       "  '90T9IyB-wdpouil319lVyg',\n",
       "  'URmOQGcc8RxMb9Ss8RrQJQ',\n",
       "  'AoVnCkdlMfsu-k-SynIgUA',\n",
       "  'LIH_bGFMcHOcJO4fwn8Teg',\n",
       "  'zkFj3twvYbBVJncd9Q-h9w',\n",
       "  'LcA1jNzuHtlBKiCt-RBqMg',\n",
       "  'XoA8ak1m-mpqYtc36HReSw',\n",
       "  'xmpuX4dJ9WqWFjUyGWrpGQ',\n",
       "  'mYJW4-M4tcRygSwdT3A6Ww',\n",
       "  'uU_2Qbq87vXYDb3PFQC8KA',\n",
       "  'Ncwtr6wiJe7nxhEd3Yx_3g',\n",
       "  'i9HVCZ6NMw1ZOS7zeGYXaQ',\n",
       "  'y8vphlB57Pd8GsqR2y6WYQ',\n",
       "  'O5NPqv-AB1zaxw_21X_rXA',\n",
       "  'yn-C0bAzuAG4HaGDaoU0QQ',\n",
       "  'Veh4zNy8hCKA2w7vNVLnzQ',\n",
       "  'pzv9bxL8e7EDQV18BZeRiQ',\n",
       "  '69wVEa6vxyOF3rguPc5udw',\n",
       "  'QuMT2HlSw218sWW_jHFGig',\n",
       "  '2Mk9Er1UXbO9XeWQNEDcww',\n",
       "  'X4VUnaklXh5JL34lVzQ--g',\n",
       "  'hxCq6htjZaRmVHeasp-rqg',\n",
       "  ...]}"
      ]
     },
     "execution_count": 82,
     "metadata": {},
     "output_type": "execute_result"
    }
   ],
   "source": [
    "cluster_details[0]"
   ]
  },
  {
   "cell_type": "markdown",
   "metadata": {},
   "source": [
    "# LDA Topic\n",
    "https://towardsdatascience.com/topic-modelling-in-python-with-nltk-and-gensim-4ef03213cd21"
   ]
  },
  {
   "cell_type": "code",
   "execution_count": 83,
   "metadata": {
    "ExecuteTime": {
     "end_time": "2018-11-12T15:43:01.473055Z",
     "start_time": "2018-11-12T15:43:01.334326Z"
    }
   },
   "outputs": [],
   "source": [
    "from gensim import corpora\n",
    "import pyLDAvis.gensim\n",
    "import pickle"
   ]
  },
  {
   "cell_type": "code",
   "execution_count": 84,
   "metadata": {
    "ExecuteTime": {
     "end_time": "2018-11-12T15:43:06.524888Z",
     "start_time": "2018-11-12T15:43:03.699943Z"
    }
   },
   "outputs": [],
   "source": [
    "dictionary = corpora.Dictionary(df['cleaned_text'])\n",
    "corpus = [dictionary.doc2bow(text) for text in df['cleaned_text']]\n",
    "\n",
    "pickle.dump(corpus, open('corpus.pkl', 'wb'))\n",
    "dictionary.save('dictionary.gensim')"
   ]
  },
  {
   "cell_type": "code",
   "execution_count": 85,
   "metadata": {
    "ExecuteTime": {
     "end_time": "2018-11-12T15:47:58.290886Z",
     "start_time": "2018-11-12T15:43:12.692215Z"
    }
   },
   "outputs": [
    {
     "name": "stdout",
     "output_type": "stream",
     "text": [
      "(0, '0.017*\"crust\" + 0.014*\"like\" + 0.014*\"get\" + 0.014*\"cheese\"')\n",
      "(1, '0.031*\"great\" + 0.023*\"good\" + 0.020*\"place\" + 0.019*\"service\"')\n",
      "(2, '0.053*\"order\" + 0.019*\"time\" + 0.019*\"call\" + 0.017*\"get\"')\n",
      "(3, '0.018*\"us\" + 0.016*\"go\" + 0.015*\"come\" + 0.015*\"get\"')\n",
      "(4, '0.033*\"blaze\" + 0.008*\"music\" + 0.006*\"mellow\" + 0.005*\"hand\"')\n"
     ]
    }
   ],
   "source": [
    "NUM_TOPICS = 5\n",
    "ldamodel = gensim.models.ldamodel.LdaModel(corpus, num_topics = NUM_TOPICS, id2word=dictionary, passes=15)\n",
    "ldamodel.save('model5.gensim')\n",
    "topics = ldamodel.print_topics(num_words=4)\n",
    "for topic in topics:\n",
    "    print(topic)"
   ]
  },
  {
   "cell_type": "code",
   "execution_count": 86,
   "metadata": {
    "ExecuteTime": {
     "end_time": "2018-11-12T15:48:04.667467Z",
     "start_time": "2018-11-12T15:48:04.374936Z"
    }
   },
   "outputs": [],
   "source": [
    "dictionary = gensim.corpora.Dictionary.load('dictionary.gensim')\n",
    "corpus = pickle.load(open('corpus.pkl', 'rb'))\n",
    "lda = gensim.models.ldamodel.LdaModel.load('model5.gensim')"
   ]
  },
  {
   "cell_type": "code",
   "execution_count": 87,
   "metadata": {
    "ExecuteTime": {
     "end_time": "2018-11-12T15:48:28.372009Z",
     "start_time": "2018-11-12T15:48:10.777738Z"
    },
    "scrolled": true
   },
   "outputs": [
    {
     "name": "stderr",
     "output_type": "stream",
     "text": [
      "/anaconda3/lib/python3.6/site-packages/pyLDAvis/_prepare.py:257: FutureWarning: Sorting because non-concatenation axis is not aligned. A future version\n",
      "of pandas will change to not sort by default.\n",
      "\n",
      "To accept the future behavior, pass 'sort=False'.\n",
      "\n",
      "To retain the current behavior and silence the warning, pass 'sort=True'.\n",
      "\n",
      "  return pd.concat([default_term_info] + list(topic_dfs))\n"
     ]
    }
   ],
   "source": [
    "lda_display = pyLDAvis.gensim.prepare(lda, corpus, dictionary, sort_topics=False)\n",
    "# pyLDAvis.display(lda_display)\n",
    "pyLDAvis.save_html(lda_display, 'lda.html')"
   ]
  },
  {
   "cell_type": "markdown",
   "metadata": {},
   "source": [
    "# Word Cloud"
   ]
  },
  {
   "cell_type": "code",
   "execution_count": 88,
   "metadata": {
    "ExecuteTime": {
     "end_time": "2018-11-12T15:48:34.548181Z",
     "start_time": "2018-11-12T15:48:34.527538Z"
    },
    "scrolled": true
   },
   "outputs": [],
   "source": [
    "import multidict as multidict\n",
    "import os\n",
    "from PIL import Image\n",
    "from os import path\n",
    "from wordcloud import WordCloud"
   ]
  },
  {
   "cell_type": "code",
   "execution_count": 89,
   "metadata": {
    "ExecuteTime": {
     "end_time": "2018-11-12T15:48:40.513224Z",
     "start_time": "2018-11-12T15:48:40.485610Z"
    }
   },
   "outputs": [
    {
     "data": {
      "text/plain": [
       "10056"
      ]
     },
     "execution_count": 89,
     "metadata": {},
     "output_type": "execute_result"
    }
   ],
   "source": [
    "sum(df['cleaned_text'].apply(lambda x: 'order' in x))"
   ]
  },
  {
   "cell_type": "code",
   "execution_count": 90,
   "metadata": {
    "ExecuteTime": {
     "end_time": "2018-11-12T15:48:46.490352Z",
     "start_time": "2018-11-12T15:48:46.450307Z"
    }
   },
   "outputs": [],
   "source": [
    "text1=df[df['cleaned_text'].apply(lambda x: 'order' in x)].iloc[0]['text']"
   ]
  },
  {
   "cell_type": "code",
   "execution_count": 91,
   "metadata": {
    "ExecuteTime": {
     "end_time": "2018-11-12T15:48:52.283415Z",
     "start_time": "2018-11-12T15:48:52.278165Z"
    }
   },
   "outputs": [
    {
     "data": {
      "text/plain": [
       "['order']"
      ]
     },
     "execution_count": 91,
     "metadata": {},
     "output_type": "execute_result"
    }
   ],
   "source": [
    "clean_text('ordered','v')"
   ]
  },
  {
   "cell_type": "code",
   "execution_count": 92,
   "metadata": {
    "ExecuteTime": {
     "end_time": "2018-11-12T15:49:00.630924Z",
     "start_time": "2018-11-12T15:48:58.182065Z"
    }
   },
   "outputs": [],
   "source": [
    "dictionary = corpora.Dictionary(df['cleaned_text'])\n",
    "corpus = [dictionary.doc2bow(text) for text in df['cleaned_text']]"
   ]
  },
  {
   "cell_type": "code",
   "execution_count": 93,
   "metadata": {
    "ExecuteTime": {
     "end_time": "2018-11-12T15:49:07.958770Z",
     "start_time": "2018-11-12T15:49:06.933875Z"
    }
   },
   "outputs": [],
   "source": [
    "# corpus = [dictionary.doc2bow(sent) for sent in documents]\n",
    "vocab_tf={}\n",
    "for i in corpus:\n",
    "    for item,count in dict(i).items():\n",
    "        item = dictionary[item]\n",
    "        if item in vocab_tf:\n",
    "            vocab_tf[item]+=count\n",
    "        else:\n",
    "            vocab_tf[item] = count\n",
    "# vocab_tf.popitem()"
   ]
  },
  {
   "cell_type": "code",
   "execution_count": 94,
   "metadata": {
    "ExecuteTime": {
     "end_time": "2018-11-12T15:49:14.339862Z",
     "start_time": "2018-11-12T15:49:14.332909Z"
    }
   },
   "outputs": [],
   "source": [
    "def makeImage(text,shapefilename,outputfilename):\n",
    "    yelp_mask = np.array(Image.open(shapefilename))\n",
    "\n",
    "    wc = WordCloud(background_color=None, mode='RGBA', width=4000, height=2000,\n",
    "                   max_font_size=40,\n",
    "                   max_words=3000, mask=yelp_mask,\n",
    "                   colormap='tab20')\n",
    "#     wc = WordCloud(background_color=\"white\", max_words=2000, mask=yelp_mask, width=2160, height=1080,\n",
    "#                   contour_width=3, contour_color='steelblue')\n",
    "    # generate word cloud\n",
    "    wc.generate_from_frequencies(text)\n",
    "\n",
    "    # show\n",
    "    plt.figure(figsize=(20,10))\n",
    "    plt.axis(\"off\")\n",
    "    plt.imshow(wc, interpolation=\"bilinear\")\n",
    "    plt.savefig('wordcloud.png',dpi = 300)\n",
    "\n",
    "    wc.to_file(outputfilename)\n",
    "# get data directory (using getcwd() is needed to support running example in generated IPython notebook)\n",
    "# d = path.dirname(__file__) if \"__file__\" in locals() else os.getcwd()\n",
    "\n",
    "# text = open(path.join(d, 'alice.txt'), encoding='utf-8')\n",
    "# text = text.read()"
   ]
  },
  {
   "cell_type": "code",
   "execution_count": 95,
   "metadata": {
    "ExecuteTime": {
     "end_time": "2018-11-12T15:49:24.660698Z",
     "start_time": "2018-11-12T15:49:20.707756Z"
    }
   },
   "outputs": [
    {
     "data": {
      "image/png": "[encoded data removed]",
      "text/plain": [
       "<Figure size 1440x720 with 1 Axes>"
      ]
     },
     "metadata": {},
     "output_type": "display_data"
    }
   ],
   "source": [
    "makeImage(vocab_tf,'Yelp.png','test2.png')"
   ]
  },
  {
   "cell_type": "markdown",
   "metadata": {},
   "source": [
    "# play"
   ]
  },
  {
   "cell_type": "code",
   "execution_count": 96,
   "metadata": {
    "ExecuteTime": {
     "end_time": "2018-11-12T15:49:31.286073Z",
     "start_time": "2018-11-12T15:49:31.279421Z"
    },
    "scrolled": true
   },
   "outputs": [
    {
     "data": {
      "text/plain": [
       "[\"Papa Murphy's\", \"Papa John's Pizza\"]"
      ]
     },
     "execution_count": 96,
     "metadata": {},
     "output_type": "execute_result"
    }
   ],
   "source": [
    "nameset=set(df['name'])\n",
    "[x for x in nameset if re.search(r'(?i)papa',x)]"
   ]
  },
  {
   "cell_type": "code",
   "execution_count": null,
   "metadata": {},
   "outputs": [],
   "source": []
  },
  {
   "cell_type": "code",
   "execution_count": null,
   "metadata": {},
   "outputs": [],
   "source": []
  },
  {
   "cell_type": "code",
   "execution_count": null,
   "metadata": {},
   "outputs": [],
   "source": []
  }
 ],
 "metadata": {
  "kernelspec": {
   "display_name": "Python 3",
   "language": "python",
   "name": "python3"
  },
  "language_info": {
   "codemirror_mode": {
    "name": "ipython",
    "version": 3
   },
   "file_extension": ".py",
   "mimetype": "text/x-python",
   "name": "python",
   "nbconvert_exporter": "python",
   "pygments_lexer": "ipython3",
   "version": "3.6.6"
  },
  "toc": {
   "base_numbering": 1,
   "nav_menu": {
    "height": "105.50271606445312px",
    "width": "331.25px"
   },
   "number_sections": true,
   "sideBar": true,
   "skip_h1_title": false,
   "title_cell": "Table of Contents",
   "title_sidebar": "Contents",
   "toc_cell": false,
   "toc_position": {
    "height": "calc(100% - 180px)",
    "left": "10px",
    "top": "150px",
    "width": "204.8505401611328px"
   },
   "toc_section_display": true,
   "toc_window_display": true
  },
  "varInspector": {
   "cols": {
    "lenName": 16,
    "lenType": 16,
    "lenVar": 40
   },
   "kernels_config": {
    "python": {
     "delete_cmd_postfix": "",
     "delete_cmd_prefix": "del ",
     "library": "var_list.py",
     "varRefreshCmd": "print(var_dic_list())"
    },
    "r": {
     "delete_cmd_postfix": ") ",
     "delete_cmd_prefix": "rm(",
     "library": "var_list.r",
     "varRefreshCmd": "cat(var_dic_list()) "
    }
   },
   "types_to_exclude": [
    "module",
    "function",
    "builtin_function_or_method",
    "instance",
    "_Feature"
   ],
   "window_display": false
  }
 },
 "nbformat": 4,
 "nbformat_minor": 2
}
