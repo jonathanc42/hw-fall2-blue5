{
 "cells": [
  {
   "cell_type": "markdown",
   "metadata": {},
   "source": [
    "# Import necessary packages"
   ]
  },
  {
   "cell_type": "code",
   "execution_count": 369,
   "metadata": {},
   "outputs": [
    {
     "data": {
      "text/plain": [
       "Index(['valence', 'arousal', 'business_id', 'name', 'biz_stars', 'state',\n",
       "       'city', 'neighborhood', 'address', 'postal_code', 'review_id', 'text',\n",
       "       'date', 'cool', 'funny', 'useful', 'stars', 'user_id', 'type',\n",
       "       'puncount', 'lan', 'reviewsen', 'reviewsenlen', 'reviewlen',\n",
       "       'reviewword', 'reviewwordlen', 'avgword', 'cleaned_text', 'model_star',\n",
       "       'cluster', 'missalign', 'pred_sentiment'],\n",
       "      dtype='object')"
      ]
     },
     "execution_count": 369,
     "metadata": {},
     "output_type": "execute_result"
    }
   ],
   "source": [
    "df.columns"
   ]
  },
  {
   "cell_type": "code",
   "execution_count": 1,
   "metadata": {},
   "outputs": [
    {
     "data": {
      "application/javascript": [
       "if (!(\"Notification\" in window)) {\n",
       "    alert(\"This browser does not support desktop notifications, so the %%notify magic will not work.\");\n",
       "} else if (Notification.permission !== 'granted' && Notification.permission !== 'denied') {\n",
       "    Notification.requestPermission(function (permission) {\n",
       "        if(!('permission' in Notification)) {\n",
       "            Notification.permission = permission;\n",
       "        }\n",
       "    })\n",
       "}\n"
      ],
      "text/plain": [
       "<IPython.core.display.Javascript object>"
      ]
     },
     "metadata": {},
     "output_type": "display_data"
    }
   ],
   "source": [
    "import pandas as pd\n",
    "import re\n",
    "import string\n",
    "import numpy as np\n",
    "from sentiment_module import sentiment\n",
    "from sklearn.linear_model import LogisticRegression\n",
    "import matplotlib.pyplot as plt\n",
    "%matplotlib inline\n",
    "import nltk\n",
    "from nltk.corpus import gutenberg\n",
    "from pprint import pprint\n",
    "import seaborn as sns\n",
    "%load_ext jupyternotify"
   ]
  },
  {
   "cell_type": "code",
   "execution_count": 372,
   "metadata": {},
   "outputs": [
    {
     "data": {
      "text/html": [
       "<div>\n",
       "<style scoped>\n",
       "    .dataframe tbody tr th:only-of-type {\n",
       "        vertical-align: middle;\n",
       "    }\n",
       "\n",
       "    .dataframe tbody tr th {\n",
       "        vertical-align: top;\n",
       "    }\n",
       "\n",
       "    .dataframe thead th {\n",
       "        text-align: right;\n",
       "    }\n",
       "</style>\n",
       "<table border=\"1\" class=\"dataframe\">\n",
       "  <thead>\n",
       "    <tr style=\"text-align: right;\">\n",
       "      <th></th>\n",
       "      <th>valence</th>\n",
       "      <th>arousal</th>\n",
       "    </tr>\n",
       "  </thead>\n",
       "  <tbody>\n",
       "    <tr>\n",
       "      <th>count</th>\n",
       "      <td>20844.000000</td>\n",
       "      <td>20844.000000</td>\n",
       "    </tr>\n",
       "    <tr>\n",
       "      <th>mean</th>\n",
       "      <td>6.115476</td>\n",
       "      <td>4.527457</td>\n",
       "    </tr>\n",
       "    <tr>\n",
       "      <th>std</th>\n",
       "      <td>0.443714</td>\n",
       "      <td>0.337467</td>\n",
       "    </tr>\n",
       "    <tr>\n",
       "      <th>min</th>\n",
       "      <td>2.080000</td>\n",
       "      <td>2.350000</td>\n",
       "    </tr>\n",
       "    <tr>\n",
       "      <th>25%</th>\n",
       "      <td>5.849848</td>\n",
       "      <td>4.328465</td>\n",
       "    </tr>\n",
       "    <tr>\n",
       "      <th>50%</th>\n",
       "      <td>6.101355</td>\n",
       "      <td>4.512031</td>\n",
       "    </tr>\n",
       "    <tr>\n",
       "      <th>75%</th>\n",
       "      <td>6.370655</td>\n",
       "      <td>4.709804</td>\n",
       "    </tr>\n",
       "    <tr>\n",
       "      <th>max</th>\n",
       "      <td>8.430000</td>\n",
       "      <td>7.490000</td>\n",
       "    </tr>\n",
       "  </tbody>\n",
       "</table>\n",
       "</div>"
      ],
      "text/plain": [
       "            valence       arousal\n",
       "count  20844.000000  20844.000000\n",
       "mean       6.115476      4.527457\n",
       "std        0.443714      0.337467\n",
       "min        2.080000      2.350000\n",
       "25%        5.849848      4.328465\n",
       "50%        6.101355      4.512031\n",
       "75%        6.370655      4.709804\n",
       "max        8.430000      7.490000"
      ]
     },
     "execution_count": 372,
     "metadata": {},
     "output_type": "execute_result"
    }
   ],
   "source": [
    "df[['valence','arousal']].describe()"
   ]
  },
  {
   "cell_type": "code",
   "execution_count": 370,
   "metadata": {
    "scrolled": true
   },
   "outputs": [
    {
     "data": {
      "text/html": [
       "<div>\n",
       "<style scoped>\n",
       "    .dataframe tbody tr th:only-of-type {\n",
       "        vertical-align: middle;\n",
       "    }\n",
       "\n",
       "    .dataframe tbody tr th {\n",
       "        vertical-align: top;\n",
       "    }\n",
       "\n",
       "    .dataframe thead th {\n",
       "        text-align: right;\n",
       "    }\n",
       "</style>\n",
       "<table border=\"1\" class=\"dataframe\">\n",
       "  <thead>\n",
       "    <tr style=\"text-align: right;\">\n",
       "      <th></th>\n",
       "      <th>valence</th>\n",
       "      <th>arousal</th>\n",
       "      <th>business_id</th>\n",
       "      <th>name</th>\n",
       "      <th>biz_stars</th>\n",
       "      <th>state</th>\n",
       "      <th>city</th>\n",
       "      <th>neighborhood</th>\n",
       "      <th>address</th>\n",
       "      <th>postal_code</th>\n",
       "      <th>...</th>\n",
       "      <th>reviewsenlen</th>\n",
       "      <th>reviewlen</th>\n",
       "      <th>reviewword</th>\n",
       "      <th>reviewwordlen</th>\n",
       "      <th>avgword</th>\n",
       "      <th>cleaned_text</th>\n",
       "      <th>model_star</th>\n",
       "      <th>cluster</th>\n",
       "      <th>missalign</th>\n",
       "      <th>pred_sentiment</th>\n",
       "    </tr>\n",
       "  </thead>\n",
       "  <tbody>\n",
       "    <tr>\n",
       "      <th>508</th>\n",
       "      <td>6.444739</td>\n",
       "      <td>4.66824</td>\n",
       "      <td>bZ4LFSRJQHs9PRqOcrIXtg</td>\n",
       "      <td>Pizza Hut</td>\n",
       "      <td>1.5</td>\n",
       "      <td>AZ</td>\n",
       "      <td>Avondale</td>\n",
       "      <td>NaN</td>\n",
       "      <td>1450 N Dysart Rd</td>\n",
       "      <td>85323</td>\n",
       "      <td>...</td>\n",
       "      <td>6</td>\n",
       "      <td>675</td>\n",
       "      <td>[Quick, ,, Inexpensive, ,, and, Convenient, Pi...</td>\n",
       "      <td>134</td>\n",
       "      <td>22.333333</td>\n",
       "      <td>[quick, inexpensive, convenient, hut, always, ...</td>\n",
       "      <td>4</td>\n",
       "      <td>3</td>\n",
       "      <td>False</td>\n",
       "      <td>positive</td>\n",
       "    </tr>\n",
       "  </tbody>\n",
       "</table>\n",
       "<p>1 rows × 32 columns</p>\n",
       "</div>"
      ],
      "text/plain": [
       "      valence  arousal             business_id       name  biz_stars state  \\\n",
       "508  6.444739  4.66824  bZ4LFSRJQHs9PRqOcrIXtg  Pizza Hut        1.5    AZ   \n",
       "\n",
       "         city neighborhood           address postal_code       ...        \\\n",
       "508  Avondale          NaN  1450 N Dysart Rd       85323       ...         \n",
       "\n",
       "    reviewsenlen reviewlen                                         reviewword  \\\n",
       "508            6       675  [Quick, ,, Inexpensive, ,, and, Convenient, Pi...   \n",
       "\n",
       "     reviewwordlen    avgword  \\\n",
       "508            134  22.333333   \n",
       "\n",
       "                                          cleaned_text  model_star cluster  \\\n",
       "508  [quick, inexpensive, convenient, hut, always, ...           4       3   \n",
       "\n",
       "    missalign  pred_sentiment  \n",
       "508     False        positive  \n",
       "\n",
       "[1 rows x 32 columns]"
      ]
     },
     "execution_count": 370,
     "metadata": {},
     "output_type": "execute_result"
    }
   ],
   "source": [
    "df[df['review_id']=='cc0pfhAB-JIeBVeKJ1BM-A']"
   ]
  },
  {
   "cell_type": "markdown",
   "metadata": {},
   "source": [
    "# Load Data"
   ]
  },
  {
   "cell_type": "code",
   "execution_count": 2,
   "metadata": {
    "scrolled": true
   },
   "outputs": [],
   "source": [
    "# read pizza data\n",
    "\n",
    "df=pd.read_csv('top_pizza_reviews.csv')"
   ]
  },
  {
   "cell_type": "code",
   "execution_count": 3,
   "metadata": {},
   "outputs": [
    {
     "data": {
      "text/plain": [
       "(20877, 17)"
      ]
     },
     "execution_count": 3,
     "metadata": {},
     "output_type": "execute_result"
    }
   ],
   "source": [
    "df.shape"
   ]
  },
  {
   "cell_type": "code",
   "execution_count": 4,
   "metadata": {},
   "outputs": [
    {
     "data": {
      "text/plain": [
       "Index(['business_id', 'name', 'biz_stars', 'state', 'city', 'neighborhood',\n",
       "       'address', 'postal_code', 'review_id', 'text', 'date', 'cool', 'funny',\n",
       "       'useful', 'stars', 'user_id', 'type'],\n",
       "      dtype='object')"
      ]
     },
     "execution_count": 4,
     "metadata": {},
     "output_type": "execute_result"
    }
   ],
   "source": [
    "df.columns"
   ]
  },
  {
   "cell_type": "markdown",
   "metadata": {},
   "source": [
    "# EDA"
   ]
  },
  {
   "cell_type": "code",
   "execution_count": 5,
   "metadata": {},
   "outputs": [
    {
     "data": {
      "text/html": [
       "<div>\n",
       "<style scoped>\n",
       "    .dataframe tbody tr th:only-of-type {\n",
       "        vertical-align: middle;\n",
       "    }\n",
       "\n",
       "    .dataframe tbody tr th {\n",
       "        vertical-align: top;\n",
       "    }\n",
       "\n",
       "    .dataframe thead th {\n",
       "        text-align: right;\n",
       "    }\n",
       "</style>\n",
       "<table border=\"1\" class=\"dataframe\">\n",
       "  <thead>\n",
       "    <tr style=\"text-align: right;\">\n",
       "      <th></th>\n",
       "      <th>text</th>\n",
       "    </tr>\n",
       "    <tr>\n",
       "      <th>name</th>\n",
       "      <th></th>\n",
       "    </tr>\n",
       "  </thead>\n",
       "  <tbody>\n",
       "    <tr>\n",
       "      <th>Grimaldi's Pizzeria</th>\n",
       "      <td>5190</td>\n",
       "    </tr>\n",
       "    <tr>\n",
       "      <th>Pizza Hut</th>\n",
       "      <td>4184</td>\n",
       "    </tr>\n",
       "    <tr>\n",
       "      <th>Domino's Pizza</th>\n",
       "      <td>3232</td>\n",
       "    </tr>\n",
       "    <tr>\n",
       "      <th>Mellow Mushroom</th>\n",
       "      <td>2753</td>\n",
       "    </tr>\n",
       "    <tr>\n",
       "      <th>Blaze Fast-Fire'd Pizza</th>\n",
       "      <td>2214</td>\n",
       "    </tr>\n",
       "    <tr>\n",
       "      <th>Papa John's Pizza</th>\n",
       "      <td>2070</td>\n",
       "    </tr>\n",
       "    <tr>\n",
       "      <th>Papa Murphy's</th>\n",
       "      <td>998</td>\n",
       "    </tr>\n",
       "    <tr>\n",
       "      <th>Little Caesars</th>\n",
       "      <td>236</td>\n",
       "    </tr>\n",
       "  </tbody>\n",
       "</table>\n",
       "</div>"
      ],
      "text/plain": [
       "                         text\n",
       "name                         \n",
       "Grimaldi's Pizzeria      5190\n",
       "Pizza Hut                4184\n",
       "Domino's Pizza           3232\n",
       "Mellow Mushroom          2753\n",
       "Blaze Fast-Fire'd Pizza  2214\n",
       "Papa John's Pizza        2070\n",
       "Papa Murphy's             998\n",
       "Little Caesars            236"
      ]
     },
     "execution_count": 5,
     "metadata": {},
     "output_type": "execute_result"
    }
   ],
   "source": [
    "# most popular restaurant (by count of review per restaurant name)\n",
    "df.groupby(['name'])[['text']].count()\\\n",
    "    .sort_values('text',ascending=False)"
   ]
  },
  {
   "cell_type": "code",
   "execution_count": 6,
   "metadata": {},
   "outputs": [
    {
     "data": {
      "text/html": [
       "<div>\n",
       "<style scoped>\n",
       "    .dataframe tbody tr th:only-of-type {\n",
       "        vertical-align: middle;\n",
       "    }\n",
       "\n",
       "    .dataframe tbody tr th {\n",
       "        vertical-align: top;\n",
       "    }\n",
       "\n",
       "    .dataframe thead th {\n",
       "        text-align: right;\n",
       "    }\n",
       "</style>\n",
       "<table border=\"1\" class=\"dataframe\">\n",
       "  <thead>\n",
       "    <tr style=\"text-align: right;\">\n",
       "      <th></th>\n",
       "      <th>text</th>\n",
       "    </tr>\n",
       "    <tr>\n",
       "      <th>type</th>\n",
       "      <th></th>\n",
       "    </tr>\n",
       "  </thead>\n",
       "  <tbody>\n",
       "    <tr>\n",
       "      <th>Delivery</th>\n",
       "      <td>9722</td>\n",
       "    </tr>\n",
       "    <tr>\n",
       "      <th>Dine-in</th>\n",
       "      <td>7943</td>\n",
       "    </tr>\n",
       "    <tr>\n",
       "      <th>Fast Casual</th>\n",
       "      <td>2214</td>\n",
       "    </tr>\n",
       "    <tr>\n",
       "      <th>Take and Bake</th>\n",
       "      <td>998</td>\n",
       "    </tr>\n",
       "  </tbody>\n",
       "</table>\n",
       "</div>"
      ],
      "text/plain": [
       "               text\n",
       "type               \n",
       "Delivery       9722\n",
       "Dine-in        7943\n",
       "Fast Casual    2214\n",
       "Take and Bake   998"
      ]
     },
     "execution_count": 6,
     "metadata": {},
     "output_type": "execute_result"
    }
   ],
   "source": [
    "# most popular restaurant (by count of review per restaurant name)\n",
    "df.groupby(['type'])[['text']].count()"
   ]
  },
  {
   "cell_type": "code",
   "execution_count": 7,
   "metadata": {},
   "outputs": [
    {
     "data": {
      "text/html": [
       "<div>\n",
       "<style scoped>\n",
       "    .dataframe tbody tr th:only-of-type {\n",
       "        vertical-align: middle;\n",
       "    }\n",
       "\n",
       "    .dataframe tbody tr th {\n",
       "        vertical-align: top;\n",
       "    }\n",
       "\n",
       "    .dataframe thead th {\n",
       "        text-align: right;\n",
       "    }\n",
       "</style>\n",
       "<table border=\"1\" class=\"dataframe\">\n",
       "  <thead>\n",
       "    <tr style=\"text-align: right;\">\n",
       "      <th></th>\n",
       "      <th>address</th>\n",
       "    </tr>\n",
       "    <tr>\n",
       "      <th>name</th>\n",
       "      <th></th>\n",
       "    </tr>\n",
       "  </thead>\n",
       "  <tbody>\n",
       "    <tr>\n",
       "      <th>Pizza Hut</th>\n",
       "      <td>318</td>\n",
       "    </tr>\n",
       "    <tr>\n",
       "      <th>Domino's Pizza</th>\n",
       "      <td>233</td>\n",
       "    </tr>\n",
       "    <tr>\n",
       "      <th>Papa John's Pizza</th>\n",
       "      <td>149</td>\n",
       "    </tr>\n",
       "    <tr>\n",
       "      <th>Papa Murphy's</th>\n",
       "      <td>67</td>\n",
       "    </tr>\n",
       "    <tr>\n",
       "      <th>Little Caesars</th>\n",
       "      <td>34</td>\n",
       "    </tr>\n",
       "    <tr>\n",
       "      <th>Blaze Fast-Fire'd Pizza</th>\n",
       "      <td>13</td>\n",
       "    </tr>\n",
       "    <tr>\n",
       "      <th>Grimaldi's Pizzeria</th>\n",
       "      <td>11</td>\n",
       "    </tr>\n",
       "    <tr>\n",
       "      <th>Mellow Mushroom</th>\n",
       "      <td>9</td>\n",
       "    </tr>\n",
       "  </tbody>\n",
       "</table>\n",
       "</div>"
      ],
      "text/plain": [
       "                         address\n",
       "name                            \n",
       "Pizza Hut                    318\n",
       "Domino's Pizza               233\n",
       "Papa John's Pizza            149\n",
       "Papa Murphy's                 67\n",
       "Little Caesars                34\n",
       "Blaze Fast-Fire'd Pizza       13\n",
       "Grimaldi's Pizzeria           11\n",
       "Mellow Mushroom                9"
      ]
     },
     "execution_count": 7,
     "metadata": {},
     "output_type": "execute_result"
    }
   ],
   "source": [
    "# review per business\n",
    "df.groupby(['name'])[['address']].nunique().sort_values('address',ascending=False)"
   ]
  },
  {
   "cell_type": "markdown",
   "metadata": {},
   "source": [
    "## Remove punctuation line"
   ]
  },
  {
   "cell_type": "code",
   "execution_count": 8,
   "metadata": {},
   "outputs": [],
   "source": [
    "count = lambda l1,l2: sum([1 for x in l1 if x in l2])"
   ]
  },
  {
   "cell_type": "code",
   "execution_count": 9,
   "metadata": {},
   "outputs": [],
   "source": [
    "df['puncount']=df['text'].apply(lambda x: count(x,set(string.punctuation))/len(x))"
   ]
  },
  {
   "cell_type": "code",
   "execution_count": 10,
   "metadata": {
    "scrolled": true
   },
   "outputs": [
    {
     "data": {
      "text/plain": [
       "4734     ********** $9.99 For A 14\" Circle of Crap ****...\n",
       "4389     delivery has taken a half an hou already! not ...\n",
       "5545     fast and tasty...............delivery driver B...\n",
       "19541    STAFF+TIME------------------------------------...\n",
       "6447     Have to say they're fast ...\\nThe delivery guy...\n",
       "Name: text, dtype: object"
      ]
     },
     "execution_count": 10,
     "metadata": {},
     "output_type": "execute_result"
    }
   ],
   "source": [
    "df.sort_values(by='puncount',ascending=False)['text'].head()"
   ]
  },
  {
   "cell_type": "code",
   "execution_count": 11,
   "metadata": {
    "scrolled": true
   },
   "outputs": [
    {
     "name": "stdout",
     "output_type": "stream",
     "text": [
      "count    20877.000000\n",
      "mean         0.031995\n",
      "std          0.014593\n",
      "min          0.000000\n",
      "25%          0.022915\n",
      "50%          0.029740\n",
      "75%          0.038128\n",
      "max          0.243590\n",
      "Name: puncount, dtype: float64\n"
     ]
    },
    {
     "data": {
      "text/plain": [
       "<matplotlib.axes._subplots.AxesSubplot at 0x1a1f91e8d0>"
      ]
     },
     "execution_count": 11,
     "metadata": {},
     "output_type": "execute_result"
    },
    {
     "data": {
      "image/png": "[encoded data removed]",
      "text/plain": [
       "<Figure size 432x288 with 1 Axes>"
      ]
     },
     "metadata": {},
     "output_type": "display_data"
    }
   ],
   "source": [
    "print(df['puncount'].describe())\n",
    "df['puncount'].hist()"
   ]
  },
  {
   "cell_type": "code",
   "execution_count": 12,
   "metadata": {
    "scrolled": false
   },
   "outputs": [],
   "source": [
    "# # drop\n",
    "# df = df[df['puncount'] < 0.1]\n",
    "# print(df['puncount'].describe())\n",
    "# df['puncount'].hist()"
   ]
  },
  {
   "cell_type": "markdown",
   "metadata": {},
   "source": [
    "## Language detect"
   ]
  },
  {
   "cell_type": "code",
   "execution_count": 13,
   "metadata": {},
   "outputs": [],
   "source": [
    "from langdetect import detect"
   ]
  },
  {
   "cell_type": "code",
   "execution_count": 14,
   "metadata": {},
   "outputs": [],
   "source": [
    "def detectexception(text):\n",
    "    try:\n",
    "        return detect(text)\n",
    "    except:\n",
    "        return 'NaL' # return not a language"
   ]
  },
  {
   "cell_type": "code",
   "execution_count": 15,
   "metadata": {},
   "outputs": [
    {
     "name": "stdout",
     "output_type": "stream",
     "text": [
      "CPU times: user 2min 27s, sys: 5.36 s, total: 2min 32s\n",
      "Wall time: 2min 33s\n"
     ]
    }
   ],
   "source": [
    "# detect language (run for a while)\n",
    "%time df['lan']=df['text'].apply(lambda x:detectexception(x))\n",
    "#df=df.rename(index=str, columns={\"lan1\": \"lan\"})"
   ]
  },
  {
   "cell_type": "code",
   "execution_count": 16,
   "metadata": {
    "scrolled": true
   },
   "outputs": [
    {
     "name": "stdout",
     "output_type": "stream",
     "text": [
      "CPU times: user 27.2 ms, sys: 2.86 ms, total: 30.1 ms\n",
      "Wall time: 28.2 ms\n"
     ]
    },
    {
     "data": {
      "text/html": [
       "<div>\n",
       "<style scoped>\n",
       "    .dataframe tbody tr th:only-of-type {\n",
       "        vertical-align: middle;\n",
       "    }\n",
       "\n",
       "    .dataframe tbody tr th {\n",
       "        vertical-align: top;\n",
       "    }\n",
       "\n",
       "    .dataframe thead th {\n",
       "        text-align: right;\n",
       "    }\n",
       "</style>\n",
       "<table border=\"1\" class=\"dataframe\">\n",
       "  <thead>\n",
       "    <tr style=\"text-align: right;\">\n",
       "      <th></th>\n",
       "      <th>text</th>\n",
       "    </tr>\n",
       "    <tr>\n",
       "      <th>lan</th>\n",
       "      <th></th>\n",
       "    </tr>\n",
       "  </thead>\n",
       "  <tbody>\n",
       "    <tr>\n",
       "      <th>en</th>\n",
       "      <td>20834</td>\n",
       "    </tr>\n",
       "    <tr>\n",
       "      <th>it</th>\n",
       "      <td>15</td>\n",
       "    </tr>\n",
       "    <tr>\n",
       "      <th>fr</th>\n",
       "      <td>14</td>\n",
       "    </tr>\n",
       "    <tr>\n",
       "      <th>de</th>\n",
       "      <td>4</td>\n",
       "    </tr>\n",
       "    <tr>\n",
       "      <th>es</th>\n",
       "      <td>3</td>\n",
       "    </tr>\n",
       "    <tr>\n",
       "      <th>et</th>\n",
       "      <td>2</td>\n",
       "    </tr>\n",
       "    <tr>\n",
       "      <th>af</th>\n",
       "      <td>1</td>\n",
       "    </tr>\n",
       "    <tr>\n",
       "      <th>da</th>\n",
       "      <td>1</td>\n",
       "    </tr>\n",
       "    <tr>\n",
       "      <th>pl</th>\n",
       "      <td>1</td>\n",
       "    </tr>\n",
       "    <tr>\n",
       "      <th>sk</th>\n",
       "      <td>1</td>\n",
       "    </tr>\n",
       "    <tr>\n",
       "      <th>so</th>\n",
       "      <td>1</td>\n",
       "    </tr>\n",
       "  </tbody>\n",
       "</table>\n",
       "</div>"
      ],
      "text/plain": [
       "      text\n",
       "lan       \n",
       "en   20834\n",
       "it      15\n",
       "fr      14\n",
       "de       4\n",
       "es       3\n",
       "et       2\n",
       "af       1\n",
       "da       1\n",
       "pl       1\n",
       "sk       1\n",
       "so       1"
      ]
     },
     "execution_count": 16,
     "metadata": {},
     "output_type": "execute_result"
    }
   ],
   "source": [
    "# get language count\n",
    "%time df.groupby(['lan'])[['text']].count()\\\n",
    "    .sort_values('text',ascending=False)"
   ]
  },
  {
   "cell_type": "code",
   "execution_count": 17,
   "metadata": {
    "scrolled": true
   },
   "outputs": [
    {
     "data": {
      "text/html": [
       "<div>\n",
       "<style scoped>\n",
       "    .dataframe tbody tr th:only-of-type {\n",
       "        vertical-align: middle;\n",
       "    }\n",
       "\n",
       "    .dataframe tbody tr th {\n",
       "        vertical-align: top;\n",
       "    }\n",
       "\n",
       "    .dataframe thead th {\n",
       "        text-align: right;\n",
       "    }\n",
       "</style>\n",
       "<table border=\"1\" class=\"dataframe\">\n",
       "  <thead>\n",
       "    <tr style=\"text-align: right;\">\n",
       "      <th></th>\n",
       "      <th>business_id</th>\n",
       "      <th>name</th>\n",
       "      <th>biz_stars</th>\n",
       "      <th>state</th>\n",
       "      <th>city</th>\n",
       "      <th>neighborhood</th>\n",
       "      <th>address</th>\n",
       "      <th>postal_code</th>\n",
       "      <th>review_id</th>\n",
       "      <th>text</th>\n",
       "      <th>date</th>\n",
       "      <th>cool</th>\n",
       "      <th>funny</th>\n",
       "      <th>useful</th>\n",
       "      <th>stars</th>\n",
       "      <th>user_id</th>\n",
       "      <th>type</th>\n",
       "      <th>puncount</th>\n",
       "      <th>lan</th>\n",
       "    </tr>\n",
       "  </thead>\n",
       "  <tbody>\n",
       "    <tr>\n",
       "      <th>122</th>\n",
       "      <td>vQXhuCQ4Wc3WWesp9hy3VQ</td>\n",
       "      <td>Pizza Hut</td>\n",
       "      <td>1.5</td>\n",
       "      <td>ON</td>\n",
       "      <td>Toronto</td>\n",
       "      <td>St. Lawrence</td>\n",
       "      <td>77 Lower Jarvis</td>\n",
       "      <td>M5E 1R8</td>\n",
       "      <td>gJ32Kq6Wwq6Pr9_dwj_C_w</td>\n",
       "      <td>Gross pizza, better than pizza pizza, but stil...</td>\n",
       "      <td>2017-08-08</td>\n",
       "      <td>0</td>\n",
       "      <td>0</td>\n",
       "      <td>1</td>\n",
       "      <td>2</td>\n",
       "      <td>723Rler7IsBi80ps97vrxA</td>\n",
       "      <td>Delivery</td>\n",
       "      <td>0.055556</td>\n",
       "      <td>it</td>\n",
       "    </tr>\n",
       "    <tr>\n",
       "      <th>217</th>\n",
       "      <td>XT7-XSDM3kGS4KYS6AkZjg</td>\n",
       "      <td>Pizza Hut</td>\n",
       "      <td>2.5</td>\n",
       "      <td>QC</td>\n",
       "      <td>Lasalle</td>\n",
       "      <td>LaSalle</td>\n",
       "      <td>7551 Boulevard Newman</td>\n",
       "      <td>H8N 1X3</td>\n",
       "      <td>dhvokw5bM3MdQm85xR3fZg</td>\n",
       "      <td>Très mauvais service nous avons attendu au moi...</td>\n",
       "      <td>2015-12-03</td>\n",
       "      <td>0</td>\n",
       "      <td>0</td>\n",
       "      <td>0</td>\n",
       "      <td>2</td>\n",
       "      <td>dR0Eo3A6AKE_Hj5MxbVhmQ</td>\n",
       "      <td>Delivery</td>\n",
       "      <td>0.011811</td>\n",
       "      <td>fr</td>\n",
       "    </tr>\n",
       "    <tr>\n",
       "      <th>224</th>\n",
       "      <td>XT7-XSDM3kGS4KYS6AkZjg</td>\n",
       "      <td>Pizza Hut</td>\n",
       "      <td>2.5</td>\n",
       "      <td>QC</td>\n",
       "      <td>Lasalle</td>\n",
       "      <td>LaSalle</td>\n",
       "      <td>7551 Boulevard Newman</td>\n",
       "      <td>H8N 1X3</td>\n",
       "      <td>CmMgk7W1xu_fH-b22nLfXg</td>\n",
       "      <td>Je sais que je ne devais pas m'attendre à de l...</td>\n",
       "      <td>2015-11-28</td>\n",
       "      <td>1</td>\n",
       "      <td>1</td>\n",
       "      <td>1</td>\n",
       "      <td>2</td>\n",
       "      <td>x459culD4Wy_auLcAoQgrw</td>\n",
       "      <td>Delivery</td>\n",
       "      <td>0.023636</td>\n",
       "      <td>fr</td>\n",
       "    </tr>\n",
       "    <tr>\n",
       "      <th>225</th>\n",
       "      <td>XT7-XSDM3kGS4KYS6AkZjg</td>\n",
       "      <td>Pizza Hut</td>\n",
       "      <td>2.5</td>\n",
       "      <td>QC</td>\n",
       "      <td>Lasalle</td>\n",
       "      <td>LaSalle</td>\n",
       "      <td>7551 Boulevard Newman</td>\n",
       "      <td>H8N 1X3</td>\n",
       "      <td>UA5RCkj6LzxKaW-6cm2X0Q</td>\n",
       "      <td>J'aime bien Pizza Hut surtout pour leur croûte...</td>\n",
       "      <td>2017-07-10</td>\n",
       "      <td>2</td>\n",
       "      <td>1</td>\n",
       "      <td>4</td>\n",
       "      <td>4</td>\n",
       "      <td>MD-QMO8zcqd584wcpzo9sg</td>\n",
       "      <td>Delivery</td>\n",
       "      <td>0.017391</td>\n",
       "      <td>fr</td>\n",
       "    </tr>\n",
       "    <tr>\n",
       "      <th>375</th>\n",
       "      <td>fsMgUPvNasNOMoz5yx680Q</td>\n",
       "      <td>Pizza Hut</td>\n",
       "      <td>2.5</td>\n",
       "      <td>QC</td>\n",
       "      <td>Laval</td>\n",
       "      <td>Laval</td>\n",
       "      <td>1700 Boulevard des Laurentides</td>\n",
       "      <td>H7M 2Y4</td>\n",
       "      <td>1FZ-vdLjcGACFgit1uTOHg</td>\n",
       "      <td>Plus mauvaise expérience client que j'ai eu de...</td>\n",
       "      <td>2017-04-19</td>\n",
       "      <td>0</td>\n",
       "      <td>0</td>\n",
       "      <td>0</td>\n",
       "      <td>1</td>\n",
       "      <td>_xJx7K2tq71hJUGxUOzUYw</td>\n",
       "      <td>Delivery</td>\n",
       "      <td>0.038339</td>\n",
       "      <td>fr</td>\n",
       "    </tr>\n",
       "  </tbody>\n",
       "</table>\n",
       "</div>"
      ],
      "text/plain": [
       "                business_id       name  biz_stars state     city  \\\n",
       "122  vQXhuCQ4Wc3WWesp9hy3VQ  Pizza Hut        1.5    ON  Toronto   \n",
       "217  XT7-XSDM3kGS4KYS6AkZjg  Pizza Hut        2.5    QC  Lasalle   \n",
       "224  XT7-XSDM3kGS4KYS6AkZjg  Pizza Hut        2.5    QC  Lasalle   \n",
       "225  XT7-XSDM3kGS4KYS6AkZjg  Pizza Hut        2.5    QC  Lasalle   \n",
       "375  fsMgUPvNasNOMoz5yx680Q  Pizza Hut        2.5    QC    Laval   \n",
       "\n",
       "     neighborhood                         address postal_code  \\\n",
       "122  St. Lawrence                 77 Lower Jarvis     M5E 1R8   \n",
       "217       LaSalle           7551 Boulevard Newman     H8N 1X3   \n",
       "224       LaSalle           7551 Boulevard Newman     H8N 1X3   \n",
       "225       LaSalle           7551 Boulevard Newman     H8N 1X3   \n",
       "375         Laval  1700 Boulevard des Laurentides     H7M 2Y4   \n",
       "\n",
       "                  review_id  \\\n",
       "122  gJ32Kq6Wwq6Pr9_dwj_C_w   \n",
       "217  dhvokw5bM3MdQm85xR3fZg   \n",
       "224  CmMgk7W1xu_fH-b22nLfXg   \n",
       "225  UA5RCkj6LzxKaW-6cm2X0Q   \n",
       "375  1FZ-vdLjcGACFgit1uTOHg   \n",
       "\n",
       "                                                  text        date  cool  \\\n",
       "122  Gross pizza, better than pizza pizza, but stil...  2017-08-08     0   \n",
       "217  Très mauvais service nous avons attendu au moi...  2015-12-03     0   \n",
       "224  Je sais que je ne devais pas m'attendre à de l...  2015-11-28     1   \n",
       "225  J'aime bien Pizza Hut surtout pour leur croûte...  2017-07-10     2   \n",
       "375  Plus mauvaise expérience client que j'ai eu de...  2017-04-19     0   \n",
       "\n",
       "     funny  useful  stars                 user_id      type  puncount lan  \n",
       "122      0       1      2  723Rler7IsBi80ps97vrxA  Delivery  0.055556  it  \n",
       "217      0       0      2  dR0Eo3A6AKE_Hj5MxbVhmQ  Delivery  0.011811  fr  \n",
       "224      1       1      2  x459culD4Wy_auLcAoQgrw  Delivery  0.023636  fr  \n",
       "225      1       4      4  MD-QMO8zcqd584wcpzo9sg  Delivery  0.017391  fr  \n",
       "375      0       0      1  _xJx7K2tq71hJUGxUOzUYw  Delivery  0.038339  fr  "
      ]
     },
     "execution_count": 17,
     "metadata": {},
     "output_type": "execute_result"
    }
   ],
   "source": [
    "df[df['lan']!='en'].head()"
   ]
  },
  {
   "cell_type": "code",
   "execution_count": 21,
   "metadata": {},
   "outputs": [],
   "source": [
    "import wordcloud"
   ]
  },
  {
   "cell_type": "markdown",
   "metadata": {},
   "source": [
    "## Sentence tokenize"
   ]
  },
  {
   "cell_type": "code",
   "execution_count": 22,
   "metadata": {
    "scrolled": true
   },
   "outputs": [
    {
     "data": {
      "text/plain": [
       "count    20877.000000\n",
       "mean         7.348853\n",
       "std          5.924358\n",
       "min          1.000000\n",
       "25%          4.000000\n",
       "50%          6.000000\n",
       "75%          9.000000\n",
       "max         96.000000\n",
       "Name: reviewsenlen, dtype: float64"
      ]
     },
     "execution_count": 22,
     "metadata": {},
     "output_type": "execute_result"
    },
    {
     "data": {
      "image/png": "[encoded data removed]",
      "text/plain": [
       "<Figure size 432x288 with 1 Axes>"
      ]
     },
     "metadata": {},
     "output_type": "display_data"
    }
   ],
   "source": [
    "# get sentences of review\n",
    "default_st=nltk.sent_tokenize\n",
    "df['reviewsen']=df.text.apply(lambda x: default_st(text=x))\n",
    "df['reviewsenlen']=df.reviewsen.apply(len)\n",
    "# review sentences stat\n",
    "df.hist('reviewsenlen')\n",
    "df['reviewsenlen'].describe()"
   ]
  },
  {
   "cell_type": "code",
   "execution_count": 23,
   "metadata": {},
   "outputs": [
    {
     "data": {
      "text/plain": [
       "Text(0,0.5,'review length')"
      ]
     },
     "execution_count": 23,
     "metadata": {},
     "output_type": "execute_result"
    },
    {
     "data": {
      "image/png": "[encoded data removed]",
      "text/plain": [
       "<Figure size 432x288 with 1 Axes>"
      ]
     },
     "metadata": {},
     "output_type": "display_data"
    }
   ],
   "source": [
    "# if sentence lenth are related to review stars\n",
    "sns.violinplot(x='stars',y='reviewsenlen',data=df).set_title('Review Sentence Length vs. Star')\n",
    "plt.ylabel('review length')"
   ]
  },
  {
   "cell_type": "code",
   "execution_count": 24,
   "metadata": {},
   "outputs": [
    {
     "name": "stdout",
     "output_type": "stream",
     "text": [
      "[\"This review is about this one location's unacceptable behavior.\",\n",
      " \"To start, I like Papa John's.\",\n",
      " '* The pizza is reasonably tasty for my family (not as good as the local top '\n",
      " 'notch mom  & pop places, but decent none-the-less.)',\n",
      " '* The value is exceptional - they have the best specials, which we always '\n",
      " 'take advantage of.',\n",
      " 'Their online ordering and REWARD program is unparalleled (I belong to  every '\n",
      " 'chains reward and email clubs, they are all pathetic.',\n",
      " \"Not PJ's!\",\n",
      " 'Join and find out!)',\n",
      " '* My local PJ is a franchise that in my opinion is a model for any franchise '\n",
      " 'of any type.',\n",
      " 'They know us by face and by name and greet us so when we come in.',\n",
      " 'The food is well prepared and consistent.',\n",
      " 'They service is fast and extra friendly.',\n",
      " 'They rarely screw-up; and IF they do they are apologetic and fast to fix it '\n",
      " 'in a method that we prefer.',\n",
      " 'So... What about THIS LOCATION??',\n",
      " 'We were having a family gathering in Phoenix and someone said \"Let\\'s get '\n",
      " 'pizza!',\n",
      " 'We\\'ll have Domino\\'s deliver!\"',\n",
      " '\"Wait!\"',\n",
      " 'I said.',\n",
      " 'As the pater familias I decided to treat everyone and said \"Can we do Papa '\n",
      " \"John's?\",\n",
      " \"That's all we ever order and it's great.\",\n",
      " 'I think I have a free pizza or two waiting for me anyway?\"',\n",
      " '\"Well we usually get white pizza with spinach and veggies from Domino\\'s\" '\n",
      " 'the vegan Phoenician daughter chimed in.',\n",
      " '\"No problem.',\n",
      " 'Papa John\\' has that too.\"',\n",
      " '\"Do they have an online configurator so I can pick our toppings?\"',\n",
      " 'she continued.',\n",
      " '\"Yeah, it\\'s great.\"',\n",
      " '\"Do they still give that Garlic Butter sauce to dip your crust in?',\n",
      " 'That\\'s the main thing we always liked from there.\"',\n",
      " '\"Domino\\'s is super cheap...\" she challenged.',\n",
      " '\"Let me login and order.',\n",
      " \"They have great specials, I've got freebies coming.\",\n",
      " 'You can pick your own toppings.',\n",
      " \"I'll order delivery and pay online including tip for driver.\",\n",
      " 'We\\'ll be eating in under a half hour.\"',\n",
      " '\"OK, dad.\"',\n",
      " 'Online I go.',\n",
      " 'Couple big loaded pizzas for about 10 bucks each, couple free 2-liters of  '\n",
      " 'soda, an apple pie desert pizza at half price.',\n",
      " 'Paid online.',\n",
      " 'Done!!!',\n",
      " 'Problems begin.',\n",
      " '50 minutes later the delivery guy arrives.',\n",
      " 'Someone gets the door, then calls me \"to sign the receipt.\"',\n",
      " 'I come to the door to sign.',\n",
      " \"I only see the pizza's so I ask about  the drinks.\",\n",
      " 'The zombie with the hot bag blank stares at me with glazed-over eyes usually '\n",
      " 'seen only on reggae musicians.',\n",
      " 'I sign.',\n",
      " 'There is still no response.',\n",
      " 'I ask again  about the drinks and the desert pizza.',\n",
      " 'The expressionless zombie mumbles and someone  behind me yells \"we got it '\n",
      " 'all dad!\"',\n",
      " 'OK!',\n",
      " '\"Thanks!\"',\n",
      " 'I say to zombieman, who slowly turns and shuffles away with no response.',\n",
      " 'He was well tipped, but maybe I needed to offer fresh brains instead of cash '\n",
      " 'to show appreciation to him.',\n",
      " 'Problems continue.',\n",
      " 'We open up the pizza boxes.',\n",
      " 'The crusts are uber dark and burnt in many spot.',\n",
      " 'Cheese is mostly brown.',\n",
      " 'I pick up and bite into a piece of  Spinach Alfredo and it crunches.',\n",
      " 'It  is completely dry, sauce was cooked away.',\n",
      " 'Cheese was dried out too.',\n",
      " 'Both pizzas were like this.',\n",
      " '\"Gross!\"',\n",
      " '\"Ewww\"  \"This is inedible\" \"They burnt this this!\"',\n",
      " '\"Call them back and tell them.\"',\n",
      " 'were the comments ringing from all my spawn.',\n",
      " '\"Sorry guys!',\n",
      " \"I'll take care of it.\",\n",
      " \"I ordered these 'well-done' as I always order every pizza.\",\n",
      " \"It makes the cheese 'break' a little and makes the crust better for dipping.\",\n",
      " \"I've talked to store managers about this and know just what they do.\",\n",
      " 'The pizzas are amazing that way.',\n",
      " 'Someone screwed these up.',\n",
      " 'They are burnt.',\n",
      " 'I\\'m sorry.\"',\n",
      " 'I \\nlamented.',\n",
      " 'Problem gets worse.',\n",
      " 'I call in.',\n",
      " 'I explain the problem.',\n",
      " 'I ask what they did to mess these up.',\n",
      " 'Unapologetically, the fellow on the other end explains how they cooked the '\n",
      " 'pies and seems to know the correct  method for well-done pizza.',\n",
      " 'As a retired restaurateur, I can only figure either the pizza handled did '\n",
      " 'something different, or the ovens in that store are turned-up a bit for '\n",
      " 'faster cooking which fouls up a \"well done\" order.',\n",
      " 'Either way, they guy on the phone was apathetic but said \"We can remake '\n",
      " 'those for you.\"',\n",
      " '\"Ok.',\n",
      " 'Thanks.\"',\n",
      " 'I say \"These are inedible.\"',\n",
      " '...click... \"OK, guys!',\n",
      " 'They are making new pizzas!',\n",
      " 'AN HOUR LATER.',\n",
      " 'Let me repeat.',\n",
      " 'AN HOUR LATER, a snarly, untipped female driver brings  2 perfectly cooked '\n",
      " '\"well done\" pizzas.',\n",
      " 'By that time, my hungry spawn had torn out and devoured all the '\n",
      " 'semi-burnt-but-still-somewhat-edible-as-long-as-they-are-covered-with-ranch-dressing '\n",
      " 'center nuggets of the unholy abominations this location had first delivered.',\n",
      " 'The group had subsequently moved on to the livingroom to watch True Blood.',\n",
      " '\"Hey, the new pizzas are here!',\n",
      " 'They are prefect!',\n",
      " 'De-LISH!\"',\n",
      " 'But no one was interested any more.']\n",
      "[\"Mellow Mushroom isn't exactly the sort of place I'd ordinarily go.\",\n",
      " 'Woodstock murals, giant hippy-painted school-buses in the middle of the '\n",
      " \"dining, and awkward wrap-around booths just don't quite appeal to my more \"\n",
      " 'refined dining sensibilities.',\n",
      " 'But, my coworkers dig it.',\n",
      " 'And the one on Selwyn has a reputation for slow, inattentive service - which '\n",
      " 'is perfect when you and your coworkers are looking to extend your one-hour '\n",
      " 'workday lunch break into a 2.5 hour marathon.',\n",
      " 'During the carpool-carride over, the majority of us joked about how terrible '\n",
      " 'the service would be.',\n",
      " \"Shauna, our lone female (and lone optimist), righteously defended MM's \"\n",
      " 'honor.',\n",
      " '\"You guys are so harsh,\" she groaned.',\n",
      " '\"We got bad service one time... and now it\\'s like they\\'re the worst place '\n",
      " 'ever.\"',\n",
      " 'We were quick to point out to Shauna multiple specific examples of the bad '\n",
      " 'service we had received on several separate occasions: \\n'\n",
      " '\"Remember the time Mark had to go behind the bar and pour his own beer '\n",
      " 'because the waiter never came back?\"',\n",
      " '\"Remember the time we were seated for 47 minutes before anyone took our '\n",
      " 'drink order?\"',\n",
      " '\"Remember the time we had three different (lousy) waiters because none of '\n",
      " 'them knew whose section we were in?\"',\n",
      " 'Nevertheless, we keep coming back, hopeful each time that the experience '\n",
      " 'will change.',\n",
      " 'It never does.',\n",
      " 'Last Friday we were welcomed and seated promptly.',\n",
      " 'Out waitress approached, comely and upright, with jet-black hair, loose but '\n",
      " 'not sloppy clothing, and a lovely porcelain-skinned face - plain and '\n",
      " 'inexpressive... but not entirely lifeless.',\n",
      " 'She introduced herself with a breathless murmur: Kim, Amy, Amber...',\n",
      " 'I dunno.',\n",
      " \"I don't think she even knew.\",\n",
      " '\"Hi,\" we all said with genuine enthusiasm.',\n",
      " 'She just sorta stood there and teetered like a weeble.',\n",
      " '\"We need drinks,\" I declared.',\n",
      " '\"Any specials?\"',\n",
      " '\"Um...\" Kim/Amy looked bewildered.',\n",
      " 'Bart leaned forward and read off the specials on the chalkboard behind her.',\n",
      " 'The last one was a \"Mystery Beer: $3\"\\n\"What\\'s the \\'mystery beer\\'?\"',\n",
      " 'I asked.',\n",
      " 'Kim/Amy shrugged.',\n",
      " '\"It\\'s a mystery.\"',\n",
      " 'I was intrigued.',\n",
      " 'So I ordered one.',\n",
      " '(Turns out the mystery beer is just a random bottle of a crappy beer like '\n",
      " \"Grolsch or Longboard or something else they're trying to get rid of that \"\n",
      " \"shouldn't be sold for more than a buck...) \\n\"\n",
      " 'Bart cleared his throat.',\n",
      " '\"Is there a lunch special?\"',\n",
      " 'he asked, catching Kim/Amy completely off-guard.',\n",
      " '\"What day is it?\"',\n",
      " 'she asked us, sincerely.',\n",
      " '\"Um...',\n",
      " 'Friday.\"',\n",
      " '\"Oh, then yeah.',\n",
      " 'We have the special.\"',\n",
      " 'We all, then, politely extended a protracted pause.',\n",
      " 'When no further information was offered, we were compelled to pry: \"Oh yeah?',\n",
      " 'So... what is the special?\"',\n",
      " '\"It\\'s a slice and a salad,\" Kim/Amy replied, quite matter-of-factly.',\n",
      " '\"What kind of slices can I choose from?\"',\n",
      " 'Bart asked.',\n",
      " '\"You can get anything you want,\" She said.',\n",
      " '\"Oh!\"',\n",
      " \"Bart's face lit up as he started scanning through the specialty pies in the \"\n",
      " \"menu's center page.\",\n",
      " '\"So, I can get the Mighty Meaty?\"',\n",
      " 'As if he should have known, Amy/Kim halted him sternly, \"No, you can\\'t get '\n",
      " 'those.',\n",
      " 'You have to make your own.\"',\n",
      " 'Bart, a bit flummoxed, tried to reason this out.',\n",
      " '\"Oh, so I can\\'t choose a specialty pizza but I can get whatever toppings I '\n",
      " 'want?\"',\n",
      " 'Kim/Amy nodded.',\n",
      " '\"Yeah, you can get whatever you want.',\n",
      " 'I mean, you have to pay for toppings.\"',\n",
      " 'Bart, now more flabbergasted than flummoxed, persisted.',\n",
      " '\"Ok, so... toppings are extra?\"',\n",
      " '\"I mean... you get one,\" she said.',\n",
      " 'Now the picture was forming more clearly.',\n",
      " 'An audible \"ahhh!\"',\n",
      " 'of clarity was released by half the table.',\n",
      " '\"So, it\\'s a one-topping slice and a salad?\"',\n",
      " 'Kim/Amy nodded.',\n",
      " 'Now we were getting somewhere.',\n",
      " 'But then, as if she were somehow made uncomfortable by the sudden moment of '\n",
      " 'clarity, she decided to throw us an additional curveball.',\n",
      " '\"Or you can get two slices.\"',\n",
      " 'Bart, now just being a jack-ass, forced her hand.',\n",
      " '\"Oh, so instead of toppings I can just get two slices - but does cheese '\n",
      " 'count as a topping?\"',\n",
      " '\"No, a slice and a salad.\"',\n",
      " 'We all laughed.',\n",
      " 'And she laughed too.',\n",
      " 'Not sure if she knew it was an at-you-not-with-you type thing.',\n",
      " 'Orders were placed.',\n",
      " 'Most of us got the special, some got sandwiches.',\n",
      " 'I ordered pretzels for the table (garlic bread in the shape of a pretzel '\n",
      " 'with marinara for dipping).',\n",
      " 'The side-salads came out promptly.',\n",
      " 'Unspectacular - just some greens with onion and tomato sprinkled in.',\n",
      " 'Then, we waited.',\n",
      " 'Took about half an hour for the food to arrive (the appetizer brought at the '\n",
      " 'same time as the entrees... sigh).',\n",
      " 'And we did get one or two more rounds of drinks served in that time.',\n",
      " 'So, all in all, not too bad.',\n",
      " 'The food is... mediocre.',\n",
      " 'Greasy slices of pizza with run-of-the-mill ingredients.',\n",
      " \"The slices are large, so there's that.\",\n",
      " 'The guys who got sandwiches were impressed and noted that \"sandwiches are '\n",
      " 'the way to go here\".',\n",
      " 'Good to know.',\n",
      " 'Checks were a bit of a situation.',\n",
      " \"We had to each recount what exactly we'd ordered since Kim/Amy evidently \"\n",
      " \"didn't split it up as she took things down.\",\n",
      " 'No big deal.',\n",
      " \"It's Mellow Mushroom.\",\n",
      " '1.5 hours in and out.',\n",
      " \"Best experience I've ever had there.\"]\n"
     ]
    }
   ],
   "source": [
    "# look at some longest reviews\n",
    "for i in df[df['reviewsenlen']>80]['reviewsen'].head():\n",
    "    pprint(i)"
   ]
  },
  {
   "cell_type": "code",
   "execution_count": 25,
   "metadata": {
    "scrolled": true
   },
   "outputs": [],
   "source": [
    "# get length of review\n",
    "df.loc[:,'reviewlen']=df.loc[:,'text'].apply(len)"
   ]
  },
  {
   "cell_type": "code",
   "execution_count": 26,
   "metadata": {},
   "outputs": [
    {
     "data": {
      "text/plain": [
       "count    20877.000000\n",
       "mean       527.401207\n",
       "std        483.445307\n",
       "min          2.000000\n",
       "25%        219.000000\n",
       "50%        378.000000\n",
       "75%        672.000000\n",
       "max       5000.000000\n",
       "Name: reviewlen, dtype: float64"
      ]
     },
     "execution_count": 26,
     "metadata": {},
     "output_type": "execute_result"
    },
    {
     "data": {
      "image/png": "[encoded data removed]",
      "text/plain": [
       "<Figure size 432x288 with 1 Axes>"
      ]
     },
     "metadata": {},
     "output_type": "display_data"
    }
   ],
   "source": [
    "# review length stat\n",
    "df.hist('reviewlen')\n",
    "df.loc[:,'reviewlen'].describe()"
   ]
  },
  {
   "cell_type": "markdown",
   "metadata": {},
   "source": [
    "## Word Tokenize"
   ]
  },
  {
   "cell_type": "code",
   "execution_count": 27,
   "metadata": {
    "scrolled": true
   },
   "outputs": [
    {
     "data": {
      "text/plain": [
       "count    20877.000000\n",
       "mean       113.180773\n",
       "std        104.224505\n",
       "min          1.000000\n",
       "25%         47.000000\n",
       "50%         81.000000\n",
       "75%        144.000000\n",
       "max       1119.000000\n",
       "Name: reviewwordlen, dtype: float64"
      ]
     },
     "execution_count": 27,
     "metadata": {},
     "output_type": "execute_result"
    },
    {
     "data": {
      "image/png": "[encoded data removed]",
      "text/plain": [
       "<Figure size 432x288 with 1 Axes>"
      ]
     },
     "metadata": {},
     "output_type": "display_data"
    }
   ],
   "source": [
    "# get sentences of review\n",
    "default_wt=nltk.word_tokenize\n",
    "df['reviewword']=df.text.apply(lambda x: default_wt(text=x))\n",
    "df['reviewwordlen']=df.reviewword.apply(len)\n",
    "# review sentences stat\n",
    "df.hist('reviewwordlen')\n",
    "df['reviewwordlen'].describe()"
   ]
  },
  {
   "cell_type": "code",
   "execution_count": 28,
   "metadata": {
    "scrolled": false
   },
   "outputs": [
    {
     "data": {
      "text/plain": [
       "count    20877.000000\n",
       "mean        15.791324\n",
       "std          8.867116\n",
       "min          1.000000\n",
       "25%         11.125000\n",
       "50%         14.333333\n",
       "75%         18.200000\n",
       "max        218.000000\n",
       "Name: avgword, dtype: float64"
      ]
     },
     "execution_count": 28,
     "metadata": {},
     "output_type": "execute_result"
    },
    {
     "data": {
      "image/png": "[encoded data removed]",
      "text/plain": [
       "<Figure size 432x288 with 1 Axes>"
      ]
     },
     "metadata": {},
     "output_type": "display_data"
    }
   ],
   "source": [
    "# people couldn't write and using comma all the time\n",
    "\n",
    "df.loc[:,'avgword']=df.loc[:,'reviewwordlen']/df.loc[:,'reviewsenlen']\n",
    "# review length stat\n",
    "df.hist('avgword')\n",
    "df.loc[:,'avgword'].describe()"
   ]
  },
  {
   "cell_type": "code",
   "execution_count": 29,
   "metadata": {},
   "outputs": [
    {
     "data": {
      "text/plain": [
       "1"
      ]
     },
     "execution_count": 29,
     "metadata": {},
     "output_type": "execute_result"
    }
   ],
   "source": [
    "sum(df['avgword']>200)"
   ]
  },
  {
   "cell_type": "code",
   "execution_count": 30,
   "metadata": {},
   "outputs": [
    {
     "name": "stdout",
     "output_type": "stream",
     "text": [
      "14844    The manager Johnny is an idiot I do not know i...\n",
      "Name: text, dtype: object\n"
     ]
    }
   ],
   "source": [
    "print(df[df['avgword']>200]['text'])"
   ]
  },
  {
   "cell_type": "markdown",
   "metadata": {},
   "source": [
    "## People tend to star higher"
   ]
  },
  {
   "cell_type": "code",
   "execution_count": 31,
   "metadata": {
    "scrolled": true
   },
   "outputs": [
    {
     "data": {
      "image/png": "[encoded data removed]",
      "text/plain": [
       "<Figure size 432x288 with 1 Axes>"
      ]
     },
     "metadata": {},
     "output_type": "display_data"
    }
   ],
   "source": [
    "# star distributions\n",
    "#df['stars'].hist(bins=5)\n",
    "#df['stars'].value_counts().plot(kind='bar') this code doesn't sort ordinal\n",
    "ax=df.groupby('stars').size().plot(kind='bar',title=\"Frequency Count of Stars\",\n",
    "                                   rot=0,color='#3d87ff')"
   ]
  },
  {
   "cell_type": "code",
   "execution_count": 32,
   "metadata": {},
   "outputs": [
    {
     "name": "stdout",
     "output_type": "stream",
     "text": [
      "There are 834 restaurants\n"
     ]
    }
   ],
   "source": [
    "print('There are',len(df.address.unique()),'restaurants')"
   ]
  },
  {
   "cell_type": "code",
   "execution_count": 33,
   "metadata": {
    "scrolled": true
   },
   "outputs": [
    {
     "data": {
      "text/plain": [
       "business_id          0\n",
       "name                 0\n",
       "biz_stars            0\n",
       "state                0\n",
       "city                 0\n",
       "neighborhood     12179\n",
       "address              0\n",
       "postal_code          0\n",
       "review_id            0\n",
       "text                 0\n",
       "date                 0\n",
       "cool                 0\n",
       "funny                0\n",
       "useful               0\n",
       "stars                0\n",
       "user_id              0\n",
       "type                 0\n",
       "puncount             0\n",
       "lan                  0\n",
       "reviewsen            0\n",
       "reviewsenlen         0\n",
       "reviewlen            0\n",
       "reviewword           0\n",
       "reviewwordlen        0\n",
       "avgword              0\n",
       "dtype: int64"
      ]
     },
     "execution_count": 33,
     "metadata": {},
     "output_type": "execute_result"
    }
   ],
   "source": [
    "# check na values for each column\n",
    "df.isna().sum()"
   ]
  },
  {
   "cell_type": "markdown",
   "metadata": {},
   "source": [
    "## sentiment analysis (dr healey model)"
   ]
  },
  {
   "cell_type": "code",
   "execution_count": 34,
   "metadata": {
    "scrolled": false
   },
   "outputs": [
    {
     "name": "stdout",
     "output_type": "stream",
     "text": [
      "CPU times: user 13.6 s, sys: 319 ms, total: 13.9 s\n",
      "Wall time: 13.9 s\n"
     ]
    }
   ],
   "source": [
    "# df['sentiment']=df['text'].apply(str.split).apply(sentiment.sentiment)\n",
    "# df=pd.concat([df['sentiment'].apply(pd.Series),df.drop('sentiment',axis=1)],axis=1)\n",
    "%time df=pd.concat([df['text'].apply(str.split).apply(sentiment.sentiment).apply(pd.Series),df],axis=1)"
   ]
  },
  {
   "cell_type": "code",
   "execution_count": 35,
   "metadata": {
    "scrolled": true
   },
   "outputs": [
    {
     "name": "stdout",
     "output_type": "stream",
     "text": [
      "CPU times: user 52.7 ms, sys: 6.02 ms, total: 58.7 ms\n",
      "Wall time: 58 ms\n"
     ]
    }
   ],
   "source": [
    "%time df=df.drop(df[df['valence']==0].index)"
   ]
  },
  {
   "cell_type": "code",
   "execution_count": 437,
   "metadata": {
    "scrolled": false
   },
   "outputs": [
    {
     "data": {
      "image/png": "[encoded data removed]",
      "text/plain": [
       "<Figure size 576x432 with 2 Axes>"
      ]
     },
     "metadata": {},
     "output_type": "display_data"
    }
   ],
   "source": [
    "fig, ax = plt.subplots()\n",
    "df.plot.scatter(x='valence',y='arousal',c='stars',fontsize=10,\n",
    "               colormap='RdBu_r',ax=ax,alpha=0.5,\n",
    "               figsize=(8, 6))\n",
    "ax.set_title('Sentiment vs. Star',fontsize=20)\n",
    "ax.set_xlabel('Valence',fontsize=15)\n",
    "ax.set_ylabel('Arousal',fontsize=15)\n",
    "plt.xlim(0,10)\n",
    "plt.ylim(0,10)\n",
    "plt.savefig('sentiment-all.png')\n",
    "plt.show()"
   ]
  },
  {
   "cell_type": "code",
   "execution_count": 379,
   "metadata": {},
   "outputs": [],
   "source": [
    "colors=['#6c0521','#7d14a5','#c84678','#f5914b','#0d3a67']"
   ]
  },
  {
   "cell_type": "code",
   "execution_count": 431,
   "metadata": {
    "scrolled": false
   },
   "outputs": [],
   "source": [
    "# for i in range(1,6):\n",
    "#     fig, ax = plt.subplots()\n",
    "#     df[df['stars']==i].plot.scatter(x='valence',y='arousal', color=colors[i-1],\n",
    "#                                     ax=ax, alpha=0.5,title='Sentiment vs. Star '+str(i),\n",
    "#                                     figsize=(8, 6))\n",
    "#     plt.xlim(0,10)\n",
    "#     plt.ylim(0,10)\n",
    "#     plt.savefig('sentiment'+str(i)+'.png')\n",
    "# #%time plt.show()"
   ]
  },
  {
   "cell_type": "code",
   "execution_count": 435,
   "metadata": {},
   "outputs": [
    {
     "data": {
      "image/png": "[encoded data removed]",
      "text/plain": [
       "<Figure size 432x432 with 1 Axes>"
      ]
     },
     "metadata": {},
     "output_type": "display_data"
    }
   ],
   "source": [
    "fig, ax = plt.subplots()\n",
    "df[df['stars']==1].plot.scatter(x='valence',y='arousal', color='#0d3a67',fontsize=10,\n",
    "                                ax=ax, alpha=0.5,\n",
    "                                figsize=(6, 6))\n",
    "ax.set_title('Sentiment vs. Star',fontsize=20)\n",
    "ax.set_xlabel('Valence',fontsize=15)\n",
    "ax.set_ylabel('Arousal',fontsize=15)\n",
    "plt.xlim(0,10)\n",
    "plt.ylim(0,10)\n",
    "plt.savefig('sentiment-1.png')\n",
    "#%time plt.show()"
   ]
  },
  {
   "cell_type": "code",
   "execution_count": 436,
   "metadata": {},
   "outputs": [
    {
     "data": {
      "image/png": "[encoded data removed]",
      "text/plain": [
       "<Figure size 432x432 with 1 Axes>"
      ]
     },
     "metadata": {},
     "output_type": "display_data"
    }
   ],
   "source": [
    "fig, ax = plt.subplots()\n",
    "df[df['stars']==1].plot.scatter(x='valence',y='arousal', color='#0d3a67',fontsize=10,\n",
    "                                ax=ax, alpha=0.5,\n",
    "                                figsize=(6, 6))\n",
    "df[df['stars']==5].plot.scatter(x='valence',y='arousal', color='#6c0521',fontsize=10,\n",
    "                                ax=ax, alpha=0.5,\n",
    "                                figsize=(6, 6))\n",
    "\n",
    "ax.set_title('Sentiment vs. Star',fontsize=20)\n",
    "ax.set_xlabel('Valence',fontsize=15)\n",
    "ax.set_ylabel('Arousal',fontsize=15)\n",
    "plt.xlim(0,10)\n",
    "plt.ylim(0,10)\n",
    "plt.savefig('sentiment15.png')\n",
    "#%time plt.show()"
   ]
  },
  {
   "cell_type": "code",
   "execution_count": 377,
   "metadata": {},
   "outputs": [
    {
     "data": {
      "image/png": "[encoded data removed]",
      "text/plain": [
       "<Figure size 576x432 with 1 Axes>"
      ]
     },
     "metadata": {},
     "output_type": "display_data"
    }
   ],
   "source": [
    "i=1\n",
    "fig, ax = plt.subplots()\n",
    "df[df['stars']==i].plot.scatter(x='valence',y='arousal', color='Red',\n",
    "                                ax=ax, alpha=0.3,title='Sentiment vs. Star '+str(i),\n",
    "                                figsize=(8, 6))\n",
    "plt.xlim(0,10)\n",
    "plt.ylim(0,10)\n",
    "plt.savefig('sentiment'+str(i)+'.png')\n",
    "#%time plt.show()"
   ]
  },
  {
   "cell_type": "code",
   "execution_count": 38,
   "metadata": {
    "scrolled": true
   },
   "outputs": [
    {
     "data": {
      "image/png": "[encoded data removed]",
      "text/plain": [
       "<Figure size 432x288 with 1 Axes>"
      ]
     },
     "metadata": {},
     "output_type": "display_data"
    }
   ],
   "source": [
    "from mpl_toolkits.mplot3d import Axes3D\n",
    "\n",
    "fig = plt.figure()\n",
    "ax = fig.add_subplot(111, projection='3d')\n",
    "\n",
    "for c, m, zlow, zhigh in [('r', 'o', -50, -25), ('b', '^', -30, -5)]:\n",
    "    xs = df['valence']\n",
    "    ys = df['arousal']\n",
    "    zs = df['stars']\n",
    "    ax.scatter(xs, ys, zs, c=df['stars'], marker=m)\n",
    "\n",
    "ax.set_xlabel('Valence')\n",
    "ax.set_ylabel('Arousal')\n",
    "ax.set_zlabel('Stars')\n",
    "\n",
    "plt.show()"
   ]
  },
  {
   "cell_type": "code",
   "execution_count": 224,
   "metadata": {},
   "outputs": [
    {
     "data": {
      "text/plain": [
       "Index(['valence', 'arousal', 'business_id', 'name', 'biz_stars', 'state',\n",
       "       'city', 'neighborhood', 'address', 'postal_code', 'review_id', 'text',\n",
       "       'date', 'cool', 'funny', 'useful', 'stars', 'user_id', 'type',\n",
       "       'puncount', 'lan', 'reviewsen', 'reviewsenlen', 'reviewlen',\n",
       "       'reviewword', 'reviewwordlen', 'avgword', 'cleaned_text', 'model_star',\n",
       "       'cluster', 'missalign', 'pred_sentiment'],\n",
       "      dtype='object')"
      ]
     },
     "execution_count": 224,
     "metadata": {},
     "output_type": "execute_result"
    }
   ],
   "source": [
    "df.columns"
   ]
  },
  {
   "cell_type": "code",
   "execution_count": 243,
   "metadata": {},
   "outputs": [
    {
     "data": {
      "text/html": [
       "<div>\n",
       "<style scoped>\n",
       "    .dataframe tbody tr th:only-of-type {\n",
       "        vertical-align: middle;\n",
       "    }\n",
       "\n",
       "    .dataframe tbody tr th {\n",
       "        vertical-align: top;\n",
       "    }\n",
       "\n",
       "    .dataframe thead th {\n",
       "        text-align: right;\n",
       "    }\n",
       "</style>\n",
       "<table border=\"1\" class=\"dataframe\">\n",
       "  <thead>\n",
       "    <tr style=\"text-align: right;\">\n",
       "      <th></th>\n",
       "      <th>valence</th>\n",
       "      <th>arousal</th>\n",
       "      <th>business_id</th>\n",
       "      <th>name</th>\n",
       "      <th>biz_stars</th>\n",
       "      <th>state</th>\n",
       "      <th>city</th>\n",
       "      <th>neighborhood</th>\n",
       "      <th>address</th>\n",
       "      <th>postal_code</th>\n",
       "      <th>...</th>\n",
       "      <th>reviewsenlen</th>\n",
       "      <th>reviewlen</th>\n",
       "      <th>reviewword</th>\n",
       "      <th>reviewwordlen</th>\n",
       "      <th>avgword</th>\n",
       "      <th>cleaned_text</th>\n",
       "      <th>model_star</th>\n",
       "      <th>cluster</th>\n",
       "      <th>missalign</th>\n",
       "      <th>pred_sentiment</th>\n",
       "    </tr>\n",
       "  </thead>\n",
       "  <tbody>\n",
       "    <tr>\n",
       "      <th>11717</th>\n",
       "      <td>2.08</td>\n",
       "      <td>7.49</td>\n",
       "      <td>YQ--LJ7pvjiDSqNv0TuKTQ</td>\n",
       "      <td>Grimaldi's Pizzeria</td>\n",
       "      <td>4.0</td>\n",
       "      <td>NV</td>\n",
       "      <td>Las Vegas</td>\n",
       "      <td>The Strip</td>\n",
       "      <td>3327 Las Vegas Blvd S, Ste 2710</td>\n",
       "      <td>89109</td>\n",
       "      <td>...</td>\n",
       "      <td>2</td>\n",
       "      <td>118</td>\n",
       "      <td>[Sehr, gute, Pizza, zum, selbst, zusammenstell...</td>\n",
       "      <td>24</td>\n",
       "      <td>12.0</td>\n",
       "      <td>[sehr, gute, zum, selbst, zusammenstellen, war...</td>\n",
       "      <td>5</td>\n",
       "      <td>1</td>\n",
       "      <td>False</td>\n",
       "      <td>None</td>\n",
       "    </tr>\n",
       "  </tbody>\n",
       "</table>\n",
       "<p>1 rows × 32 columns</p>\n",
       "</div>"
      ],
      "text/plain": [
       "       valence  arousal             business_id                 name  \\\n",
       "11717     2.08     7.49  YQ--LJ7pvjiDSqNv0TuKTQ  Grimaldi's Pizzeria   \n",
       "\n",
       "       biz_stars state       city neighborhood  \\\n",
       "11717        4.0    NV  Las Vegas    The Strip   \n",
       "\n",
       "                               address postal_code       ...        \\\n",
       "11717  3327 Las Vegas Blvd S, Ste 2710       89109       ...         \n",
       "\n",
       "      reviewsenlen reviewlen  \\\n",
       "11717            2       118   \n",
       "\n",
       "                                              reviewword  reviewwordlen  \\\n",
       "11717  [Sehr, gute, Pizza, zum, selbst, zusammenstell...             24   \n",
       "\n",
       "       avgword                                       cleaned_text  model_star  \\\n",
       "11717     12.0  [sehr, gute, zum, selbst, zusammenstellen, war...           5   \n",
       "\n",
       "      cluster missalign  pred_sentiment  \n",
       "11717       1     False            None  \n",
       "\n",
       "[1 rows x 32 columns]"
      ]
     },
     "execution_count": 243,
     "metadata": {},
     "output_type": "execute_result"
    }
   ],
   "source": [
    "df[(df['valence']<3) & (df['stars']>4) & (df['arousal']>7)]"
   ]
  },
  {
   "cell_type": "markdown",
   "metadata": {},
   "source": [
    "### NLTK Sentiment"
   ]
  },
  {
   "cell_type": "code",
   "execution_count": 158,
   "metadata": {},
   "outputs": [],
   "source": [
    "from nltk.corpus import sentiwordnet as swn"
   ]
  },
  {
   "cell_type": "code",
   "execution_count": 155,
   "metadata": {},
   "outputs": [],
   "source": [
    "def normalize_accented_characters(text):\n",
    "    '''\n",
    "    removes accents from characters and replaces with non-accented equivalent\n",
    "    '''\n",
    "    if type(text) != str:\n",
    "        text = (unicodedata.normalize('NFKD', text.decode('utf-8'))\n",
    "                           .encode('ascii', 'ignore'))\n",
    "    return text"
   ]
  },
  {
   "cell_type": "code",
   "execution_count": 156,
   "metadata": {},
   "outputs": [],
   "source": [
    "def analyze_sentiment_sentiwordnet_lexicon(review, verbose=False):\n",
    "    '''\n",
    "    analyzes sentiment of text using \n",
    "    '''\n",
    "    # pre-process text\n",
    "    review = normalize_accented_characters(review)\n",
    "    \n",
    "    # tokenize and POS tag text tokens\n",
    "    text_tokens = nltk.word_tokenize(review)\n",
    "    tagged_text = nltk.pos_tag(text_tokens)\n",
    "    pos_score = neg_score = token_count = obj_score = 0\n",
    "    \n",
    "    # get wordnet synsets based on POS tags for NN, VB, JJ, RB\n",
    "    # get sentiment scores if synsets are found\n",
    "    for word, tag in tagged_text:  \n",
    "        ss_set = None\n",
    "        if 'NN' in tag and list(swn.senti_synsets(word, 'n')): # singular noun\n",
    "            ss_set = list(swn.senti_synsets(word, 'n'))[0]\n",
    "        elif 'VB' in tag and list(swn.senti_synsets(word, 'v')): # Verb\n",
    "            ss_set = list(swn.senti_synsets(word, 'v'))[0]\n",
    "        elif 'JJ' in tag and list(swn.senti_synsets(word, 'a')): # Adjective\n",
    "            ss_set = list(swn.senti_synsets(word, 'a'))[0]\n",
    "        elif 'RB' in tag and list(swn.senti_synsets(word, 'r')): # adverb\n",
    "            ss_set = list(swn.senti_synsets(word, 'r'))[0]\n",
    "        \n",
    "        # if senti-synset is found\n",
    "        if ss_set:\n",
    "            # add scores for all found synsets\n",
    "            pos_score += ss_set.pos_score()\n",
    "            neg_score += ss_set.neg_score()\n",
    "            obj_score += ss_set.obj_score()\n",
    "            token_count += 1\n",
    "        \n",
    "        # if no words have synset, return None \n",
    "        if token_count == 0:\n",
    "            return None\n",
    "        \n",
    "    # aggregate final scores\n",
    "    final_score = pos_score - neg_score\n",
    "    norm_final_score = round(float(final_score) / token_count, 2)\n",
    "    final_sentiment = 'positive' if norm_final_score >= 0 else 'negative'\n",
    "    if verbose:\n",
    "        norm_obj_score = round(float(obj_score) / token_count, 2)\n",
    "        norm_pos_score = round(float(pos_score) / token_count, 2)\n",
    "        norm_neg_score = round(float(neg_score) / token_count, 2)\n",
    "        # to display results in a nice table\n",
    "        sentiment_frame = pd.DataFrame([[final_sentiment, norm_obj_score,\n",
    "                                         norm_pos_score, norm_neg_score,\n",
    "                                         norm_final_score]],\n",
    "                                         columns=pd.MultiIndex(\n",
    "                                             levels=[['SENTIMENT STATS:'],\n",
    "                                                ['Predicted Sentiment',\n",
    "                                                 'Objectivity',\n",
    "                                                 'Positive', 'Negative',\n",
    "                                                 'Overall']],\n",
    "                                              labels=[[0,0,0,0,0],\n",
    "                                                      [0,1,2,3,4]]))\n",
    "        print(sentiment_frame)\n",
    "    return final_sentiment"
   ]
  },
  {
   "cell_type": "code",
   "execution_count": 159,
   "metadata": {},
   "outputs": [],
   "source": [
    "# takes a while to run\n",
    "df['pred_sentiment'] = df['text'].apply(analyze_sentiment_sentiwordnet_lexicon)"
   ]
  },
  {
   "cell_type": "code",
   "execution_count": 161,
   "metadata": {},
   "outputs": [
    {
     "data": {
      "text/plain": [
       "0    negative\n",
       "1    negative\n",
       "2    positive\n",
       "3        None\n",
       "4        None\n",
       "Name: pred_sentiment, dtype: object"
      ]
     },
     "execution_count": 161,
     "metadata": {},
     "output_type": "execute_result"
    }
   ],
   "source": [
    "df['pred_sentiment'].head()"
   ]
  },
  {
   "cell_type": "code",
   "execution_count": null,
   "metadata": {},
   "outputs": [],
   "source": []
  },
  {
   "cell_type": "code",
   "execution_count": 39,
   "metadata": {},
   "outputs": [
    {
     "name": "stdout",
     "output_type": "stream",
     "text": [
      "total non matching: 2\n"
     ]
    },
    {
     "data": {
      "text/plain": [
       "9996     Love the environment. Great waiter Nick. Super...\n",
       "11717    Sehr gute Pizza zum selbst zusammenstellen.\\n\\...\n",
       "Name: text, dtype: object"
      ]
     },
     "execution_count": 39,
     "metadata": {},
     "output_type": "execute_result"
    }
   ],
   "source": [
    "# how many not matching\n",
    "highstarlowsent = (df.stars == 5) & (df.valence < 3)\n",
    "print('total non matching:',highstarlowsent.sum())\n",
    "df[highstarlowsent].text.head()"
   ]
  },
  {
   "cell_type": "code",
   "execution_count": 40,
   "metadata": {},
   "outputs": [
    {
     "name": "stdout",
     "output_type": "stream",
     "text": [
      "total non matching: 14\n"
     ]
    },
    {
     "data": {
      "text/plain": [
       "'This restaurant is very dirty. Staff is never pleasant to customers, and the food is over priced.'"
      ]
     },
     "execution_count": 40,
     "metadata": {},
     "output_type": "execute_result"
    }
   ],
   "source": [
    "# how many not matching\n",
    "lowstarhighsent = (df.stars <2) & (df.valence > 7)\n",
    "print('total non matching:',lowstarhighsent.sum())\n",
    "df[lowstarhighsent].text.iloc[3]"
   ]
  },
  {
   "cell_type": "markdown",
   "metadata": {},
   "source": [
    "# Data Clean"
   ]
  },
  {
   "cell_type": "markdown",
   "metadata": {},
   "source": [
    "## Clean Function"
   ]
  },
  {
   "cell_type": "code",
   "execution_count": 350,
   "metadata": {},
   "outputs": [
    {
     "name": "stderr",
     "output_type": "stream",
     "text": [
      "<input>:15: DeprecationWarning: invalid escape sequence \\W\n",
      "<input>:15: DeprecationWarning: invalid escape sequence \\W\n",
      "<input>:15: DeprecationWarning: invalid escape sequence \\W\n",
      "<ipython-input-350-161df2979081>:15: DeprecationWarning: invalid escape sequence \\W\n",
      "  tokens = re.split('\\W+', text)\n"
     ]
    }
   ],
   "source": [
    "stopwords = nltk.corpus.stopwords.words('english')\n",
    "stopwords.extend(('pizza','pizzas','would','dont','didnt'))\n",
    "string.punctuation\n",
    "nolem = []\n",
    "wn = nltk.WordNetLemmatizer()\n",
    "ps = nltk.PorterStemmer()\n",
    "\n",
    "def clean_text(text, join=False, stem='lemmatize'):\n",
    "    # lower case and remove punctuation, here word is char so need '' to join these char back\n",
    "    text = ''.join([word.lower() for word in text if word not in string.punctuation])\n",
    "    \n",
    "    text=re.sub(r'\\d+', '', text)\n",
    "    \n",
    "    # break down to tokens (single word)\n",
    "    tokens = re.split('\\W+', text)\n",
    "    \n",
    "    # special words no lemmatize, and remove stop words\n",
    "    # elif list comprehension: [if-1 condition_1 else_2 for_statement <condition_2>]\n",
    "    \n",
    "    if stem == 'lemmatize':\n",
    "        if join == True:\n",
    "            text = ' '.join([word if word in nolem else wn.lemmatize(word,'v') for word in tokens if word not in stopwords ])\n",
    "        else:\n",
    "            text = [word if word in nolem else wn.lemmatize(word,'v') for word in tokens if word not in stopwords ]\n",
    "    elif stem == 'stem':\n",
    "        if join == True:\n",
    "            text = ' '.join([word if word in nolem else ps.stem(word) for word in tokens if word not in stopwords ])\n",
    "        else:\n",
    "            text = [word if word in nolem else ps.stem(word) for word in tokens if word not in stopwords ]\n",
    "    #nostop = [word for word in tokens if word not in stopwords]\n",
    "    #text = [wn.lemmatize(word) if word not in nolem else word for word in nostop]\n",
    "    #text=[]\n",
    "    #for word in tokens:\n",
    "    #    if word in nolem:\n",
    "    #        text.append(word)\n",
    "    #    elif word not in stopwords:\n",
    "    #        text.append(wn.lemmatize(word))\n",
    "    return text"
   ]
  },
  {
   "cell_type": "code",
   "execution_count": 351,
   "metadata": {},
   "outputs": [
    {
     "name": "stdout",
     "output_type": "stream",
     "text": [
      "CPU times: user 14.6 s, sys: 235 ms, total: 14.8 s\n",
      "Wall time: 14.9 s\n"
     ]
    }
   ],
   "source": [
    "%time df['cleaned_text']=df['text'].apply(clean_text)"
   ]
  },
  {
   "cell_type": "code",
   "execution_count": 352,
   "metadata": {
    "scrolled": true
   },
   "outputs": [
    {
     "data": {
      "text/plain": [
       "0    [displease, come, later, schedule, cold, box, ...\n",
       "1    [order, location, literally, front, apartment,...\n",
       "2    [busy, place, take, good, care, right, away, w...\n",
       "3    [stop, pick, order, wing, way, home, work, go,...\n",
       "4    [night, children, every, week, last, two, time...\n",
       "Name: cleaned_text, dtype: object"
      ]
     },
     "execution_count": 352,
     "metadata": {},
     "output_type": "execute_result"
    }
   ],
   "source": [
    "df['cleaned_text'].head()"
   ]
  },
  {
   "cell_type": "markdown",
   "metadata": {},
   "source": [
    "# Supervised Learning"
   ]
  },
  {
   "cell_type": "code",
   "execution_count": 44,
   "metadata": {},
   "outputs": [],
   "source": [
    "from collections import defaultdict\n",
    "import gensim\n",
    "import polyglot\n",
    "from sklearn.model_selection import train_test_split\n",
    "from sklearn.feature_extraction.text import CountVectorizer\n",
    "from sklearn.feature_extraction.text import TfidfVectorizer\n",
    "from sklearn.cluster import KMeans\n",
    "ner_categories = defaultdict(int)"
   ]
  },
  {
   "cell_type": "markdown",
   "metadata": {},
   "source": [
    "## Train test split"
   ]
  },
  {
   "cell_type": "code",
   "execution_count": 45,
   "metadata": {},
   "outputs": [
    {
     "data": {
      "application/javascript": [
       "$(document).ready(\n",
       "    function() {\n",
       "        function appendUniqueDiv(){\n",
       "            // append a div with our uuid so we can check that it's already\n",
       "            // been sent and avoid duplicates on page reload\n",
       "            var notifiedDiv = document.createElement(\"div\")\n",
       "            notifiedDiv.id = \"f497ab92-3ee4-4109-af29-cfa78fa9b062\"\n",
       "            element.append(notifiedDiv)\n",
       "        }\n",
       "\n",
       "        // only send notifications if the pageload is complete; this will\n",
       "        // help stop extra notifications when a saved notebook is loaded,\n",
       "        // which during testing gives us state \"interactive\", not \"complete\"\n",
       "        if (document.readyState === 'complete') {\n",
       "            // check for the div that signifies that the notification\n",
       "            // was already sent\n",
       "            if (document.getElementById(\"f497ab92-3ee4-4109-af29-cfa78fa9b062\") === null) {\n",
       "                var notificationPayload = {\"requireInteraction\": false, \"icon\": \"/static/base/images/favicon.ico\", \"body\": \"Cell execution has finished!\"};\n",
       "                if (Notification.permission !== 'denied') {\n",
       "                    if (Notification.permission !== 'granted') { \n",
       "                        Notification.requestPermission(function (permission) {\n",
       "                            if(!('permission' in Notification)) {\n",
       "                                Notification.permission = permission\n",
       "                            }\n",
       "                        })\n",
       "                    }\n",
       "                    if (Notification.permission === 'granted') {\n",
       "                    var notification = new Notification(\"Jupyter Notebook\", notificationPayload)\n",
       "                    appendUniqueDiv()\n",
       "                    notification.onclick = function () {\n",
       "                        window.focus();\n",
       "                        this.close();\n",
       "                        };\n",
       "                    } \n",
       "                }     \n",
       "            }\n",
       "        }\n",
       "    }\n",
       ")\n"
      ],
      "text/plain": [
       "<IPython.core.display.Javascript object>"
      ]
     },
     "metadata": {},
     "output_type": "display_data"
    }
   ],
   "source": [
    "%%notify\n",
    "y = df['stars']"
   ]
  },
  {
   "cell_type": "code",
   "execution_count": 46,
   "metadata": {},
   "outputs": [],
   "source": [
    "X_train, X_test, y_train, y_test = train_test_split(df['text'], y,\n",
    "                                                    test_size=0.3,\n",
    "                                                    random_state=42)"
   ]
  },
  {
   "cell_type": "markdown",
   "metadata": {},
   "source": [
    "## Count Vectorizer"
   ]
  },
  {
   "cell_type": "code",
   "execution_count": 47,
   "metadata": {},
   "outputs": [
    {
     "name": "stdout",
     "output_type": "stream",
     "text": [
      "CPU times: user 9.89 s, sys: 55.8 ms, total: 9.94 s\n",
      "Wall time: 9.96 s\n",
      "CPU times: user 4.19 s, sys: 14.2 ms, total: 4.2 s\n",
      "Wall time: 4.21 s\n"
     ]
    }
   ],
   "source": [
    "count_vectorizer = CountVectorizer(analyzer=clean_text)\n",
    "%time count_train = count_vectorizer.fit_transform(X_train)\n",
    "%time count_test = count_vectorizer.transform(X_test)"
   ]
  },
  {
   "cell_type": "code",
   "execution_count": 48,
   "metadata": {},
   "outputs": [
    {
     "name": "stdout",
     "output_type": "stream",
     "text": [
      "['', 'aa', 'aaaaaaaaye', 'aaaaaahhhh', 'aaaaand', 'aaaahhh', 'aaawwwwesucks', 'aaron', 'ab', 'aback']\n"
     ]
    }
   ],
   "source": [
    "print(count_vectorizer.get_feature_names()[:10])"
   ]
  },
  {
   "cell_type": "markdown",
   "metadata": {},
   "source": [
    "## TFIDF Vectorizer"
   ]
  },
  {
   "cell_type": "code",
   "execution_count": 49,
   "metadata": {},
   "outputs": [],
   "source": [
    "# Initialize a TfidfVectorizer object: tfidf_vectorizer\n",
    "tfidf_vectorizer = TfidfVectorizer(analyzer=clean_text)\n",
    "\n",
    "# Transform the training data: tfidf_train \n",
    "tfidf_train = tfidf_vectorizer.fit_transform(X_train)\n",
    "\n",
    "# Transform the test data: tfidf_test \n",
    "tfidf_test = tfidf_vectorizer.transform(X_test)"
   ]
  },
  {
   "cell_type": "code",
   "execution_count": 50,
   "metadata": {
    "scrolled": true
   },
   "outputs": [
    {
     "name": "stdout",
     "output_type": "stream",
     "text": [
      "['', 'aa', 'aaaaaaaaye', 'aaaaaahhhh', 'aaaaand', 'aaaahhh', 'aaawwwwesucks', 'aaron', 'ab', 'aback']\n",
      "['zusammenstellen', 'zzzzz', '¼', 'à', 'ça', 'è', 'écopé', 'était', 'été', 'évidemment']\n"
     ]
    }
   ],
   "source": [
    "print(tfidf_vectorizer.get_feature_names()[:10])\n",
    "print(tfidf_vectorizer.get_feature_names()[-10:])"
   ]
  },
  {
   "cell_type": "markdown",
   "metadata": {},
   "source": [
    "## Naive Bayes"
   ]
  },
  {
   "cell_type": "markdown",
   "metadata": {},
   "source": [
    "### Count Vect"
   ]
  },
  {
   "cell_type": "code",
   "execution_count": 51,
   "metadata": {},
   "outputs": [],
   "source": [
    "from sklearn.naive_bayes import MultinomialNB\n",
    "from sklearn import metrics"
   ]
  },
  {
   "cell_type": "code",
   "execution_count": 52,
   "metadata": {},
   "outputs": [
    {
     "name": "stdout",
     "output_type": "stream",
     "text": [
      "0.6280780300607611\n",
      "confusion matrix:\n",
      " [[1651   73   39   52   38]\n",
      " [ 269   74   63   87   46]\n",
      " [ 147   42  101  254  109]\n",
      " [  92   18   36  527  576]\n",
      " [ 132    3    6  244 1575]]\n"
     ]
    }
   ],
   "source": [
    "nb_classifier = MultinomialNB()\n",
    "nb_classifier.fit(count_train, y_train)\n",
    "pred = nb_classifier.predict(count_test)\n",
    "print(metrics.accuracy_score(y_test, pred))\n",
    "print('confusion matrix:\\n',metrics.confusion_matrix(y_test, pred, labels=[1,2,3,4,5]))"
   ]
  },
  {
   "cell_type": "markdown",
   "metadata": {},
   "source": [
    "### TFIDF vect"
   ]
  },
  {
   "cell_type": "code",
   "execution_count": 53,
   "metadata": {},
   "outputs": [
    {
     "name": "stdout",
     "output_type": "stream",
     "text": [
      "0.5770706747681484\n",
      "[[1746    0    0    1  106]\n",
      " [ 372    0    0    9  158]\n",
      " [ 209    0    0   24  420]\n",
      " [ 110    1    0   15 1123]\n",
      " [ 111    0    0    1 1848]]\n"
     ]
    }
   ],
   "source": [
    "nb_tfidf_classifier = MultinomialNB()\n",
    "nb_tfidf_classifier.fit(tfidf_train, y_train)\n",
    "pred_tfidf=nb_tfidf_classifier.predict(tfidf_test)\n",
    "print(metrics.accuracy_score(y_test,pred_tfidf))\n",
    "print(metrics.confusion_matrix(y_test,pred_tfidf,labels=[1,2,3,4,5]))"
   ]
  },
  {
   "cell_type": "code",
   "execution_count": 54,
   "metadata": {},
   "outputs": [],
   "source": [
    "alphas = np.arange(0,1,0.1)"
   ]
  },
  {
   "cell_type": "code",
   "execution_count": 55,
   "metadata": {},
   "outputs": [
    {
     "name": "stdout",
     "output_type": "stream",
     "text": [
      "Alpha:  0.0\n",
      "Score:  0.5524464342820595\n",
      "\n",
      "Alpha:  0.1\n",
      "Score:  0.6100095938599297\n",
      "\n",
      "Alpha:  0.2\n",
      "Score:  0.6032938919091781\n",
      "\n",
      "Alpha:  0.30000000000000004\n",
      "Score:  0.595458906299968\n",
      "\n",
      "Alpha:  0.4\n",
      "Score:  0.5906619763351455\n",
      "\n",
      "Alpha:  0.5\n",
      "Score:  0.5892228973456988\n",
      "\n",
      "Alpha:  0.6000000000000001\n",
      "Score:  0.5853853533738408\n",
      "\n",
      "Alpha:  0.7000000000000001\n",
      "Score:  0.5825071953949472\n",
      "\n",
      "Alpha:  0.8\n",
      "Score:  0.5799488327470419\n",
      "\n",
      "Alpha:  0.9\n",
      "Score:  0.5783498560921011\n",
      "\n"
     ]
    },
    {
     "name": "stderr",
     "output_type": "stream",
     "text": [
      "/anaconda3/lib/python3.6/site-packages/sklearn/naive_bayes.py:472: UserWarning: alpha too small will result in numeric errors, setting alpha = 1.0e-10\n",
      "  'setting alpha = %.1e' % _ALPHA_MIN)\n"
     ]
    }
   ],
   "source": [
    "# Define train_and_predict()\n",
    "def train_and_predict(alpha):\n",
    "    # Instantiate the classifier: nb_classifier\n",
    "    nb_classifier = MultinomialNB(alpha=alpha)\n",
    "    # Fit to the training data\n",
    "    nb_classifier.fit(tfidf_train,y_train)\n",
    "    # Predict the labels: pred\n",
    "    pred = nb_classifier.predict(tfidf_test)\n",
    "    # Compute accuracy: score\n",
    "    score = metrics.accuracy_score(y_test, pred)\n",
    "    return score\n",
    "\n",
    "# Iterate over the alphas and print the corresponding score\n",
    "for alpha in alphas:\n",
    "    print('Alpha: ', alpha)\n",
    "    print('Score: ', train_and_predict(alpha))\n",
    "    print()"
   ]
  },
  {
   "cell_type": "code",
   "execution_count": 56,
   "metadata": {},
   "outputs": [
    {
     "data": {
      "text/plain": [
       "array([1, 2, 3, 4, 5])"
      ]
     },
     "execution_count": 56,
     "metadata": {},
     "output_type": "execute_result"
    }
   ],
   "source": [
    "nb_classifier.classes_"
   ]
  },
  {
   "cell_type": "code",
   "execution_count": 57,
   "metadata": {},
   "outputs": [
    {
     "name": "stdout",
     "output_type": "stream",
     "text": [
      "1 [(-12.395998549184064, 'aa'), (-12.395998549184064, 'aaaaaaaaye'), (-12.395998549184064, 'aaaaaahhhh'), (-12.395998549184064, 'aaaaand'), (-12.395998549184064, 'ab'), (-12.395998549184064, 'aback'), (-12.395998549184064, 'abandon'), (-12.395998549184064, 'abatt'), (-12.395998549184064, 'abbiamo'), (-12.395998549184064, 'abby'), (-12.395998549184064, 'abigail'), (-12.395998549184064, 'abita'), (-12.395998549184064, 'abject'), (-12.395998549184064, 'abnormally'), (-12.395998549184064, 'abode'), (-12.395998549184064, 'abomination'), (-12.395998549184064, 'aboutb'), (-12.395998549184064, 'abouthenceforth'), (-12.395998549184064, 'aboutits'), (-12.395998549184064, 'abovementioned')]\n",
      "2 [(-5.208341385069108, 'customer'), (-5.1881386777515885, 'told'), (-5.158220357260621, 'hour'), (-5.155348854928598, 'food'), (-5.1043423400096035, 'manager'), (-5.074809992444586, 'place'), (-5.07348811518667, 'back'), (-5.072827831240595, 'location'), (-5.066904812937472, 'delivery'), (-5.0422762187844326, 'never'), (-5.005200027448388, 'service'), (-4.986862105263936, 'one'), (-4.971236787360855, 'called'), (-4.9355082433587265, 'said'), (-4.900456605299808, 'get'), (-4.869819635837918, 'would'), (-4.834356803595284, 'minute'), (-4.75491430000915, 'ordered'), (-4.436722589067668, 'time'), (-3.955686402103785, 'order')]\n"
     ]
    }
   ],
   "source": [
    "# Get the class labels: class_labels\n",
    "class_labels = nb_classifier.classes_\n",
    "\n",
    "# Extract the features: feature_names\n",
    "feature_names = tfidf_vectorizer.get_feature_names()\n",
    "\n",
    "# Zip the feature names together with the coefficient array and sort by weights: feat_with_weights\n",
    "feat_with_weights = sorted(zip(nb_classifier.coef_[0], feature_names))\n",
    "\n",
    "# Print the first class label and the top 20 feat_with_weights entries\n",
    "print(class_labels[0], feat_with_weights[:20])\n",
    "\n",
    "# Print the second class label and the bottom 20 feat_with_weights entries\n",
    "print(class_labels[1], feat_with_weights[-20:])"
   ]
  },
  {
   "cell_type": "markdown",
   "metadata": {},
   "source": [
    "## SVM"
   ]
  },
  {
   "cell_type": "code",
   "execution_count": 58,
   "metadata": {},
   "outputs": [],
   "source": [
    "from sklearn.linear_model import SGDClassifier\n",
    "svm=SGDClassifier(loss='hinge',max_iter=500)"
   ]
  },
  {
   "cell_type": "code",
   "execution_count": 59,
   "metadata": {
    "scrolled": false
   },
   "outputs": [
    {
     "name": "stdout",
     "output_type": "stream",
     "text": [
      "0.6514230892228974\n"
     ]
    },
    {
     "data": {
      "text/html": [
       "<div>\n",
       "<style scoped>\n",
       "    .dataframe tbody tr th:only-of-type {\n",
       "        vertical-align: middle;\n",
       "    }\n",
       "\n",
       "    .dataframe tbody tr th {\n",
       "        vertical-align: top;\n",
       "    }\n",
       "\n",
       "    .dataframe thead th {\n",
       "        text-align: right;\n",
       "    }\n",
       "</style>\n",
       "<table border=\"1\" class=\"dataframe\">\n",
       "  <thead>\n",
       "    <tr style=\"text-align: right;\">\n",
       "      <th></th>\n",
       "      <th>1</th>\n",
       "      <th>2</th>\n",
       "      <th>3</th>\n",
       "      <th>4</th>\n",
       "      <th>5</th>\n",
       "    </tr>\n",
       "  </thead>\n",
       "  <tbody>\n",
       "    <tr>\n",
       "      <th>1</th>\n",
       "      <td>1742</td>\n",
       "      <td>23</td>\n",
       "      <td>22</td>\n",
       "      <td>22</td>\n",
       "      <td>44</td>\n",
       "    </tr>\n",
       "    <tr>\n",
       "      <th>2</th>\n",
       "      <td>331</td>\n",
       "      <td>64</td>\n",
       "      <td>45</td>\n",
       "      <td>57</td>\n",
       "      <td>42</td>\n",
       "    </tr>\n",
       "    <tr>\n",
       "      <th>3</th>\n",
       "      <td>160</td>\n",
       "      <td>40</td>\n",
       "      <td>122</td>\n",
       "      <td>199</td>\n",
       "      <td>132</td>\n",
       "    </tr>\n",
       "    <tr>\n",
       "      <th>4</th>\n",
       "      <td>72</td>\n",
       "      <td>15</td>\n",
       "      <td>58</td>\n",
       "      <td>412</td>\n",
       "      <td>692</td>\n",
       "    </tr>\n",
       "    <tr>\n",
       "      <th>5</th>\n",
       "      <td>58</td>\n",
       "      <td>3</td>\n",
       "      <td>15</td>\n",
       "      <td>150</td>\n",
       "      <td>1734</td>\n",
       "    </tr>\n",
       "  </tbody>\n",
       "</table>\n",
       "</div>"
      ],
      "text/plain": [
       "      1   2    3    4     5\n",
       "1  1742  23   22   22    44\n",
       "2   331  64   45   57    42\n",
       "3   160  40  122  199   132\n",
       "4    72  15   58  412   692\n",
       "5    58   3   15  150  1734"
      ]
     },
     "execution_count": 59,
     "metadata": {},
     "output_type": "execute_result"
    }
   ],
   "source": [
    "svm.fit(tfidf_train, y_train)\n",
    "pred_svm=svm.predict(tfidf_test)\n",
    "print(metrics.accuracy_score(y_test,pred_svm))\n",
    "pd.DataFrame(metrics.confusion_matrix(y_test,pred_svm,labels=[1,2,3,4,5]),\n",
    "            index=range(1,6),\n",
    "            columns=range(1,6))"
   ]
  },
  {
   "cell_type": "code",
   "execution_count": 142,
   "metadata": {
    "scrolled": true
   },
   "outputs": [
    {
     "data": {
      "text/plain": [
       "Index(['valence', 'arousal', 'business_id', 'name', 'biz_stars', 'state',\n",
       "       'city', 'neighborhood', 'address', 'postal_code', 'review_id', 'text',\n",
       "       'date', 'cool', 'funny', 'useful', 'stars', 'user_id', 'type',\n",
       "       'puncount', 'lan', 'reviewsen', 'reviewsenlen', 'reviewlen',\n",
       "       'reviewword', 'reviewwordlen', 'avgword', 'cleaned_text', 'model_star',\n",
       "       'cluster'],\n",
       "      dtype='object')"
      ]
     },
     "execution_count": 142,
     "metadata": {},
     "output_type": "execute_result"
    }
   ],
   "source": [
    "df.columns"
   ]
  },
  {
   "cell_type": "code",
   "execution_count": 150,
   "metadata": {},
   "outputs": [],
   "source": [
    "df['missalign']=df['model_star']<df['stars']"
   ]
  },
  {
   "cell_type": "code",
   "execution_count": 152,
   "metadata": {},
   "outputs": [
    {
     "data": {
      "text/plain": [
       "2138"
      ]
     },
     "execution_count": 152,
     "metadata": {},
     "output_type": "execute_result"
    }
   ],
   "source": [
    "df['missalign'].sum()"
   ]
  },
  {
   "cell_type": "code",
   "execution_count": 145,
   "metadata": {},
   "outputs": [],
   "source": [
    "X_strain, X_stest, y_strain, y_stest = train_test_split(df[['valence','arousal']], y,\n",
    "                                                    test_size=0.3,\n",
    "                                                    random_state=42)"
   ]
  },
  {
   "cell_type": "code",
   "execution_count": 147,
   "metadata": {},
   "outputs": [],
   "source": [
    "s_svm=SGDClassifier(loss='hinge',max_iter=500)"
   ]
  },
  {
   "cell_type": "code",
   "execution_count": 149,
   "metadata": {
    "scrolled": false
   },
   "outputs": [
    {
     "name": "stdout",
     "output_type": "stream",
     "text": [
      "0.4748960665174288\n",
      "      1   2  3  4     5\n",
      "1  1320  30  0  0   503\n",
      "2   291  13  0  0   235\n",
      "3   232  16  0  0   405\n",
      "4   285  21  0  0   943\n",
      "5   304  19  0  0  1637\n",
      "0.47893878334292844\n"
     ]
    }
   ],
   "source": [
    "s_svm.fit(X_strain, y_strain)\n",
    "s_pred_svm=s_svm.predict(X_stest)\n",
    "print(metrics.accuracy_score(y_stest,s_pred_svm))\n",
    "print(pd.DataFrame(metrics.confusion_matrix(y_stest,s_pred_svm,labels=[1,2,3,4,5]),\n",
    "            index=range(1,6),\n",
    "            columns=range(1,6)))\n",
    "print(metrics.accuracy_score(y,s_svm.predict(df[['valence','arousal']])))"
   ]
  },
  {
   "cell_type": "markdown",
   "metadata": {},
   "source": [
    "## save scoring result to 'model_star'"
   ]
  },
  {
   "cell_type": "code",
   "execution_count": 60,
   "metadata": {},
   "outputs": [],
   "source": [
    "df['model_star']=svm.predict(tfidf_vectorizer.transform(df['text']))"
   ]
  },
  {
   "cell_type": "code",
   "execution_count": 61,
   "metadata": {},
   "outputs": [
    {
     "data": {
      "text/plain": [
       "0.755277298023412"
      ]
     },
     "execution_count": 61,
     "metadata": {},
     "output_type": "execute_result"
    }
   ],
   "source": [
    "metrics.accuracy_score(df['stars'],df['model_star'])"
   ]
  },
  {
   "cell_type": "code",
   "execution_count": 62,
   "metadata": {},
   "outputs": [
    {
     "data": {
      "text/html": [
       "<div>\n",
       "<style scoped>\n",
       "    .dataframe tbody tr th:only-of-type {\n",
       "        vertical-align: middle;\n",
       "    }\n",
       "\n",
       "    .dataframe tbody tr th {\n",
       "        vertical-align: top;\n",
       "    }\n",
       "\n",
       "    .dataframe thead th {\n",
       "        text-align: right;\n",
       "    }\n",
       "</style>\n",
       "<table border=\"1\" class=\"dataframe\">\n",
       "  <thead>\n",
       "    <tr style=\"text-align: right;\">\n",
       "      <th></th>\n",
       "      <th>1</th>\n",
       "      <th>2</th>\n",
       "      <th>3</th>\n",
       "      <th>4</th>\n",
       "      <th>5</th>\n",
       "    </tr>\n",
       "  </thead>\n",
       "  <tbody>\n",
       "    <tr>\n",
       "      <th>1</th>\n",
       "      <td>5855</td>\n",
       "      <td>31</td>\n",
       "      <td>33</td>\n",
       "      <td>37</td>\n",
       "      <td>85</td>\n",
       "    </tr>\n",
       "    <tr>\n",
       "      <th>2</th>\n",
       "      <td>978</td>\n",
       "      <td>643</td>\n",
       "      <td>70</td>\n",
       "      <td>103</td>\n",
       "      <td>108</td>\n",
       "    </tr>\n",
       "    <tr>\n",
       "      <th>3</th>\n",
       "      <td>368</td>\n",
       "      <td>57</td>\n",
       "      <td>1053</td>\n",
       "      <td>361</td>\n",
       "      <td>336</td>\n",
       "    </tr>\n",
       "    <tr>\n",
       "      <th>4</th>\n",
       "      <td>156</td>\n",
       "      <td>24</td>\n",
       "      <td>91</td>\n",
       "      <td>2064</td>\n",
       "      <td>1799</td>\n",
       "    </tr>\n",
       "    <tr>\n",
       "      <th>5</th>\n",
       "      <td>132</td>\n",
       "      <td>6</td>\n",
       "      <td>31</td>\n",
       "      <td>295</td>\n",
       "      <td>6128</td>\n",
       "    </tr>\n",
       "  </tbody>\n",
       "</table>\n",
       "</div>"
      ],
      "text/plain": [
       "      1    2     3     4     5\n",
       "1  5855   31    33    37    85\n",
       "2   978  643    70   103   108\n",
       "3   368   57  1053   361   336\n",
       "4   156   24    91  2064  1799\n",
       "5   132    6    31   295  6128"
      ]
     },
     "execution_count": 62,
     "metadata": {},
     "output_type": "execute_result"
    }
   ],
   "source": [
    "pd.DataFrame(metrics.confusion_matrix(df['stars'],df['model_star'],labels=[1,2,3,4,5]),\n",
    "            index=range(1,6),\n",
    "            columns=range(1,6))"
   ]
  },
  {
   "cell_type": "markdown",
   "metadata": {},
   "source": [
    "# Cluster K-means"
   ]
  },
  {
   "cell_type": "code",
   "execution_count": 63,
   "metadata": {
    "scrolled": true
   },
   "outputs": [],
   "source": [
    "# run kmeans\n",
    "num_clusters = 5\n",
    "km = KMeans(n_clusters=num_clusters, n_jobs=-1) # instantiate kmeans object, with n clusters, and tell it to use all processors\n",
    "km.fit(tfidf_vectorizer.transform(df['text']))\n",
    "clusters = km.labels_.tolist()\n",
    "df.loc[:,'cluster'] = clusters  # assign cluster results to dataframe"
   ]
  },
  {
   "cell_type": "code",
   "execution_count": 64,
   "metadata": {},
   "outputs": [],
   "source": [
    "# get details of clusters\n",
    "cluster_details = {}\n",
    "\n",
    "# get cluster centroids\n",
    "ordered_centroids = km.cluster_centers_.argsort()[:, ::-1]\n",
    "\n",
    "# get key features for each cluster\n",
    "# and also list restaurants and reviews associated with that cluster\n",
    "for cluster_num in range(num_clusters):\n",
    "    cluster_details[cluster_num] = {}  # assign cluster number as dictionary\n",
    "    cluster_details[cluster_num]['cluster_num'] = cluster_num  # assign cluster num\n",
    "    key_features = [feature_names[index] for index in ordered_centroids[cluster_num, :20]] # top 20 features of cluster\n",
    "    cluster_details[cluster_num]['key_features'] = key_features\n",
    "\n",
    "    businesses = df.loc[df['cluster'] == cluster_num, 'name'].unique().tolist()  # list of biz in cluster\n",
    "    review_ids = df.loc[df['cluster'] == cluster_num, 'review_id'].unique().tolist() # list of reviews in cluster\n",
    "    cluster_details[cluster_num]['businesses'] = businesses  # assign businesses\n",
    "    cluster_details[cluster_num]['review_ids'] = review_ids  # assign review_ids"
   ]
  },
  {
   "cell_type": "code",
   "execution_count": 153,
   "metadata": {},
   "outputs": [
    {
     "data": {
      "text/plain": [
       "{'cluster_num': 0,\n",
       " 'key_features': ['crust',\n",
       "  'good',\n",
       "  'topping',\n",
       "  'sauce',\n",
       "  'thin',\n",
       "  'cheese',\n",
       "  'like',\n",
       "  'place',\n",
       "  'salad',\n",
       "  'one',\n",
       "  'grimaldis',\n",
       "  'really',\n",
       "  'fresh',\n",
       "  'pepperoni',\n",
       "  'get',\n",
       "  'love',\n",
       "  'pizza',\n",
       "  'also',\n",
       "  'best',\n",
       "  'time'],\n",
       " 'businesses': ['Pizza Hut',\n",
       "  \"Domino's Pizza\",\n",
       "  \"Grimaldi's Pizzeria\",\n",
       "  \"Papa John's Pizza\",\n",
       "  'Little Caesars',\n",
       "  \"Papa Murphy's\",\n",
       "  \"Blaze Fast-Fire'd Pizza\",\n",
       "  'Mellow Mushroom'],\n",
       " 'review_ids': ['NvbLCrC5ia_wQRmXHx_DDQ',\n",
       "  's81vtD-vXPMevTdp-Q0Wpg',\n",
       "  'm7BfiPgUQe2i9EQzNq98Dw',\n",
       "  'FRaFjrieZlqGz39Tu-gMCA',\n",
       "  'bRqAX-zZwJMUzRhhuwlpZg',\n",
       "  '0GzWkFnkEFTKQ1g-8XVbpw',\n",
       "  'fvSU_EBb5RjGkz90WsNEDQ',\n",
       "  'Z0sRgMdai5hxzlM-RuIpCQ',\n",
       "  'Sh_ti4rcaN--aCXj4YsM-g',\n",
       "  'LsS55il88N8YZ-raIT5mmg',\n",
       "  'ZQZ_OfnYth_wxjS2SrhTtQ',\n",
       "  'DHGl59c8UsLZ8QaVg-8p2g',\n",
       "  'JV-4cN7WchEqng0DW30vZw',\n",
       "  'k2tNKvTwtiAZK7OI7fsZVw',\n",
       "  'kAELVCPncXcDhCy2gZ9Bow',\n",
       "  'VAU9buWSYkUluEHubNSaVw',\n",
       "  'P6cHKSazLugaAvd9Y-SwVA',\n",
       "  'EpipQR9anHNPa8ggu_DgRQ',\n",
       "  'z4ISY125z3sUdFrfZmtCnA',\n",
       "  'LkDVUGxgg2YYw1potLkEIg',\n",
       "  'o_PiPXlm0dLthYg2LUXINg',\n",
       "  'jiSIXD-MoFN-cDQkXozhwg',\n",
       "  'ufxQ_m7FUsG4_pH1jiKjJA',\n",
       "  '_BpMw9ySXy2sAWBt-q1Gdw',\n",
       "  'HyenjnHH94OZKkmozhqWqw',\n",
       "  'B-wXYOGtXRTbTztbfyrGKw',\n",
       "  'qJlyXkhRA-1ro-lWk31w-Q',\n",
       "  'b88JlPmt7P3Y83PLyJ1aGw',\n",
       "  '_ykFYbAdVSm1kCbEvQFzRw',\n",
       "  'oOhEqJ1G4G4ZTFgN_y6YMQ',\n",
       "  'pnxRbzlgdFxO3Zen8iJm4A',\n",
       "  'iMJlYKHNvQfkj9dGWWGkEw',\n",
       "  'kNGDCspXZo0ivB3APXJ9jQ',\n",
       "  '9uzx8qVuBlbEI-p5fDfjgw',\n",
       "  'F8ToYODV3t0m-ERW6gT5eg',\n",
       "  'QdO41YJO4Jyo8JurCbQvJA',\n",
       "  'p8_oP3Mmh7wm2ZEKWwPlnQ',\n",
       "  'qchhXav24AzHLPJNbgh80A',\n",
       "  'h61IvVfxf_67SU8Ikr-iLQ',\n",
       "  'BD5GvkgJjKm8iDWQFdsJzg',\n",
       "  'ER4VKHhvO4c7XItbPun0ug',\n",
       "  '-cq1kOkZNn1jUq5yVWbM8Q',\n",
       "  '4vWCufhKFoHZbakpt8p4aw',\n",
       "  'LnvNV7DXOzZIrNdVKT00zw',\n",
       "  'jUMeKn06dKuOBWAZ0034nQ',\n",
       "  'NMlXs9oaxyH_heRwinlm1A',\n",
       "  'bypAJyiUqA0H0mLebGlKmQ',\n",
       "  'MsDJcibNRGFL0-0_uMcEYw',\n",
       "  'AEkftuvdWqb4ZOXDIbQyyw',\n",
       "  'IP72Y25Us7KbXhlMPin1pA',\n",
       "  'bMrsIgWszP6duAt_jgAk1A',\n",
       "  'ng0ToAsg2OMrUfFuIoYQXQ',\n",
       "  'vDE8HM9z07uCKnS6b_ceQg',\n",
       "  'uEzEmJMo6Ewlg_Sm61qzbA',\n",
       "  '73iTBKY2bREVoB1qMn-7cw',\n",
       "  '2ikiLXRUN7sB3rGEfjXJUQ',\n",
       "  'Thr4Cc42C_ufA4PGS1EV5Q',\n",
       "  'IuW-XconwueNQHGI7I0lZw',\n",
       "  '-T5Wu3pkVsIsPM-bTzVSoQ',\n",
       "  '1qN6XL5XytMJ8a3aFc86LQ',\n",
       "  'NsDfgD5_eOLNxfhyoAMvBg',\n",
       "  'g2yo8HHogjblR82djawd6g',\n",
       "  'OzNNwYLvfGP0C31GVhWn0A',\n",
       "  'sYFTej-KDNHQSD91A_bKCA',\n",
       "  '9JxFAkeVNY33cLzTAmRmhA',\n",
       "  'xn-NhHaQr3HY1KPJ6S1xYQ',\n",
       "  'ulMr88kvFOyessW1SJ4P8Q',\n",
       "  'H883p7OdptmikadP5jGntw',\n",
       "  '0v7qEdGmgnyUdoaeiYm4uw',\n",
       "  '0BDiPHhK0A9W1sXb82-r3Q',\n",
       "  'pGvDWUZDBQqPfm9gWM0q6Q',\n",
       "  '1K_09DT-rixFUyZyfWecBw',\n",
       "  'STQ-M3ZXjaoGNceIPwdFJg',\n",
       "  'PeivjflrV8EsUp5ZdE8-cw',\n",
       "  '3z2cKfuNm9YngtG7fktOgw',\n",
       "  'tQ4BY91neza7Qnyl-vSIYw',\n",
       "  'n3SypHA8iDwUX0qpfmqAvg',\n",
       "  'fN-PJfdeAd2AUE5IuBM6gA',\n",
       "  '93ihHJR5aUxib25xHS_HPA',\n",
       "  'ZVwUSzqSpN5Pz7fDamAbAw',\n",
       "  'CkWkKW9qzsx5aIDNTjJGhQ',\n",
       "  'wQTKDReVDO-KRrh_dSK0Ag',\n",
       "  'Z9dXPBthJkZL254TiOYSqg',\n",
       "  'C1yJLG9lP3qUYwTNNsk3gw',\n",
       "  'HrlSE0yzqvmz4lE9-CM0og',\n",
       "  'lKNOSNhNBMiDaOWSQzWqgw',\n",
       "  'pfmw0Td-wL7dMldQtBbhSg',\n",
       "  'yo8K40jo9yA3MAhx_pZQYA',\n",
       "  'TZcZfOk2c7UqAyi26_Bdqg',\n",
       "  'slW2Il-dMFNjJmz5ASJ4yg',\n",
       "  'KNyT7x7fUFYwJFGS9aslZw',\n",
       "  'hbCar6UOs6NmFVZeyn5GJA',\n",
       "  'hNiCtHnrZuLitvtzrU1ekg',\n",
       "  'qoxX_9c_ueJ7Dj-G0DOjbQ',\n",
       "  'y9XWTtBOOsOq_Mo70jIxUQ',\n",
       "  'bukni_BSQNlkXCgQJig1BA',\n",
       "  'WMRgOZQa6oZB5SMduhB23Q',\n",
       "  'lQWmkECP5XDOplaWtm8Mpg',\n",
       "  'g7aQ4HJBugPQEoame_qtJQ',\n",
       "  'NijHRScTAv6bqZ1JDUvN6w',\n",
       "  '2CJsfNo1OKHoagg91zM17Q',\n",
       "  'Igj6L1eLxw-VtEXm3gFGTg',\n",
       "  'NLcT1YNxgvYsKTkhL39NKA',\n",
       "  '6QtR074Pkx5SNfzqt2wIQw',\n",
       "  'IIyEGBPNBYNL6KZ5zCgttA',\n",
       "  'RU-eIdj9svH27Wo_YXAQog',\n",
       "  'c1VJRVCP56k_19As0LXSuQ',\n",
       "  'f_oKt9hKdEjTIe_NuXej2Q',\n",
       "  'rc67gN3hxEJ7lftxO19F8A',\n",
       "  'fzoZjfHkYbLQ-iYjgahqaA',\n",
       "  'qqSMJG3qo9acKjhuIoMBsw',\n",
       "  'dwOiXIB_5KR6--pGaFUjHA',\n",
       "  'QrCZFxB1YGCVyulItMUUfw',\n",
       "  'm2rQZm1FmqRxblVQZDNXRQ',\n",
       "  'z6ypYhXpS_kIdgOntv_LUw',\n",
       "  'wjXIziyKhHBbctmkcHRsSQ',\n",
       "  'Qwqqi4L8AQxyah7_1ci1Xg',\n",
       "  'B7Tk9sgv0dNVzz-94KSs6A',\n",
       "  'vIddwV9fA1AfjsPpO_H4CA',\n",
       "  '8fZYmUs89C1w6uNgB-gryg',\n",
       "  'njSfUitx9m8HpDan9MGOQA',\n",
       "  'X4AnpozTtk0Ae0uBcDaGcw',\n",
       "  'vz1qfMeM01pTb5lNVnBKnQ',\n",
       "  'B7Rucppomm9Dg7OysKtvmw',\n",
       "  'VJvNTdRi5mvhENM_MI5cQg',\n",
       "  's0yfb3l7XfPVs-rsolVTDA',\n",
       "  'yC5oX4YRn3sMSkUtOSqv8w',\n",
       "  '0CPd_2NUgRaFiILmOjJF1A',\n",
       "  'zbfCXjPKFqKqq4Q8yHY2DQ',\n",
       "  'IyutEGa_sEFTYvd0B9Odag',\n",
       "  'TM9JZSbcisKy5CaDcHWC-w',\n",
       "  'JV0zBO3cniK5pz6xs8_erw',\n",
       "  'RM7uXsOgGr_tuY9KrnX8Vg',\n",
       "  'NV44jkywPSovHO_2GIm_Sw',\n",
       "  '5-zziDa3T-8R8JWVQJY5QQ',\n",
       "  'Dazv63yAaoZ9cXNMCPtXMw',\n",
       "  'fy9EdXI67P5A_3grRoJbGA',\n",
       "  '0BiLeyd9AgRiYIzKgFZa5w',\n",
       "  '8RDvwneSMsbpmi5UgGq60A',\n",
       "  'umYuU_zV7aehdX7MWNWv0Q',\n",
       "  'xFml7qUvjqNw4BT-kw0aDw',\n",
       "  'qEGTYudlZfupt6ZFAxGOBQ',\n",
       "  'Ag_tCqE7vi5mLvJ76ATZMA',\n",
       "  'jSnN90dKsBMy6bPRikMexw',\n",
       "  '24kZdUyGPFvkgCKJqlLY0w',\n",
       "  '-Ug8Uhdwlddj4l-X-PHRGQ',\n",
       "  'Bx907fSMKQrb9lsERlaZBQ',\n",
       "  '44zK5fMOry43_0cReo27Pw',\n",
       "  'kclDEUBpWpiQH424yPZfLA',\n",
       "  'AfvbWaNOQGAzQymy9Lvxng',\n",
       "  'yCn1uayuYlMjBBMux4_6YA',\n",
       "  'RbtENRXCzUD5wnfs6Lkkig',\n",
       "  'LSPycp6D4qSl6a1-BxXupA',\n",
       "  'lvHVC7T0j0obFCZQQaqJ8w',\n",
       "  'J7eroNbTCqA_AhiHIT3FkA',\n",
       "  'A3S0mtGLrsiPSTGPb0fOeQ',\n",
       "  'WxIF16nit3Y1ptT3wGBgfg',\n",
       "  'pMewUrUaZSIRk_DhtqcUCA',\n",
       "  'r4JEoYEcQwrU5KzFKSk4cw',\n",
       "  'Rnk7aW1YMxkhHOK_h5zh4A',\n",
       "  'dN8WHvPhMQnS4Zvyte0TLg',\n",
       "  'yv9COVQeNpYP9zX9096gpw',\n",
       "  'NDEWzgmf4Z9nI2yF6xPcAg',\n",
       "  'S4BE1xqJpGMyP-PRKNLwDw',\n",
       "  'j4WJGNY7v6DVTeVhHfQAGg',\n",
       "  '0d-n3II-MKdk7RtAFS9THA',\n",
       "  '72JavFOIfcTj2rHqKMy0zw',\n",
       "  '7VmZCAnXjgQ_9_SxcDaeiA',\n",
       "  'inOkilKqDHGd1SKWA_sN6g',\n",
       "  'PQpcEm2VtHRdRQO-liKN0w',\n",
       "  '7JzgPofpDiZh9VnajmDzzw',\n",
       "  'A4wZuHrYmsnd-NtHzOHyzg',\n",
       "  'iwwiZFs_Dg6Rb065msdisQ',\n",
       "  'r0Da06_HdRZwNqhrGbwOXg',\n",
       "  'Aqxdc_Z6ovza5URPQihwQQ',\n",
       "  'Stfy_eVUHLAIun1JEMyIdA',\n",
       "  'qAgrSEqw36gcK_0Cf2NXhA',\n",
       "  'B0nPspQo0765VO0waIvQow',\n",
       "  'O1CZ7mMx9XGGLqF5Kx4WSQ',\n",
       "  'LuEzy6HQY4SqXyF5k1QWDA',\n",
       "  '-eukZyjuMWZMC66SUfl0vw',\n",
       "  'iHN9JCpkea9sex4BUBokPQ',\n",
       "  'o5uYxH0m1B-YY6LsTKoQYA',\n",
       "  '83TFIRb6Cy-_a0sU0Arz7w',\n",
       "  '00KUT7MvNzgFzWyg6QZusQ',\n",
       "  'sUpLk1fdNKqcqLDYLzUgNA',\n",
       "  'YcsUPmZ-7n1z7LTRXFhK7A',\n",
       "  'yVOevnwh6rwvAqCkiaOeGw',\n",
       "  'SSojxdvuzFB7jNskM4URIw',\n",
       "  'gVsT23EXWwS3j-Y2PxkX6Q',\n",
       "  'M9oHMMGtU9fXSolsuiT-zg',\n",
       "  'cI8NQfJYZwA06iG9nPn--g',\n",
       "  'vt5DJ3WjDqAiSIYZ3b0K0g',\n",
       "  '-pS6rT7W1bLSk6f3gUHjBw',\n",
       "  'OHxKHvNsgX9qZrYIkATJ7g',\n",
       "  'Eyy4sesWVZTCczXMhASiDQ',\n",
       "  'DHzr50yHcby240uflVxL7A',\n",
       "  'o3ArMBQW1jJT4xgIvgUJ9g',\n",
       "  'SKfQ2cj8fO6Mk1zj3sbzGw',\n",
       "  'wQJ2LGGkNC0bOpbKfrs3sw',\n",
       "  '3B8VB20WPBYxOLcR_tl96Q',\n",
       "  'a62i-SB2rkpucsg1JipK9g',\n",
       "  'BzHuQAjg5mhLLOGlyoQJJA',\n",
       "  'O0unc--AHVbRykYK5JSqrA',\n",
       "  'lhsSLkM4pUQlXF36b1RiQw',\n",
       "  'wBPiQNdtQWvzGQOuEGf3Hg',\n",
       "  '-N5loClFrloLUJJc2tcQgw',\n",
       "  'jQfkyOJLg5iQW2GJZwpOng',\n",
       "  'vDqmN9MomR4zQm2BKttIlg',\n",
       "  'XDtTEftiP5hrcl1aOfiotQ',\n",
       "  'WQs7EYQDPTy7HQGRvz-6uw',\n",
       "  'IANIT-tKOfMSPENwqODyyg',\n",
       "  'sNY6eFRWqes62J2isy5xuQ',\n",
       "  'GaNHE0vW9xMWzsC5AYWBug',\n",
       "  '4n5fAJUq4wQKoXHuzb0UUA',\n",
       "  'pgttQdyudCyd9clMl3LsTw',\n",
       "  'XDhot43x8sqPzX1PoD64Sw',\n",
       "  'YTkh9c9nUZl67Nrz1Zpeeg',\n",
       "  'vRm0oQaBc_ov28TrYg9WsA',\n",
       "  'bScFbsfKpgniYcwRYfCTcg',\n",
       "  'm1Ljl0IHXmFLuRNEUExyrg',\n",
       "  'HbQalL7kVNm42ujNOcFn_A',\n",
       "  'nyZFJYvEyra1_BqoGwyptA',\n",
       "  '2JYSVRBwRKW26XDrhU-xbg',\n",
       "  'y3ZGLtlzQVimok4422XKzQ',\n",
       "  '9pT_qoSXv17QmnmzQmug6Q',\n",
       "  'S7Mse6yDpZhULL6pc0eUBQ',\n",
       "  '8v42cltB5HzTLrBqJVqm8Q',\n",
       "  't0VpajjP2VgCwja0Bcr2yw',\n",
       "  'nN4CHu2-kJq1dFY8x4JkMQ',\n",
       "  'IrdXtR23VpRWdN7pZNpkZw',\n",
       "  'LE2AFLp4EuUA7dErrQGvAg',\n",
       "  'Q8g1ziNJqhl6rh-lX8Rr3A',\n",
       "  '1IqDmmkv6MtNxNvlbUIp4A',\n",
       "  'STbLaH1debhxZotz-reUDQ',\n",
       "  '3-gCLDgQrjkte5F0K4BnGw',\n",
       "  'n9PYRDWuuAWsfZh30QthTg',\n",
       "  'plL7WlcRtKA0vcWwRQrGpA',\n",
       "  'OBQ4UlrjKElwIZ5cKsZnfw',\n",
       "  'WJr5KlR5YXVM8DqRIrn0kQ',\n",
       "  'Rl38MufNK0FTA__o8UyL8w',\n",
       "  'PkdDhoBHnAbTdr6NDqytuQ',\n",
       "  'Hg-JZJeMIYmQpuOhUEgV-w',\n",
       "  '4o0pn96spBh9rPH1MEQjLw',\n",
       "  'c_hpDj4-eusS2u4q-iadxw',\n",
       "  'hk_GgUu4pp8dld_rcwFImw',\n",
       "  'sXN4VvI6q_hU_twkf1Zj6A',\n",
       "  'Jltvl8LjOvrWMaBckid0kw',\n",
       "  'oxBD44lOIudtn136s15KoA',\n",
       "  'YgKrRygPJ57m4EbX4nFeJg',\n",
       "  'RtcQuXFSejWkJj8UBodhyw',\n",
       "  'dG2dRp5wxPSyBL9KQnfIGw',\n",
       "  'q7yK08cAIbceQOsVRxoKrQ',\n",
       "  '_rS808_K1nyIAZqT4dqMZw',\n",
       "  'vfYmfzkavAyP0gIDj-xOdQ',\n",
       "  '_rhOic4o2Tn9I29CBaKYdw',\n",
       "  'YUTeJY3I_F0UJ2frtoDftg',\n",
       "  'PV3_w5l_HmB7YW5yclUqbA',\n",
       "  '7ETtPLs2fn6AECJIXkJxOA',\n",
       "  'ibvQD-9XnV-eWwJ0SLnaJg',\n",
       "  'yQCdUvwmaHtwtT8SM_EHcA',\n",
       "  'A8Y_8tGWd5iWcKM-Z8Dn-w',\n",
       "  'obu4nDyHJ1M8ziDiB8Bafw',\n",
       "  'Hinbz6V1Embr6ttt8w0pLA',\n",
       "  'ASs46CJeYa6u7sdGyobjBA',\n",
       "  '5t3gl37uhDwa5MGpPhBasA',\n",
       "  '8nTh30UkR3BaB8wBwYIclQ',\n",
       "  'z08cG0i_YQpE7aEKU1MMRQ',\n",
       "  '7_IsvRRJB_4ewhiUNp6f4w',\n",
       "  'Uj5u46_J3q2rRwMSaV0mFQ',\n",
       "  'DdlXxgDcDE3ipXkXQu5-8A',\n",
       "  '0v2WCNSouqxQJkkdE2LPVw',\n",
       "  'EwP-tidMXdiaxHN-1xKMSw',\n",
       "  '-kShdCm7bFxcFE1VSnSMmw',\n",
       "  'tfidGa5OQZL3F2_y2_25ug',\n",
       "  '88mkkBJQgk-coFawte3q8w',\n",
       "  'cusnrZmjwxre8h104oXb0A',\n",
       "  'nOeYjtnRcPX8oufAztlnhA',\n",
       "  '0YRSM4K6j59GcG3ByOhnug',\n",
       "  'BM12h1dMJzKogp3DqiUOQg',\n",
       "  'ywAVEOE6E3qrYBGDC4njzA',\n",
       "  'kM0n5mtP-X3CPO8FTAoXUA',\n",
       "  'LdbcVaHHx8wq9I0AiLO8xg',\n",
       "  'tDaE6fwRsfOq55ijwqZbPA',\n",
       "  '1n3sPIFnlK5UkMjt7lamdw',\n",
       "  'Oaks50VngmNYq4fg4-gXSA',\n",
       "  'IKYLX9Js8clJmjp7QYMAvQ',\n",
       "  'LNz6-vpiAtVM__hm5QhNNg',\n",
       "  'phTeHigstyy9MiFPgks4-g',\n",
       "  'IJBAL1fc8JHDrkXKFncjiw',\n",
       "  'iLsG_UT3hj1zgCv_SHZwAQ',\n",
       "  '6XYTeExgRU_0D2UOGCXoRA',\n",
       "  '5GQh17K_pBqOOgQl_OvXWQ',\n",
       "  '8W9j3hUSmlaFHRm7zhpOnA',\n",
       "  'T1SUMaFF7zvZuRmO-T4VZg',\n",
       "  'RV5K1EuV7JTgjWl7LgoM6Q',\n",
       "  'AHrPhgw2lkyUTaSj771-IQ',\n",
       "  'r5QAkgWSBNQwkF5Sr-sJqQ',\n",
       "  'bAlF8o7AxtzdZAXuGaw5KQ',\n",
       "  'LoCVG54t_xt85B9GpAkqVA',\n",
       "  '5xhqXFyyOkUKQDFJUrJOLg',\n",
       "  'o1F6hWfWgOHzfiZX8BkfxQ',\n",
       "  'Fl1gMoUWtFK_88XsY0EEig',\n",
       "  'MZYIpE7PYkfmvfENRcrGLw',\n",
       "  '83B8_AkHDbfPtmYsaSpGAw',\n",
       "  'kkaQR6pyAUMa5tOmHprmxQ',\n",
       "  'k4pOKCjucA_j9hnHRZOBwg',\n",
       "  'qaV-VLLttrC50_iY8C4Jdw',\n",
       "  '9oM2P1Y__wM436eOkQbmXg',\n",
       "  'FrG-5YKnc1LHpEhBjTF38g',\n",
       "  'i5DcbMyafPeFEwOm21X1Zw',\n",
       "  'oA0GjKCyXscyIyRbr89Tcw',\n",
       "  'SzvhT7L8cEEBWXu5YEC0ug',\n",
       "  'K3ITw9XkMrUB1VkU0PRIjQ',\n",
       "  '7wR1Pj7ArEMy8hH0McXpsQ',\n",
       "  'wDzVWSycEsIggl5rbyDq7A',\n",
       "  'z1xkKg6tXEUujqrpUu2qyw',\n",
       "  'nlo08Jvbc9_acfvZE3wQfg',\n",
       "  'r0g7zfzy59-L5GIJL_IT5A',\n",
       "  'oCiKZYyp95PQmz2YZ6v5dQ',\n",
       "  '9AelOlSFAe4Gzx6dru9hZw',\n",
       "  'PzetX8EOBOckjcVY_oba-Q',\n",
       "  '_1rcsLDaz0hSrfyuAGl4dw',\n",
       "  'ZoWgb1rHQDmHJkv-XuJwvA',\n",
       "  'tKcIG2kU81NyphU5bXvgDg',\n",
       "  'QCOwFGPfWd3xrtpCupB7mg',\n",
       "  'FoHb1beY1GJ5Tr4RGTEI5w',\n",
       "  'PxK_DypCpeaZ_tuUAIZasg',\n",
       "  '3wPIt13-dAsREpvkVt5ntg',\n",
       "  'a6cnw2WhP1LXR5LH4vCATg',\n",
       "  'eTcu8XGpT4-v06SaYAZJMA',\n",
       "  'U0O1t5_3svRyj3IYpN2Lng',\n",
       "  'ppn0GpMXOuL-JNXsp7CeUw',\n",
       "  '8SLCs9jMDu3Xlyr-EYCZ-A',\n",
       "  'NhZIOsEo4G_DU-xEcnDlEQ',\n",
       "  'wwMO05lcPctucLJoszO0zQ',\n",
       "  'MCRZqotjMsTkGUJER7yPzA',\n",
       "  'gw1hiRfLn6F6pKXoZplT8g',\n",
       "  'M66eHLwigrHSX-cS3BJulg',\n",
       "  'Wio2VvtESwn0uRwK_Jj86A',\n",
       "  'tiqC_vaSqY1v84p6zMFjvw',\n",
       "  '2x6tEjUak68a8jAAh1rfGg',\n",
       "  'EjgzigWrwPwNp7Ab71kZuA',\n",
       "  '6cakZIXEOVJYdiX-GPKB0w',\n",
       "  'JmKgWK5KXOIolxGCk6XPcg',\n",
       "  '2MNNwtHpwNoeKe8T4PIKDg',\n",
       "  'HYd_miTMv1tIxCoOM08Zyg',\n",
       "  '_4nEgTP_jKkSWi3ukt-kFQ',\n",
       "  'uxzyuDe-mACQ6jrC1fHzcA',\n",
       "  'GXMgq0WSPn47WTTBU7ArtQ',\n",
       "  'CQRxjm7uR-3Lt9JEif5ZAA',\n",
       "  'kNveAkLoz--pr5c-M3RSqQ',\n",
       "  '4h79-ERkFFrOHOXY2goDSg',\n",
       "  'my_N5DMNhvyp7F3u0Mt9wg',\n",
       "  'EX4LkaVgG-9-n50hA19sTg',\n",
       "  'w6ReLKhxW6pGraucdEpyTQ',\n",
       "  'bL9z_6lAuB9Jw7umXqs2pw',\n",
       "  'A6QybxkA0hKVahLXn47f3g',\n",
       "  'sETyQyAT4WX_6miwJ3EoSQ',\n",
       "  'k4gH6gs2i7yoN4k4ED3F6Q',\n",
       "  'Fxe9bQ8AbvAIwbftpnSg2w',\n",
       "  'EDNvw4VdEmA65R9ieMmP7g',\n",
       "  'WDtewsVdXpJb8IixC1poZw',\n",
       "  'N4wwEs4kl8eBTlowSCzD6A',\n",
       "  'HnoYo03SbD8JApUaUKUL6Q',\n",
       "  'riIo3oEJbogulbFouMW4aA',\n",
       "  'X3_p6p4oFPbObm831dpQLA',\n",
       "  '9bF1GYIkbNqpVasg-C7z8w',\n",
       "  'flJCWsmwgIRyzjCTN-zAWA',\n",
       "  'ASimBZFaBb1mSx8oObYI9A',\n",
       "  'dhsv7h8qqub0APBdNaOlww',\n",
       "  'mivBv6zmng47frDdOCi8gA',\n",
       "  'WdmwLRQkEBVpe6uWXJ6o5w',\n",
       "  'DPh-p8VKSoLPs2wwN14SHg',\n",
       "  'MQiEdInfYgyKSw9jz0g2Cg',\n",
       "  'QjWLhYc9tJQXuwHo9vAy3g',\n",
       "  'kIYfeDinJkaaLfTrCZ70WA',\n",
       "  't_58f_I2JlTEnwakTbJb0w',\n",
       "  '-rvHLJsDnOsbrvoB8spw7Q',\n",
       "  '9kzwjtiWwHTOCfzaPMBdLQ',\n",
       "  'JhZTPx1Ru6GooLCIubQecA',\n",
       "  '-LmdLCjR_JQTlAd2COSX_A',\n",
       "  'N8hIvydM8Kjl-7KqSNwN4Q',\n",
       "  'x4Y2aqWrBiuXFM9fmfZgKQ',\n",
       "  'Ri49ylApDt60WDZisrN-0A',\n",
       "  'jOvLnW8pvM4MCO7hZ8LpAw',\n",
       "  'RXJlyyBDiZ1ljZI4SoWAPA',\n",
       "  'lbJHyR31m3fUCCh3cSDFBg',\n",
       "  'NGHk78vKh4Nc5AsbsAeO-A',\n",
       "  'L0wSHtz744ry-INadmiaOg',\n",
       "  'UlX0cUf2mMS8QHbFznhrvg',\n",
       "  'To5RTbRfFLnbIzF9jM8FxQ',\n",
       "  'nRuffNU2cFUcb93qQmAyeg',\n",
       "  'v4JdDc6E5WwsBW8D3k6slA',\n",
       "  'i4jaeyr-C1KiN9rPj5qcfg',\n",
       "  '0Q38RSbcvYrLRFmcVpNnGQ',\n",
       "  'Rxn2OCiK8C4i7VAa3eEoeg',\n",
       "  '86AsLdZazbluFhX5q8BsYw',\n",
       "  'Ki71WP0Tv-Lxr2EFKjJG2g',\n",
       "  '_3Lm6kN3d3xH1wmyqn3FbQ',\n",
       "  'HZztZUJw3GOz1zHv496NiQ',\n",
       "  'OUcutfoippBM8vCMWyG9Vg',\n",
       "  'ST78bMnTLP6kmz0QNHQVnA',\n",
       "  'VpLqJp1Ljjd5oH8k6GYgQA',\n",
       "  'TkR9cSVmiXTTBmpBsW11Ow',\n",
       "  'blVoQP_GeyMGAsduH07SnQ',\n",
       "  'XH84L1LtBRqJ4nUBZt2lpQ',\n",
       "  '6-Kx5ihnDc0PaNdis4JBMg',\n",
       "  'F0X15rFG4m2Uf0ct6UVyDg',\n",
       "  'IAEWud2yMic5X49KswAm8Q',\n",
       "  'TEWzBH1dkvSDCwH2VSc6UA',\n",
       "  'j8yr4nuHxRK3vKbxoAvZ4Q',\n",
       "  'vR21If6upEWwt6ni9SSNRA',\n",
       "  'k6n1TzSViZho2_6DYqSQNg',\n",
       "  'ix_2nQ832yAf04MGJ9l0dg',\n",
       "  'Q6_RDaQ7TmOSc9e1f5Q-mQ',\n",
       "  'Jo_LzCmrANrCG27d5SxfaQ',\n",
       "  'fNYfjzkId6y_lhqk4QdMdQ',\n",
       "  'uazagjQXEvshbIQCjTWUjw',\n",
       "  'DaNzTDidH7dNtUrWk-FWSg',\n",
       "  'EVIE2aUZ2nNIb1L_MNiTVw',\n",
       "  'I5QUbjyoxdegHBCJ312-3Q',\n",
       "  'MKEl0T_iimDBIXP5_AX3XA',\n",
       "  'uyAMoH18YpDBAAlMb6-7Hw',\n",
       "  'YXz2WGiR_fBwuol1xrdE9g',\n",
       "  'mj2CNefWJ0oDYZqLgyKnIg',\n",
       "  'dsaSr26jwma5yypnYWzqjg',\n",
       "  'EI6L-L0Dcj6HAUaBO5kITA',\n",
       "  '2ph351FhSsLmCxllo88vwA',\n",
       "  'O1sTPScWDSs5tECHOzyuPA',\n",
       "  '3kY_q5KYLffVYRNVYx48NQ',\n",
       "  'ZfwYpit2OmGaj21M9b2pwg',\n",
       "  '3EEb8xpKQr6ZQvndyz40fw',\n",
       "  'mMExOuxy1Cm7u6_1QW0mrg',\n",
       "  'drYogfLlGToi04R_AbZ9Jg',\n",
       "  'Tx0wyyEwCUjnKXYLvzvVWg',\n",
       "  'nllFNT5DjRXT0sJwUV0Vyg',\n",
       "  '0WwBnDNast251aNLFjrmbg',\n",
       "  'DH5r4RuetxEcD_WuNKYwBw',\n",
       "  'vUc13eQx2A_6JJnZX1tIHg',\n",
       "  'nWouV2zECoFi7llcCXPirQ',\n",
       "  'oOq8wVf_n73-X8ynwDjgFA',\n",
       "  'snUKLoK-opUHH3EnuLMXdQ',\n",
       "  'KawK_SFWIWy2r-FrIHTIQA',\n",
       "  '9SbP7C7JT-nrtxNgspfy5A',\n",
       "  '6SvIp4C6veJmjYnGn3Kl6A',\n",
       "  'm2We8VMQm973PnXGg9kT2w',\n",
       "  'fvQtVsUKDiQaAfaNz2lLeA',\n",
       "  'qE9NVocDfqHkRJsfNf9SZA',\n",
       "  'e8ZJ0QzCvUMYtXhpTOH0pg',\n",
       "  'PQPL2T4SZYWIJjczirnUUQ',\n",
       "  'iDf1W-WQeo3HAwW6TQtd1w',\n",
       "  'a0MIFVw-P7Ya4tofhpBRtQ',\n",
       "  'LPVI69lxoVScD338r4AJhA',\n",
       "  'sjoUa_siPygraSJBNuABjw',\n",
       "  'TDbi4bVpM3-SMw2GwYoGjA',\n",
       "  'br9Nscz07wG9mNdxqkT86g',\n",
       "  'd_rxd7vtQQQ4FhliQPpC2A',\n",
       "  'XCRmFge99svExxukBVejkg',\n",
       "  'tiKSQ_T_iQ6BRrHfCJp_Hg',\n",
       "  'vWNiDr8hut4NJEtOjc-A8Q',\n",
       "  'sBMsugtnUMUmqB6w7d0Ngg',\n",
       "  'ttiOED_3ZPJtefa5rkqrEg',\n",
       "  'e6awli2fWPOShaVNloRmHA',\n",
       "  'qcziTaUI9Z4K_GZyhjipHQ',\n",
       "  '6QqKfeLKmZ14cDbHyjarQQ',\n",
       "  'FGju4I56k3B52oYg05xSOg',\n",
       "  'cIbEijRkR5F9dO70oQpz1Q',\n",
       "  'jG3wNl5IDHYmzhmD3sYDBA',\n",
       "  'rBUuOZ5R_2p64ItIfjTtcg',\n",
       "  'K64UHn9hsFsvG-sshPwt-A',\n",
       "  'SgBSj7JXtacsvx427xjt2Q',\n",
       "  '9BSpYV2SGPaJl6BOF_0dRA',\n",
       "  'QrV_Jbllppdx6yKFU4cAPw',\n",
       "  'AzcBiTS1QB-h9-R7ARdAHA',\n",
       "  '3wlnMw57qkeLs7M1nlpaWg',\n",
       "  'YJSgOIbDRgePCGZB2f4Vbg',\n",
       "  'nuag9Sz9LNluetXyT7NSdQ',\n",
       "  '5YOIxJeefeT-3CzklnHRAA',\n",
       "  'FTcguai2xIqDb28u5nOKuA',\n",
       "  'sdb5nFR5yb0sxPZPO5UUhQ',\n",
       "  'enNHO0m3oKdXVs37mAbT4w',\n",
       "  'mjdPox1mmHonAlo-E4No0A',\n",
       "  'OXaLHaF6qlcNalT2OS227g',\n",
       "  's5OGHY1Ur_xTlBBKB2Pkkg',\n",
       "  'dyEcXFXjpubEEwpASSr0CA',\n",
       "  '--84O1fH79hd-JTgpS4pkQ',\n",
       "  'riHJLBdbtnH5uHHbYnB0GQ',\n",
       "  'bE4pUtBZce86YaC7psh_sg',\n",
       "  'uys3yUHHVPUH7yKeqlgolA',\n",
       "  'Ppi8ZsG-jHnypgT0-4WZag',\n",
       "  'lI3gemQVGulpRrJ_FoWAgQ',\n",
       "  'U1ulPecMoX5WSHXX0LAtHg',\n",
       "  '0w6df-1KAHofg_YMUL-3hg',\n",
       "  '8WTzXNf2rXoctKtXVOFrjQ',\n",
       "  'jGzSXNZi0KJrSig_pzrKsA',\n",
       "  'wxcDVdrPk6heZ1DB_Gvnkw',\n",
       "  'HOvizO8ATD5xYMqBsR-nCA',\n",
       "  'Wbtq9j6k_hjAfrPbg4Sd9A',\n",
       "  'QAVMnszv_3CiMp4tcoWCew',\n",
       "  '_yJ56AiBlmszPTGiG6z-5A',\n",
       "  'M0xlk3aqYuEuU1o-wGJTnw',\n",
       "  'ReMag5X_Tu87yNxAchAqYg',\n",
       "  'Hg4q4Yt_TnkNgGxbI2Gvlw',\n",
       "  'dDWYGKGSDW4bTPKcdDO2iw',\n",
       "  'HYu8s7ucnE_NBaTpXyL4DA',\n",
       "  '_ozSY2QBMrXSrZFPxGHuGw',\n",
       "  'BJKGJltummoC6b8zT-sBlg',\n",
       "  'MCDLufOzzckjdE3fcvO7wg',\n",
       "  'ItW8N63YohQaDO7WeV_hhw',\n",
       "  'uxFlomB1Q9olcJYIFyiFww',\n",
       "  'MTtNFGzil8i2WcveFoq6Yg',\n",
       "  'aOdJScfY1yjcBW506MllJg',\n",
       "  'yTnQUamDatVGLk43UEMI6w',\n",
       "  'A0eQctjGxATo0AFNLLO36Q',\n",
       "  'w89uiXw9MmwUzdiGnl-CQw',\n",
       "  '2WzF8RKZ_6r8EZC_rcbFJA',\n",
       "  'w-7-KkcbSVZ4bBqVoF1SDA',\n",
       "  'wjyMgJFPYlLpFZwWEydS2Q',\n",
       "  'LduUg3deSXRJ3goMHzkT_w',\n",
       "  'A31CISc5f1FyJxyGSl4AYg',\n",
       "  'qrwGuX1dmel7TeXgDoS4iQ',\n",
       "  'M2T3xHCg9Z5mB0hychIMZw',\n",
       "  'ZYC1Tn_jsh5iNQTMXbYuzA',\n",
       "  'ko2KlDLkToehEeRaBidxKg',\n",
       "  'fggI6QVL5cFtU5u13VfurA',\n",
       "  't3RfSt6IZGmajXAxJr8jYg',\n",
       "  'c7ExqvlBqXSBlnguHTpmiQ',\n",
       "  'ey6he8ZYYMmBJPWGMSD-dA',\n",
       "  'gbyI62OU99cjEETRNZszZg',\n",
       "  '7lr879GmPdWPftfcEXauJw',\n",
       "  'ub0LHWyGkGHrxOBIAvNdiA',\n",
       "  'IeP13T5HLV32Lhv6sSRGEA',\n",
       "  'CSOZB5z7LZzj17wxsBCGWg',\n",
       "  'MWjXW8lF5PDre87ULXVlOw',\n",
       "  'McmPdNupkizndNfe7L-E7A',\n",
       "  'ADRkCLWs_pSmLFxXVil9tw',\n",
       "  'P8lw3pdR3rft1L2MAKLhgg',\n",
       "  'kVgJzK3sS6-ZqDy390aXnw',\n",
       "  'jNfI2ZPPenNp4qkcO4sKvw',\n",
       "  'xh92hgCZ_bOMltrv1DwqNg',\n",
       "  'ZM4EUP3hlIiPZYyLxmbrEw',\n",
       "  'pm3boUYK6EGHYQkUM7pPRA',\n",
       "  'A4jKaBuXqBsfAVWrknh-4A',\n",
       "  'M-_mlEXUG25VFSjwiGkCXQ',\n",
       "  'nbChElQistrZiH_uYEeKiA',\n",
       "  'D-m2Wfxdfz0WNSXzwnVKWQ',\n",
       "  'BFbh4K4cyy8CheZhQWNI4Q',\n",
       "  'LRPy2SfeRNZTmUDU_NRmEw',\n",
       "  'hL9dbygnTeeV2pHo7XcOow',\n",
       "  'zRuwJRWrBPd9YvbJ987_QA',\n",
       "  'PB9keX6G3jxapXM58c1VUg',\n",
       "  'p-c0qIVYdovEMqvAt9x2hg',\n",
       "  'lmw9TTemXYVJKnMW4JpgQg',\n",
       "  '01y9XDk9QJf5gPSz607W3Q',\n",
       "  'PZD_mAvkzz8-4Rufg6gUsQ',\n",
       "  '2MuPvLcK8Yq_8RG-j-bT-Q',\n",
       "  'U0UnJfme1aElfvAefUwRTw',\n",
       "  'm2DH4THeTsHTs2vKiXYJ1w',\n",
       "  'CfE9NtbC8DkGjn9XvFHDMA',\n",
       "  'pGaYVTjZv2G3xSeQql4Qbw',\n",
       "  'A0ghz21PRvwtL2fnB2U07g',\n",
       "  'o7Ofrx8jh0_vlBt3qET4jg',\n",
       "  '_BKhUu7N-RxmCVzB8pXfVg',\n",
       "  '7ghQwctQlvuDt_OWlY0IUA',\n",
       "  '0NeMK1tyFWFavzUiuTu31A',\n",
       "  'WapqRFwL8V0_iISJW8eusw',\n",
       "  'ohqFHOlQu8Vejq4xeaJvtA',\n",
       "  'mi1kq29Q4_7c8LjuAxxkOQ',\n",
       "  'ecb1IQ9Wz7JTCMPShO_AuA',\n",
       "  'uJYykuH7HYvOGEvYW8jkBw',\n",
       "  '7_K_pzWCQ_lEhuDljvlupQ',\n",
       "  'P1qi-Uwwzy-ovneWAiF-rA',\n",
       "  'Zvu4zB1Jf_J930BtEEDHyA',\n",
       "  'xvdIvn0-JCOmjKBQ6Lk8dw',\n",
       "  'b-CFFVSC0LQ66hGL9b7nfw',\n",
       "  'gyi_BEi-UywjkU8bdkQrhQ',\n",
       "  '7L-7k0XwPTmoXRM981V2DA',\n",
       "  'RQS2gz-Sz6IsL8ZO9qU89A',\n",
       "  '7LwRvUKnKCIi2jBCfG6lEg',\n",
       "  '2wTHl3BwHYunWnEbYm6rmg',\n",
       "  'KMTM633Gi11qK15qFtku8Q',\n",
       "  'bV5yuexATLq7HbogbfyK8A',\n",
       "  'ek6NRVgVTsEzGbk-SqYAAA',\n",
       "  '_6L1amTQhYFs9sD5nSh59Q',\n",
       "  'VbxW8lF4fFQHFYZs_oztsA',\n",
       "  'HhS3A9g9KdkatILKrDaY2Q',\n",
       "  'PXPv12DUC7y9v3GwgKhVog',\n",
       "  '556pzlU-IvRL0bgV12TRZQ',\n",
       "  'kv9XAUaqwYQSQj4ypmHpRg',\n",
       "  'UtCsbq2P-jbC2xBi0YCPRQ',\n",
       "  'OnZ9zwv6QWEcCqlPJQ5dkg',\n",
       "  '2M-XK-cC4eOYrzjr-ELVHg',\n",
       "  'PgmGTWJPAbiD7Gvdm_H4fw',\n",
       "  'QV2VdJuUG7Y7zFwCfKzCBQ',\n",
       "  'aL3QR0uKLqJoTjmz6P8TGg',\n",
       "  'ppRyqtbDcppyYFui43sxZQ',\n",
       "  'Ro5ysXOoU5tqGwYERzaDtQ',\n",
       "  'ojqCJuWwEBgpvywn85Sc9Q',\n",
       "  'vftAS2XcSYzVR4YuaKghPA',\n",
       "  'ZTJkMjxdYr64WSS3cHrOWA',\n",
       "  'mkGqqN09UKv4NjfEQVrXbw',\n",
       "  'bojhi1Akqvol0GqHADL8AA',\n",
       "  'euu3iu-FcXGMjpyS-eHZCw',\n",
       "  'dOcoIIs1b4i95yO-odEU_A',\n",
       "  'cKZl_8GYSlVD1bVClyyHbQ',\n",
       "  '_NmHfyjJO28WzwcWWXIlxA',\n",
       "  'QOKfJkeX_ziinMfCU2Sy9g',\n",
       "  '13J6ml5JwmIedZRPPAulXg',\n",
       "  'w58eEFMLdCpAlBQeaO12BA',\n",
       "  'sdukB3QMK2HL8fh00DaNVA',\n",
       "  '-Qb8T_tbxbAN40GjP5M0hA',\n",
       "  'PSyIj4bS8Y6q0e6DVoxJBg',\n",
       "  'tSy18B9bV44YkJVsaQQUiw',\n",
       "  'xQfw-vK-moh2gvxinT608A',\n",
       "  'h1eDXR5F7mGlkDcamW9SQw',\n",
       "  'U8G1n3r_uwu6BCcLu5WB4A',\n",
       "  'ii7Hn9MKyGApGBwaA9-s3A',\n",
       "  'jzBffckg2PpxQJv_jkVN9w',\n",
       "  'psB4Y1wtis2DAnc02nqYMQ',\n",
       "  'aBLzElhuC36dsMzMrz5LAg',\n",
       "  'BJ7YpPK3Gni0rh7-5fr1oQ',\n",
       "  'KWXMbQg02ISHN6poH_WXJQ',\n",
       "  'y3pd3tGQIG_pwvMSUM3Xug',\n",
       "  'BEk6yFn4Ets1yLfODMsgwg',\n",
       "  'YV3FAOLvqPdhWeNSeUAJ8Q',\n",
       "  'SROOR2LNCKtoNcGJ0AaQHw',\n",
       "  '1JXfai0YaS6Xrv_PavYhHw',\n",
       "  '35BPcFOK8zlMyshwM5Q63A',\n",
       "  '3C1zifVNTNJIe8bM2tnSfA',\n",
       "  'fR-W41P2FPZ6uMiJn_ypjw',\n",
       "  '5qyHFrDjy7dnU6yckofp_g',\n",
       "  'ygt4H2qp5Cc34wLLmbaonA',\n",
       "  'wln7R6GaTSve3FaZ5os3AA',\n",
       "  'mqyDL4oFjdAp-u8n9RuxWA',\n",
       "  'cUkaho7QZWiyRGSIX1rE9g',\n",
       "  'lb8-6UkUjSGAfFO7cVxw4w',\n",
       "  'AJcuRqSJu7k_oTJbxJFldA',\n",
       "  'lMO-nCjbvuzlnTEPgO7iyw',\n",
       "  'VQRRNLwuCQthoO3_Prm1PA',\n",
       "  't6zt2485HfJOvZmNTR1v_w',\n",
       "  'B-vC_WzAm6P_rCmNFixb4w',\n",
       "  'pUwLqb3UHmLGoUOIdm5DXg',\n",
       "  'OpyifCn1rDKXirvQkpKNXA',\n",
       "  'iUTqUvA7bTc_rqGETOzDIg',\n",
       "  'Ry1coSbvccepgN48ujPlaA',\n",
       "  'Gx9Q6zxBbLU_ePxzjKHTzQ',\n",
       "  'MoBTiJBsDDfDCKg4OzWCUQ',\n",
       "  '0s1fSMDqDHsdQOeKX8iunw',\n",
       "  'O9EJop3TMyYwZ9FqHjAmLg',\n",
       "  'wN8HgX_S1_OfcIQ5CYPBfQ',\n",
       "  'lTevyo8ApoHV72tFjbusog',\n",
       "  'N8AhGEgGocu1on4lWuf-5g',\n",
       "  '8jX_cV-u3BnY3GORMaNkPA',\n",
       "  'y7KVHkU9efQoHbbKivSpRQ',\n",
       "  'NttQfbjwkwwEQf_7q-8YCA',\n",
       "  'xU4_5fUBQSaSWRDWcCQHUw',\n",
       "  'lQOOueD8rFKYxPDFf7buUw',\n",
       "  'aa6Fagj4jvoiuET7WOZqjQ',\n",
       "  'Rm3KqM_ByZ3Rxak7aA1IXQ',\n",
       "  'CGfrxYNj7Ji_J9Y3QJP8og',\n",
       "  'oUrgx7NSA9vI_QfUChEuOw',\n",
       "  'wCmiZqp04Rurbc0AzGT-2A',\n",
       "  '0awMJmPK6X9h5M3RWk_Asw',\n",
       "  'WaLERPPTy30xT25FDSjhYg',\n",
       "  'PLUNAdI1S0D2wP2x__E7uA',\n",
       "  '9tGSr_Q_eBQ3P3LyYM6IsQ',\n",
       "  'HxfKIosLEr9yI040JWD8sg',\n",
       "  '2-UVVKCF46TP3cKJMk_GZA',\n",
       "  '6w9n2lHMc5cisPUkcA01Lg',\n",
       "  'kqt2DDz7paYVzloL-OKC5g',\n",
       "  '2Q3HkKcG0j68HbEyLHsDtA',\n",
       "  'OEqNt2UHEKIdow28WoeoYA',\n",
       "  'MMQAv-YcX39YsDNo2cboLg',\n",
       "  'rP_4eBFi1LtKP1R3O1mR0g',\n",
       "  'OoxRddoc3F6ZL-gs50ZvjQ',\n",
       "  'Xt8WbAsGSKpfl8XYn2HAjw',\n",
       "  'M6f4Gt3YAu0XDYMzKXky0Q',\n",
       "  'DMS5Qc0j9E1u5FQve5SUtw',\n",
       "  'H0siEk3oV1jyPDhPcuOrNw',\n",
       "  '4ABawKdc1TX2t9lACD5npA',\n",
       "  'VhEvb3knZMk3KluR7zl4bA',\n",
       "  'VD9dXtGjNqSgBi7iYCsHEw',\n",
       "  'gleOjZ6gAO3XqdMNJkKOJA',\n",
       "  'F7_qLBI3m-ZeeocDd5I3xg',\n",
       "  're8MLNFIZZLZ4Wrf2seCZg',\n",
       "  'yQ1r7cn1pob1u6udoNo7_A',\n",
       "  '7NXj_h_5AVqjaLWXkX55GA',\n",
       "  'KCy7xzP4ZTSGQgVt6NYCVw',\n",
       "  'NO-cTEaVKGaovoBhhfBgmw',\n",
       "  'kOVpCpAoYq8_BB15d4UUGA',\n",
       "  'OBU4W75VL4ZB5bPOZTgTPA',\n",
       "  'Nrq-KKKyikOkm-4SQzaIrg',\n",
       "  '-8oz8oPQjRzm9LGf6LRUYA',\n",
       "  '4L1fOfQ7JrIIYueX9G9clw',\n",
       "  'tt7VUtBh7I8r5IqN1ARYxw',\n",
       "  'TezpfXvntgL9jqjKnWHc3A',\n",
       "  '5jf64AMvgGcPYAl8FUguvg',\n",
       "  'RRkAsy7HNhX5UW_eDTgFFA',\n",
       "  'BRgpM8Fy5INelCNntUKqTw',\n",
       "  'mvCvrnlfHrc-_vW8l_8Fhw',\n",
       "  'uNpzkyLitFTbBS4AYonHNQ',\n",
       "  'QnL8yO8egWOnHFtyfSjlDw',\n",
       "  '4i7C8YdYkP7E-AHp5nbwdg',\n",
       "  'Jh7Lkf5NLG8s5uJRv_9TCg',\n",
       "  'Wj9MilIy38QU3n60oKq1EQ',\n",
       "  'QwyDLnv1-oD19vz8DY4pmw',\n",
       "  'f9wU_gRyS7HVlqqOV3DccA',\n",
       "  'zuu88gGhE8A2pnKXeZl7cA',\n",
       "  'Hwc1iI6SoVdgw9DBeICUEg',\n",
       "  '_JoliHjSiCZPg-c00rbJpw',\n",
       "  'keccbSjPwewbN3hAamWG0A',\n",
       "  'rcCN8Q2goookYMud9nRAqA',\n",
       "  'Ws4vkbloj4u14XCn3pN3sw',\n",
       "  'cGvDxkbTPSf2rJkCMMvRzg',\n",
       "  'Nk6v1jP3D0GoBNzfqYHBUQ',\n",
       "  'vL5xblg7ggyLwRH7eTGSOg',\n",
       "  'axaYmf2c8OOHOVTq8ALXkA',\n",
       "  'YLcPcfnj2N3sP_TMJ3QQ7Q',\n",
       "  'D4t8T8Y8NEYw_9esGpZkYw',\n",
       "  '-dxhxY1uxXJ2Gr422M0qgQ',\n",
       "  '8EDCg94MiPs9wtYXutAwww',\n",
       "  '-Vb9_KMloFn-LMyBK1HA6A',\n",
       "  'mjfQX0nmkoL0WmfSnerp_A',\n",
       "  'kFOvfRLU3voESDPg5XOu1A',\n",
       "  '4jDlJViRxnaEIQ43__JFVA',\n",
       "  'EehTwVUYmV9_D5bjnU-oog',\n",
       "  '9AzDAsYAMhj38iAKksjbKw',\n",
       "  'IBzXU8RauudY6nkde4B9ZA',\n",
       "  'LnKsusNF5bv7KFHpHRpm1w',\n",
       "  'iWsw6ft4oarWCGFLqB0o9g',\n",
       "  'Rk5N1INTyr8auWmFNA9Y5g',\n",
       "  'tRt6L1De9utSAwqGbMEgJw',\n",
       "  'FO3ExqHrM6y_4RtS_nfutQ',\n",
       "  'K9Rf8HI56tl_gv_yfRwMaA',\n",
       "  'biotYz4toCwTuZ8trlSTRQ',\n",
       "  'fpjeh-8jxddTxf6SetTWVg',\n",
       "  'yj7tygWW7APtPGTpCI3GBg',\n",
       "  'C8hE4DrJYbvlkbFXA8QYJw',\n",
       "  '6B2bJZo29SWjw6oIIf7-wQ',\n",
       "  'goqTflYAGwmi6Ku3uqdvVQ',\n",
       "  'S-dEPCVRieic-fOCmnyBQQ',\n",
       "  'Zg2z1nXz4Vp57BBj2_yVmg',\n",
       "  'oSwB2wKAMdgOoWFIsyQWYg',\n",
       "  'uAY6FuN5WBf_kQ_1ewFQmw',\n",
       "  'VFrGY52HcloG3xt4PrIfdA',\n",
       "  'ZvGt2UEmhgLF79RiYlTx4w',\n",
       "  '7Wbo29SICtJBiE4iT9TREg',\n",
       "  'WfCAZxpmrWfk__jzTvSeIQ',\n",
       "  'e_h5CSmNdNIx-gLA5Lkrhg',\n",
       "  'zWUwLPG0JB-vYrfmPvxMrg',\n",
       "  'qCL-VFsJAuBxktuSJa-ObQ',\n",
       "  'R8vtoIN8hW44HPDR0kZ5oA',\n",
       "  'sWrBCbQpSpdbXOqAEBcYqA',\n",
       "  'lw7gDVEmU_xRhvsxkODmxw',\n",
       "  '3GAlYnSrSMQK6Za3EySHLQ',\n",
       "  '6yjjcfgpvg0YZNZu_t4LEA',\n",
       "  'tJXmC_B8-HY2__Dy31_eog',\n",
       "  'H8d3n7sB4dUkCsm_AU-vPQ',\n",
       "  'fOp60wX-J-jqjgAz4NHigA',\n",
       "  'plGFOTiAsSEETW15I05Jqw',\n",
       "  'tn_zBEH8V-YNlU0chY8jqw',\n",
       "  'ScR1r7X8FY7-QTpJEct0dQ',\n",
       "  'XU7dgBpV5FOOXHNzt6IyJg',\n",
       "  'vtX4r1vOX6jzNkiLNhAHpw',\n",
       "  'sVrHDLCIkrHPrxfbqaD-EA',\n",
       "  'ANeVl2llr4R7lYzkEelOag',\n",
       "  'DxW1e_FmV1XJ6r-49ZvRdg',\n",
       "  'rQ0hTLn3hgYJy86YU5IMUw',\n",
       "  '_-gYJScwQqneFI9TXaTBFg',\n",
       "  'IMHas0E_eHGkTlf8h7nGCg',\n",
       "  'H20UQQRCU0cviYnK4tzb8g',\n",
       "  'I30qi6k9u1pVu8ckmOqB4A',\n",
       "  'lOXQ90STi0aKRLzI6GM7xQ',\n",
       "  'NZKiuvr0q4ozPFudcIX4PQ',\n",
       "  'Y19DQkZpPdVBx0s6nZC0Kg',\n",
       "  'nu1MQh3aUoIR6auZ-UhzQw',\n",
       "  'EhvJqde-vB_SRhe53qhT4Q',\n",
       "  'ouAKklBkZ_tklYh12LjCXw',\n",
       "  'HgRMXSLjwJbA0-HA_aU9Jg',\n",
       "  'nfNWLi459q48gA2zqZF7qA',\n",
       "  'EwcnXcoOaUaxEXoR60b42Q',\n",
       "  'gx5f-jHs8uW6fRTLsiFohw',\n",
       "  'dQb8F3pTKBTNtcNPc541_w',\n",
       "  '5dmFXhfZlB_5N96RyFmVqQ',\n",
       "  'E1Kfv6578ZBT8ZWTQlbAkw',\n",
       "  '1F8ttHmqa1JCtskbTQuVmg',\n",
       "  'C3vYifu0DtWhRnrP9OU98A',\n",
       "  'khUO82oQBg1_bTPJdgfYXA',\n",
       "  'rYjWD6qntc2I4Z6PJvIKtg',\n",
       "  '0-MiPtPJfCTkL1fejpQTvw',\n",
       "  'jLPNgvxhyiOYmWRnDkY52A',\n",
       "  '8jyXcLBQB8vdgRTtgBe0Ug',\n",
       "  'BZtttGVaIU3Zwq6bAinjDA',\n",
       "  'YJVRFO_O4TzqtGDMg5CV7Q',\n",
       "  'wgwWoU1se29YNZJZMfL1IQ',\n",
       "  '_zQSFVflYd2My6lbs8wFLg',\n",
       "  'OCbbuxr3eK7JvGY85E5GFw',\n",
       "  'i1ij80Lbyvoue5iVnQjR4g',\n",
       "  'nQu20A5m3Om3ZLKx_2Jf8A',\n",
       "  'FxUJYQ-X9ylL69CPA1EWTw',\n",
       "  'QS8jVenbnLa8xdPEIivdMA',\n",
       "  'UNvDqUbyB-s-93mtFFIm_g',\n",
       "  'PSNdambFSyBicE8z_g6haA',\n",
       "  'QHNy3TT_Ikz4LTFaAFfWcw',\n",
       "  '6YiM2-1cqXhV5mj9sBHwwg',\n",
       "  'rOPPksPZEr4qZPQ3JuNS5A',\n",
       "  'lD764QtqGeXTcj7HATP8Qw',\n",
       "  'WpkZR95gn0xfO6X-cmCUkg',\n",
       "  '08kEwIDXq2u5Pet_KqiXjw',\n",
       "  '72ZFt3vWq_VrW3F1SJvmlg',\n",
       "  'gPS7OWQt4P5DgWmwwhqGpg',\n",
       "  'dlVH7eKZaZFmXd9Sk02ZUQ',\n",
       "  'kDtM6gjOV4r0qLZStIm7Bg',\n",
       "  'hOXWcA6Ug3Vl_p96O3eIWg',\n",
       "  'DiBN_BtL3qPUGLmKgOD15Q',\n",
       "  'FozLx3E8lVn8i-5u6XgYiA',\n",
       "  's7-G0HJ2wfp1egHzwKwN4A',\n",
       "  'AwtOUDcCLwuC0Y3epMHpXw',\n",
       "  'Jn1UVNoPQm1NCtdba2--GA',\n",
       "  'R7w-22UZcgjN06yqDudpOw',\n",
       "  '3cfQbwm7r94HCPteAg1YEw',\n",
       "  '2snkApgQxj4iM7o7BstGpQ',\n",
       "  'aWVtcwBHFvVGLYAlKLnhoQ',\n",
       "  '8HIyin2D9dPL3BQBiYc5BQ',\n",
       "  'MQK68tsswSDlqrTzzZH_qQ',\n",
       "  'BWeH5DOvNDI_XRUtp941fA',\n",
       "  'pCYxvqS1hvAAbqgLSTP1sg',\n",
       "  '0HEemCRjdHa7QcEdITQRgw',\n",
       "  'jJUlyGb-0n5dDeBwEez-fA',\n",
       "  'rCtcniUArn6rcjDsl-7AUQ',\n",
       "  'VwCCfMg5GhTAhQ22QkjBgw',\n",
       "  'sqxaTX68jcOuveDO0jwmig',\n",
       "  'Lih3fvxoSALAhJfabGQVVQ',\n",
       "  'bNpl9eswNV9oeTN0EgP_3Q',\n",
       "  'fUBvA7oi7tDmiz_CiXRKRQ',\n",
       "  'McM3-0PN-8oafiXC0a7A0Q',\n",
       "  'aSaqONooMKHVMPcCm1lkmw',\n",
       "  'MJwgxANfy34797UNA7wIlg',\n",
       "  'Kde_fX7Z5fQepB_Vnec8SA',\n",
       "  'sjXxMi4sluyOmO04bYDaoQ',\n",
       "  'PafEzc_hqTuLAgOViOnCfA',\n",
       "  '729tdyTVWTa2y-BtbSaSng',\n",
       "  'oDT3ej0MJ5Wsa10clvsIWg',\n",
       "  'X66LSmTG6evPvfMhAFgwAg',\n",
       "  'Soaex8OsaHSpTj_K4nNXFA',\n",
       "  'nWudTtMhWhzr8-OXK0726Q',\n",
       "  'NC5_XfhsbG8vLI5_mDePJQ',\n",
       "  'pr9yt1FLv4raD8XxlOdboQ',\n",
       "  'mZlZGVEOkb6noezedTQCiQ',\n",
       "  'S5rUwhXlo2j8sgKqxPVQsA',\n",
       "  '1OlRqMFmJozpfqBI5DneVg',\n",
       "  'IpS_P-mNJlPRoq4JVqerJg',\n",
       "  'CbKl7l7cy_yhhk8PwRxpSQ',\n",
       "  'jEI9jWqzt2arHvnhooPo8g',\n",
       "  '-lx1UuIwVQlmhJ5PX0gEyg',\n",
       "  'yYX7zAkoaAyaQIlSLCp74w',\n",
       "  'SgTkP99USNX-JVPVvzLAGw',\n",
       "  'ukaDVTjFaYe1MHdn5H9--w',\n",
       "  'ZuRnOvvaAxAOFqCLI6OqTg',\n",
       "  'OAbb0BhaAiOtn4PmT8PMhw',\n",
       "  '9U8r2AmCqGlb40VLTiYP4Q',\n",
       "  'YfZFqlw6RW3W4swaPVPQJw',\n",
       "  '8fW1P4nsSARz1eTBAdI0JQ',\n",
       "  '0XQee5oRS_mvHwIpXW0UmA',\n",
       "  'GmG_w8pbT3PnmYRpKOSQcA',\n",
       "  'qz56-e5T2t-kDIr8vHpJOw',\n",
       "  '-Cujjqux00VOA49xDGfHkg',\n",
       "  '5rxvcXdG9CqjUlYCx10WhA',\n",
       "  'qIhDHAfMmj2GX1y6K9O6jw',\n",
       "  'hGARfos9aSLRXfKFgHYubw',\n",
       "  'z0GusO1z73wICsnKanTdkQ',\n",
       "  'bfwl-tOstyG-35S-MaQRGQ',\n",
       "  'vwdsrEGSBGVf9BnpZCJSBg',\n",
       "  '9Upp-U79eRexoTKpXQtP3w',\n",
       "  'L1dGUorDI701aUoxFUhQSQ',\n",
       "  'wwauIpNjF7pbBZ-bzai-qw',\n",
       "  'EDpU9fX7fG0DlLLCJRCs9A',\n",
       "  'lQdS7_u86OEQSNMAXrPtiA',\n",
       "  'PFil6Ta4_xf3OUq8bXo0DQ',\n",
       "  'Lq9fUGL6QT7A9ZxeCC5ZPA',\n",
       "  '7Jf4P3PxotiiJ3pHWzJaJg',\n",
       "  'uAs0UT2rZB2byhu6kzdfEQ',\n",
       "  '8DShNS-LuFqpEWIp0HxijA',\n",
       "  'yrq6b2S4kH9J2UdLholvkQ',\n",
       "  '6dvUiu9ZynUMUXMMCz9t3Q',\n",
       "  '7jFL94Z-ljgfd6GMU2sQCQ',\n",
       "  'KkWQmW8cOUv0M62mQz7fLA',\n",
       "  'Uk6cDx6sBJUtTpWu_7oNdA',\n",
       "  'B4m5gL2Q9sq-YuEWEtrpuA',\n",
       "  '1Nd_1JEQhCW26P4-nAm3Gg',\n",
       "  'KtPG765VwHSSuF527ywRVA',\n",
       "  'PxgF6HtkwQWiH95tE7pgVw',\n",
       "  '4OMSOvSATs4yP0HnedcJow',\n",
       "  'f-CKxtrR0ooQpwK78bYI5Q',\n",
       "  '-uEJLvaYJ0Ei6PJW03Y3mg',\n",
       "  'V8qshY1meiO9VlOQ_nOd2Q',\n",
       "  '2GT0gHWpfuMl18koKWP6Ig',\n",
       "  'Vj2jSWP6X24aDmdojB_RRA',\n",
       "  'JyXApaAcsU5SV4afRMncjA',\n",
       "  'TqpRCYzBIf9FFYyyF5-mew',\n",
       "  'vjt-AkEz8YMg3M3lguhj9g',\n",
       "  '84MQ72bzGqQCUgRhPK8PZQ',\n",
       "  'Rscof37ANx013jzKyVL5ZQ',\n",
       "  'SuoQ96geWV5yeUMiaFQ45Q',\n",
       "  'bqIMW3zuRtnUASTmIhxhhA',\n",
       "  'UEEvttNfWdsGv-Cd6N5lFw',\n",
       "  'AvBM97CgnzUvtSZ1LEFHSA',\n",
       "  'w4sodt_Jl2onAXYAOSqAhg',\n",
       "  'kHDthSWxB1LUf59wDdx3cQ',\n",
       "  'aZ_BiVl8ISRNllks1Ht2Nw',\n",
       "  'tDumfphLyt8FryEB4UCbnw',\n",
       "  'jC6QssSfsXcq3CmIl4XAEQ',\n",
       "  'dsaTR0d6_3hhOGd2PvYBQA',\n",
       "  'J1u-KRxXQpI3Ral66XoIhA',\n",
       "  'UEgkJ94KdpSjYJ1Xtv2upQ',\n",
       "  '3M1BDRSp1Qu3j2STSfDJNA',\n",
       "  'TZwmo-srCyJRlAOPgYWvtw',\n",
       "  'GXBykjrwWz936RrAQugEtA',\n",
       "  'RdELtIhRs8ISGwEBGqkWWA',\n",
       "  'nBBr9nQPqUF8TJuz_g4Icw',\n",
       "  'FOcESWZ60p0urGGgQnFWJw',\n",
       "  'LRxIRdg1_rXMrQDsNi_cww',\n",
       "  'Fox5j_yidUxE1rJNMWkMzg',\n",
       "  'uO7DkJZZ-T8QcjNgRPF2Lw',\n",
       "  'iSK-tcOE-MvekMOiW5EP4w',\n",
       "  'Ef7hKo9Cis0pykyizaBXEA',\n",
       "  '9wHsN9jocrZrF4FWU-sHmw',\n",
       "  's2OSKtvNuTREl2i_O0H5dQ',\n",
       "  'HEw9DcohvdabG8X91HeNSg',\n",
       "  'SYVloQQRUfBxl6KGAzHSaw',\n",
       "  '6AbCMKdlYePTIzaYjRjgYw',\n",
       "  '8cyTKKo4bRYzWNK7GUrgPg',\n",
       "  'ZO_W1LhXlAsJ0hzuCvRm-A',\n",
       "  'bSqWmZtTjixOZY3Sob0UxQ',\n",
       "  'XhEkxIhssGfjVZDT5qOTgw',\n",
       "  'FqBuN9RmZnOmlTCvYeM3xg',\n",
       "  'KVxBRhSqlGektYJCsWIvNw',\n",
       "  '6hh0RNJQJcmwSYr0RvvaaQ',\n",
       "  'u3dT3OmRRcJCYSnRBAooVQ',\n",
       "  '_TksVQoOkiTA6nx6zRKCcg',\n",
       "  'ZnL3MNRysi4In1vT-EVdVg',\n",
       "  '6JTU517GMIxksR1IO3tErQ',\n",
       "  'J0zifyjbaw84UXxdGRG7MA',\n",
       "  'Wjt-EkNTVxLva52bKD-1hg',\n",
       "  'XWvVGE7-9CqkbCFvkg4icQ',\n",
       "  'EHm29v5i7xhzcNnTu5cGlQ',\n",
       "  'IKAUu7OpxQn8ibq8lK-1og',\n",
       "  '6cwOaXGVcFUyV1SDW4ePhQ',\n",
       "  '5OaBVp5A0pbPZJ9Ezu_v0g',\n",
       "  'RCfNpaLJ7BkHqPqevmPQhA',\n",
       "  'tSYZzdXJUt7tCAvSNSiHjA',\n",
       "  'qxKSjK4qVQvoo54z0FOe-g',\n",
       "  'Zhe0WSG9ALe2z7CIbxMuEw',\n",
       "  'HHZa--PYEP9MxY_ufHVh-A',\n",
       "  'kYActgyg-quoB30CId2QyA',\n",
       "  'jvaJgos7HmIjdaVEqD7uLw',\n",
       "  '48GNB2uYBPs4DnpQ6nJHSg',\n",
       "  'TMWUnkHGSTyR_Z3SUlXiLw',\n",
       "  'fe9HWNkG4omuK0UfzrYiUQ',\n",
       "  'd1QWAiHNw_CQHN2EL4rw7w',\n",
       "  '1hKUmqgwd-aIOR41eTq5ow',\n",
       "  '8eS4EWHv0mxLHfvY4x-yHg',\n",
       "  'p1xE6rxUYSJmHmpHNbMPZQ',\n",
       "  '3mbN-NfcH5ZRq1CPEhqUWg',\n",
       "  'hMvN_PYvxeCf0L1cwN3qhw',\n",
       "  '0BtmeP5bR0jeqrZEtaBHrw',\n",
       "  '0EZt5EtDqMXRwHnmVOXQ3Q',\n",
       "  'gZyhMk1meAT70NdzBQql8A',\n",
       "  'NHhefSYQyxMSP5K29SAdrA',\n",
       "  'tsjnklc2oxWSB89jX4-_Sw',\n",
       "  'uK2PYlWFObv_1V4xrN7IZA',\n",
       "  '3OrkILrHfp9OcIMzRseVBg',\n",
       "  'Cd7DwBbtOfZnfvibhMO90A',\n",
       "  'mXWFpr3camEo8FP2CoNmbA',\n",
       "  '-7rd5pTaJcbW0B9df0bHHg',\n",
       "  'SQ8blXhffzutzTv5yY-y6Q',\n",
       "  'mZeYnuw3P1t8mSj_eWcsvA',\n",
       "  'Z95m5zeUnpSvWdRWJSJe6g',\n",
       "  '9s3K6HA1JBHuIPLeVy3HDw',\n",
       "  '25rxBWXsWlb91MjNEzhzaQ',\n",
       "  'Pj66drcFsAGmgMAMEHONzw',\n",
       "  'PYtO5h6yhDSbNNrXiBVXgQ',\n",
       "  'ket3grz567gsnTZkBaFznA',\n",
       "  'mHio9yjyKBLVD7ADwa97qA',\n",
       "  'fOpgy-bHPHRncV-qbcIDfQ',\n",
       "  'LExrpxsOUrqP99UGWoxoKg',\n",
       "  'XWWg0DpcHE8Ye1CnKL9inA',\n",
       "  'N5OYYzYyggkZ8VKC7qRpHw',\n",
       "  'GlqpassrJEFpwrrnDO3AoQ',\n",
       "  'SD5CDMd9QnW6ST_6nTUrTA',\n",
       "  'yvh6yN8SFhy9vQ1eoMTRQQ',\n",
       "  'SCpNo-lLhk1LaP_5qB0GRw',\n",
       "  'hdPB8Vm9VJhgzuin6sxlxw',\n",
       "  'BdsNOI87mOOcDz4uKZCTbA',\n",
       "  'pDIgmokScfpekqjd7Nd78g',\n",
       "  'sceNh1Zc-Iyelx_C3llIAw',\n",
       "  'jmy5Mqj5pIotl3wvkX55RA',\n",
       "  'k6tPhyAFMyXlwyok6Pyh6Q',\n",
       "  '7mlzbscnjU5HWzy-zSl68g',\n",
       "  ...]}"
      ]
     },
     "execution_count": 153,
     "metadata": {},
     "output_type": "execute_result"
    }
   ],
   "source": [
    "cluster_details[0]"
   ]
  },
  {
   "cell_type": "markdown",
   "metadata": {},
   "source": [
    "# LDA Topic\n",
    "https://towardsdatascience.com/topic-modelling-in-python-with-nltk-and-gensim-4ef03213cd21"
   ]
  },
  {
   "cell_type": "code",
   "execution_count": 66,
   "metadata": {},
   "outputs": [],
   "source": [
    "from gensim import corpora\n",
    "import pyLDAvis.gensim\n",
    "import pickle"
   ]
  },
  {
   "cell_type": "code",
   "execution_count": 274,
   "metadata": {},
   "outputs": [
    {
     "ename": "KeyboardInterrupt",
     "evalue": "",
     "output_type": "error",
     "traceback": [
      "\u001b[0;31m---------------------------------------------------------------------------\u001b[0m",
      "\u001b[0;31mKeyboardInterrupt\u001b[0m                         Traceback (most recent call last)",
      "\u001b[0;32m<ipython-input-274-8d7a676d67f8>\u001b[0m in \u001b[0;36m<module>\u001b[0;34m()\u001b[0m\n\u001b[1;32m      2\u001b[0m \u001b[0mcorpus\u001b[0m \u001b[0;34m=\u001b[0m \u001b[0;34m[\u001b[0m\u001b[0mdictionary\u001b[0m\u001b[0;34m.\u001b[0m\u001b[0mdoc2bow\u001b[0m\u001b[0;34m(\u001b[0m\u001b[0mtext\u001b[0m\u001b[0;34m)\u001b[0m \u001b[0;32mfor\u001b[0m \u001b[0mtext\u001b[0m \u001b[0;32min\u001b[0m \u001b[0mdf\u001b[0m\u001b[0;34m[\u001b[0m\u001b[0;34m'cleaned_text'\u001b[0m\u001b[0;34m]\u001b[0m\u001b[0;34m]\u001b[0m\u001b[0;34m\u001b[0m\u001b[0m\n\u001b[1;32m      3\u001b[0m \u001b[0;34m\u001b[0m\u001b[0m\n\u001b[0;32m----> 4\u001b[0;31m \u001b[0mpickle\u001b[0m\u001b[0;34m.\u001b[0m\u001b[0mdump\u001b[0m\u001b[0;34m(\u001b[0m\u001b[0mcorpus\u001b[0m\u001b[0;34m,\u001b[0m \u001b[0mopen\u001b[0m\u001b[0;34m(\u001b[0m\u001b[0;34m'corpus.pkl'\u001b[0m\u001b[0;34m,\u001b[0m \u001b[0;34m'wb'\u001b[0m\u001b[0;34m)\u001b[0m\u001b[0;34m)\u001b[0m\u001b[0;34m\u001b[0m\u001b[0m\n\u001b[0m\u001b[1;32m      5\u001b[0m \u001b[0mdictionary\u001b[0m\u001b[0;34m.\u001b[0m\u001b[0msave\u001b[0m\u001b[0;34m(\u001b[0m\u001b[0;34m'dictionary.gensim'\u001b[0m\u001b[0;34m)\u001b[0m\u001b[0;34m\u001b[0m\u001b[0m\n",
      "\u001b[0;31mKeyboardInterrupt\u001b[0m: "
     ]
    }
   ],
   "source": [
    "dictionary = corpora.Dictionary(df['cleaned_text'])\n",
    "corpus = [dictionary.doc2bow(text) for text in df['cleaned_text']]\n",
    "\n",
    "pickle.dump(corpus, open('corpus.pkl', 'wb'))\n",
    "dictionary.save('dictionary.gensim')"
   ]
  },
  {
   "cell_type": "code",
   "execution_count": 68,
   "metadata": {},
   "outputs": [
    {
     "name": "stdout",
     "output_type": "stream",
     "text": [
      "(0, '0.018*\"u\" + 0.016*\"food\" + 0.013*\"service\" + 0.011*\"time\"')\n",
      "(1, '0.019*\"good\" + 0.019*\"place\" + 0.018*\"great\" + 0.009*\"beer\"')\n",
      "(2, '0.021*\"cheese\" + 0.016*\"sauce\" + 0.016*\"ordered\" + 0.014*\"crust\"')\n",
      "(3, '0.031*\"order\" + 0.016*\"time\" + 0.013*\"minute\" + 0.011*\"said\"')\n",
      "(4, '0.030*\"always\" + 0.020*\"time\" + 0.019*\"order\" + 0.019*\"great\"')\n"
     ]
    }
   ],
   "source": [
    "NUM_TOPICS = 5\n",
    "ldamodel = gensim.models.ldamodel.LdaModel(corpus, num_topics = NUM_TOPICS, id2word=dictionary, passes=15)\n",
    "ldamodel.save('model5.gensim')\n",
    "topics = ldamodel.print_topics(num_words=4)\n",
    "for topic in topics:\n",
    "    print(topic)"
   ]
  },
  {
   "cell_type": "code",
   "execution_count": 69,
   "metadata": {},
   "outputs": [],
   "source": [
    "dictionary = gensim.corpora.Dictionary.load('dictionary.gensim')\n",
    "corpus = pickle.load(open('corpus.pkl', 'rb'))\n",
    "lda = gensim.models.ldamodel.LdaModel.load('model5.gensim')"
   ]
  },
  {
   "cell_type": "code",
   "execution_count": 70,
   "metadata": {
    "scrolled": true
   },
   "outputs": [
    {
     "name": "stderr",
     "output_type": "stream",
     "text": [
      "/anaconda3/lib/python3.6/site-packages/pyLDAvis/_prepare.py:257: FutureWarning: Sorting because non-concatenation axis is not aligned. A future version\n",
      "of pandas will change to not sort by default.\n",
      "\n",
      "To accept the future behavior, pass 'sort=False'.\n",
      "\n",
      "To retain the current behavior and silence the warning, pass 'sort=True'.\n",
      "\n",
      "  return pd.concat([default_term_info] + list(topic_dfs))\n"
     ]
    }
   ],
   "source": [
    "lda_display = pyLDAvis.gensim.prepare(lda, corpus, dictionary, sort_topics=False)\n",
    "# pyLDAvis.display(lda_display)\n",
    "pyLDAvis.save_html(lda_display, 'lda.html')"
   ]
  },
  {
   "cell_type": "markdown",
   "metadata": {},
   "source": [
    "# Word Cloud"
   ]
  },
  {
   "cell_type": "code",
   "execution_count": 75,
   "metadata": {
    "scrolled": true
   },
   "outputs": [],
   "source": [
    "import multidict as multidict\n",
    "import os\n",
    "from PIL import Image\n",
    "from os import path\n",
    "from wordcloud import WordCloud"
   ]
  },
  {
   "cell_type": "code",
   "execution_count": 290,
   "metadata": {},
   "outputs": [
    {
     "data": {
      "text/plain": [
       "6886"
      ]
     },
     "execution_count": 290,
     "metadata": {},
     "output_type": "execute_result"
    }
   ],
   "source": [
    "sum(df['cleaned_text'].apply(lambda x: 'order' in x))"
   ]
  },
  {
   "cell_type": "code",
   "execution_count": 296,
   "metadata": {},
   "outputs": [],
   "source": [
    "text1=df[df['cleaned_text'].apply(lambda x: 'order' in x)].iloc[0]['text']"
   ]
  },
  {
   "cell_type": "code",
   "execution_count": 330,
   "metadata": {},
   "outputs": [
    {
     "data": {
      "text/plain": [
       "['order']"
      ]
     },
     "execution_count": 330,
     "metadata": {},
     "output_type": "execute_result"
    }
   ],
   "source": [
    "clean_text('ordered','v')"
   ]
  },
  {
   "cell_type": "code",
   "execution_count": 354,
   "metadata": {},
   "outputs": [],
   "source": [
    "dictionary = corpora.Dictionary(df['cleaned_text'])\n",
    "corpus = [dictionary.doc2bow(text) for text in df['cleaned_text']]"
   ]
  },
  {
   "cell_type": "code",
   "execution_count": 355,
   "metadata": {},
   "outputs": [],
   "source": [
    "# corpus = [dictionary.doc2bow(sent) for sent in documents]\n",
    "vocab_tf={}\n",
    "for i in corpus:\n",
    "    for item,count in dict(i).items():\n",
    "        item = dictionary[item]\n",
    "        if item in vocab_tf:\n",
    "            vocab_tf[item]+=count\n",
    "        else:\n",
    "            vocab_tf[item] = count\n",
    "# vocab_tf.popitem()"
   ]
  },
  {
   "cell_type": "code",
   "execution_count": 367,
   "metadata": {},
   "outputs": [],
   "source": [
    "def makeImage(text,shapefilename,outputfilename):\n",
    "    yelp_mask = np.array(Image.open(shapefilename))\n",
    "\n",
    "    wc = WordCloud(background_color=None, mode='RGBA', width=4000, height=2000,\n",
    "                   max_font_size=40,\n",
    "                   max_words=3000, mask=yelp_mask,\n",
    "                   colormap='tab20')\n",
    "#     wc = WordCloud(background_color=\"white\", max_words=2000, mask=yelp_mask, width=2160, height=1080,\n",
    "#                   contour_width=3, contour_color='steelblue')\n",
    "    # generate word cloud\n",
    "    wc.generate_from_frequencies(text)\n",
    "\n",
    "    # show\n",
    "    plt.figure(figsize=(20,10))\n",
    "    plt.axis(\"off\")\n",
    "    plt.imshow(wc, interpolation=\"bilinear\")\n",
    "    plt.savefig('wordcloud.png',dpi = 300)\n",
    "\n",
    "    wc.to_file(outputfilename)\n",
    "# get data directory (using getcwd() is needed to support running example in generated IPython notebook)\n",
    "# d = path.dirname(__file__) if \"__file__\" in locals() else os.getcwd()\n",
    "\n",
    "# text = open(path.join(d, 'alice.txt'), encoding='utf-8')\n",
    "# text = text.read()"
   ]
  },
  {
   "cell_type": "code",
   "execution_count": 368,
   "metadata": {},
   "outputs": [
    {
     "data": {
      "image/png": "[encoded data removed]",
      "text/plain": [
       "<Figure size 1440x720 with 1 Axes>"
      ]
     },
     "metadata": {},
     "output_type": "display_data"
    }
   ],
   "source": [
    "makeImage(vocab_tf,'Yelp.png','test2.png')"
   ]
  },
  {
   "cell_type": "markdown",
   "metadata": {},
   "source": [
    "# play"
   ]
  },
  {
   "cell_type": "code",
   "execution_count": 398,
   "metadata": {
    "scrolled": true
   },
   "outputs": [
    {
     "data": {
      "text/plain": [
       "[\"Papa Murphy's\",\n",
       " \"Big Mama's & Papa's Pizzeria\",\n",
       " \"Papa John's Pizza\",\n",
       " 'papa johns']"
      ]
     },
     "execution_count": 398,
     "metadata": {},
     "output_type": "execute_result"
    }
   ],
   "source": [
    "nameset=set(df['name'])\n",
    "[x for x in nameset if re.search(r'(?i)papa',x)]"
   ]
  }
 ],
 "metadata": {
  "kernelspec": {
   "display_name": "Python 3",
   "language": "python",
   "name": "python3"
  },
  "language_info": {
   "codemirror_mode": {
    "name": "ipython",
    "version": 3
   },
   "file_extension": ".py",
   "mimetype": "text/x-python",
   "name": "python",
   "nbconvert_exporter": "python",
   "pygments_lexer": "ipython3",
   "version": "3.6.6"
  },
  "toc": {
   "base_numbering": 1,
   "nav_menu": {
    "height": "105.50271606445312px",
    "width": "331.25px"
   },
   "number_sections": true,
   "sideBar": true,
   "skip_h1_title": false,
   "title_cell": "Table of Contents",
   "title_sidebar": "Contents",
   "toc_cell": false,
   "toc_position": {
    "height": "calc(100% - 180px)",
    "left": "10px",
    "top": "150px",
    "width": "204.8505401611328px"
   },
   "toc_section_display": true,
   "toc_window_display": true
  },
  "varInspector": {
   "cols": {
    "lenName": 16,
    "lenType": 16,
    "lenVar": 40
   },
   "kernels_config": {
    "python": {
     "delete_cmd_postfix": "",
     "delete_cmd_prefix": "del ",
     "library": "var_list.py",
     "varRefreshCmd": "print(var_dic_list())"
    },
    "r": {
     "delete_cmd_postfix": ") ",
     "delete_cmd_prefix": "rm(",
     "library": "var_list.r",
     "varRefreshCmd": "cat(var_dic_list()) "
    }
   },
   "types_to_exclude": [
    "module",
    "function",
    "builtin_function_or_method",
    "instance",
    "_Feature"
   ],
   "window_display": false
  }
 },
 "nbformat": 4,
 "nbformat_minor": 2
}
